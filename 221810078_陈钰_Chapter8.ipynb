{
 "cells": [
  {
   "cell_type": "markdown",
   "id": "4057cb71",
   "metadata": {},
   "source": [
    "# 8.1 定义函数"
   ]
  },
  {
   "cell_type": "code",
   "execution_count": 3,
   "id": "66e85e3d",
   "metadata": {
    "ExecuteTime": {
     "end_time": "2024-04-24T11:38:41.701834Z",
     "start_time": "2024-04-24T11:38:41.695680Z"
    }
   },
   "outputs": [
    {
     "name": "stdout",
     "output_type": "stream",
     "text": [
      "Hello!\n"
     ]
    }
   ],
   "source": [
    "def greet_user():\n",
    "    \"\"\"显示简单的问候语\"\"\"\n",
    "    print(\"Hello!\")\n",
    "   \n",
    "#函数调用\n",
    "greet_user()"
   ]
  },
  {
   "cell_type": "markdown",
   "id": "a489e81a",
   "metadata": {},
   "source": [
    "## 8.1.1 向函数传递信息"
   ]
  },
  {
   "cell_type": "code",
   "execution_count": 6,
   "id": "f37f6bef",
   "metadata": {
    "ExecuteTime": {
     "end_time": "2024-04-24T11:44:07.406934Z",
     "start_time": "2024-04-24T11:44:07.402744Z"
    }
   },
   "outputs": [
    {
     "name": "stdout",
     "output_type": "stream",
     "text": [
      "Hello, jade!\n"
     ]
    }
   ],
   "source": [
    "def greet_user(username):\n",
    "    \"\"\"显示简单的问候语\"\"\"\n",
    "    print(f\"Hello, {username}!\")\n",
    "   \n",
    "greet_user('jade')\n",
    "#username是形参，可以占位；'jade'是实参，是调用函数时传递给函数的信息"
   ]
  },
  {
   "cell_type": "markdown",
   "id": "c812e20c",
   "metadata": {},
   "source": [
    "### 练习8.1"
   ]
  },
  {
   "cell_type": "code",
   "execution_count": 7,
   "id": "daa7ae9a",
   "metadata": {
    "ExecuteTime": {
     "end_time": "2024-04-24T11:46:06.215296Z",
     "start_time": "2024-04-24T11:46:06.209821Z"
    }
   },
   "outputs": [
    {
     "name": "stdout",
     "output_type": "stream",
     "text": [
      "The topic of this chapter is function.\n"
     ]
    }
   ],
   "source": [
    "def display_message():\n",
    "    print(\"The topic of this chapter is function.\")\n",
    "    \n",
    "display_message()"
   ]
  },
  {
   "cell_type": "markdown",
   "id": "7b87004b",
   "metadata": {},
   "source": [
    "### 练习8.2"
   ]
  },
  {
   "cell_type": "code",
   "execution_count": 44,
   "id": "67504a45",
   "metadata": {
    "ExecuteTime": {
     "end_time": "2024-04-24T12:43:34.288258Z",
     "start_time": "2024-04-24T12:43:34.277067Z"
    }
   },
   "outputs": [
    {
     "name": "stdout",
     "output_type": "stream",
     "text": [
      "One of my favorite books is The Second Sex.\n"
     ]
    }
   ],
   "source": [
    "def favorite_book(title):\n",
    "    \"\"\"最喜欢的书\"\"\"\n",
    "    print(f\"One of my favorite books is {title}.\")\n",
    "    \n",
    "favorite_book('The Second Sex')"
   ]
  },
  {
   "cell_type": "markdown",
   "id": "2d21e8ce",
   "metadata": {},
   "source": [
    "# 8.2 传递实参"
   ]
  },
  {
   "cell_type": "markdown",
   "id": "630519a5",
   "metadata": {},
   "source": [
    "## 8.2.1 位置实参"
   ]
  },
  {
   "cell_type": "code",
   "execution_count": 9,
   "id": "c6c5bb23",
   "metadata": {
    "ExecuteTime": {
     "end_time": "2024-04-24T11:54:18.466051Z",
     "start_time": "2024-04-24T11:54:18.460537Z"
    }
   },
   "outputs": [
    {
     "name": "stdout",
     "output_type": "stream",
     "text": [
      "\n",
      "I have a hamster.\n",
      "My hamster's name is Harry.\n"
     ]
    }
   ],
   "source": [
    "#调用函数时，基于实参的顺序进行关联\n",
    "def describe_pet(animal_type, pet_name):\n",
    "    \"\"\"显示宠物的信息\"\"\"\n",
    "    print(f\"\\nI have a {animal_type}.\")\n",
    "    print(f\"My {animal_type}'s name is {pet_name.title()}.\")\n",
    "    \n",
    "describe_pet('hamster', 'harry')"
   ]
  },
  {
   "cell_type": "markdown",
   "id": "2188d071",
   "metadata": {},
   "source": [
    "### 调用函数多次"
   ]
  },
  {
   "cell_type": "code",
   "execution_count": 10,
   "id": "f6d9b6af",
   "metadata": {
    "ExecuteTime": {
     "end_time": "2024-04-24T11:56:47.006463Z",
     "start_time": "2024-04-24T11:56:46.995866Z"
    }
   },
   "outputs": [
    {
     "name": "stdout",
     "output_type": "stream",
     "text": [
      "\n",
      "I have a hamster.\n",
      "My hamster's name is Harry.\n",
      "\n",
      "I have a dog.\n",
      "My dog's name is Willie.\n"
     ]
    }
   ],
   "source": [
    "def describe_pet(animal_type, pet_name):\n",
    "    \"\"\"显示宠物的信息\"\"\"\n",
    "    print(f\"\\nI have a {animal_type}.\")\n",
    "    print(f\"My {animal_type}'s name is {pet_name.title()}.\")\n",
    "    \n",
    "describe_pet('hamster', 'harry')\n",
    "describe_pet('dog', 'willie')"
   ]
  },
  {
   "cell_type": "markdown",
   "id": "32f35288",
   "metadata": {},
   "source": [
    "### 位置实参的顺序很重要"
   ]
  },
  {
   "cell_type": "code",
   "execution_count": 13,
   "id": "88a46e1b",
   "metadata": {
    "ExecuteTime": {
     "end_time": "2024-04-24T11:58:17.037649Z",
     "start_time": "2024-04-24T11:58:17.031112Z"
    }
   },
   "outputs": [
    {
     "name": "stdout",
     "output_type": "stream",
     "text": [
      "\n",
      "I have a harry.\n",
      "My harry's name is Hamster.\n"
     ]
    }
   ],
   "source": [
    "def describe_pet(animal_type, pet_name):\n",
    "    \"\"\"显示宠物的信息\"\"\"\n",
    "    print(f\"\\nI have a {animal_type}.\")\n",
    "    print(f\"My {animal_type}'s name is {pet_name.title()}.\")\n",
    "    \n",
    "#调用时顺序不对\n",
    "describe_pet('harry', 'hamster')"
   ]
  },
  {
   "cell_type": "markdown",
   "id": "3793d7b3",
   "metadata": {},
   "source": [
    "## 8.2.2 关键字实参"
   ]
  },
  {
   "cell_type": "code",
   "execution_count": 14,
   "id": "5f434642",
   "metadata": {
    "ExecuteTime": {
     "end_time": "2024-04-24T12:00:18.761118Z",
     "start_time": "2024-04-24T12:00:18.754383Z"
    }
   },
   "outputs": [
    {
     "name": "stdout",
     "output_type": "stream",
     "text": [
      "\n",
      "I have a hamster.\n",
      "My hamster's name is Harry.\n"
     ]
    }
   ],
   "source": [
    "def describe_pet(animal_type, pet_name):\n",
    "    \"\"\"显示宠物的信息\"\"\"\n",
    "    print(f\"\\nI have a {animal_type}.\")\n",
    "    print(f\"My {animal_type}'s name is {pet_name.title()}.\")\n",
    "    \n",
    "describe_pet(animal_type='hamster', pet_name='harry')"
   ]
  },
  {
   "cell_type": "code",
   "execution_count": 15,
   "id": "aa48dbc8",
   "metadata": {
    "ExecuteTime": {
     "end_time": "2024-04-24T12:02:12.593649Z",
     "start_time": "2024-04-24T12:02:12.587863Z"
    }
   },
   "outputs": [
    {
     "name": "stdout",
     "output_type": "stream",
     "text": [
      "\n",
      "I have a hamster.\n",
      "My hamster's name is Harry.\n",
      "\n",
      "I have a hamster.\n",
      "My hamster's name is Harry.\n"
     ]
    }
   ],
   "source": [
    "def describe_pet(animal_type, pet_name):\n",
    "    \"\"\"显示宠物的信息\"\"\"\n",
    "    print(f\"\\nI have a {animal_type}.\")\n",
    "    print(f\"My {animal_type}'s name is {pet_name.title()}.\")\n",
    "    \n",
    "describe_pet(animal_type='hamster', pet_name='harry')\n",
    "describe_pet(pet_name='harry', animal_type='hamster')\n",
    "#这两个是等效的，关键词实参的位置不会影响"
   ]
  },
  {
   "cell_type": "markdown",
   "id": "a276af32",
   "metadata": {},
   "source": [
    "## 8.2.3 默认值"
   ]
  },
  {
   "cell_type": "code",
   "execution_count": 17,
   "id": "f42f415f",
   "metadata": {
    "ExecuteTime": {
     "end_time": "2024-04-24T12:04:22.569531Z",
     "start_time": "2024-04-24T12:04:22.558441Z"
    }
   },
   "outputs": [
    {
     "name": "stdout",
     "output_type": "stream",
     "text": [
      "\n",
      "I have a dog.\n",
      "My dog's name is Willie.\n"
     ]
    }
   ],
   "source": [
    "#给形参指定默认值后，可在函数调用中省略相应的实参\n",
    "def describe_pet(pet_name, animal_type='dog'):\n",
    "    \"\"\"显示宠物的信息\"\"\"\n",
    "    print(f\"\\nI have a {animal_type}.\")\n",
    "    print(f\"My {animal_type}'s name is {pet_name.title()}.\")\n",
    "    \n",
    "describe_pet(pet_name='willie')"
   ]
  },
  {
   "cell_type": "code",
   "execution_count": 18,
   "id": "f3bb679c",
   "metadata": {
    "ExecuteTime": {
     "end_time": "2024-04-24T12:06:23.000907Z",
     "start_time": "2024-04-24T12:06:22.995772Z"
    }
   },
   "outputs": [
    {
     "name": "stdout",
     "output_type": "stream",
     "text": [
      "\n",
      "I have a dog.\n",
      "My dog's name is Willie.\n"
     ]
    }
   ],
   "source": [
    "def describe_pet(pet_name, animal_type='dog'):\n",
    "    \"\"\"显示宠物的信息\"\"\"\n",
    "    print(f\"\\nI have a {animal_type}.\")\n",
    "    print(f\"My {animal_type}'s name is {pet_name.title()}.\")\n",
    "    \n",
    "#可以位置实参\n",
    "describe_pet(pet_name='willie')"
   ]
  },
  {
   "cell_type": "code",
   "execution_count": 19,
   "id": "0f7cf9b5",
   "metadata": {
    "ExecuteTime": {
     "end_time": "2024-04-24T12:07:32.409690Z",
     "start_time": "2024-04-24T12:07:32.404772Z"
    }
   },
   "outputs": [
    {
     "name": "stdout",
     "output_type": "stream",
     "text": [
      "\n",
      "I have a hamster.\n",
      "My hamster's name is Harry.\n"
     ]
    }
   ],
   "source": [
    "def describe_pet(pet_name, animal_type='dog'):\n",
    "    \"\"\"显示宠物的信息\"\"\"\n",
    "    print(f\"\\nI have a {animal_type}.\")\n",
    "    print(f\"My {animal_type}'s name is {pet_name.title()}.\")\n",
    "    \n",
    "#如果想描述的不是默认值，可用关键词实参传递信息\n",
    "describe_pet(pet_name='harry', animal_type='hamster')"
   ]
  },
  {
   "cell_type": "code",
   "execution_count": 22,
   "id": "b49c73ba",
   "metadata": {
    "ExecuteTime": {
     "end_time": "2024-04-24T12:12:30.465122Z",
     "start_time": "2024-04-24T12:12:30.454603Z"
    }
   },
   "outputs": [
    {
     "name": "stdout",
     "output_type": "stream",
     "text": [
      "\n",
      "I have a hamster.\n",
      "My hamster's name is Harry.\n"
     ]
    }
   ],
   "source": [
    "def describe_pet(pet_name, animal_type='dog'):\n",
    "    \"\"\"显示宠物的信息\"\"\"\n",
    "    print(f\"\\nI have a {animal_type}.\")\n",
    "    print(f\"My {animal_type}'s name is {pet_name.title()}.\")\n",
    "    \n",
    "#如果想描述的不是默认值，也可用位置实参传递信息\n",
    "describe_pet('harry', 'hamster')"
   ]
  },
  {
   "cell_type": "markdown",
   "id": "64ce89c2",
   "metadata": {},
   "source": [
    "## 8.2.4 等效的函数调用"
   ]
  },
  {
   "cell_type": "code",
   "execution_count": 20,
   "id": "8bf6c785",
   "metadata": {
    "ExecuteTime": {
     "end_time": "2024-04-24T12:11:35.451859Z",
     "start_time": "2024-04-24T12:11:35.445599Z"
    }
   },
   "outputs": [
    {
     "name": "stdout",
     "output_type": "stream",
     "text": [
      "\n",
      "I have a dog.\n",
      "My dog's name is Willie.\n",
      "\n",
      "I have a dog.\n",
      "My dog's name is Willie.\n",
      "\n",
      "I have a hamster.\n",
      "My hamster's name is Harry.\n",
      "\n",
      "I have a hamster.\n",
      "My hamster's name is Harry.\n",
      "\n",
      "I have a hamster.\n",
      "My hamster's name is Harry.\n"
     ]
    }
   ],
   "source": [
    "def describe_pet(pet_name, animal_type='dog'):\n",
    "    \"\"\"显示宠物的信息\"\"\"\n",
    "    print(f\"\\nI have a {animal_type}.\")\n",
    "    print(f\"My {animal_type}'s name is {pet_name.title()}.\")\n",
    "    \n",
    "#以下调用都可行，等效\n",
    "\n",
    "#一只名为Willie的小狗\n",
    "describe_pet('willie')\n",
    "describe_pet(pet_name='willie')\n",
    "\n",
    "#一只名为Harry的仓鼠\n",
    "describe_pet('harry','hamster')\n",
    "describe_pet(pet_name='harry', animal_type='hamster')\n",
    "describe_pet(animal_type='hamster', pet_name='harry')"
   ]
  },
  {
   "cell_type": "markdown",
   "id": "f3db973a",
   "metadata": {},
   "source": [
    "## 8.2.5 避免实参错误"
   ]
  },
  {
   "cell_type": "code",
   "execution_count": 27,
   "id": "6d006353",
   "metadata": {
    "ExecuteTime": {
     "end_time": "2024-04-24T12:15:05.307596Z",
     "start_time": "2024-04-24T12:15:05.287701Z"
    }
   },
   "outputs": [
    {
     "ename": "TypeError",
     "evalue": "describe_pet() missing 2 required positional arguments: 'animal_type' and 'pet_name'",
     "output_type": "error",
     "traceback": [
      "\u001b[1;31m---------------------------------------------------------------------------\u001b[0m",
      "\u001b[1;31mTypeError\u001b[0m                                 Traceback (most recent call last)",
      "Cell \u001b[1;32mIn[27], line 7\u001b[0m\n\u001b[0;32m      4\u001b[0m     \u001b[38;5;28mprint\u001b[39m(\u001b[38;5;124mf\u001b[39m\u001b[38;5;124m\"\u001b[39m\u001b[38;5;124mMy \u001b[39m\u001b[38;5;132;01m{\u001b[39;00manimal_type\u001b[38;5;132;01m}\u001b[39;00m\u001b[38;5;124m'\u001b[39m\u001b[38;5;124ms name is \u001b[39m\u001b[38;5;132;01m{\u001b[39;00mpet_name\u001b[38;5;241m.\u001b[39mtitle()\u001b[38;5;132;01m}\u001b[39;00m\u001b[38;5;124m.\u001b[39m\u001b[38;5;124m\"\u001b[39m)\n\u001b[0;32m      6\u001b[0m \u001b[38;5;66;03m#不指定实参会报错\u001b[39;00m\n\u001b[1;32m----> 7\u001b[0m describe_pet()\n",
      "\u001b[1;31mTypeError\u001b[0m: describe_pet() missing 2 required positional arguments: 'animal_type' and 'pet_name'"
     ]
    }
   ],
   "source": [
    "def describe_pet(animal_type,  pet_name):\n",
    "    \"\"\"显示宠物的信息\"\"\"\n",
    "    print(f\"\\nI have a {animal_type}.\")\n",
    "    print(f\"My {animal_type}'s name is {pet_name.title()}.\")\n",
    "    \n",
    "#不指定实参会报错\n",
    "describe_pet()"
   ]
  },
  {
   "cell_type": "code",
   "execution_count": 26,
   "id": "5df8dad8",
   "metadata": {
    "ExecuteTime": {
     "end_time": "2024-04-24T12:14:58.768399Z",
     "start_time": "2024-04-24T12:14:58.237374Z"
    }
   },
   "outputs": [
    {
     "ename": "TypeError",
     "evalue": "describe_pet() missing 1 required positional argument: 'pet_name'",
     "output_type": "error",
     "traceback": [
      "\u001b[1;31m---------------------------------------------------------------------------\u001b[0m",
      "\u001b[1;31mTypeError\u001b[0m                                 Traceback (most recent call last)",
      "Cell \u001b[1;32mIn[26], line 7\u001b[0m\n\u001b[0;32m      4\u001b[0m     \u001b[38;5;28mprint\u001b[39m(\u001b[38;5;124mf\u001b[39m\u001b[38;5;124m\"\u001b[39m\u001b[38;5;124mMy \u001b[39m\u001b[38;5;132;01m{\u001b[39;00manimal_type\u001b[38;5;132;01m}\u001b[39;00m\u001b[38;5;124m'\u001b[39m\u001b[38;5;124ms name is \u001b[39m\u001b[38;5;132;01m{\u001b[39;00mpet_name\u001b[38;5;241m.\u001b[39mtitle()\u001b[38;5;132;01m}\u001b[39;00m\u001b[38;5;124m.\u001b[39m\u001b[38;5;124m\"\u001b[39m)\n\u001b[0;32m      6\u001b[0m \u001b[38;5;66;03m#缺少实参会报错\u001b[39;00m\n\u001b[1;32m----> 7\u001b[0m describe_pet(\u001b[38;5;124m'\u001b[39m\u001b[38;5;124mdog\u001b[39m\u001b[38;5;124m'\u001b[39m)\n",
      "\u001b[1;31mTypeError\u001b[0m: describe_pet() missing 1 required positional argument: 'pet_name'"
     ]
    }
   ],
   "source": [
    "def describe_pet(animal_type, pet_name):\n",
    "    \"\"\"显示宠物的信息\"\"\"\n",
    "    print(f\"\\nI have a {animal_type}.\")\n",
    "    print(f\"My {animal_type}'s name is {pet_name.title()}.\")\n",
    "    \n",
    "#缺少实参会报错\n",
    "describe_pet('dog')"
   ]
  },
  {
   "cell_type": "code",
   "execution_count": 30,
   "id": "ed6493e6",
   "metadata": {
    "ExecuteTime": {
     "end_time": "2024-04-24T12:18:41.047339Z",
     "start_time": "2024-04-24T12:18:41.023273Z"
    }
   },
   "outputs": [
    {
     "ename": "TypeError",
     "evalue": "describe_pet() got multiple values for argument 'animal_type'",
     "output_type": "error",
     "traceback": [
      "\u001b[1;31m---------------------------------------------------------------------------\u001b[0m",
      "\u001b[1;31mTypeError\u001b[0m                                 Traceback (most recent call last)",
      "Cell \u001b[1;32mIn[30], line 7\u001b[0m\n\u001b[0;32m      4\u001b[0m     \u001b[38;5;28mprint\u001b[39m(\u001b[38;5;124mf\u001b[39m\u001b[38;5;124m\"\u001b[39m\u001b[38;5;124mMy \u001b[39m\u001b[38;5;132;01m{\u001b[39;00manimal_type\u001b[38;5;132;01m}\u001b[39;00m\u001b[38;5;124m'\u001b[39m\u001b[38;5;124ms name is \u001b[39m\u001b[38;5;132;01m{\u001b[39;00mpet_name\u001b[38;5;241m.\u001b[39mtitle()\u001b[38;5;132;01m}\u001b[39;00m\u001b[38;5;124m.\u001b[39m\u001b[38;5;124m\"\u001b[39m)\n\u001b[0;32m      6\u001b[0m \u001b[38;5;66;03m#位置实参和关键实参一起用时，位置不对会报错\u001b[39;00m\n\u001b[1;32m----> 7\u001b[0m describe_pet(\u001b[38;5;124m'\u001b[39m\u001b[38;5;124mwillie\u001b[39m\u001b[38;5;124m'\u001b[39m,animal_type\u001b[38;5;241m=\u001b[39m\u001b[38;5;124m'\u001b[39m\u001b[38;5;124mdog\u001b[39m\u001b[38;5;124m'\u001b[39m)\n",
      "\u001b[1;31mTypeError\u001b[0m: describe_pet() got multiple values for argument 'animal_type'"
     ]
    }
   ],
   "source": [
    "def describe_pet(animal_type, pet_name):\n",
    "    \"\"\"显示宠物的信息\"\"\"\n",
    "    print(f\"\\nI have a {animal_type}.\")\n",
    "    print(f\"My {animal_type}'s name is {pet_name.title()}.\")\n",
    "    \n",
    "#位置实参和关键实参一起用时，位置不对会报错\n",
    "describe_pet('willie',animal_type='dog')"
   ]
  },
  {
   "cell_type": "code",
   "execution_count": 31,
   "id": "7422f979",
   "metadata": {
    "ExecuteTime": {
     "end_time": "2024-04-24T12:19:03.347219Z",
     "start_time": "2024-04-24T12:19:03.341552Z"
    }
   },
   "outputs": [
    {
     "name": "stdout",
     "output_type": "stream",
     "text": [
      "\n",
      "I have a dog.\n",
      "My dog's name is Willie.\n"
     ]
    }
   ],
   "source": [
    "def describe_pet(animal_type, pet_name):\n",
    "    \"\"\"显示宠物的信息\"\"\"\n",
    "    print(f\"\\nI have a {animal_type}.\")\n",
    "    print(f\"My {animal_type}'s name is {pet_name.title()}.\")\n",
    "    \n",
    "#这是可以的\n",
    "describe_pet('dog',pet_name='willie')"
   ]
  },
  {
   "cell_type": "code",
   "execution_count": 35,
   "id": "a3ab6d4f",
   "metadata": {
    "ExecuteTime": {
     "end_time": "2024-04-24T12:19:53.270062Z",
     "start_time": "2024-04-24T12:19:53.260936Z"
    }
   },
   "outputs": [
    {
     "ename": "SyntaxError",
     "evalue": "positional argument follows keyword argument (2997627583.py, line 7)",
     "output_type": "error",
     "traceback": [
      "\u001b[1;36m  Cell \u001b[1;32mIn[35], line 7\u001b[1;36m\u001b[0m\n\u001b[1;33m    describe_pet(animal_type='dog', 'willie')\u001b[0m\n\u001b[1;37m                                            ^\u001b[0m\n\u001b[1;31mSyntaxError\u001b[0m\u001b[1;31m:\u001b[0m positional argument follows keyword argument\n"
     ]
    }
   ],
   "source": [
    "def describe_pet(animal_type, pet_name):\n",
    "    \"\"\"显示宠物的信息\"\"\"\n",
    "    print(f\"\\nI have a {animal_type}.\")\n",
    "    print(f\"My {animal_type}'s name is {pet_name.title()}.\")\n",
    "    \n",
    "#先关键词后位置会报错\n",
    "describe_pet(animal_type='dog', 'willie')"
   ]
  },
  {
   "cell_type": "markdown",
   "id": "cbf3cac2",
   "metadata": {},
   "source": [
    "### 练习8.3"
   ]
  },
  {
   "cell_type": "code",
   "execution_count": 45,
   "id": "08502e95",
   "metadata": {
    "ExecuteTime": {
     "end_time": "2024-04-24T12:44:08.194963Z",
     "start_time": "2024-04-24T12:44:08.189081Z"
    }
   },
   "outputs": [
    {
     "name": "stdout",
     "output_type": "stream",
     "text": [
      "The size of the T-shirt is M, the text on it is 'Hello'.\n",
      "The size of the T-shirt is M, the text on it is 'Hello'.\n"
     ]
    }
   ],
   "source": [
    "def make_shirt(size, text):\n",
    "    \"\"\"制作T恤\"\"\"\n",
    "    print(f\"The size of the T-shirt is {size}, the text on it is '{text}'.\")\n",
    "    \n",
    "make_shirt('M', 'Hello')\n",
    "make_shirt(size='M', text='Hello')"
   ]
  },
  {
   "cell_type": "markdown",
   "id": "fab396c4",
   "metadata": {},
   "source": [
    "### 练习8.4"
   ]
  },
  {
   "cell_type": "code",
   "execution_count": 46,
   "id": "2d5ca980",
   "metadata": {
    "ExecuteTime": {
     "end_time": "2024-04-24T12:44:20.995654Z",
     "start_time": "2024-04-24T12:44:20.989990Z"
    }
   },
   "outputs": [
    {
     "name": "stdout",
     "output_type": "stream",
     "text": [
      "The size of the T-shirt is L, the text on it is 'I love Python'.\n",
      "The size of the T-shirt is M, the text on it is 'I love Python'.\n",
      "The size of the T-shirt is L, the text on it is 'I don't like Python.'.\n"
     ]
    }
   ],
   "source": [
    "def make_shirt(size='L', text='I love Python'):\n",
    "    \"\"\"制作T恤\"\"\"\n",
    "    print(f\"The size of the T-shirt is {size}, the text on it is '{text}'.\")\n",
    "    \n",
    "make_shirt()\n",
    "make_shirt('M')\n",
    "make_shirt(text='I don\\'t like Python.')"
   ]
  },
  {
   "cell_type": "markdown",
   "id": "cecdd403",
   "metadata": {},
   "source": [
    "### 练习8.5"
   ]
  },
  {
   "cell_type": "code",
   "execution_count": 47,
   "id": "ef6f0e17",
   "metadata": {
    "ExecuteTime": {
     "end_time": "2024-04-24T12:44:35.137817Z",
     "start_time": "2024-04-24T12:44:35.132142Z"
    }
   },
   "outputs": [
    {
     "name": "stdout",
     "output_type": "stream",
     "text": [
      "Reykjavik in Iceland.\n",
      "Shanghai in China.\n",
      "Tokyo in Japan.\n"
     ]
    }
   ],
   "source": [
    "def describe_city(city='reykjavik', country='iceland'):\n",
    "    \"\"\"城市和国家\"\"\"\n",
    "    print(f\"{city.title()} in {country.title()}.\")\n",
    "    \n",
    "describe_city()\n",
    "describe_city('shanghai', 'china')\n",
    "describe_city('tokyo', 'japan')"
   ]
  },
  {
   "cell_type": "markdown",
   "id": "b45fc3a0",
   "metadata": {},
   "source": [
    "# 8.3 返回值"
   ]
  },
  {
   "cell_type": "markdown",
   "id": "220ec0dd",
   "metadata": {},
   "source": [
    "## 8.3.1 返回简单的值"
   ]
  },
  {
   "cell_type": "code",
   "execution_count": 49,
   "id": "70f82f29",
   "metadata": {
    "ExecuteTime": {
     "end_time": "2024-04-24T12:47:54.850115Z",
     "start_time": "2024-04-24T12:47:54.844642Z"
    }
   },
   "outputs": [
    {
     "name": "stdout",
     "output_type": "stream",
     "text": [
      "Jimi Hendrix\n"
     ]
    }
   ],
   "source": [
    "#使用return语句将值返回到调用函数的那行代码\n",
    "def get_formatted_name(first_name, last_name):\n",
    "    \"\"\"返回标准格式的姓名\"\"\"\n",
    "    full_name=f\"{first_name} {last_name}\"\n",
    "    return full_name.title()\n",
    "\n",
    "musician=get_formatted_name('jimi', 'hendrix')\n",
    "print(musician)"
   ]
  },
  {
   "cell_type": "code",
   "execution_count": 51,
   "id": "a1365457",
   "metadata": {
    "ExecuteTime": {
     "end_time": "2024-04-24T12:52:54.266423Z",
     "start_time": "2024-04-24T12:52:54.262763Z"
    }
   },
   "outputs": [
    {
     "name": "stdout",
     "output_type": "stream",
     "text": [
      "Jimi Hendrix\n"
     ]
    }
   ],
   "source": [
    "def get_formatted_name(first_name, last_name):\n",
    "    \"\"\"返回标准格式的姓名\"\"\"\n",
    "    full_name=f\"{first_name} {last_name}\"\n",
    "    return full_name.title()\n",
    "\n",
    "print(get_formatted_name('jimi', 'hendrix'))"
   ]
  },
  {
   "cell_type": "markdown",
   "id": "2f3146d9",
   "metadata": {},
   "source": [
    "## 8.3.2 让实参变成可选的"
   ]
  },
  {
   "cell_type": "code",
   "execution_count": 53,
   "id": "935633ae",
   "metadata": {
    "ExecuteTime": {
     "end_time": "2024-04-24T12:55:18.450624Z",
     "start_time": "2024-04-24T12:55:18.445232Z"
    }
   },
   "outputs": [
    {
     "name": "stdout",
     "output_type": "stream",
     "text": [
      "John Lee Hooker\n"
     ]
    }
   ],
   "source": [
    "def get_formatted_name(first_name, middle_name, last_name):\n",
    "    \"\"\"返回标准格式的姓名\"\"\"\n",
    "    full_name=f\"{first_name} {middle_name} {last_name}\"\n",
    "    return full_name.title()\n",
    "\n",
    "musician=get_formatted_name('john', 'lee', 'hooker')\n",
    "print(musician)"
   ]
  },
  {
   "cell_type": "code",
   "execution_count": 56,
   "id": "88271658",
   "metadata": {
    "ExecuteTime": {
     "end_time": "2024-04-24T12:59:04.738836Z",
     "start_time": "2024-04-24T12:59:04.733392Z"
    }
   },
   "outputs": [
    {
     "name": "stdout",
     "output_type": "stream",
     "text": [
      "Jimi Hendrix\n",
      "John Lee Hooker\n"
     ]
    }
   ],
   "source": [
    "#为了让上面的middle_name变成可选的，指定其默认值为空字符串，并移到末尾\n",
    "def get_formatted_name(first_name, last_name, middle_name=''):\n",
    "    \"\"\"返回标准格式的姓名\"\"\"\n",
    "    if middle_name:\n",
    "        full_name=f\"{first_name} {middle_name} {last_name}\"\n",
    "    else:\n",
    "        full_name=f\"{first_name} {last_name}\"\n",
    "    return full_name.title()\n",
    "\n",
    "musician=get_formatted_name('jimi', 'hendrix')\n",
    "print(musician)\n",
    "\n",
    "musician=get_formatted_name('john', 'hooker','lee')\n",
    "print(musician)"
   ]
  },
  {
   "cell_type": "markdown",
   "id": "f1488b58",
   "metadata": {},
   "source": [
    "## 8.3.3 返回字典"
   ]
  },
  {
   "cell_type": "code",
   "execution_count": 57,
   "id": "bb04c1fb",
   "metadata": {
    "ExecuteTime": {
     "end_time": "2024-04-24T13:09:44.234831Z",
     "start_time": "2024-04-24T13:09:44.228899Z"
    }
   },
   "outputs": [
    {
     "name": "stdout",
     "output_type": "stream",
     "text": [
      "{'first': 'jimi', 'last': 'hendrix'}\n"
     ]
    }
   ],
   "source": [
    "def bulid_person(first_name, last_name):\n",
    "    \"\"\"返回一个字典，其中包含有关一个人的信息\"\"\"\n",
    "    person={'first':first_name,'last':last_name}\n",
    "    return person\n",
    "\n",
    "musician=bulid_person('jimi','hendrix')\n",
    "print(musician)"
   ]
  },
  {
   "cell_type": "code",
   "execution_count": 60,
   "id": "b4b5d84c",
   "metadata": {
    "ExecuteTime": {
     "end_time": "2024-04-24T13:12:56.111415Z",
     "start_time": "2024-04-24T13:12:56.106025Z"
    }
   },
   "outputs": [
    {
     "name": "stdout",
     "output_type": "stream",
     "text": [
      "{'first': 'jimi', 'last': 'hendrix', 'age': 27}\n"
     ]
    }
   ],
   "source": [
    "def bulid_person(first_name, last_name, age=None):\n",
    "    \"\"\"返回一个字典，其中包含有关一个人的信息\"\"\"\n",
    "    person={'first':first_name,'last':last_name}\n",
    "    if age:\n",
    "        person['age']=age\n",
    "    return person\n",
    "\n",
    "musician=bulid_person('jimi','hendrix',age=27)\n",
    "print(musician)"
   ]
  },
  {
   "cell_type": "markdown",
   "id": "10622385",
   "metadata": {},
   "source": [
    "## 8.3.4 结合使用函数和while循环"
   ]
  },
  {
   "cell_type": "code",
   "execution_count": 64,
   "id": "b6566dc9",
   "metadata": {
    "ExecuteTime": {
     "end_time": "2024-04-24T15:22:15.567568Z",
     "start_time": "2024-04-24T15:21:56.572107Z"
    }
   },
   "outputs": [
    {
     "name": "stdout",
     "output_type": "stream",
     "text": [
      "\n",
      "Please tell me your name: \n",
      "(enter 'q' at any time to quit)\n",
      "First name: jade\n",
      "Last name: chen\n",
      "\n",
      "Hello, Jade Chen!\n",
      "\n",
      "Please tell me your name: \n",
      "(enter 'q' at any time to quit)\n",
      "First name: q\n"
     ]
    }
   ],
   "source": [
    "def bulid_person(first_name, last_name, age=None):\n",
    "    \"\"\"返回一个字典，其中包含有关一个人的信息\"\"\"\n",
    "    full_name=f\"{first_name} {last_name}\"\n",
    "    return full_name.title()\n",
    "\n",
    "#定义退出条件\n",
    "while True:\n",
    "    print(\"\\nPlease tell me your name: \")\n",
    "    print(\"(enter 'q' at any time to quit)\")\n",
    "    \n",
    "    f_name=input(\"First name: \")\n",
    "    if f_name=='q':\n",
    "        break\n",
    "        \n",
    "    l_name=input(\"Last name: \")\n",
    "    if l_name=='q':\n",
    "        break\n",
    "    \n",
    "    formatted_name=get_formatted_name(f_name, l_name)\n",
    "    print(f\"\\nHello, {formatted_name}!\")"
   ]
  },
  {
   "cell_type": "markdown",
   "id": "36b85d74",
   "metadata": {},
   "source": [
    "### 练习8.6"
   ]
  },
  {
   "cell_type": "code",
   "execution_count": 65,
   "id": "68e1c218",
   "metadata": {
    "ExecuteTime": {
     "end_time": "2024-04-24T15:28:25.227345Z",
     "start_time": "2024-04-24T15:28:25.223820Z"
    }
   },
   "outputs": [
    {
     "name": "stdout",
     "output_type": "stream",
     "text": [
      "Seoul, Korea\n"
     ]
    }
   ],
   "source": [
    "def city_country(city,country):\n",
    "    \"\"\"城市和国家\"\"\"\n",
    "    city_in_country=f\"{city}, {country}\"\n",
    "    return city_in_country.title()\n",
    "\n",
    "citycountry=(city_country('seoul','korea'))\n",
    "print(citycountry)"
   ]
  },
  {
   "cell_type": "markdown",
   "id": "b3cce52e",
   "metadata": {},
   "source": [
    "### 练习8.7"
   ]
  },
  {
   "cell_type": "code",
   "execution_count": 67,
   "id": "6cdb2d33",
   "metadata": {
    "ExecuteTime": {
     "end_time": "2024-04-24T15:36:40.345417Z",
     "start_time": "2024-04-24T15:36:40.341267Z"
    }
   },
   "outputs": [
    {
     "name": "stdout",
     "output_type": "stream",
     "text": [
      "{'artist': 'agustd', 'album': 'd-day'}\n",
      "{'artist': 'taylor swift', 'album': 'lover'}\n",
      "{'artist': 'sza', 'album': 'SOS'}\n"
     ]
    }
   ],
   "source": [
    "def make_album(artist, album_name):\n",
    "    \"\"\"描述音乐专辑\"\"\"\n",
    "    album={'artist': artist, 'album':album_name}\n",
    "    return album\n",
    "\n",
    "album1=make_album('agustd', 'd-day')\n",
    "print(album1)\n",
    "album2=make_album('taylor swift', 'lover')\n",
    "print(album2)\n",
    "album3=make_album('sza', 'SOS')\n",
    "print(album3)"
   ]
  },
  {
   "cell_type": "code",
   "execution_count": 69,
   "id": "fbd9ff9e",
   "metadata": {
    "ExecuteTime": {
     "end_time": "2024-04-24T15:39:09.611133Z",
     "start_time": "2024-04-24T15:39:09.606384Z"
    }
   },
   "outputs": [
    {
     "name": "stdout",
     "output_type": "stream",
     "text": [
      "{'artist': 'agustd', 'album': 'd-day', 'song number': 10}\n",
      "{'artist': 'taylor swift', 'album': 'lover'}\n"
     ]
    }
   ],
   "source": [
    "def make_album(artist, album_name, song_number=None):\n",
    "    \"\"\"描述音乐专辑\"\"\"\n",
    "    album={'artist': artist, 'album':album_name}\n",
    "    if song_number:\n",
    "        album['song number']=song_number\n",
    "    return album\n",
    "\n",
    "album1=make_album('agustd', 'd-day',10)\n",
    "print(album1)\n",
    "album2=make_album('taylor swift', 'lover')\n",
    "print(album2)\n"
   ]
  },
  {
   "cell_type": "markdown",
   "id": "c56e4b10",
   "metadata": {},
   "source": [
    "### 练习8.8"
   ]
  },
  {
   "cell_type": "code",
   "execution_count": 71,
   "id": "c5ddda9d",
   "metadata": {
    "ExecuteTime": {
     "end_time": "2024-04-24T15:49:01.629393Z",
     "start_time": "2024-04-24T15:47:40.770684Z"
    }
   },
   "outputs": [
    {
     "name": "stdout",
     "output_type": "stream",
     "text": [
      "\n",
      "Please tell me your favorite album:\n",
      "(enter 'q' at any time to quit)\n",
      "Artist name: enhypen\n",
      "Album name: orange blood\n",
      "{'artist': 'enhypen', 'album': 'orange blood'}\n",
      "\n",
      "Please tell me your favorite album:\n",
      "(enter 'q' at any time to quit)\n",
      "Artist name: shirley kwan\n",
      "Album name: all time favourites\n",
      "{'artist': 'shirley kwan', 'album': 'all time favourites'}\n",
      "\n",
      "Please tell me your favorite album:\n",
      "(enter 'q' at any time to quit)\n",
      "Artist name: q\n"
     ]
    }
   ],
   "source": [
    "def make_album(artist, album_name):\n",
    "    \"\"\"描述音乐专辑\"\"\"\n",
    "    album={'artist': artist, 'album':album_name}\n",
    "    return album\n",
    "\n",
    "while True:\n",
    "    print(\"\\nPlease tell me your favorite album:\")\n",
    "    print(\"(enter 'q' at any time to quit)\")\n",
    "    \n",
    "    artist_name=input(\"Artist name: \")\n",
    "    if artist_name=='q':\n",
    "        break\n",
    "        \n",
    "    ab_name=input(\"Album name: \")\n",
    "    if ab_name=='q':\n",
    "        break\n",
    "        \n",
    "    album_info=make_album(artist_name,ab_name)\n",
    "    print(album_info)"
   ]
  },
  {
   "cell_type": "markdown",
   "id": "18ceff2f",
   "metadata": {},
   "source": [
    "# 8.4 传递列表"
   ]
  },
  {
   "cell_type": "code",
   "execution_count": 72,
   "id": "889b095d",
   "metadata": {
    "ExecuteTime": {
     "end_time": "2024-04-24T15:54:58.787155Z",
     "start_time": "2024-04-24T15:54:58.782915Z"
    }
   },
   "outputs": [
    {
     "name": "stdout",
     "output_type": "stream",
     "text": [
      "Hello, Hannah!\n",
      "Hello, Ty!\n",
      "Hello, Margot!\n"
     ]
    }
   ],
   "source": [
    "def greet_users(names):\n",
    "    \"\"\"向列表中的每个用户发出简单的问候\"\"\"\n",
    "    for name in names:\n",
    "        msg=f\"Hello, {name.title()}!\"\n",
    "        print(msg)\n",
    "        \n",
    "usernames=['hannah','ty','margot']\n",
    "greet_users(usernames)"
   ]
  },
  {
   "cell_type": "markdown",
   "id": "60d25455",
   "metadata": {},
   "source": [
    "## 8.4.1 在函数中修改列表"
   ]
  },
  {
   "cell_type": "code",
   "execution_count": 73,
   "id": "67d9368f",
   "metadata": {
    "ExecuteTime": {
     "end_time": "2024-04-24T16:59:15.306148Z",
     "start_time": "2024-04-24T16:59:15.300399Z"
    }
   },
   "outputs": [
    {
     "name": "stdout",
     "output_type": "stream",
     "text": [
      "Printing model: dodecahedron\n",
      "Printing model: robot pendant\n",
      "Printing model: phone case\n",
      "\n",
      "The following models have been printed: \n",
      "dodecahedron\n",
      "robot pendant\n",
      "phone case\n"
     ]
    }
   ],
   "source": [
    "#不使用函数的情况下模拟过程\n",
    "\n",
    "#首先创建一个列表，包含要打印的设计\n",
    "unprinted_designs=['phone case', 'robot pendant', 'dodecahedron']\n",
    "completed_models=[]\n",
    "\n",
    "#模拟打印每个设计，直到没有未打印的设计为止\n",
    "#打印每个设计后，移到列表completed_models\n",
    "while unprinted_designs:\n",
    "    current_design=unprinted_designs.pop()\n",
    "    print(f\"Printing model: {current_design}\")\n",
    "    completed_models.append(current_design)\n",
    "    \n",
    "#显示打印好的所有模型\n",
    "print(\"\\nThe following models have been printed: \")\n",
    "for completed_model in completed_models:\n",
    "    print(completed_model)"
   ]
  },
  {
   "cell_type": "code",
   "execution_count": 2,
   "id": "9146dc5a",
   "metadata": {
    "ExecuteTime": {
     "end_time": "2024-04-25T02:54:00.585308Z",
     "start_time": "2024-04-25T02:54:00.579160Z"
    }
   },
   "outputs": [
    {
     "name": "stdout",
     "output_type": "stream",
     "text": [
      "Printing model: dodecahedron\n",
      "Printing model: robot pendant\n",
      "Printing model: phone case\n",
      "\n",
      "The following models have been printed: \n",
      "dodecahedron\n",
      "robot pendant\n",
      "phone case\n"
     ]
    }
   ],
   "source": [
    "#用两个函数来写\n",
    "def print_models(unprinted_designs, completed_models):\n",
    "    \"\"\"\n",
    "    模拟打印每个设计，直到没有未打印的设计为止\n",
    "    打印每个设计后，都将其移到列表completed_models中\n",
    "    \"\"\"\n",
    "    while unprinted_designs:\n",
    "        current_design=unprinted_designs.pop()\n",
    "        print(f\"Printing model: {current_design}\")\n",
    "        completed_models.append(current_design)\n",
    "        \n",
    "def show_completed_models(completed_models):\n",
    "    \"\"\"显示打印好的模型\"\"\"\n",
    "    print(\"\\nThe following models have been printed: \")\n",
    "    for completed_model in completed_models:\n",
    "        print(completed_model)\n",
    "        \n",
    "unprinted_designs=['phone case','robot pendant','dodecahedron']\n",
    "completed_models=[]\n",
    "\n",
    "print_models(unprinted_designs, completed_models)\n",
    "show_completed_models(completed_models)"
   ]
  },
  {
   "cell_type": "markdown",
   "id": "a63b712f",
   "metadata": {},
   "source": [
    "## 8.4.2 禁止函数修改列表"
   ]
  },
  {
   "cell_type": "code",
   "execution_count": 7,
   "id": "5ba0b321",
   "metadata": {
    "ExecuteTime": {
     "end_time": "2024-04-25T06:05:46.693040Z",
     "start_time": "2024-04-25T06:05:46.686161Z"
    }
   },
   "outputs": [
    {
     "name": "stdout",
     "output_type": "stream",
     "text": [
      "Printing model: dodecahedron\n",
      "Printing model: robot pendant\n",
      "Printing model: phone case\n",
      "\n",
      "The following models have been printed: \n",
      "dodecahedron\n",
      "robot pendant\n",
      "phone case\n",
      "['phone case', 'robot pendant', 'dodecahedron']\n"
     ]
    }
   ],
   "source": [
    "#深拷贝\n",
    "#用切片传递列表\n",
    "#用两个函数来写\n",
    "def print_models(unprinted_designs, completed_models):\n",
    "    \"\"\"\n",
    "    模拟打印每个设计，直到没有未打印的设计为止\n",
    "    打印每个设计后，都将其移到列表completed_models中\n",
    "    \"\"\"\n",
    "    while unprinted_designs:\n",
    "        current_design=unprinted_designs.pop()\n",
    "        print(f\"Printing model: {current_design}\")\n",
    "        completed_models.append(current_design)\n",
    "        \n",
    "def show_completed_models(completed_models):\n",
    "    \"\"\"显示打印好的模型\"\"\"\n",
    "    print(\"\\nThe following models have been printed: \")\n",
    "    for completed_model in completed_models:\n",
    "        print(completed_model)\n",
    "        \n",
    "unprinted_designs=['phone case','robot pendant','dodecahedron']\n",
    "completed_models=[]\n",
    "\n",
    "#这里用切片调用\n",
    "print_models(unprinted_designs[:], completed_models)\n",
    "show_completed_models(completed_models)\n",
    "\n",
    "print(unprinted_designs)"
   ]
  },
  {
   "cell_type": "code",
   "execution_count": 8,
   "id": "9efd4ff2",
   "metadata": {
    "ExecuteTime": {
     "end_time": "2024-04-25T06:05:49.215362Z",
     "start_time": "2024-04-25T06:05:49.209941Z"
    },
    "scrolled": true
   },
   "outputs": [
    {
     "name": "stdout",
     "output_type": "stream",
     "text": [
      "Printing model: dodecahedron\n",
      "Printing model: robot pendant\n",
      "Printing model: phone case\n",
      "\n",
      "The following models have been printed: \n",
      "dodecahedron\n",
      "robot pendant\n",
      "phone case\n",
      "[]\n"
     ]
    }
   ],
   "source": [
    "def print_models(unprinted_designs, completed_models):\n",
    "    \"\"\"\n",
    "    模拟打印每个设计，直到没有未打印的设计为止\n",
    "    打印每个设计后，都将其移到列表completed_models中\n",
    "    \"\"\"\n",
    "    while unprinted_designs:\n",
    "        current_design=unprinted_designs.pop()\n",
    "        print(f\"Printing model: {current_design}\")\n",
    "        completed_models.append(current_design)\n",
    "        \n",
    "def show_completed_models(completed_models):\n",
    "    \"\"\"显示打印好的模型\"\"\"\n",
    "    print(\"\\nThe following models have been printed: \")\n",
    "    for completed_model in completed_models:\n",
    "        print(completed_model)\n",
    "        \n",
    "unprinted_designs=['phone case','robot pendant','dodecahedron']\n",
    "completed_models=[]\n",
    "\n",
    "#这是浅拷贝\n",
    "print_models(unprinted_designs, completed_models)\n",
    "show_completed_models(completed_models)\n",
    "\n",
    "print(unprinted_designs)"
   ]
  },
  {
   "cell_type": "code",
   "execution_count": 45,
   "id": "b6b52971",
   "metadata": {
    "ExecuteTime": {
     "end_time": "2024-04-25T12:38:02.112684Z",
     "start_time": "2024-04-25T12:38:02.107089Z"
    }
   },
   "outputs": [
    {
     "name": "stdout",
     "output_type": "stream",
     "text": [
      "Printing model: phone case\n",
      "Printing model: robot pendant\n",
      "Printing model: dodecahedron\n",
      "3\n",
      "\n",
      "The following models have been printed: \n",
      "phone case\n",
      "robot pendant\n",
      "dodecahedron\n",
      "['phone case', 'robot pendant', 'dodecahedron']\n"
     ]
    }
   ],
   "source": [
    "#或者不用pop，用for循环\n",
    "\n",
    "def print_models(unprinted_designs, completed_models):\n",
    "    \"\"\"\n",
    "    模拟打印每个设计，直到没有未打印的设计为止\n",
    "    打印每个设计后，都将其移到列表completed_models中\n",
    "    \"\"\"\n",
    "    counter=0\n",
    "    #while unprinted_designs:\n",
    "    #    current_design=unprinted_designs.pop()\n",
    "    for unprinted_design in unprinted_designs:\n",
    "        current_design=unprinted_design\n",
    "        counter+=1\n",
    "        print(f\"Printing model: {current_design}\")\n",
    "        completed_models.append(current_design)\n",
    "        \n",
    "    print(counter)\n",
    "    \n",
    "def show_completed_models(completed_models):\n",
    "    \"\"\"显示打印好的模型\"\"\"\n",
    "    print(\"\\nThe following models have been printed: \")\n",
    "    for completed_model in completed_models:\n",
    "        print(completed_model)\n",
    "        \n",
    "unprinted_designs=['phone case','robot pendant','dodecahedron']\n",
    "completed_models=[]\n",
    "\n",
    "#这里用切片调用\n",
    "print_models(unprinted_designs[:], completed_models)\n",
    "show_completed_models(completed_models)\n",
    "\n",
    "print(unprinted_designs)"
   ]
  },
  {
   "cell_type": "markdown",
   "id": "d0893e54",
   "metadata": {},
   "source": [
    "### 练习8.9"
   ]
  },
  {
   "cell_type": "code",
   "execution_count": 9,
   "id": "0a3b35f9",
   "metadata": {
    "ExecuteTime": {
     "end_time": "2024-04-25T06:24:35.558857Z",
     "start_time": "2024-04-25T06:24:35.552227Z"
    }
   },
   "outputs": [
    {
     "name": "stdout",
     "output_type": "stream",
     "text": [
      "hello\n",
      "ok\n",
      "bye\n"
     ]
    }
   ],
   "source": [
    "def show_messages(messages):\n",
    "    \"\"\"打印列表每条文本消息\"\"\"\n",
    "    for message in messages:\n",
    "        print(message)\n",
    "        \n",
    "messages=['hello','ok','bye']\n",
    "show_messages(messages)"
   ]
  },
  {
   "cell_type": "markdown",
   "id": "4331f676",
   "metadata": {},
   "source": [
    "### 练习8.10"
   ]
  },
  {
   "cell_type": "code",
   "execution_count": 12,
   "id": "24a684a2",
   "metadata": {
    "ExecuteTime": {
     "end_time": "2024-04-25T06:45:21.978069Z",
     "start_time": "2024-04-25T06:45:21.971633Z"
    },
    "scrolled": true
   },
   "outputs": [
    {
     "name": "stdout",
     "output_type": "stream",
     "text": [
      "hello\n",
      "ok\n",
      "bye\n",
      "[]\n",
      "['bye', 'ok', 'hello']\n"
     ]
    }
   ],
   "source": [
    "def send_messages(messages, sent_messages):\n",
    "    \"\"\"打印列表每条文本消息\"\"\"\n",
    "    for message in messages:\n",
    "        print(message)\n",
    "    while messages:\n",
    "        current_message=messages.pop()\n",
    "        sent_messages.append(current_message)\n",
    "        \n",
    "messages=['hello','ok','bye']\n",
    "sent_messages=[]\n",
    "send_messages(messages,sent_messages)\n",
    "print(messages)\n",
    "print(sent_messages)"
   ]
  },
  {
   "cell_type": "markdown",
   "id": "385b9555",
   "metadata": {},
   "source": [
    "### 8.11 消息归档"
   ]
  },
  {
   "cell_type": "code",
   "execution_count": 13,
   "id": "ecee5108",
   "metadata": {
    "ExecuteTime": {
     "end_time": "2024-04-25T06:49:00.360390Z",
     "start_time": "2024-04-25T06:49:00.353884Z"
    }
   },
   "outputs": [
    {
     "name": "stdout",
     "output_type": "stream",
     "text": [
      "hello\n",
      "ok\n",
      "bye\n",
      "['hello', 'ok', 'bye']\n",
      "['bye', 'ok', 'hello']\n"
     ]
    }
   ],
   "source": [
    "def show_messages(messages, sent_messages):\n",
    "    \"\"\"打印列表每条文本消息\"\"\"\n",
    "    for message in messages:\n",
    "        print(message)\n",
    "    while messages:\n",
    "        current_message=messages.pop()\n",
    "        sent_messages.append(current_message)\n",
    "        \n",
    "messages=['hello','ok','bye']\n",
    "sent_messages=[]\n",
    "show_messages(messages[:],sent_messages)\n",
    "print(messages)\n",
    "print(sent_messages)"
   ]
  },
  {
   "cell_type": "markdown",
   "id": "9aff3001",
   "metadata": {},
   "source": [
    "# 8.5 传递任意数量的实参"
   ]
  },
  {
   "cell_type": "code",
   "execution_count": 14,
   "id": "6a9552bb",
   "metadata": {
    "ExecuteTime": {
     "end_time": "2024-04-25T07:16:19.330797Z",
     "start_time": "2024-04-25T07:16:19.323894Z"
    }
   },
   "outputs": [
    {
     "name": "stdout",
     "output_type": "stream",
     "text": [
      "('pepperoni',)\n",
      "('mushroom', 'green peppers', 'extra cheese')\n"
     ]
    }
   ],
   "source": [
    "#加*的形参代表地址，可以放多个实参\n",
    "#会将实参封装到一个元组中\n",
    "def make_pizza(*toppings):\n",
    "    \"\"\"打印顾客点的所有配料\"\"\"\n",
    "    print(toppings)\n",
    "    \n",
    "make_pizza('pepperoni')\n",
    "make_pizza('mushroom', 'green peppers', 'extra cheese')"
   ]
  },
  {
   "cell_type": "code",
   "execution_count": 15,
   "id": "d9f62d5d",
   "metadata": {
    "ExecuteTime": {
     "end_time": "2024-04-25T07:20:13.317493Z",
     "start_time": "2024-04-25T07:20:13.312279Z"
    }
   },
   "outputs": [
    {
     "name": "stdout",
     "output_type": "stream",
     "text": [
      "\n",
      "Making a pizza with the following toppings: \n",
      "-pepperoni\n",
      "\n",
      "Making a pizza with the following toppings: \n",
      "-mushroom\n",
      "-green peppers\n",
      "-extra cheese\n"
     ]
    }
   ],
   "source": [
    "def make_pizza(*toppings):\n",
    "    \"\"\"概述要制作的披萨\"\"\"\n",
    "    print(\"\\nMaking a pizza with the following toppings: \")\n",
    "    for topping in toppings:\n",
    "        print(f\"-{topping}\")\n",
    "        \n",
    "make_pizza('pepperoni')\n",
    "make_pizza('mushroom', 'green peppers', 'extra cheese')"
   ]
  },
  {
   "cell_type": "markdown",
   "id": "222a3718",
   "metadata": {},
   "source": [
    "## 8.5.1 结合使用位置实参和任意数量的实参"
   ]
  },
  {
   "cell_type": "code",
   "execution_count": 16,
   "id": "bf094e54",
   "metadata": {
    "ExecuteTime": {
     "end_time": "2024-04-25T07:28:21.038285Z",
     "start_time": "2024-04-25T07:28:21.032746Z"
    }
   },
   "outputs": [
    {
     "name": "stdout",
     "output_type": "stream",
     "text": [
      "\n",
      "Making a 16-inch pizza with the following topping: \n",
      "- pepperoni\n",
      "\n",
      "Making a 12-inch pizza with the following topping: \n",
      "- mushrooms\n",
      "- green peppers\n",
      "- extra cheese\n"
     ]
    }
   ],
   "source": [
    "def make_pizza(size,*toppings):\n",
    "    \"\"\"概述要制作的比萨\"\"\"\n",
    "    print(f\"\\nMaking a {size}-inch pizza with the following topping: \")\n",
    "    for topping in toppings:\n",
    "        print(f\"- {topping}\")\n",
    "        \n",
    "make_pizza(16,'pepperoni')\n",
    "make_pizza(12,'mushrooms','green peppers','extra cheese')"
   ]
  },
  {
   "cell_type": "markdown",
   "id": "dfb74b76",
   "metadata": {},
   "source": [
    "## 8.5.2 使用任意数量的关键字实参"
   ]
  },
  {
   "cell_type": "code",
   "execution_count": 21,
   "id": "e992631e",
   "metadata": {
    "ExecuteTime": {
     "end_time": "2024-04-25T08:47:09.045689Z",
     "start_time": "2024-04-25T08:47:09.040749Z"
    }
   },
   "outputs": [
    {
     "name": "stdout",
     "output_type": "stream",
     "text": [
      "{'location': 'princeton', 'field': 'physics', 'first_name': 'albert', 'last_name': 'einstein'}\n"
     ]
    }
   ],
   "source": [
    "#两个**接受任意数量的关键字实参\n",
    "def build_profile(first,last,**user_info):\n",
    "    \"\"\"创建一个字典，其中包含我们知道的有关用户的一切\"\"\"\n",
    "    user_info['first_name']=first\n",
    "    user_info['last_name']=last\n",
    "    return user_info\n",
    "\n",
    "user_profile=build_profile('albert','einstein',\n",
    "                          location='princeton',\n",
    "                          field='physics')\n",
    "print(user_profile)"
   ]
  },
  {
   "cell_type": "markdown",
   "id": "1859a619",
   "metadata": {},
   "source": [
    "### 练习8.12"
   ]
  },
  {
   "cell_type": "code",
   "execution_count": 18,
   "id": "dc287d84",
   "metadata": {
    "ExecuteTime": {
     "end_time": "2024-04-25T08:29:16.612905Z",
     "start_time": "2024-04-25T08:29:16.606434Z"
    }
   },
   "outputs": [
    {
     "name": "stdout",
     "output_type": "stream",
     "text": [
      "\n",
      "You order your sandwich with following fillings: \n",
      "-chocolate\n",
      "\n",
      "You order your sandwich with following fillings: \n",
      "-chicken\n",
      "-tomato\n",
      "-cheese\n",
      "\n",
      "You order your sandwich with following fillings: \n",
      "-beef\n",
      "-sausage\n"
     ]
    }
   ],
   "source": [
    "def make_sandwich(*fillings):\n",
    "    \"\"\"概述顾客点的三明治\"\"\"\n",
    "    print(\"\\nYou order your sandwich with following fillings: \")\n",
    "    for filling in fillings:\n",
    "        print(f\"-{filling}\")\n",
    "        \n",
    "make_sandwich('chocolate')\n",
    "make_sandwich('chicken', 'tomato','cheese')\n",
    "make_sandwich('beef','sausage')"
   ]
  },
  {
   "cell_type": "markdown",
   "id": "9835e3db",
   "metadata": {},
   "source": [
    "### 练习8.13"
   ]
  },
  {
   "cell_type": "code",
   "execution_count": 20,
   "id": "fc8ccea0",
   "metadata": {
    "ExecuteTime": {
     "end_time": "2024-04-25T08:47:00.469114Z",
     "start_time": "2024-04-25T08:47:00.464324Z"
    }
   },
   "outputs": [
    {
     "name": "stdout",
     "output_type": "stream",
     "text": [
      "{'age': 20, 'major': 'advertising', 'city': 'nanjing', 'first_name': 'yu', 'last_name': 'chen'}\n"
     ]
    }
   ],
   "source": [
    "def build_profile(first,last,**user_info):\n",
    "    \"\"\"创建一个字典，其中包含我们知道的有关用户的一切\"\"\"\n",
    "    user_info['first_name']=first\n",
    "    user_info['last_name']=last\n",
    "    return user_info\n",
    "\n",
    "user_profile=build_profile('yu','chen',\n",
    "                          age=20,\n",
    "                          major='advertising',\n",
    "                          city='nanjing')\n",
    "print(user_profile)"
   ]
  },
  {
   "cell_type": "markdown",
   "id": "9f96eb4c",
   "metadata": {},
   "source": [
    "### 练习8.14"
   ]
  },
  {
   "cell_type": "code",
   "execution_count": 23,
   "id": "a2b1b20f",
   "metadata": {
    "ExecuteTime": {
     "end_time": "2024-04-25T08:49:05.887760Z",
     "start_time": "2024-04-25T08:49:05.883628Z"
    }
   },
   "outputs": [
    {
     "name": "stdout",
     "output_type": "stream",
     "text": [
      "{'color': 'blue', 'tow_package': True, 'maker': 'subaru', 'model_number': 'outback'}\n"
     ]
    }
   ],
   "source": [
    "def make_car(maker, model_number, **car_info):\n",
    "    \"\"\"概述一辆汽车的信息\"\"\"\n",
    "    car_info['maker']=maker\n",
    "    car_info['model_number']=model_number\n",
    "    return car_info\n",
    "\n",
    "car=make_car('subaru','outback',color='blue',tow_package=True)\n",
    "print(car)"
   ]
  },
  {
   "cell_type": "markdown",
   "id": "ad98a893",
   "metadata": {},
   "source": [
    "# 8.6 将函数存储在模块中"
   ]
  },
  {
   "cell_type": "markdown",
   "id": "d441e900",
   "metadata": {},
   "source": [
    "## 8.6.1 导入整个模块"
   ]
  },
  {
   "cell_type": "code",
   "execution_count": 24,
   "id": "70265095",
   "metadata": {
    "ExecuteTime": {
     "end_time": "2024-04-25T09:07:15.826901Z",
     "start_time": "2024-04-25T09:07:15.824246Z"
    }
   },
   "outputs": [],
   "source": [
    "#先要创建模块，是扩展名为.py的文件\n",
    "#模块创建在和调用的程序同一目录下"
   ]
  },
  {
   "cell_type": "code",
   "execution_count": 25,
   "id": "bd2e8052",
   "metadata": {
    "ExecuteTime": {
     "end_time": "2024-04-25T09:07:26.643474Z",
     "start_time": "2024-04-25T09:07:26.636426Z"
    }
   },
   "outputs": [
    {
     "name": "stdout",
     "output_type": "stream",
     "text": [
      "\n",
      "Making a 16-inch pizza with the following toppings:\n",
      "- pepperoni\n",
      "\n",
      "Making a 12-inch pizza with the following toppings:\n",
      "- mushrooms\n",
      "- green peppers\n",
      "- extra cheese\n"
     ]
    }
   ],
   "source": [
    "import pizza\n",
    "\n",
    "#调用被导入模块中的函数，指定模块名称加函数\n",
    "#module_name.function_name()\n",
    "pizza.make_pizza(16, 'pepperoni')\n",
    "pizza.make_pizza(12, 'mushrooms', 'green peppers', 'extra cheese')"
   ]
  },
  {
   "cell_type": "markdown",
   "id": "33a4c759",
   "metadata": {},
   "source": [
    "## 8.6.2 导入特定的函数"
   ]
  },
  {
   "cell_type": "code",
   "execution_count": 26,
   "id": "5bcbc84f",
   "metadata": {
    "ExecuteTime": {
     "end_time": "2024-04-25T09:11:38.996442Z",
     "start_time": "2024-04-25T09:11:38.991677Z"
    }
   },
   "outputs": [
    {
     "name": "stdout",
     "output_type": "stream",
     "text": [
      "\n",
      "Making a 16-inch pizza with the following toppings:\n",
      "- pepperoni\n",
      "\n",
      "Making a 12-inch pizza with the following toppings:\n",
      "- mushrooms\n",
      "- green peppers\n",
      "- extra cheese\n"
     ]
    }
   ],
   "source": [
    "#from module_name import function_name\n",
    "#from module_name import function_0, function_1, function_2\n",
    "\n",
    "from pizza import make_pizza\n",
    "\n",
    "make_pizza(16,'pepperoni')\n",
    "make_pizza(12,'mushrooms','green peppers','extra cheese')"
   ]
  },
  {
   "cell_type": "markdown",
   "id": "f0276afd",
   "metadata": {},
   "source": [
    "## 8.6.3 使用as给函数指定别名"
   ]
  },
  {
   "cell_type": "code",
   "execution_count": 27,
   "id": "f824953e",
   "metadata": {
    "ExecuteTime": {
     "end_time": "2024-04-25T09:16:44.102362Z",
     "start_time": "2024-04-25T09:16:44.097384Z"
    }
   },
   "outputs": [
    {
     "name": "stdout",
     "output_type": "stream",
     "text": [
      "\n",
      "Making a 16-inch pizza with the following toppings:\n",
      "- pepperoni\n",
      "\n",
      "Making a 12-inch pizza with the following toppings:\n",
      "- mushrooms\n",
      "- green peppers\n",
      "- extra cheese\n"
     ]
    }
   ],
   "source": [
    "#别名（alias）：函数的另一个名称\n",
    "\n",
    "from pizza import make_pizza as mp\n",
    "\n",
    "mp(16,'pepperoni')\n",
    "mp(12,'mushrooms','green peppers','extra cheese')"
   ]
  },
  {
   "cell_type": "markdown",
   "id": "a5ebdce2",
   "metadata": {},
   "source": [
    "## 8.6.4 使用as给模块指定别名"
   ]
  },
  {
   "cell_type": "code",
   "execution_count": 28,
   "id": "12089023",
   "metadata": {
    "ExecuteTime": {
     "end_time": "2024-04-25T09:17:55.889894Z",
     "start_time": "2024-04-25T09:17:55.885330Z"
    }
   },
   "outputs": [
    {
     "name": "stdout",
     "output_type": "stream",
     "text": [
      "\n",
      "Making a 16-inch pizza with the following toppings:\n",
      "- pepperoni\n",
      "\n",
      "Making a 12-inch pizza with the following toppings:\n",
      "- mushrooms\n",
      "- green peppers\n",
      "- extra cheese\n"
     ]
    }
   ],
   "source": [
    "import pizza as p\n",
    "\n",
    "p.make_pizza(16, 'pepperoni')\n",
    "p.make_pizza(12, 'mushrooms', 'green peppers', 'extra cheese')"
   ]
  },
  {
   "cell_type": "markdown",
   "id": "dc36e04d",
   "metadata": {},
   "source": [
    "## 8.6.5 导入模块中的所有函数"
   ]
  },
  {
   "cell_type": "code",
   "execution_count": 31,
   "id": "2ded5d7e",
   "metadata": {
    "ExecuteTime": {
     "end_time": "2024-04-25T09:20:49.954561Z",
     "start_time": "2024-04-25T09:20:49.950232Z"
    }
   },
   "outputs": [
    {
     "name": "stdout",
     "output_type": "stream",
     "text": [
      "\n",
      "Making a 16-inch pizza with the following toppings:\n",
      "- pepperoni\n",
      "\n",
      "Making a 12-inch pizza with the following toppings:\n",
      "- mushrooms\n",
      "- green peppers\n",
      "- extra cheese\n"
     ]
    }
   ],
   "source": [
    "#用*导入模块中的所有函数\n",
    "\n",
    "from pizza import *\n",
    "\n",
    "#由于导入了每个函数，可通过名称来调用每个函数，无须使用点号\n",
    "make_pizza(16,'pepperoni')\n",
    "make_pizza(12,'mushrooms','green peppers','extra cheese')\n",
    "\n",
    "#使用并非自己编写的大型模块时，最好不要使用这种导入方法"
   ]
  },
  {
   "cell_type": "markdown",
   "id": "b558e28e",
   "metadata": {},
   "source": [
    "# 8.7 函数编写指南"
   ]
  },
  {
   "cell_type": "code",
   "execution_count": null,
   "id": "5feb7c65",
   "metadata": {
    "ExecuteTime": {
     "end_time": "2024-04-25T12:02:11.544104Z",
     "start_time": "2024-04-25T12:02:11.537577Z"
    }
   },
   "outputs": [],
   "source": [
    "#在给形参指定默认值时，等号两边不要有空格\n",
    "def function_name(parameter_0, parameter_1='default value'):\n",
    "#函数调用中的关键字实参也是\n",
    "function_name(value_0, parameter_1='value')\n",
    "\n",
    "#缩进\n",
    "def function_name(\n",
    "        parameter_0, parameter_1, parameter_2,\n",
    "        parameter_3, parameter_4, parameter_5):\n",
    "    function body...\n",
    "\n",
    "#如果程序或模块包含多个函数，可使用两个空行将相邻的函数分开"
   ]
  },
  {
   "cell_type": "markdown",
   "id": "7d4aeb51",
   "metadata": {},
   "source": [
    "### 练习8.15"
   ]
  },
  {
   "cell_type": "code",
   "execution_count": 36,
   "id": "e50970c3",
   "metadata": {
    "ExecuteTime": {
     "end_time": "2024-04-25T12:15:57.301128Z",
     "start_time": "2024-04-25T12:15:57.291898Z"
    }
   },
   "outputs": [
    {
     "name": "stdout",
     "output_type": "stream",
     "text": [
      "Printing model: dodecahedron\n",
      "Printing model: robot pendant\n",
      "Printing model: phone case\n",
      "\n",
      "The following models have been printed: \n",
      "dodecahedron\n",
      "robot pendant\n",
      "phone case\n"
     ]
    }
   ],
   "source": [
    "import printing_functions\n",
    "unprinted_designs=['phone case','robot pendant','dodecahedron']\n",
    "completed_models=[]\n",
    "\n",
    "printing_functions.print_models(unprinted_designs[:], completed_models)\n",
    "printing_functions.show_completed_models(completed_models)\n"
   ]
  },
  {
   "cell_type": "markdown",
   "id": "759e5c24",
   "metadata": {},
   "source": [
    "### 练习8.16"
   ]
  },
  {
   "cell_type": "code",
   "execution_count": 37,
   "id": "1164e4b9",
   "metadata": {
    "ExecuteTime": {
     "end_time": "2024-04-25T12:19:21.475606Z",
     "start_time": "2024-04-25T12:19:21.466290Z"
    }
   },
   "outputs": [
    {
     "name": "stdout",
     "output_type": "stream",
     "text": [
      "\n",
      "You order your sandwich with following fillings: \n",
      "-pork\n",
      "-apple\n"
     ]
    }
   ],
   "source": [
    "import sandwich\n",
    "\n",
    "sandwich.make_sandwich('pork','apple')"
   ]
  },
  {
   "cell_type": "code",
   "execution_count": 38,
   "id": "110778e1",
   "metadata": {
    "ExecuteTime": {
     "end_time": "2024-04-25T12:20:42.495679Z",
     "start_time": "2024-04-25T12:20:42.490775Z"
    }
   },
   "outputs": [
    {
     "name": "stdout",
     "output_type": "stream",
     "text": [
      "\n",
      "You order your sandwich with following fillings: \n",
      "-cucumber\n"
     ]
    }
   ],
   "source": [
    "from sandwich import make_sandwich\n",
    "\n",
    "make_sandwich('cucumber')"
   ]
  },
  {
   "cell_type": "code",
   "execution_count": 39,
   "id": "4179c700",
   "metadata": {
    "ExecuteTime": {
     "end_time": "2024-04-25T12:21:30.938221Z",
     "start_time": "2024-04-25T12:21:30.931815Z"
    }
   },
   "outputs": [
    {
     "name": "stdout",
     "output_type": "stream",
     "text": [
      "\n",
      "You order your sandwich with following fillings: \n",
      "-potato\n"
     ]
    }
   ],
   "source": [
    "import sandwich as sd\n",
    "\n",
    "sd.make_sandwich('potato')"
   ]
  },
  {
   "cell_type": "code",
   "execution_count": 40,
   "id": "76684a62",
   "metadata": {
    "ExecuteTime": {
     "end_time": "2024-04-25T12:22:01.161990Z",
     "start_time": "2024-04-25T12:22:01.157289Z"
    }
   },
   "outputs": [
    {
     "name": "stdout",
     "output_type": "stream",
     "text": [
      "\n",
      "You order your sandwich with following fillings: \n",
      "-mint\n"
     ]
    }
   ],
   "source": [
    "from sandwich import make_sandwich as ms\n",
    "\n",
    "ms('mint')"
   ]
  },
  {
   "cell_type": "code",
   "execution_count": 41,
   "id": "ce581bc6",
   "metadata": {
    "ExecuteTime": {
     "end_time": "2024-04-25T12:22:37.051834Z",
     "start_time": "2024-04-25T12:22:37.048419Z"
    }
   },
   "outputs": [
    {
     "name": "stdout",
     "output_type": "stream",
     "text": [
      "\n",
      "You order your sandwich with following fillings: \n",
      "-salad\n"
     ]
    }
   ],
   "source": [
    "from sandwich import *\n",
    "\n",
    "sandwich.make_sandwich('salad')"
   ]
  },
  {
   "cell_type": "code",
   "execution_count": null,
   "id": "aabd874d",
   "metadata": {},
   "outputs": [],
   "source": []
  }
 ],
 "metadata": {
  "kernelspec": {
   "display_name": "Python 3 (ipykernel)",
   "language": "python",
   "name": "python3"
  },
  "language_info": {
   "codemirror_mode": {
    "name": "ipython",
    "version": 3
   },
   "file_extension": ".py",
   "mimetype": "text/x-python",
   "name": "python",
   "nbconvert_exporter": "python",
   "pygments_lexer": "ipython3",
   "version": "3.11.5"
  },
  "toc": {
   "base_numbering": 1,
   "nav_menu": {},
   "number_sections": false,
   "sideBar": true,
   "skip_h1_title": false,
   "title_cell": "Table of Contents",
   "title_sidebar": "Contents",
   "toc_cell": false,
   "toc_position": {
    "height": "calc(100% - 180px)",
    "left": "10px",
    "top": "150px",
    "width": "256px"
   },
   "toc_section_display": true,
   "toc_window_display": false
  }
 },
 "nbformat": 4,
 "nbformat_minor": 5
}
