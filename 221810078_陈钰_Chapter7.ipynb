{
 "cells": [
  {
   "cell_type": "markdown",
   "id": "857f51a6",
   "metadata": {
    "ExecuteTime": {
     "end_time": "2024-04-16T07:19:24.433160Z",
     "start_time": "2024-04-16T07:19:23.880800Z"
    }
   },
   "source": [
    "# 7.1 input()函数的工作原理"
   ]
  },
  {
   "cell_type": "code",
   "execution_count": 2,
   "id": "e14ff1f0",
   "metadata": {
    "ExecuteTime": {
     "end_time": "2024-04-16T07:23:24.127865Z",
     "start_time": "2024-04-16T07:23:16.617637Z"
    }
   },
   "outputs": [
    {
     "name": "stdout",
     "output_type": "stream",
     "text": [
      "Tell me something, and I will repeat it back to you: tea\n",
      "tea\n"
     ]
    }
   ],
   "source": [
    "message=input(\"Tell me something, and I will repeat it back to you: \")\n",
    "print(message)"
   ]
  },
  {
   "cell_type": "markdown",
   "id": "9e48d988",
   "metadata": {},
   "source": [
    "## 7.1.1 编写清晰的提示"
   ]
  },
  {
   "cell_type": "code",
   "execution_count": 5,
   "id": "d8337003",
   "metadata": {
    "ExecuteTime": {
     "end_time": "2024-04-16T07:34:30.565502Z",
     "start_time": "2024-04-16T07:34:27.775279Z"
    }
   },
   "outputs": [
    {
     "name": "stdout",
     "output_type": "stream",
     "text": [
      "Please enter your name: jade\n",
      "\n",
      "Hello, jade!\n"
     ]
    }
   ],
   "source": [
    "name=input(\"Please enter your name: \")#在提示末尾添加一个空格用以区分\n",
    "print(f\"\\nHello, {name}!\")"
   ]
  },
  {
   "cell_type": "code",
   "execution_count": 6,
   "id": "0236177e",
   "metadata": {
    "ExecuteTime": {
     "end_time": "2024-04-16T07:36:09.914094Z",
     "start_time": "2024-04-16T07:36:07.111266Z"
    }
   },
   "outputs": [
    {
     "name": "stdout",
     "output_type": "stream",
     "text": [
      "If you share your name, we can personalize the messages you see.\n",
      "What is your first name?Jade\n",
      "\n",
      "Hello, Jade!\n"
     ]
    }
   ],
   "source": [
    "#prompt创建多行字符串\n",
    "prompt=\"If you share your name, we can personalize the messages you see.\"\n",
    "prompt += \"\\nWhat is your first name?\"\n",
    "\n",
    "name=input(prompt)\n",
    "print(f\"\\nHello, {name}!\")"
   ]
  },
  {
   "cell_type": "code",
   "execution_count": 8,
   "id": "30e3614d",
   "metadata": {
    "ExecuteTime": {
     "end_time": "2024-04-16T09:47:05.243559Z",
     "start_time": "2024-04-16T09:47:05.235430Z"
    }
   },
   "outputs": [
    {
     "name": "stdout",
     "output_type": "stream",
     "text": [
      "2\n"
     ]
    }
   ],
   "source": [
    "#自赋值\n",
    "a=1\n",
    "a+=1\n",
    "print(a)"
   ]
  },
  {
   "cell_type": "code",
   "execution_count": 10,
   "id": "e1e65d43",
   "metadata": {
    "ExecuteTime": {
     "end_time": "2024-04-16T09:48:06.327902Z",
     "start_time": "2024-04-16T09:48:06.319281Z"
    }
   },
   "outputs": [
    {
     "name": "stdout",
     "output_type": "stream",
     "text": [
      "0\n"
     ]
    }
   ],
   "source": [
    "a=1\n",
    "a-=1\n",
    "print(a)"
   ]
  },
  {
   "cell_type": "code",
   "execution_count": 9,
   "id": "2d4492b2",
   "metadata": {
    "ExecuteTime": {
     "end_time": "2024-04-16T09:47:48.002309Z",
     "start_time": "2024-04-16T09:47:47.998865Z"
    }
   },
   "outputs": [
    {
     "name": "stdout",
     "output_type": "stream",
     "text": [
      "4\n"
     ]
    }
   ],
   "source": [
    "a=2\n",
    "a**=2\n",
    "print(a)"
   ]
  },
  {
   "cell_type": "markdown",
   "id": "2ffd0f34",
   "metadata": {},
   "source": [
    "## 7.1.2 使用int()来获取数值输入"
   ]
  },
  {
   "cell_type": "code",
   "execution_count": 7,
   "id": "f0fad50e",
   "metadata": {
    "ExecuteTime": {
     "end_time": "2024-04-16T07:38:07.366405Z",
     "start_time": "2024-04-16T07:38:04.329127Z"
    }
   },
   "outputs": [
    {
     "name": "stdout",
     "output_type": "stream",
     "text": [
      "How old are you?19\n"
     ]
    },
    {
     "data": {
      "text/plain": [
       "'19'"
      ]
     },
     "execution_count": 7,
     "metadata": {},
     "output_type": "execute_result"
    }
   ],
   "source": [
    "age=input(\"How old are you?\")\n",
    "#input解读出字符串\n",
    "age"
   ]
  },
  {
   "cell_type": "code",
   "execution_count": 12,
   "id": "9500aa80",
   "metadata": {
    "ExecuteTime": {
     "end_time": "2024-04-16T09:49:36.598879Z",
     "start_time": "2024-04-16T09:49:34.623278Z"
    }
   },
   "outputs": [
    {
     "name": "stdout",
     "output_type": "stream",
     "text": [
      "How old are you?19\n"
     ]
    },
    {
     "ename": "TypeError",
     "evalue": "'>=' not supported between instances of 'str' and 'int'",
     "output_type": "error",
     "traceback": [
      "\u001b[1;31m---------------------------------------------------------------------------\u001b[0m",
      "\u001b[1;31mTypeError\u001b[0m                                 Traceback (most recent call last)",
      "Cell \u001b[1;32mIn[12], line 3\u001b[0m\n\u001b[0;32m      1\u001b[0m age\u001b[38;5;241m=\u001b[39m\u001b[38;5;28minput\u001b[39m(\u001b[38;5;124m\"\u001b[39m\u001b[38;5;124mHow old are you?\u001b[39m\u001b[38;5;124m\"\u001b[39m)\n\u001b[0;32m      2\u001b[0m \u001b[38;5;66;03m#不能作为数来使用\u001b[39;00m\n\u001b[1;32m----> 3\u001b[0m age\u001b[38;5;241m>\u001b[39m\u001b[38;5;241m=\u001b[39m\u001b[38;5;241m18\u001b[39m\n",
      "\u001b[1;31mTypeError\u001b[0m: '>=' not supported between instances of 'str' and 'int'"
     ]
    }
   ],
   "source": [
    "age=input(\"How old are you?\")\n",
    "#不能作为数来使用\n",
    "age>=18"
   ]
  },
  {
   "cell_type": "code",
   "execution_count": 13,
   "id": "a2d7c606",
   "metadata": {
    "ExecuteTime": {
     "end_time": "2024-04-16T09:50:45.140774Z",
     "start_time": "2024-04-16T09:50:43.222732Z"
    }
   },
   "outputs": [
    {
     "name": "stdout",
     "output_type": "stream",
     "text": [
      "How old are you?19\n"
     ]
    },
    {
     "data": {
      "text/plain": [
       "True"
      ]
     },
     "execution_count": 13,
     "metadata": {},
     "output_type": "execute_result"
    }
   ],
   "source": [
    "age=input(\"How old are you?\")\n",
    "#用int()转换为数值\n",
    "age=int(age)\n",
    "age>=18"
   ]
  },
  {
   "cell_type": "code",
   "execution_count": 2,
   "id": "8d61a756",
   "metadata": {
    "ExecuteTime": {
     "end_time": "2024-04-18T09:02:20.210871Z",
     "start_time": "2024-04-18T09:02:12.620675Z"
    }
   },
   "outputs": [
    {
     "name": "stdout",
     "output_type": "stream",
     "text": [
      "How tall are you, in inches?50\n",
      "\n",
      "You're tall enough to ride!\n"
     ]
    }
   ],
   "source": [
    "height=input(\"How tall are you, in inches?\")\n",
    "height=int(height)\n",
    "\n",
    "if height>=48:\n",
    "    print(\"\\nYou're tall enough to ride!\")\n",
    "else:\n",
    "    print(\"\\nYou'll be able to ride when you're a little older.\")"
   ]
  },
  {
   "cell_type": "markdown",
   "id": "082607f3",
   "metadata": {},
   "source": [
    "## 7.1.3 求模运算符"
   ]
  },
  {
   "cell_type": "code",
   "execution_count": 3,
   "id": "13d6109e",
   "metadata": {
    "ExecuteTime": {
     "end_time": "2024-04-18T09:06:04.140740Z",
     "start_time": "2024-04-18T09:06:04.133758Z"
    }
   },
   "outputs": [
    {
     "data": {
      "text/plain": [
       "4"
      ]
     },
     "execution_count": 3,
     "metadata": {},
     "output_type": "execute_result"
    }
   ],
   "source": [
    "#求模运算符%指出相除后的余数是多少\n",
    "4%31"
   ]
  },
  {
   "cell_type": "code",
   "execution_count": 4,
   "id": "75b9bc2a",
   "metadata": {
    "ExecuteTime": {
     "end_time": "2024-04-18T09:06:44.398512Z",
     "start_time": "2024-04-18T09:06:44.393546Z"
    }
   },
   "outputs": [
    {
     "data": {
      "text/plain": [
       "14"
      ]
     },
     "execution_count": 4,
     "metadata": {},
     "output_type": "execute_result"
    }
   ],
   "source": [
    "60%23"
   ]
  },
  {
   "cell_type": "code",
   "execution_count": 5,
   "id": "231c6d61",
   "metadata": {
    "ExecuteTime": {
     "end_time": "2024-04-18T09:06:53.855675Z",
     "start_time": "2024-04-18T09:06:53.851206Z"
    }
   },
   "outputs": [
    {
     "data": {
      "text/plain": [
       "7"
      ]
     },
     "execution_count": 5,
     "metadata": {},
     "output_type": "execute_result"
    }
   ],
   "source": [
    "7%40"
   ]
  },
  {
   "cell_type": "code",
   "execution_count": 6,
   "id": "a00b992f",
   "metadata": {
    "ExecuteTime": {
     "end_time": "2024-04-18T09:07:38.442153Z",
     "start_time": "2024-04-18T09:07:38.437386Z"
    }
   },
   "outputs": [
    {
     "data": {
      "text/plain": [
       "5"
      ]
     },
     "execution_count": 6,
     "metadata": {},
     "output_type": "execute_result"
    }
   ],
   "source": [
    "40%7"
   ]
  },
  {
   "cell_type": "code",
   "execution_count": 7,
   "id": "a54b9f12",
   "metadata": {
    "ExecuteTime": {
     "end_time": "2024-04-18T09:08:43.205890Z",
     "start_time": "2024-04-18T09:08:43.201070Z"
    }
   },
   "outputs": [
    {
     "data": {
      "text/plain": [
       "23"
      ]
     },
     "execution_count": 7,
     "metadata": {},
     "output_type": "execute_result"
    }
   ],
   "source": [
    "23%60"
   ]
  },
  {
   "cell_type": "code",
   "execution_count": 9,
   "id": "c36a4800",
   "metadata": {
    "ExecuteTime": {
     "end_time": "2024-04-18T09:22:23.665079Z",
     "start_time": "2024-04-18T09:22:19.165514Z"
    }
   },
   "outputs": [
    {
     "name": "stdout",
     "output_type": "stream",
     "text": [
      "Enter a number, and I'll tell you if it's even or odd: 7\n",
      "\n",
      "The number 7 is odd.\n"
     ]
    }
   ],
   "source": [
    "#判断奇数还是偶数\n",
    "number=input(\"Enter a number, and I'll tell you if it's even or odd: \")\n",
    "number=int(number)\n",
    "\n",
    "if number % 2 == 0:\n",
    "    print(f\"\\nThe number {number} is even.\")\n",
    "else:\n",
    "    print(f\"\\nThe number {number} is odd.\")"
   ]
  },
  {
   "cell_type": "markdown",
   "id": "e72f1873",
   "metadata": {},
   "source": [
    "### 练习7.1"
   ]
  },
  {
   "cell_type": "code",
   "execution_count": 10,
   "id": "ad33a09a",
   "metadata": {
    "ExecuteTime": {
     "end_time": "2024-04-18T11:02:20.022490Z",
     "start_time": "2024-04-18T11:02:13.572512Z"
    }
   },
   "outputs": [
    {
     "name": "stdout",
     "output_type": "stream",
     "text": [
      "What car would you like to rent? subaru\n",
      "Let me see if I can find you a Subaru.\n"
     ]
    }
   ],
   "source": [
    "car=input(\"What car would you like to rent? \")\n",
    "print(f\"Let me see if I can find you a {car.title()}.\")"
   ]
  },
  {
   "cell_type": "markdown",
   "id": "e528d0e1",
   "metadata": {},
   "source": [
    "### 练习7.2"
   ]
  },
  {
   "cell_type": "code",
   "execution_count": 11,
   "id": "e8f78af4",
   "metadata": {
    "ExecuteTime": {
     "end_time": "2024-04-18T11:07:31.372886Z",
     "start_time": "2024-04-18T11:07:27.936369Z"
    }
   },
   "outputs": [
    {
     "name": "stdout",
     "output_type": "stream",
     "text": [
      "How many people will be dining? 5\n",
      "There are available tables.\n"
     ]
    }
   ],
   "source": [
    "guests=input(\"How many people will be dining? \")\n",
    "guests=int(guests)\n",
    "\n",
    "if guests > 8:\n",
    "    print(\"There are no more empty tables.\")\n",
    "else:\n",
    "    print(\"There are available tables.\")"
   ]
  },
  {
   "cell_type": "markdown",
   "id": "f944134a",
   "metadata": {},
   "source": [
    "### 练习7.3"
   ]
  },
  {
   "cell_type": "code",
   "execution_count": 13,
   "id": "264e35eb",
   "metadata": {
    "ExecuteTime": {
     "end_time": "2024-04-18T11:11:55.136219Z",
     "start_time": "2024-04-18T11:11:52.601814Z"
    }
   },
   "outputs": [
    {
     "name": "stdout",
     "output_type": "stream",
     "text": [
      "Please enter a number: 40\n",
      "This number is an integer multiple of 10.\n"
     ]
    }
   ],
   "source": [
    "number=input(\"Please enter a number: \")\n",
    "number=int(number)\n",
    "\n",
    "if number % 10 == 0:\n",
    "    print(\"This number is an integer multiple of 10.\")\n",
    "else:\n",
    "    print(\"This number isn't an integer multiple of 10.\")"
   ]
  },
  {
   "cell_type": "markdown",
   "id": "b52493ca",
   "metadata": {},
   "source": [
    "# 7.2 while循环简介"
   ]
  },
  {
   "cell_type": "markdown",
   "id": "1b667de8",
   "metadata": {},
   "source": [
    "## 7.2.1 使用while循环"
   ]
  },
  {
   "cell_type": "code",
   "execution_count": 16,
   "id": "7d264eca",
   "metadata": {
    "ExecuteTime": {
     "end_time": "2024-04-18T13:44:03.189397Z",
     "start_time": "2024-04-18T13:44:03.185636Z"
    }
   },
   "outputs": [
    {
     "name": "stdout",
     "output_type": "stream",
     "text": [
      "1\n",
      "2\n",
      "3\n",
      "4\n",
      "5\n"
     ]
    }
   ],
   "source": [
    "#for循环：针对集合的每个元素执行代码块\n",
    "#while循环：不断运行，直到指定的条件不再满足为止\n",
    "current_number=1\n",
    "while current_number <= 5:\n",
    "    print(current_number)\n",
    "    current_number+=1#结尾一般有自赋值的计数器，控制退出"
   ]
  },
  {
   "cell_type": "markdown",
   "id": "02585f4f",
   "metadata": {},
   "source": [
    "## 7.2.2 让用户选择何时退出"
   ]
  },
  {
   "cell_type": "code",
   "execution_count": 17,
   "id": "fcd284ba",
   "metadata": {
    "ExecuteTime": {
     "end_time": "2024-04-18T13:56:42.306799Z",
     "start_time": "2024-04-18T13:56:22.024945Z"
    }
   },
   "outputs": [
    {
     "name": "stdout",
     "output_type": "stream",
     "text": [
      "\n",
      "Tell me something, and I will repeat it back to you: \n",
      "Enter 'quit' to end the program.2\n",
      "2\n",
      "\n",
      "Tell me something, and I will repeat it back to you: \n",
      "Enter 'quit' to end the program.yes\n",
      "yes\n",
      "\n",
      "Tell me something, and I will repeat it back to you: \n",
      "Enter 'quit' to end the program.quit\n",
      "quit\n"
     ]
    }
   ],
   "source": [
    "prompt=\"\\nTell me something, and I will repeat it back to you: \"\n",
    "prompt+=\"\\nEnter 'quit' to end the program.\"\n",
    "\n",
    "message=\"\"\n",
    "#空字符串给while来执行比较，否则无法继续运行\n",
    "while message != 'quit':\n",
    "    message=input(prompt)\n",
    "    print(message)"
   ]
  },
  {
   "cell_type": "code",
   "execution_count": 18,
   "id": "1f9fe7fe",
   "metadata": {
    "ExecuteTime": {
     "end_time": "2024-04-18T13:59:20.125418Z",
     "start_time": "2024-04-18T13:59:17.902243Z"
    }
   },
   "outputs": [
    {
     "name": "stdout",
     "output_type": "stream",
     "text": [
      "\n",
      "Tell me something, and I will repeat it back to you: \n",
      "Enter 'quit' to end the program.quit\n"
     ]
    }
   ],
   "source": [
    "prompt=\"\\nTell me something, and I will repeat it back to you: \"\n",
    "prompt+=\"\\nEnter 'quit' to end the program.\"\n",
    "\n",
    "message=\"\"\n",
    "while message != 'quit':\n",
    "    message=input(prompt)\n",
    "    \n",
    "    #改进程序，让quit不打印出来\n",
    "    if message !='quit':\n",
    "        print(message)"
   ]
  },
  {
   "cell_type": "markdown",
   "id": "68a5de5e",
   "metadata": {},
   "source": [
    "## 7.2.3 使用标志"
   ]
  },
  {
   "cell_type": "code",
   "execution_count": 19,
   "id": "32296244",
   "metadata": {
    "ExecuteTime": {
     "end_time": "2024-04-18T14:08:12.301702Z",
     "start_time": "2024-04-18T14:07:59.484060Z"
    }
   },
   "outputs": [
    {
     "name": "stdout",
     "output_type": "stream",
     "text": [
      "\n",
      "Tell me something, and I will repeat it back to you: \n",
      "Enter 'quit' to end the program.dark\n",
      "dark\n",
      "\n",
      "Tell me something, and I will repeat it back to you: \n",
      "Enter 'quit' to end the program.blood\n",
      "blood\n",
      "\n",
      "Tell me something, and I will repeat it back to you: \n",
      "Enter 'quit' to end the program.quit\n"
     ]
    }
   ],
   "source": [
    "#检查事件停止的多种条件\n",
    "#定义一个变量，判断程序的活动状态\n",
    "prompt=\"\\nTell me something, and I will repeat it back to you: \"\n",
    "prompt+=\"\\nEnter 'quit' to end the program.\"\n",
    "\n",
    "active=True\n",
    "while active:\n",
    "    message=input(prompt)\n",
    "    \n",
    "    if message == 'quit':\n",
    "        active=False\n",
    "    else:\n",
    "        print(message)"
   ]
  },
  {
   "cell_type": "markdown",
   "id": "596e432f",
   "metadata": {},
   "source": [
    "## 7.2.4 使用break退出循环"
   ]
  },
  {
   "cell_type": "code",
   "execution_count": 20,
   "id": "d4ca0fb6",
   "metadata": {
    "ExecuteTime": {
     "end_time": "2024-04-18T14:14:01.799458Z",
     "start_time": "2024-04-18T14:13:48.945706Z"
    }
   },
   "outputs": [
    {
     "name": "stdout",
     "output_type": "stream",
     "text": [
      "\n",
      "Please enter the name of a city you have visited: \n",
      "(Enter 'quit' when you are finished.)seoul\n",
      "I'd love to go to Seoul!\n",
      "\n",
      "Please enter the name of a city you have visited: \n",
      "(Enter 'quit' when you are finished.)hong kong\n",
      "I'd love to go to Hong Kong!\n",
      "\n",
      "Please enter the name of a city you have visited: \n",
      "(Enter 'quit' when you are finished.)quit\n"
     ]
    }
   ],
   "source": [
    "#不管条件测试结果，立即退出while循环\n",
    "prompt=\"\\nPlease enter the name of a city you have visited: \"\n",
    "prompt+=\"\\n(Enter 'quit' when you are finished.)\"\n",
    "\n",
    "while True:\n",
    "    city=input(prompt)\n",
    "    \n",
    "    if city=='quit':\n",
    "        break\n",
    "    else:\n",
    "        print(f\"I'd love to go to {city.title()}!\")"
   ]
  },
  {
   "cell_type": "markdown",
   "id": "83521fc3",
   "metadata": {},
   "source": [
    "## 7.2.5 在循环中使用continue"
   ]
  },
  {
   "cell_type": "code",
   "execution_count": 21,
   "id": "1ce47fe7",
   "metadata": {
    "ExecuteTime": {
     "end_time": "2024-04-18T14:20:43.116079Z",
     "start_time": "2024-04-18T14:20:43.112365Z"
    }
   },
   "outputs": [
    {
     "name": "stdout",
     "output_type": "stream",
     "text": [
      "1\n",
      "3\n",
      "5\n",
      "7\n",
      "9\n"
     ]
    }
   ],
   "source": [
    "#continue跳过这次循环，返回循环开头，判断条件测试\n",
    "current_number=0\n",
    "while current_number<10:\n",
    "    current_number+=1\n",
    "    if current_number%2==0:\n",
    "        continue\n",
    "        \n",
    "    print(current_number)"
   ]
  },
  {
   "cell_type": "markdown",
   "id": "cd753bfe",
   "metadata": {},
   "source": [
    "## 7.2.6 避免无限循环"
   ]
  },
  {
   "cell_type": "code",
   "execution_count": 22,
   "id": "c1d9e36d",
   "metadata": {
    "ExecuteTime": {
     "end_time": "2024-04-18T14:23:01.944144Z",
     "start_time": "2024-04-18T14:23:01.941039Z"
    }
   },
   "outputs": [
    {
     "name": "stdout",
     "output_type": "stream",
     "text": [
      "1\n",
      "2\n",
      "3\n",
      "4\n",
      "5\n"
     ]
    }
   ],
   "source": [
    "x=1\n",
    "while x <= 5:\n",
    "    print(x)\n",
    "    x+=1\n",
    "#x=1\n",
    "#while x <= 5:\n",
    "#    print(x)\n",
    "#这样会无限运行下去，小心死循环！"
   ]
  },
  {
   "cell_type": "markdown",
   "id": "f76568e0",
   "metadata": {},
   "source": [
    "### 练习7.4"
   ]
  },
  {
   "cell_type": "code",
   "execution_count": 24,
   "id": "cf959fc7",
   "metadata": {
    "ExecuteTime": {
     "end_time": "2024-04-18T14:34:04.082645Z",
     "start_time": "2024-04-18T14:33:44.518949Z"
    }
   },
   "outputs": [
    {
     "name": "stdout",
     "output_type": "stream",
     "text": [
      "\n",
      "Please enter the pizza topping you want: \n",
      "(Enter 'quit' when you are finished.)onion\n",
      "I'll add onion to your pizza.\n",
      "\n",
      "Please enter the pizza topping you want: \n",
      "(Enter 'quit' when you are finished.)cheese\n",
      "I'll add cheese to your pizza.\n",
      "\n",
      "Please enter the pizza topping you want: \n",
      "(Enter 'quit' when you are finished.)pineapple\n",
      "I'll add pineapple to your pizza.\n",
      "\n",
      "Please enter the pizza topping you want: \n",
      "(Enter 'quit' when you are finished.)quit\n"
     ]
    }
   ],
   "source": [
    "prompt=\"\\nPlease enter the pizza topping you want: \"\n",
    "prompt+=\"\\n(Enter 'quit' when you are finished.)\"\n",
    "\n",
    "while True:\n",
    "    pizza=input(prompt)\n",
    "    \n",
    "    if pizza=='quit':\n",
    "        break\n",
    "    else:\n",
    "        print(f\"I'll add {pizza} to your pizza.\")"
   ]
  },
  {
   "cell_type": "markdown",
   "id": "b425fd02",
   "metadata": {},
   "source": [
    "### 练习7.5"
   ]
  },
  {
   "cell_type": "code",
   "execution_count": 25,
   "id": "67313d51",
   "metadata": {
    "ExecuteTime": {
     "end_time": "2024-04-18T14:46:02.737332Z",
     "start_time": "2024-04-18T14:45:50.406703Z"
    }
   },
   "outputs": [
    {
     "name": "stdout",
     "output_type": "stream",
     "text": [
      "\n",
      "How old are you? \n",
      "Enter 'quit' to end the program.6\n",
      "Your ticket price is 10$.\n",
      "\n",
      "How old are you? \n",
      "Enter 'quit' to end the program.18\n",
      "Your ticket price is 15$.\n",
      "\n",
      "How old are you? \n",
      "Enter 'quit' to end the program.quit\n"
     ]
    }
   ],
   "source": [
    "prompt=\"\\nHow old are you? \"\n",
    "prompt+=\"\\nEnter 'quit' to end the program.\"\n",
    "\n",
    "active=True\n",
    "while active:\n",
    "    message=input(prompt)\n",
    "    \n",
    "    if message == 'quit':\n",
    "        active=False\n",
    "    elif int(message)<3:\n",
    "        print(\"Your ticket is free.\")\n",
    "    elif 3<=int(message)<12:\n",
    "        print(\"Your ticket price is 10$.\")\n",
    "    else:\n",
    "        print(\"Your ticket price is 15$.\")"
   ]
  },
  {
   "cell_type": "markdown",
   "id": "b045e973",
   "metadata": {},
   "source": [
    "### 练习7.6"
   ]
  },
  {
   "cell_type": "code",
   "execution_count": 29,
   "id": "2dd18689",
   "metadata": {
    "ExecuteTime": {
     "end_time": "2024-04-18T14:57:14.820590Z",
     "start_time": "2024-04-18T14:57:03.751655Z"
    }
   },
   "outputs": [
    {
     "name": "stdout",
     "output_type": "stream",
     "text": [
      "\n",
      "Please enter the pizza topping you want: \n",
      "(Enter 'quit' when you are finished.)tomato\n",
      "\n",
      "Please enter the pizza topping you want: \n",
      "(Enter 'quit' when you are finished.)quit\n"
     ]
    }
   ],
   "source": [
    "prompt=\"\\nPlease enter the pizza topping you want: \"\n",
    "prompt+=\"\\n(Enter 'quit' when you are finished.)\"\n",
    "\n",
    "message=\"\"\n",
    "while message!='quit':\n",
    "    message=input(prompt)\n",
    "    \n",
    "    if pizza!='quit':\n",
    "        print(f\"I'll add {message} to your pizza.\")"
   ]
  },
  {
   "cell_type": "code",
   "execution_count": 26,
   "id": "333a38d5",
   "metadata": {
    "ExecuteTime": {
     "end_time": "2024-04-18T14:48:47.135323Z",
     "start_time": "2024-04-18T14:48:32.134835Z"
    }
   },
   "outputs": [
    {
     "name": "stdout",
     "output_type": "stream",
     "text": [
      "\n",
      "Please enter the pizza topping you want: \n",
      "(Enter 'quit' when you are finished.)sausage\n",
      "I'll add sausage to your pizza.\n",
      "\n",
      "Please enter the pizza topping you want: \n",
      "(Enter 'quit' when you are finished.)quit\n"
     ]
    }
   ],
   "source": [
    "prompt=\"\\nPlease enter the pizza topping you want: \"\n",
    "prompt+=\"\\n(Enter 'quit' when you are finished.)\"\n",
    "\n",
    "active=True\n",
    "while active:\n",
    "    pizza=input(prompt)\n",
    "    \n",
    "    if pizza=='quit':\n",
    "        active=False\n",
    "    else:\n",
    "        print(f\"I'll add {pizza} to your pizza.\")"
   ]
  },
  {
   "cell_type": "code",
   "execution_count": 28,
   "id": "cc15f3c5",
   "metadata": {
    "ExecuteTime": {
     "end_time": "2024-04-18T14:52:16.224174Z",
     "start_time": "2024-04-18T14:52:12.783709Z"
    }
   },
   "outputs": [
    {
     "name": "stdout",
     "output_type": "stream",
     "text": [
      "\n",
      "How old are you? \n",
      "Enter 'quit' to end the program.13\n",
      "Your ticket price is 15$.\n",
      "\n",
      "How old are you? \n",
      "Enter 'quit' to end the program.quit\n"
     ]
    }
   ],
   "source": [
    "prompt=\"\\nHow old are you? \"\n",
    "prompt+=\"\\nEnter 'quit' to end the program.\"\n",
    "\n",
    "while True:\n",
    "    message=input(prompt)\n",
    "    \n",
    "    if message == 'quit':\n",
    "        break\n",
    "    elif int(message)<3:\n",
    "        print(\"Your ticket is free.\")\n",
    "    elif 3<=int(message)<12:\n",
    "        print(\"Your ticket price is 10$.\")\n",
    "    else:\n",
    "        print(\"Your ticket price is 15$.\")"
   ]
  },
  {
   "cell_type": "markdown",
   "id": "172463f5",
   "metadata": {},
   "source": [
    "### 练习7.7"
   ]
  },
  {
   "cell_type": "code",
   "execution_count": 30,
   "id": "4572c48c",
   "metadata": {
    "ExecuteTime": {
     "end_time": "2024-04-18T15:02:54.997282Z",
     "start_time": "2024-04-18T15:02:54.993221Z"
    }
   },
   "outputs": [],
   "source": [
    "#无限循环\n",
    "#就不运行了\n",
    "#number=0\n",
    "#while number<=8:\n",
    "#    print(number)"
   ]
  },
  {
   "cell_type": "markdown",
   "id": "328f8b6d",
   "metadata": {},
   "source": [
    "# 7.3 使用while循环处理列表和字典"
   ]
  },
  {
   "cell_type": "markdown",
   "id": "2a939905",
   "metadata": {},
   "source": [
    "## 7.3.1 在列表之间移动元素"
   ]
  },
  {
   "cell_type": "code",
   "execution_count": 32,
   "id": "61a3e880",
   "metadata": {
    "ExecuteTime": {
     "end_time": "2024-04-18T15:14:38.850544Z",
     "start_time": "2024-04-18T15:14:38.846134Z"
    }
   },
   "outputs": [
    {
     "name": "stdout",
     "output_type": "stream",
     "text": [
      "Verifying user: Candace\n",
      "Verifying user: Brain\n",
      "Verifying user: Alice\n",
      "\n",
      "The following users have been confirmed: \n",
      "Candace\n",
      "Brain\n",
      "Alice\n"
     ]
    }
   ],
   "source": [
    "#验证新注册的用户并将他们移到已验证用户中\n",
    "\n",
    "#创建待验证用户列表和已验证用户的空列表\n",
    "unconfirmed_users=['alice', 'brain', 'candace']\n",
    "confirmed_users=[]\n",
    "\n",
    "#验证每个用户直到无未验证用户\n",
    "#验证过的用户移到已验证用户列表中\n",
    "while unconfirmed_users:\n",
    "    current_user=unconfirmed_users.pop()\n",
    "    \n",
    "    print(f\"Verifying user: {current_user.title()}\")\n",
    "    confirmed_users.append(current_user)\n",
    "    \n",
    "#显示已验证用户\n",
    "print(\"\\nThe following users have been confirmed: \")\n",
    "for confirmed_user in confirmed_users:\n",
    "    print(confirmed_user.title())"
   ]
  },
  {
   "cell_type": "markdown",
   "id": "11ed0701",
   "metadata": {},
   "source": [
    "## 7.3.2 删除为特定值的所有列表元素"
   ]
  },
  {
   "cell_type": "code",
   "execution_count": 33,
   "id": "075d6a53",
   "metadata": {
    "ExecuteTime": {
     "end_time": "2024-04-18T15:16:14.982277Z",
     "start_time": "2024-04-18T15:16:14.977967Z"
    }
   },
   "outputs": [
    {
     "name": "stdout",
     "output_type": "stream",
     "text": [
      "['dog', 'cat', 'dog', 'goldfish', 'cat', 'rabbit', 'cat']\n",
      "['dog', 'dog', 'goldfish', 'rabbit']\n"
     ]
    }
   ],
   "source": [
    "pets=['dog','cat','dog','goldfish','cat','rabbit','cat']\n",
    "print(pets)\n",
    "\n",
    "while 'cat' in pets:\n",
    "    pets.remove('cat')\n",
    "print(pets)"
   ]
  },
  {
   "cell_type": "code",
   "execution_count": 34,
   "id": "618deab7",
   "metadata": {
    "ExecuteTime": {
     "end_time": "2024-04-18T15:16:26.797738Z",
     "start_time": "2024-04-18T15:16:26.794336Z"
    }
   },
   "outputs": [
    {
     "name": "stdout",
     "output_type": "stream",
     "text": [
      "['dog', 'cat', 'dog', 'goldfish', 'cat', 'rabbit', 'cat']\n",
      "['dog', 'dog', 'goldfish', 'cat', 'rabbit', 'cat']\n",
      "['dog', 'dog', 'goldfish', 'rabbit', 'cat']\n",
      "['dog', 'dog', 'goldfish', 'rabbit']\n"
     ]
    }
   ],
   "source": [
    "pets=['dog','cat','dog','goldfish','cat','rabbit','cat']\n",
    "print(pets)\n",
    "\n",
    "while 'cat' in pets:\n",
    "    pets.remove('cat')\n",
    "    print(pets)"
   ]
  },
  {
   "cell_type": "markdown",
   "id": "d0cd8a3a",
   "metadata": {},
   "source": [
    "## 7.3.3 使用用户输入填充字典"
   ]
  },
  {
   "cell_type": "code",
   "execution_count": 36,
   "id": "a7295e26",
   "metadata": {
    "ExecuteTime": {
     "end_time": "2024-04-18T15:26:15.825869Z",
     "start_time": "2024-04-18T15:25:30.172609Z"
    }
   },
   "outputs": [
    {
     "name": "stdout",
     "output_type": "stream",
     "text": [
      "\n",
      "What is your name? jade\n",
      "Which mountain would you like to climb someday? el capitan\n",
      "Would you like to let another person respond? (yes/no) yes\n",
      "\n",
      "What is your name? amy\n",
      "Which mountain would you like to climb someday? fuji\n",
      "Would you like to let another person respond? (yes/no) no\n",
      "\n",
      "--- Poll Results ---\n",
      "jade would like to climb el capitan.\n",
      "amy would like to climb fuji.\n"
     ]
    }
   ],
   "source": [
    "#调查程序，录入调查者信息\n",
    "\n",
    "responses={}\n",
    "#设置标志，指出调查是否继续\n",
    "polling_active=True\n",
    "\n",
    "while polling_active:\n",
    "    #要求被调查者输入名字和回答\n",
    "    name=input(\"\\nWhat is your name? \")\n",
    "    response=input(\"Which mountain would you like to climb someday? \")\n",
    "    \n",
    "    #将名字和回答存储在字典中\n",
    "    responses[name]=response\n",
    "    \n",
    "    #看看还有没有其他人参与调查\n",
    "    repeat=input(\"Would you like to let another person respond? (yes/no) \")\n",
    "    if repeat == 'no':\n",
    "        polling_active=False\n",
    "        \n",
    "#调查结束，显示结果\n",
    "print(\"\\n--- Poll Results ---\")\n",
    "for name,response in responses.items():\n",
    "    print(f\"{name} would like to climb {response}.\")"
   ]
  },
  {
   "cell_type": "markdown",
   "id": "21860097",
   "metadata": {},
   "source": [
    "### 练习7.8"
   ]
  },
  {
   "cell_type": "code",
   "execution_count": 37,
   "id": "16c7abb6",
   "metadata": {
    "ExecuteTime": {
     "end_time": "2024-04-18T15:34:08.027332Z",
     "start_time": "2024-04-18T15:34:08.021053Z"
    }
   },
   "outputs": [
    {
     "name": "stdout",
     "output_type": "stream",
     "text": [
      "I made your french sandwich.\n",
      "I made your club sandwich.\n",
      "I made your chicken sandwich.\n",
      "I made your egg sandwich.\n",
      "\n",
      "Here are the finished sandwiches: \n",
      "french sandwich\n",
      "club sandwich\n",
      "chicken sandwich\n",
      "egg sandwich\n"
     ]
    }
   ],
   "source": [
    "sandwich_orders=['egg sandwich','chicken sandwich','club sandwich','french sandwich']\n",
    "finished_sandwiches=[]\n",
    "\n",
    "while sandwich_orders:\n",
    "    current_sandwich=sandwich_orders.pop()\n",
    "    \n",
    "    print(f\"I made your {current_sandwich}.\")\n",
    "    finished_sandwiches.append(current_sandwich)\n",
    "    \n",
    "print(\"\\nHere are the finished sandwiches: \")\n",
    "for finished_sandwich in finished_sandwiches:\n",
    "    print(finished_sandwich)"
   ]
  },
  {
   "cell_type": "markdown",
   "id": "294dff95",
   "metadata": {},
   "source": [
    "### 练习7.9"
   ]
  },
  {
   "cell_type": "code",
   "execution_count": 39,
   "id": "05d7e933",
   "metadata": {
    "ExecuteTime": {
     "end_time": "2024-04-18T15:38:50.834759Z",
     "start_time": "2024-04-18T15:38:50.830452Z"
    }
   },
   "outputs": [
    {
     "name": "stdout",
     "output_type": "stream",
     "text": [
      "The deli was sold out of pastrami.\n",
      "\n",
      "I made your french sandwich.\n",
      "I made your club sandwich.\n",
      "I made your chicken sandwich.\n",
      "I made your egg sandwich.\n",
      "\n",
      "Here are the finished sandwiches: \n",
      "french sandwich\n",
      "club sandwich\n",
      "chicken sandwich\n",
      "egg sandwich\n"
     ]
    }
   ],
   "source": [
    "sandwich_orders=['egg sandwich','pastrami','chicken sandwich','pastrami','club sandwich','pastrami','french sandwich']\n",
    "finished_sandwiches=[]\n",
    "\n",
    "print(\"The deli was sold out of pastrami.\\n\")\n",
    "while 'pastrami' in sandwich_orders:\n",
    "    sandwich_orders.remove('pastrami')\n",
    "\n",
    "while sandwich_orders:\n",
    "    current_sandwich=sandwich_orders.pop()\n",
    "    \n",
    "    print(f\"I made your {current_sandwich}.\")\n",
    "    finished_sandwiches.append(current_sandwich)\n",
    "    \n",
    "print(\"\\nHere are the finished sandwiches: \")\n",
    "for finished_sandwich in finished_sandwiches:\n",
    "    print(finished_sandwich)"
   ]
  },
  {
   "cell_type": "markdown",
   "id": "f6577633",
   "metadata": {},
   "source": [
    "### 练习7.10"
   ]
  },
  {
   "cell_type": "code",
   "execution_count": 44,
   "id": "b343049e",
   "metadata": {
    "ExecuteTime": {
     "end_time": "2024-04-18T15:47:08.486749Z",
     "start_time": "2024-04-18T15:46:44.524171Z"
    }
   },
   "outputs": [
    {
     "name": "stdout",
     "output_type": "stream",
     "text": [
      "\n",
      "What is your name? jade\n",
      "If you could visit one place in the world, where would you go? suomi\n",
      "Would you like to let another person respond? (yes/no) yes\n",
      "\n",
      "What is your name? seagull\n",
      "If you could visit one place in the world, where would you go? hawaii\n",
      "Would you like to let another person respond? (yes/no) yes\n",
      "\n",
      "What is your name? garavani\n",
      "If you could visit one place in the world, where would you go? england\n",
      "Would you like to let another person respond? (yes/no) no\n",
      "\n",
      "--- Poll Results ---\n",
      "Jade would like to vist Suomi.\n",
      "Seagull would like to vist Hawaii.\n",
      "Garavani would like to vist England.\n"
     ]
    }
   ],
   "source": [
    "responses={}\n",
    "\n",
    "while True:\n",
    "    name=input(\"\\nWhat is your name? \")\n",
    "    place=input(\"If you could visit one place in the world, where would you go? \")\n",
    "    \n",
    "    responses[name]=place\n",
    "    \n",
    "    repeat=input(\"Would you like to let another person respond? (yes/no) \")\n",
    "    if repeat == 'no':\n",
    "        break\n",
    "        \n",
    "print(\"\\n--- Poll Results ---\")\n",
    "for name,place in responses.items():\n",
    "    print(f\"{name.title()} would like to vist {place.title()}.\")"
   ]
  },
  {
   "cell_type": "code",
   "execution_count": null,
   "id": "0c6cf299",
   "metadata": {},
   "outputs": [],
   "source": []
  }
 ],
 "metadata": {
  "kernelspec": {
   "display_name": "Python 3 (ipykernel)",
   "language": "python",
   "name": "python3"
  },
  "language_info": {
   "codemirror_mode": {
    "name": "ipython",
    "version": 3
   },
   "file_extension": ".py",
   "mimetype": "text/x-python",
   "name": "python",
   "nbconvert_exporter": "python",
   "pygments_lexer": "ipython3",
   "version": "3.11.5"
  },
  "toc": {
   "base_numbering": " ",
   "nav_menu": {},
   "number_sections": false,
   "sideBar": true,
   "skip_h1_title": false,
   "title_cell": "Table of Contents",
   "title_sidebar": "Contents",
   "toc_cell": false,
   "toc_position": {
    "height": "calc(100% - 180px)",
    "left": "10px",
    "top": "150px",
    "width": "124.195px"
   },
   "toc_section_display": true,
   "toc_window_display": false
  }
 },
 "nbformat": 4,
 "nbformat_minor": 5
}
