{
 "cells": [
  {
   "cell_type": "markdown",
   "id": "e2fe6e85",
   "metadata": {},
   "source": [
    "# 5.1 一个简单的示例"
   ]
  },
  {
   "cell_type": "code",
   "execution_count": 6,
   "id": "501b6854",
   "metadata": {},
   "outputs": [
    {
     "name": "stdout",
     "output_type": "stream",
     "text": [
      "Audi\n",
      "BMW\n",
      "Subaru\n",
      "Toyota\n"
     ]
    }
   ],
   "source": [
    "cars=[\"audi\",\"bmw\",\"subaru\",\"toyota\"]\n",
    "for car in cars:\n",
    "    if car == \"bmw\":\n",
    "        print(car.upper())\n",
    "    else:\n",
    "        print(car.title())"
   ]
  },
  {
   "cell_type": "markdown",
   "id": "08743d86",
   "metadata": {},
   "source": [
    "# 5.2 条件测试"
   ]
  },
  {
   "cell_type": "code",
   "execution_count": 1,
   "id": "02033935",
   "metadata": {},
   "outputs": [],
   "source": [
    "#每条 if 语句的核心都是一个值为 True 或 False 的表达式\n",
    "#这种表达式称为条件测试\n",
    "#根据值是 True 还是False 来决定是否执行 if 语句中的代码"
   ]
  },
  {
   "cell_type": "markdown",
   "id": "7e243500",
   "metadata": {},
   "source": [
    "## 5.2.1 检查是否相等"
   ]
  },
  {
   "cell_type": "code",
   "execution_count": 3,
   "id": "8a6072a9",
   "metadata": {},
   "outputs": [
    {
     "data": {
      "text/plain": [
       "False"
      ]
     },
     "execution_count": 3,
     "metadata": {},
     "output_type": "execute_result"
    }
   ],
   "source": [
    "car='audi'\n",
    "car=='bmw'"
   ]
  },
  {
   "cell_type": "code",
   "execution_count": 7,
   "id": "ecc98a02",
   "metadata": {},
   "outputs": [
    {
     "data": {
      "text/plain": [
       "False"
      ]
     },
     "execution_count": 7,
     "metadata": {},
     "output_type": "execute_result"
    }
   ],
   "source": [
    "'audi'=='bmw'"
   ]
  },
  {
   "cell_type": "markdown",
   "id": "f04347a5",
   "metadata": {},
   "source": [
    "## 5.2.2 如何在检查是否相等时忽略大小写"
   ]
  },
  {
   "cell_type": "code",
   "execution_count": 8,
   "id": "7ce02713",
   "metadata": {},
   "outputs": [
    {
     "data": {
      "text/plain": [
       "False"
      ]
     },
     "execution_count": 8,
     "metadata": {},
     "output_type": "execute_result"
    }
   ],
   "source": [
    "car='Audi'\n",
    "car=='audi'"
   ]
  },
  {
   "cell_type": "code",
   "execution_count": 10,
   "id": "a23d809d",
   "metadata": {},
   "outputs": [
    {
     "data": {
      "text/plain": [
       "True"
      ]
     },
     "execution_count": 10,
     "metadata": {},
     "output_type": "execute_result"
    }
   ],
   "source": [
    "#先转换成小写再比较\n",
    "car='Audi'\n",
    "car.lower()=='audi'"
   ]
  },
  {
   "cell_type": "code",
   "execution_count": 12,
   "id": "3573aad6",
   "metadata": {},
   "outputs": [
    {
     "data": {
      "text/plain": [
       "'Audi'"
      ]
     },
     "execution_count": 12,
     "metadata": {},
     "output_type": "execute_result"
    }
   ],
   "source": [
    "#不改变存储在变量car中的值\n",
    "car='Audi'\n",
    "car.lower()=='audi'\n",
    "car"
   ]
  },
  {
   "cell_type": "markdown",
   "id": "100b7f51",
   "metadata": {},
   "source": [
    "## 5.2.3 检查是否不等"
   ]
  },
  {
   "cell_type": "code",
   "execution_count": 13,
   "id": "11c052e2",
   "metadata": {},
   "outputs": [
    {
     "name": "stdout",
     "output_type": "stream",
     "text": [
      "Hold the anchovies!\n"
     ]
    }
   ],
   "source": [
    "requested_topping='mushrooms'\n",
    "\n",
    "if requested_topping!='anchovies':\n",
    "    print(\"Hold the anchovies!\")"
   ]
  },
  {
   "cell_type": "code",
   "execution_count": 14,
   "id": "ab7a2638",
   "metadata": {},
   "outputs": [
    {
     "data": {
      "text/plain": [
       "True"
      ]
     },
     "execution_count": 14,
     "metadata": {},
     "output_type": "execute_result"
    }
   ],
   "source": [
    "requested_topping='mushrooms'\n",
    "requested_topping!='anchovies'"
   ]
  },
  {
   "cell_type": "markdown",
   "id": "b48f4423",
   "metadata": {},
   "source": [
    "## 5.2.4 数值比较"
   ]
  },
  {
   "cell_type": "code",
   "execution_count": 15,
   "id": "a4099b55",
   "metadata": {},
   "outputs": [
    {
     "data": {
      "text/plain": [
       "True"
      ]
     },
     "execution_count": 15,
     "metadata": {},
     "output_type": "execute_result"
    }
   ],
   "source": [
    "age=18\n",
    "age==18"
   ]
  },
  {
   "cell_type": "code",
   "execution_count": 16,
   "id": "fa1f9e7c",
   "metadata": {},
   "outputs": [
    {
     "name": "stdout",
     "output_type": "stream",
     "text": [
      "That is not the correct answer. Please try again!\n"
     ]
    }
   ],
   "source": [
    "answer=17\n",
    "if answer!=42:\n",
    "    print(\"That is not the correct answer. Please try again!\")"
   ]
  },
  {
   "cell_type": "code",
   "execution_count": 2,
   "id": "1e568cfb",
   "metadata": {
    "scrolled": true
   },
   "outputs": [
    {
     "data": {
      "text/plain": [
       "True"
      ]
     },
     "execution_count": 2,
     "metadata": {},
     "output_type": "execute_result"
    }
   ],
   "source": [
    "#True的值就是1\n",
    "True==1"
   ]
  },
  {
   "cell_type": "code",
   "execution_count": 3,
   "id": "98d3332c",
   "metadata": {},
   "outputs": [
    {
     "data": {
      "text/plain": [
       "False"
      ]
     },
     "execution_count": 3,
     "metadata": {},
     "output_type": "execute_result"
    }
   ],
   "source": [
    "True==3"
   ]
  },
  {
   "cell_type": "code",
   "execution_count": 4,
   "id": "a5cb23c9",
   "metadata": {},
   "outputs": [
    {
     "data": {
      "text/plain": [
       "True"
      ]
     },
     "execution_count": 4,
     "metadata": {},
     "output_type": "execute_result"
    }
   ],
   "source": [
    "#False的值是0\n",
    "False==0"
   ]
  },
  {
   "cell_type": "code",
   "execution_count": 7,
   "id": "480028bb",
   "metadata": {},
   "outputs": [
    {
     "data": {
      "text/plain": [
       "True"
      ]
     },
     "execution_count": 7,
     "metadata": {},
     "output_type": "execute_result"
    }
   ],
   "source": [
    "39<52"
   ]
  },
  {
   "cell_type": "code",
   "execution_count": 8,
   "id": "d4caa16e",
   "metadata": {},
   "outputs": [
    {
     "data": {
      "text/plain": [
       "True"
      ]
     },
     "execution_count": 8,
     "metadata": {},
     "output_type": "execute_result"
    }
   ],
   "source": [
    "20>=10"
   ]
  },
  {
   "cell_type": "code",
   "execution_count": 9,
   "id": "e4314350",
   "metadata": {},
   "outputs": [
    {
     "data": {
      "text/plain": [
       "2"
      ]
     },
     "execution_count": 9,
     "metadata": {},
     "output_type": "execute_result"
    }
   ],
   "source": [
    "True+True"
   ]
  },
  {
   "cell_type": "code",
   "execution_count": 10,
   "id": "d821e584",
   "metadata": {},
   "outputs": [
    {
     "data": {
      "text/plain": [
       "1.0"
      ]
     },
     "execution_count": 10,
     "metadata": {},
     "output_type": "execute_result"
    }
   ],
   "source": [
    "True/True"
   ]
  },
  {
   "cell_type": "code",
   "execution_count": 17,
   "id": "437f7be8",
   "metadata": {},
   "outputs": [
    {
     "data": {
      "text/plain": [
       "0"
      ]
     },
     "execution_count": 17,
     "metadata": {},
     "output_type": "execute_result"
    }
   ],
   "source": [
    "False*True"
   ]
  },
  {
   "cell_type": "code",
   "execution_count": 18,
   "id": "37e6b53e",
   "metadata": {},
   "outputs": [
    {
     "data": {
      "text/plain": [
       "-1"
      ]
     },
     "execution_count": 18,
     "metadata": {},
     "output_type": "execute_result"
    }
   ],
   "source": [
    "False-True"
   ]
  },
  {
   "cell_type": "markdown",
   "id": "9ddf0a14",
   "metadata": {},
   "source": [
    "## 5.2.5 检查多个条件"
   ]
  },
  {
   "cell_type": "markdown",
   "id": "ec3ecb4c",
   "metadata": {},
   "source": [
    "### 使用and检查多个条件"
   ]
  },
  {
   "cell_type": "code",
   "execution_count": 19,
   "id": "99450dd4",
   "metadata": {
    "scrolled": true
   },
   "outputs": [
    {
     "data": {
      "text/plain": [
       "False"
      ]
     },
     "execution_count": 19,
     "metadata": {},
     "output_type": "execute_result"
    }
   ],
   "source": [
    "age_0=22\n",
    "age_1=18\n",
    "age_0>=21 and age_1>=21"
   ]
  },
  {
   "cell_type": "code",
   "execution_count": 21,
   "id": "9600b291",
   "metadata": {},
   "outputs": [
    {
     "data": {
      "text/plain": [
       "True"
      ]
     },
     "execution_count": 21,
     "metadata": {},
     "output_type": "execute_result"
    }
   ],
   "source": [
    "age_0=22\n",
    "age_1=18\n",
    "age_0>=21 and age_1>=21\n",
    "age_1=22\n",
    "age_0>=21 and age_1>=21\n",
    "#为了改善可读性可写为：(age_0>=21) and (age_1>=21)"
   ]
  },
  {
   "cell_type": "markdown",
   "id": "9d6e8fdf",
   "metadata": {},
   "source": [
    "### 使用or检查多个条件"
   ]
  },
  {
   "cell_type": "code",
   "execution_count": 22,
   "id": "9a6ba3f5",
   "metadata": {},
   "outputs": [
    {
     "data": {
      "text/plain": [
       "True"
      ]
     },
     "execution_count": 22,
     "metadata": {},
     "output_type": "execute_result"
    }
   ],
   "source": [
    "age_0=22\n",
    "age_1=18\n",
    "age_0>=21 or age_1>=21"
   ]
  },
  {
   "cell_type": "code",
   "execution_count": 24,
   "id": "5d8322a3",
   "metadata": {},
   "outputs": [
    {
     "data": {
      "text/plain": [
       "False"
      ]
     },
     "execution_count": 24,
     "metadata": {},
     "output_type": "execute_result"
    }
   ],
   "source": [
    "age_0=22\n",
    "age_1=18\n",
    "age_0>=21 or age_1>=21\n",
    "age_0=18\n",
    "age_0>=21 or age_1>=21"
   ]
  },
  {
   "cell_type": "markdown",
   "id": "4020c1dd",
   "metadata": {},
   "source": [
    "## 5.2.6 检查特定的值是否在列表中"
   ]
  },
  {
   "cell_type": "code",
   "execution_count": 28,
   "id": "7d66c3a6",
   "metadata": {},
   "outputs": [
    {
     "data": {
      "text/plain": [
       "True"
      ]
     },
     "execution_count": 28,
     "metadata": {},
     "output_type": "execute_result"
    }
   ],
   "source": [
    "requested_toppings=['mushrooms','onions','pineapple']\n",
    "'mushrooms' in requested_toppings"
   ]
  },
  {
   "cell_type": "code",
   "execution_count": 29,
   "id": "36bbd520",
   "metadata": {},
   "outputs": [
    {
     "data": {
      "text/plain": [
       "False"
      ]
     },
     "execution_count": 29,
     "metadata": {},
     "output_type": "execute_result"
    }
   ],
   "source": [
    "requested_toppings=['mushrooms','onions','pineapple']\n",
    "'pepperoni' in requested_toppings"
   ]
  },
  {
   "cell_type": "markdown",
   "id": "320fd00f",
   "metadata": {},
   "source": [
    "## 5.2.7 检查特定的值是否不在列表中"
   ]
  },
  {
   "cell_type": "code",
   "execution_count": 31,
   "id": "c62b1aa2",
   "metadata": {},
   "outputs": [
    {
     "name": "stdout",
     "output_type": "stream",
     "text": [
      "Marie, you can post a respond if you wish.\n"
     ]
    }
   ],
   "source": [
    "banned_users=['andrew','carolina','david']\n",
    "user='marie'\n",
    "\n",
    "if user not in banned_users:\n",
    "    print(f\"{user.title()}, you can post a respond if you wish.\")"
   ]
  },
  {
   "cell_type": "markdown",
   "id": "3b4e7e95",
   "metadata": {},
   "source": [
    "## 5.2.8 布尔表达式"
   ]
  },
  {
   "cell_type": "code",
   "execution_count": 11,
   "id": "f8230010",
   "metadata": {},
   "outputs": [
    {
     "data": {
      "text/plain": [
       "True"
      ]
     },
     "execution_count": 11,
     "metadata": {},
     "output_type": "execute_result"
    }
   ],
   "source": [
    "True and True"
   ]
  },
  {
   "cell_type": "code",
   "execution_count": 12,
   "id": "7afa00ac",
   "metadata": {},
   "outputs": [
    {
     "data": {
      "text/plain": [
       "True"
      ]
     },
     "execution_count": 12,
     "metadata": {},
     "output_type": "execute_result"
    }
   ],
   "source": [
    "True or True"
   ]
  },
  {
   "cell_type": "code",
   "execution_count": 13,
   "id": "198ebe44",
   "metadata": {},
   "outputs": [
    {
     "data": {
      "text/plain": [
       "False"
      ]
     },
     "execution_count": 13,
     "metadata": {},
     "output_type": "execute_result"
    }
   ],
   "source": [
    "True and False"
   ]
  },
  {
   "cell_type": "code",
   "execution_count": 14,
   "id": "32ff5b2d",
   "metadata": {},
   "outputs": [
    {
     "data": {
      "text/plain": [
       "True"
      ]
     },
     "execution_count": 14,
     "metadata": {},
     "output_type": "execute_result"
    }
   ],
   "source": [
    "True or False"
   ]
  },
  {
   "cell_type": "code",
   "execution_count": 25,
   "id": "d9c4288e",
   "metadata": {},
   "outputs": [
    {
     "data": {
      "text/plain": [
       "False"
      ]
     },
     "execution_count": 25,
     "metadata": {},
     "output_type": "execute_result"
    }
   ],
   "source": [
    "#and可以用&来表示\n",
    "False & False"
   ]
  },
  {
   "cell_type": "code",
   "execution_count": 26,
   "id": "3e9da061",
   "metadata": {},
   "outputs": [
    {
     "data": {
      "text/plain": [
       "False"
      ]
     },
     "execution_count": 26,
     "metadata": {},
     "output_type": "execute_result"
    }
   ],
   "source": [
    "#or可以用|来表示\n",
    "False | False"
   ]
  },
  {
   "cell_type": "code",
   "execution_count": 27,
   "id": "25988808",
   "metadata": {
    "scrolled": true
   },
   "outputs": [
    {
     "ename": "ZeroDivisionError",
     "evalue": "division by zero",
     "output_type": "error",
     "traceback": [
      "\u001b[1;31m---------------------------------------------------------------------------\u001b[0m",
      "\u001b[1;31mZeroDivisionError\u001b[0m                         Traceback (most recent call last)",
      "Cell \u001b[1;32mIn[27], line 2\u001b[0m\n\u001b[0;32m      1\u001b[0m \u001b[38;5;66;03m#False是0，0不能在分母\u001b[39;00m\n\u001b[1;32m----> 2\u001b[0m \u001b[38;5;28;01mTrue\u001b[39;00m\u001b[38;5;241m/\u001b[39m\u001b[38;5;28;01mFalse\u001b[39;00m\n",
      "\u001b[1;31mZeroDivisionError\u001b[0m: division by zero"
     ]
    }
   ],
   "source": [
    "#False是0，0不能在分母\n",
    "True/False"
   ]
  },
  {
   "cell_type": "code",
   "execution_count": 18,
   "id": "81ba7133",
   "metadata": {},
   "outputs": [
    {
     "data": {
      "text/plain": [
       "False"
      ]
     },
     "execution_count": 18,
     "metadata": {},
     "output_type": "execute_result"
    }
   ],
   "source": [
    "#加上not改成false\n",
    "game_paused=True\n",
    "not game_paused"
   ]
  },
  {
   "cell_type": "code",
   "execution_count": 36,
   "id": "676f5ce7",
   "metadata": {},
   "outputs": [
    {
     "data": {
      "text/plain": [
       "True"
      ]
     },
     "execution_count": 36,
     "metadata": {},
     "output_type": "execute_result"
    }
   ],
   "source": [
    "True and not False"
   ]
  },
  {
   "cell_type": "code",
   "execution_count": 37,
   "id": "87ee3762",
   "metadata": {},
   "outputs": [
    {
     "data": {
      "text/plain": [
       "True"
      ]
     },
     "execution_count": 37,
     "metadata": {},
     "output_type": "execute_result"
    }
   ],
   "source": [
    "True or not True"
   ]
  },
  {
   "cell_type": "code",
   "execution_count": 38,
   "id": "85fe12a5",
   "metadata": {},
   "outputs": [
    {
     "data": {
      "text/plain": [
       "True"
      ]
     },
     "execution_count": 38,
     "metadata": {},
     "output_type": "execute_result"
    }
   ],
   "source": [
    "#not优先级高，先运算not，不过也可以通过打括号提高优先级\n",
    "screen_active=True\n",
    "game_paused=False\n",
    "game_active=screen_active and (not game_paused)\n",
    "game_active"
   ]
  },
  {
   "cell_type": "code",
   "execution_count": 40,
   "id": "06df2973",
   "metadata": {},
   "outputs": [],
   "source": [
    "#None就是什么也没有\n",
    "if None:\n",
    "    print(None)"
   ]
  },
  {
   "cell_type": "code",
   "execution_count": 47,
   "id": "bddb83ac",
   "metadata": {},
   "outputs": [
    {
     "name": "stdout",
     "output_type": "stream",
     "text": [
      "Is computer=='lenovo'?I predict False.\n",
      "False\n",
      "\n",
      "Is computer=='mac'?I predict False.\n",
      "False\n",
      "\n",
      "Is computer=='dell'?I predict True.\n",
      "True\n"
     ]
    }
   ],
   "source": [
    "#练习5.1\n",
    "computer='dell'\n",
    "print(\"Is computer=='lenovo'?I predict False.\")\n",
    "print(computer=='lenovo')\n",
    "\n",
    "print(\"\\nIs computer=='mac'?I predict False.\")\n",
    "print(computer=='mac')\n",
    "\n",
    "print(\"\\nIs computer=='dell'?I predict True.\")\n",
    "print(computer=='dell')"
   ]
  },
  {
   "cell_type": "code",
   "execution_count": 48,
   "id": "d95636a1",
   "metadata": {},
   "outputs": [
    {
     "name": "stdout",
     "output_type": "stream",
     "text": [
      "Is lunch=='McDonald'?I predict True.\n",
      "True\n",
      "\n",
      "Is computer=='KFC'?I predict False.\n",
      "False\n"
     ]
    }
   ],
   "source": [
    "lunch='McDonald'\n",
    "print(\"Is lunch=='McDonald'?I predict True.\")\n",
    "print(lunch=='McDonald')\n",
    "\n",
    "print(\"\\nIs computer=='KFC'?I predict False.\")\n",
    "print(lunch=='KFC')"
   ]
  },
  {
   "cell_type": "code",
   "execution_count": 51,
   "id": "9f27c57b",
   "metadata": {},
   "outputs": [
    {
     "name": "stdout",
     "output_type": "stream",
     "text": [
      "Is 'huan' in roommates? I predict True.\n",
      "True\n",
      "\n",
      "Is 'zt' in roommates? I predict False.\n",
      "False\n"
     ]
    }
   ],
   "source": [
    "roommates=['huan','fly','yan','abi']\n",
    "print(\"Is 'huan' in roommates? I predict True.\")\n",
    "print('huan' in roommates)\n",
    "\n",
    "print(\"\\nIs 'zt' in roommates? I predict False.\")\n",
    "print('zt' in roommates)"
   ]
  },
  {
   "cell_type": "code",
   "execution_count": 54,
   "id": "70278f27",
   "metadata": {},
   "outputs": [
    {
     "name": "stdout",
     "output_type": "stream",
     "text": [
      "Is 'jk' not invited? I predict True.\n",
      "True\n",
      "\n",
      "Is 'bb' not invited? I predict False.\n",
      "False\n"
     ]
    }
   ],
   "source": [
    "invited=['ff','zz','bb']\n",
    "print(\"Is 'jk' not invited? I predict True.\")\n",
    "print('jk' not in invited)\n",
    "\n",
    "print(\"\\nIs 'bb' not invited? I predict False.\")\n",
    "print('bb' not in invited)"
   ]
  },
  {
   "cell_type": "code",
   "execution_count": 55,
   "id": "df0fa4d1",
   "metadata": {},
   "outputs": [
    {
     "name": "stdout",
     "output_type": "stream",
     "text": [
      "Is song!='attention'?I predict False.\n",
      "False\n",
      "\n",
      "Is song!='cookie'?I predict True.\n",
      "True\n"
     ]
    }
   ],
   "source": [
    "song='attention'\n",
    "print(\"Is song!='attention'?I predict False.\")\n",
    "print(song!='attention')\n",
    "\n",
    "print(\"\\nIs song!='cookie'?I predict True.\")\n",
    "print(song!='cookie')"
   ]
  },
  {
   "cell_type": "code",
   "execution_count": 56,
   "id": "90b88116",
   "metadata": {},
   "outputs": [
    {
     "data": {
      "text/plain": [
       "False"
      ]
     },
     "execution_count": 56,
     "metadata": {},
     "output_type": "execute_result"
    }
   ],
   "source": [
    "#练习5.2\n",
    "temperature_1=21\n",
    "temperature_2=25\n",
    "temperature_1==temperature_2"
   ]
  },
  {
   "cell_type": "code",
   "execution_count": 57,
   "id": "c675da74",
   "metadata": {},
   "outputs": [
    {
     "data": {
      "text/plain": [
       "False"
      ]
     },
     "execution_count": 57,
     "metadata": {},
     "output_type": "execute_result"
    }
   ],
   "source": [
    "temperature_1=21\n",
    "temperature_2=25\n",
    "temperature_1>=temperature_2"
   ]
  },
  {
   "cell_type": "code",
   "execution_count": 58,
   "id": "cbf9767a",
   "metadata": {},
   "outputs": [
    {
     "data": {
      "text/plain": [
       "True"
      ]
     },
     "execution_count": 58,
     "metadata": {},
     "output_type": "execute_result"
    }
   ],
   "source": [
    "temperature_1=21\n",
    "temperature_2=25\n",
    "temperature_1<=temperature_2"
   ]
  },
  {
   "cell_type": "code",
   "execution_count": 59,
   "id": "d5ef7db4",
   "metadata": {},
   "outputs": [
    {
     "data": {
      "text/plain": [
       "False"
      ]
     },
     "execution_count": 59,
     "metadata": {},
     "output_type": "execute_result"
    }
   ],
   "source": [
    "temperature_1=21\n",
    "temperature_2=25\n",
    "(temperature_1<=22) and (temperature_2>=28)"
   ]
  },
  {
   "cell_type": "code",
   "execution_count": 60,
   "id": "20cb7e36",
   "metadata": {},
   "outputs": [
    {
     "data": {
      "text/plain": [
       "True"
      ]
     },
     "execution_count": 60,
     "metadata": {},
     "output_type": "execute_result"
    }
   ],
   "source": [
    "temperature_1=21\n",
    "temperature_2=25\n",
    "(temperature_1<=22) or (temperature_2>=28)"
   ]
  },
  {
   "cell_type": "code",
   "execution_count": 61,
   "id": "1e9b47fb",
   "metadata": {},
   "outputs": [
    {
     "data": {
      "text/plain": [
       "True"
      ]
     },
     "execution_count": 61,
     "metadata": {},
     "output_type": "execute_result"
    }
   ],
   "source": [
    "name='Jade'\n",
    "name.lower()=='jade'"
   ]
  },
  {
   "cell_type": "markdown",
   "id": "dabc1ff4",
   "metadata": {},
   "source": [
    "# 5.3 if语句"
   ]
  },
  {
   "cell_type": "markdown",
   "id": "4235f52b",
   "metadata": {},
   "source": [
    "## 5.3.1 简单的if语句"
   ]
  },
  {
   "cell_type": "code",
   "execution_count": 63,
   "id": "0766dd69",
   "metadata": {},
   "outputs": [],
   "source": [
    "#if conditional_test:\n",
    "#    do something"
   ]
  },
  {
   "cell_type": "code",
   "execution_count": 64,
   "id": "7e907d45",
   "metadata": {},
   "outputs": [
    {
     "name": "stdout",
     "output_type": "stream",
     "text": [
      "You are old enough to vote!\n"
     ]
    }
   ],
   "source": [
    "age=19\n",
    "if age>=18:\n",
    "    print(\"You are old enough to vote!\")"
   ]
  },
  {
   "cell_type": "code",
   "execution_count": 66,
   "id": "799c4993",
   "metadata": {},
   "outputs": [
    {
     "name": "stdout",
     "output_type": "stream",
     "text": [
      "You are old enough to vote!\n",
      "Have you registered to vote yet?\n"
     ]
    }
   ],
   "source": [
    "#缩进作用与for循环中相同\n",
    "age=19\n",
    "if age>=18:\n",
    "    print(\"You are old enough to vote!\")\n",
    "    print(\"Have you registered to vote yet?\")"
   ]
  },
  {
   "cell_type": "markdown",
   "id": "460192b8",
   "metadata": {},
   "source": [
    "## 5.3.2 if-else语句"
   ]
  },
  {
   "cell_type": "code",
   "execution_count": 67,
   "id": "02c6e4cb",
   "metadata": {},
   "outputs": [
    {
     "name": "stdout",
     "output_type": "stream",
     "text": [
      "Sorry, you are too young to vote.\n",
      "Please register to vote as soon as you turn 18!\n"
     ]
    }
   ],
   "source": [
    "age=17\n",
    "if age>=18:\n",
    "    print(\"You are old enough to vote!\")\n",
    "    print(\"Have you registered to vote yet?\")\n",
    "else:\n",
    "    print(\"Sorry, you are too young to vote.\")\n",
    "    print(\"Please register to vote as soon as you turn 18!\")"
   ]
  },
  {
   "cell_type": "markdown",
   "id": "4859147c",
   "metadata": {},
   "source": [
    "## 5.3.3 if-elif-else语句"
   ]
  },
  {
   "cell_type": "code",
   "execution_count": 68,
   "id": "d9736c4d",
   "metadata": {},
   "outputs": [
    {
     "name": "stdout",
     "output_type": "stream",
     "text": [
      "Your admission cost is $25.\n"
     ]
    }
   ],
   "source": [
    "#依次检查每个条件测试，直到遇到通过了的。并跳过余下的条件测试\n",
    "age=12\n",
    "if age<4:\n",
    "    print(\"Your admission cost is $0.\")\n",
    "elif age<18:\n",
    "    print(\"Your admission cost is $25.\")\n",
    "else:\n",
    "    print(\"Your admission cost is $40.\")"
   ]
  },
  {
   "cell_type": "code",
   "execution_count": 69,
   "id": "dc1cd397",
   "metadata": {},
   "outputs": [
    {
     "name": "stdout",
     "output_type": "stream",
     "text": [
      "Your admission cost is $25.\n"
     ]
    }
   ],
   "source": [
    "#更简洁\n",
    "age=12\n",
    "\n",
    "if age<4:\n",
    "    price=0\n",
    "elif age<18:\n",
    "    price=25\n",
    "else:\n",
    "    price=40\n",
    "\n",
    "print(f\"Your admission cost is ${price}.\")"
   ]
  },
  {
   "cell_type": "markdown",
   "id": "f77119d0",
   "metadata": {},
   "source": [
    "## 5.3.4 使用多个elif代码块"
   ]
  },
  {
   "cell_type": "code",
   "execution_count": 70,
   "id": "76a50bcd",
   "metadata": {},
   "outputs": [
    {
     "name": "stdout",
     "output_type": "stream",
     "text": [
      "Your admission cost is $25.\n"
     ]
    }
   ],
   "source": [
    "age=12\n",
    "\n",
    "if age<4:\n",
    "    price=0\n",
    "elif age<18:\n",
    "    price=25\n",
    "#前面的条件已经被执行\n",
    "elif age<65:\n",
    "    price=40\n",
    "else:\n",
    "    price=20\n",
    "\n",
    "print(f\"Your admission cost is ${price}.\")"
   ]
  },
  {
   "cell_type": "markdown",
   "id": "90d4ff0a",
   "metadata": {},
   "source": [
    "## 5.3.5 省略else代码块"
   ]
  },
  {
   "cell_type": "code",
   "execution_count": 71,
   "id": "d3e9ef4c",
   "metadata": {},
   "outputs": [
    {
     "name": "stdout",
     "output_type": "stream",
     "text": [
      "Your admission cost is $25.\n"
     ]
    }
   ],
   "source": [
    "age=12\n",
    "\n",
    "if age<4:\n",
    "    price=0\n",
    "elif age<18:\n",
    "    price=25\n",
    "elif age<65:\n",
    "    price=40\n",
    "elif age>=65:\n",
    "    price=20\n",
    "    \n",
    "print(f\"Your admission cost is ${price}.\")"
   ]
  },
  {
   "cell_type": "markdown",
   "id": "6e050a16",
   "metadata": {},
   "source": [
    "## 5.3.6 测试多个条件"
   ]
  },
  {
   "cell_type": "code",
   "execution_count": 72,
   "id": "9b42a99e",
   "metadata": {},
   "outputs": [
    {
     "name": "stdout",
     "output_type": "stream",
     "text": [
      "Adding mushrooms.\n",
      "Adding extra cheese.\n",
      "\n",
      "Finished making your pizza!\n"
     ]
    }
   ],
   "source": [
    "#if-elif-else只能测试一个条件\n",
    "requested_toppings=['mushrooms','extra cheese']\n",
    "\n",
    "if 'mushrooms' in requested_toppings:\n",
    "    print(\"Adding mushrooms.\")\n",
    "if 'pepperoni' in requested_toppings:\n",
    "    print(\"Adding pepperoni.\")\n",
    "if 'extra cheese' in requested_toppings:\n",
    "    print(\"Adding extra cheese.\")\n",
    "    \n",
    "print(\"\\nFinished making your pizza!\")"
   ]
  },
  {
   "cell_type": "code",
   "execution_count": 74,
   "id": "95fe734b",
   "metadata": {},
   "outputs": [
    {
     "name": "stdout",
     "output_type": "stream",
     "text": [
      "Adding mushrooms.\n",
      "\n",
      "Finished making your pizza!\n"
     ]
    }
   ],
   "source": [
    "requested_toppings=['mushrooms','extra cheese']\n",
    "\n",
    "#如果用elif就会跳过余下的条件测试，不符目的\n",
    "if 'mushrooms' in requested_toppings:\n",
    "    print(\"Adding mushrooms.\")\n",
    "elif 'pepperoni' in requested_toppings:\n",
    "    print(\"Adding pepperoni.\")\n",
    "elif 'extra cheese' in requested_toppings:\n",
    "    print(\"Adding extra cheese.\")\n",
    "    \n",
    "print(\"\\nFinished making your pizza!\")"
   ]
  },
  {
   "cell_type": "code",
   "execution_count": 80,
   "id": "7064b7fe",
   "metadata": {},
   "outputs": [
    {
     "name": "stdout",
     "output_type": "stream",
     "text": [
      "You get 5 points!\n"
     ]
    }
   ],
   "source": [
    "#练习5.3\n",
    "alien_color='green'\n",
    "if alien_color=='green':\n",
    "    print(\"You get 5 points!\")"
   ]
  },
  {
   "cell_type": "code",
   "execution_count": 84,
   "id": "3e0466b0",
   "metadata": {},
   "outputs": [],
   "source": [
    "alien_color='yellow'\n",
    "if alien_color=='green':\n",
    "    print(\"You get 5 points!\")"
   ]
  },
  {
   "cell_type": "code",
   "execution_count": 83,
   "id": "5a5da2d7",
   "metadata": {},
   "outputs": [
    {
     "name": "stdout",
     "output_type": "stream",
     "text": [
      "You get 10 points!\n"
     ]
    }
   ],
   "source": [
    "#练习5.4\n",
    "alien_color='red'\n",
    "if alien_color=='green':\n",
    "    print(\"You get 5 points!\")\n",
    "else:\n",
    "    print(\"You get 10 points!\")"
   ]
  },
  {
   "cell_type": "code",
   "execution_count": 85,
   "id": "1109d03f",
   "metadata": {},
   "outputs": [
    {
     "name": "stdout",
     "output_type": "stream",
     "text": [
      "You get 5 points!\n"
     ]
    }
   ],
   "source": [
    "alien_color='green'\n",
    "if alien_color=='green':\n",
    "    print(\"You get 5 points!\")\n",
    "else:\n",
    "    print(\"You get 10 points!\")"
   ]
  },
  {
   "cell_type": "code",
   "execution_count": 86,
   "id": "45f82887",
   "metadata": {},
   "outputs": [
    {
     "name": "stdout",
     "output_type": "stream",
     "text": [
      "You get 5 points!\n"
     ]
    }
   ],
   "source": [
    "#练习5.5\n",
    "alien_color='green'\n",
    "if alien_color=='green':\n",
    "    print(\"You get 5 points!\")\n",
    "elif alien_color=='yellow':\n",
    "    print(\"You get 10 points!\")\n",
    "elif alien_color=='red':\n",
    "    print(\"You get 15 points!\")"
   ]
  },
  {
   "cell_type": "code",
   "execution_count": 87,
   "id": "33ffc3ca",
   "metadata": {},
   "outputs": [
    {
     "name": "stdout",
     "output_type": "stream",
     "text": [
      "You get 10 points!\n"
     ]
    }
   ],
   "source": [
    "alien_color='yellow'\n",
    "if alien_color=='green':\n",
    "    print(\"You get 5 points!\")\n",
    "elif alien_color=='yellow':\n",
    "    print(\"You get 10 points!\")\n",
    "elif alien_color=='red':\n",
    "    print(\"You get 15 points!\")"
   ]
  },
  {
   "cell_type": "code",
   "execution_count": 88,
   "id": "ed2f0f08",
   "metadata": {},
   "outputs": [
    {
     "name": "stdout",
     "output_type": "stream",
     "text": [
      "You get 15 points!\n"
     ]
    }
   ],
   "source": [
    "alien_color='red'\n",
    "if alien_color=='green':\n",
    "    print(\"You get 5 points!\")\n",
    "elif alien_color=='yellow':\n",
    "    print(\"You get 10 points!\")\n",
    "elif alien_color=='red':\n",
    "    print(\"You get 15 points!\")"
   ]
  },
  {
   "cell_type": "code",
   "execution_count": 89,
   "id": "fbfe7d5d",
   "metadata": {},
   "outputs": [
    {
     "name": "stdout",
     "output_type": "stream",
     "text": [
      "This people is a middle-aged people.\n"
     ]
    }
   ],
   "source": [
    "#练习5.6\n",
    "age=20\n",
    "\n",
    "if age<2:\n",
    "    people='baby'\n",
    "elif 2<=age<4:\n",
    "    people='kindergarten'\n",
    "elif 4<=age<13:\n",
    "    people='child'\n",
    "elif 13<=age<18:\n",
    "    people='juvenile'\n",
    "elif 18<=age<65:\n",
    "    people='middle-aged people'\n",
    "elif age>=65:\n",
    "    people='old people'\n",
    "    \n",
    "print(f\"This people is a {people}.\")"
   ]
  },
  {
   "cell_type": "code",
   "execution_count": 90,
   "id": "5095efc5",
   "metadata": {},
   "outputs": [
    {
     "name": "stdout",
     "output_type": "stream",
     "text": [
      "You really like oranges!\n",
      "You really like cherries!\n",
      "You really like peaches!\n"
     ]
    }
   ],
   "source": [
    "#练习5.7\n",
    "favourite_fruits=['orange','cherry','peach']\n",
    "if 'orange' in favourite_fruits:\n",
    "    print(\"You really like oranges!\")\n",
    "if 'cherry' in favourite_fruits:\n",
    "    print(\"You really like cherries!\")\n",
    "if 'peach' in favourite_fruits:\n",
    "    print(\"You really like peaches!\")"
   ]
  },
  {
   "cell_type": "markdown",
   "id": "f765f220",
   "metadata": {},
   "source": [
    "# 5.4 使用if语句处理列表"
   ]
  },
  {
   "cell_type": "markdown",
   "id": "764f72d2",
   "metadata": {},
   "source": [
    "## 5.4.1 检查特殊元素"
   ]
  },
  {
   "cell_type": "code",
   "execution_count": 91,
   "id": "a700b3f6",
   "metadata": {},
   "outputs": [
    {
     "name": "stdout",
     "output_type": "stream",
     "text": [
      "Adding mushrooms.\n",
      "Adding green peppers.\n",
      "Adding extra cheese.\n",
      "\n",
      "Finished making your pizza!\n"
     ]
    }
   ],
   "source": [
    "requested_toppings=['mushrooms','green peppers','extra cheese']\n",
    "\n",
    "for requested_topping in requested_toppings:\n",
    "    print(f\"Adding {requested_topping}.\")\n",
    "    \n",
    "print(\"\\nFinished making your pizza!\")"
   ]
  },
  {
   "cell_type": "code",
   "execution_count": 92,
   "id": "406745e1",
   "metadata": {},
   "outputs": [
    {
     "name": "stdout",
     "output_type": "stream",
     "text": [
      "Adding mushrooms.\n",
      "Sorry, we are out of green peppers right now.\n",
      "Adding extra cheese.\n",
      "\n",
      "Finished making your pizza!\n"
     ]
    }
   ],
   "source": [
    "requested_toppings=['mushrooms','green peppers','extra cheese']\n",
    "\n",
    "for requested_topping in requested_toppings:\n",
    "    if requested_topping=='green peppers':\n",
    "        print(\"Sorry, we are out of green peppers right now.\")\n",
    "    else:\n",
    "         print(f\"Adding {requested_topping}.\")\n",
    "    \n",
    "print(\"\\nFinished making your pizza!\")"
   ]
  },
  {
   "cell_type": "markdown",
   "id": "ea5aab64",
   "metadata": {},
   "source": [
    "## 5.4.2 确定列表非空"
   ]
  },
  {
   "cell_type": "code",
   "execution_count": 94,
   "id": "29c96c54",
   "metadata": {},
   "outputs": [
    {
     "name": "stdout",
     "output_type": "stream",
     "text": [
      "Are you sure you want a plain pizza?\n"
     ]
    }
   ],
   "source": [
    "requested_toppings=[]\n",
    "\n",
    "#if将列表名用作条件表达式\n",
    "#列表至少包含一个元素时返回 True，在列表为空时返回 False\n",
    "#0、None、''、\"\"、[]、()、{}都是False\n",
    "if requested_toppings:\n",
    "    for requested_topping in requested_toppings:\n",
    "        print(f\"Adding {requested_topping}.\")\n",
    "    print(\"\\nFinished making your pizza!\")\n",
    "else:\n",
    "    print(\"Are you sure you want a plain pizza?\")"
   ]
  },
  {
   "cell_type": "markdown",
   "id": "e07548cf",
   "metadata": {},
   "source": [
    "## 5.4.3 使用多个列表"
   ]
  },
  {
   "cell_type": "code",
   "execution_count": 95,
   "id": "df6a3705",
   "metadata": {},
   "outputs": [
    {
     "name": "stdout",
     "output_type": "stream",
     "text": [
      "Adding mushrooms.\n",
      "Sorry, we don't have french fries.\n",
      "Adding extra cheese.\n",
      "\n",
      "Finished making your pizza!\n"
     ]
    }
   ],
   "source": [
    "available_toppings=['mushrooms','olives','green peppers',\n",
    "                    'pepperoni','pineapple','extra cheese']\n",
    "requested_toppings=['mushrooms','french fries','extra cheese']\n",
    "\n",
    "for requested_topping in requested_toppings:\n",
    "    if requested_topping in available_toppings:\n",
    "        print(f\"Adding {requested_topping}.\")\n",
    "    else:\n",
    "        print(f\"Sorry, we don't have {requested_topping}.\")\n",
    "\n",
    "print(\"\\nFinished making your pizza!\")"
   ]
  },
  {
   "cell_type": "code",
   "execution_count": 97,
   "id": "13664b3e",
   "metadata": {},
   "outputs": [
    {
     "name": "stdout",
     "output_type": "stream",
     "text": [
      "Hello admin, would you like to see a status report?\n",
      "Hello olivia, thank you for logging in again.\n",
      "Hello jenny, thank you for logging in again.\n",
      "Hello kate, thank you for logging in again.\n",
      "Hello peter, thank you for logging in again.\n"
     ]
    }
   ],
   "source": [
    "#练习5.8\n",
    "names=['admin','olivia','jenny','kate','peter']\n",
    "for name in names:\n",
    "    if name=='admin':\n",
    "        print(\"Hello admin, would you like to see a status report?\")\n",
    "    else:\n",
    "        print(f\"Hello {name}, thank you for logging in again.\")"
   ]
  },
  {
   "cell_type": "code",
   "execution_count": 98,
   "id": "f6db6c01",
   "metadata": {},
   "outputs": [
    {
     "name": "stdout",
     "output_type": "stream",
     "text": [
      "Hello admin, would you like to see a status report?\n",
      "Hello olivia, thank you for logging in again.\n",
      "Hello jenny, thank you for logging in again.\n",
      "Hello kate, thank you for logging in again.\n",
      "Hello peter, thank you for logging in again.\n"
     ]
    }
   ],
   "source": [
    "#练习5.9\n",
    "names=['admin','olivia','jenny','kate','peter']\n",
    "\n",
    "if names:\n",
    "    for name in names:\n",
    "        if name=='admin':\n",
    "            print(\"Hello admin, would you like to see a status report?\")\n",
    "        else:\n",
    "            print(f\"Hello {name}, thank you for logging in again.\")\n",
    "else:\n",
    "    print(\"We need to find some users!\")"
   ]
  },
  {
   "cell_type": "code",
   "execution_count": 99,
   "id": "f7d66363",
   "metadata": {},
   "outputs": [
    {
     "name": "stdout",
     "output_type": "stream",
     "text": [
      "We need to find some users!\n"
     ]
    }
   ],
   "source": [
    "names=[]\n",
    "\n",
    "if names:\n",
    "    for name in names:\n",
    "        if name=='admin':\n",
    "            print(\"Hello admin, would you like to see a status report?\")\n",
    "        else:\n",
    "            print(f\"Hello {name}, thank you for logging in again.\")\n",
    "else:\n",
    "    print(\"We need to find some users!\")"
   ]
  },
  {
   "cell_type": "code",
   "execution_count": 102,
   "id": "09e6b2e0",
   "metadata": {},
   "outputs": [
    {
     "name": "stdout",
     "output_type": "stream",
     "text": [
      "jade, this name hasn't been used.\n",
      "olivia, you need to choose another name!\n",
      "wendy, this name hasn't been used.\n",
      "peter, you need to choose another name!\n",
      "alice, this name hasn't been used.\n"
     ]
    }
   ],
   "source": [
    "#练习5.10\n",
    "current_users=['admin','olivia','jenny','kate','peter']\n",
    "new_users=['jade','olivia','wendy','peter','alice']\n",
    "\n",
    "for new_user in new_users:\n",
    "    if new_user in current_users:\n",
    "        print(f\"{new_user}, you need to choose another name!\")\n",
    "    else:\n",
    "        print(f\"{new_user}, this name hasn't been used.\")"
   ]
  },
  {
   "cell_type": "code",
   "execution_count": 111,
   "id": "536ab455",
   "metadata": {},
   "outputs": [
    {
     "name": "stdout",
     "output_type": "stream",
     "text": [
      "1st\n",
      "2nd\n",
      "3rd\n",
      "4th\n",
      "5th\n",
      "6th\n",
      "7th\n",
      "8th\n",
      "9th\n"
     ]
    }
   ],
   "source": [
    "#练习5.11\n",
    "numbers=range(1,10)\n",
    "for number in numbers:\n",
    "    if number==1:\n",
    "        print(\"1st\")\n",
    "    elif number==2:\n",
    "        print(\"2nd\")\n",
    "    elif number==3:\n",
    "        print(\"3rd\")\n",
    "    else:\n",
    "        print(f\"{number}th\")"
   ]
  },
  {
   "cell_type": "markdown",
   "id": "535ab7d6",
   "metadata": {},
   "source": [
    "# 5.5 设置if语句的格式"
   ]
  },
  {
   "cell_type": "code",
   "execution_count": null,
   "id": "f5ceaca5",
   "metadata": {},
   "outputs": [],
   "source": [
    "#在运算符两边各添加一个空格更好\n",
    "if age < 4\n",
    "if age<4"
   ]
  },
  {
   "cell_type": "code",
   "execution_count": null,
   "id": "4d1f1a4f",
   "metadata": {},
   "outputs": [],
   "source": []
  }
 ],
 "metadata": {
  "kernelspec": {
   "display_name": "Python 3 (ipykernel)",
   "language": "python",
   "name": "python3"
  },
  "language_info": {
   "codemirror_mode": {
    "name": "ipython",
    "version": 3
   },
   "file_extension": ".py",
   "mimetype": "text/x-python",
   "name": "python",
   "nbconvert_exporter": "python",
   "pygments_lexer": "ipython3",
   "version": "3.11.5"
  },
  "toc": {
   "base_numbering": "",
   "nav_menu": {},
   "number_sections": false,
   "sideBar": true,
   "skip_h1_title": false,
   "title_cell": "Table of Contents",
   "title_sidebar": "Contents",
   "toc_cell": false,
   "toc_position": {
    "height": "calc(100% - 180px)",
    "left": "10px",
    "top": "150px",
    "width": "256px"
   },
   "toc_section_display": true,
   "toc_window_display": false
  }
 },
 "nbformat": 4,
 "nbformat_minor": 5
}
