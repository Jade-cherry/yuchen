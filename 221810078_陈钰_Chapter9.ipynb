{
 "cells": [
  {
   "cell_type": "markdown",
   "id": "c1fb042f",
   "metadata": {},
   "source": [
    "# 9.1  创建和使用类"
   ]
  },
  {
   "cell_type": "markdown",
   "id": "71820e4f",
   "metadata": {},
   "source": [
    "## 9.1.1 创建Dog类"
   ]
  },
  {
   "cell_type": "code",
   "execution_count": 16,
   "id": "06b5b29e",
   "metadata": {
    "ExecuteTime": {
     "end_time": "2024-05-08T09:09:51.483803Z",
     "start_time": "2024-05-08T09:09:51.478593Z"
    }
   },
   "outputs": [],
   "source": [
    "#根据Dog类创建的每个实例存储名字和年龄，并且会坐下和打滚的能力\n",
    "class Dog:\n",
    "    \"\"\"一次模拟小狗的简单尝试\"\"\"\n",
    "    \n",
    "    def __init__(self, name, age):\n",
    "        \"\"\"初始化属性 name和age\"\"\"\n",
    "        self.name=name\n",
    "        self.age=age\n",
    "        \n",
    "    #__init__()方法：类中的函数称为方法，此为一个特殊方法；开头末尾各有两个下划线\n",
    "    #形参self必不可少，创建实例时自动传入实参self，该实参是一个指向实例本身的引用\n",
    "    #只需给name和age两个形参提供值\n",
    "    #self前缀的变量可通过类的任意实例来访问；可通过实例访问的变量称为属性\n",
    "    \n",
    "    def sit(self):\n",
    "        \"\"\"模拟小狗收到命令时坐下\"\"\"\n",
    "        print(f\"{self.name} is now sitting.\")\n",
    "        \n",
    "    def roll_over(self):\n",
    "        \"\"\"模拟小狗收到命令时打滚\"\"\"\n",
    "        print(f\"{self.name} rolled over!\")"
   ]
  },
  {
   "cell_type": "markdown",
   "id": "89271d40",
   "metadata": {},
   "source": [
    "## 9.1.2 根据类创建实例"
   ]
  },
  {
   "cell_type": "markdown",
   "id": "da6921ab",
   "metadata": {},
   "source": [
    "### 访问属性"
   ]
  },
  {
   "cell_type": "code",
   "execution_count": 13,
   "id": "e02c51bd",
   "metadata": {
    "ExecuteTime": {
     "end_time": "2024-05-08T08:57:59.210228Z",
     "start_time": "2024-05-08T08:57:59.204316Z"
    }
   },
   "outputs": [
    {
     "name": "stdout",
     "output_type": "stream",
     "text": [
      "My dog's name is Willie.\n",
      "My dog is 6 years old.\n"
     ]
    }
   ],
   "source": [
    "#创建实例，将这个实例赋给变量my_dog\n",
    "my_dog=Dog('Willie', 6)\n",
    "#要访问实例的属性，就使用点号\n",
    "print(f\"My dog's name is {my_dog.name}.\")\n",
    "print(f\"My dog is {my_dog.age} years old.\")"
   ]
  },
  {
   "cell_type": "markdown",
   "id": "f2ca58d0",
   "metadata": {},
   "source": [
    "### 调用方法"
   ]
  },
  {
   "cell_type": "code",
   "execution_count": 14,
   "id": "0c1f59a2",
   "metadata": {
    "ExecuteTime": {
     "end_time": "2024-05-08T08:59:57.468941Z",
     "start_time": "2024-05-08T08:59:57.465720Z"
    }
   },
   "outputs": [
    {
     "name": "stdout",
     "output_type": "stream",
     "text": [
      "Willie is now sitting.\n",
      "Willie rolled over!\n"
     ]
    }
   ],
   "source": [
    "my_dog.sit()\n",
    "my_dog.roll_over()"
   ]
  },
  {
   "cell_type": "markdown",
   "id": "c6a6de0b",
   "metadata": {},
   "source": [
    "### 创建多个实例"
   ]
  },
  {
   "cell_type": "code",
   "execution_count": 15,
   "id": "94eecc58",
   "metadata": {
    "ExecuteTime": {
     "end_time": "2024-05-08T09:06:31.398925Z",
     "start_time": "2024-05-08T09:06:31.392726Z"
    }
   },
   "outputs": [
    {
     "name": "stdout",
     "output_type": "stream",
     "text": [
      "My dog's name is Willie.\n",
      "My dog is 6 years old.\n",
      "Willie is now sitting.\n",
      "\n",
      "Your dog's name is Lucy.\n",
      "Your dog is 3 years old.\n",
      "Lucy is now sitting.\n"
     ]
    }
   ],
   "source": [
    "#可按需求创建任意数量的实例\n",
    "my_dog=Dog('Willie', 6)\n",
    "your_dog=Dog('Lucy', 3)\n",
    "\n",
    "print(f\"My dog's name is {my_dog.name}.\")\n",
    "print(f\"My dog is {my_dog.age} years old.\")\n",
    "my_dog.sit()\n",
    "\n",
    "print(f\"\\nYour dog's name is {your_dog.name}.\")\n",
    "print(f\"Your dog is {your_dog.age} years old.\")\n",
    "your_dog.sit()"
   ]
  },
  {
   "cell_type": "markdown",
   "id": "9910278d",
   "metadata": {},
   "source": [
    "### 练习9.1 餐馆"
   ]
  },
  {
   "cell_type": "code",
   "execution_count": 40,
   "id": "305711bf",
   "metadata": {
    "ExecuteTime": {
     "end_time": "2024-05-08T11:44:01.358582Z",
     "start_time": "2024-05-08T11:44:01.351066Z"
    }
   },
   "outputs": [
    {
     "name": "stdout",
     "output_type": "stream",
     "text": [
      "Healthy Restaurant\n",
      "Chinese food\n",
      "The restaurant's name is Healthy Restaurant.\n",
      "The restaurant provides Chinese food\n",
      "The restaurant is open.\n"
     ]
    }
   ],
   "source": [
    "class Restaurant:\n",
    "    \"\"\"一次模拟餐馆的简单尝试\"\"\"\n",
    "    \n",
    "    def __init__(self,restaurant_name, cuisine_type):\n",
    "        \"\"\"初始化属性\"\"\"\n",
    "        self.restaurant_name=restaurant_name\n",
    "        self.cuisine_type=cuisine_type\n",
    "        \n",
    "    def describe_restaurant(self):\n",
    "        \"\"\"打印餐馆基本信息\"\"\"\n",
    "        print(f\"The restaurant's name is {self.restaurant_name}.\")\n",
    "        print(f\"The restaurant provides {self.cuisine_type}\")\n",
    "        \n",
    "    def open_restaurant(self):\n",
    "        \"\"\"模拟餐馆正在营业\"\"\"\n",
    "        print(\"The restaurant is open.\")\n",
    "        \n",
    "restaurant=Restaurant('Healthy Restaurant', 'Chinese food')\n",
    "print(restaurant.restaurant_name)\n",
    "print(restaurant.cuisine_type)\n",
    "\n",
    "restaurant.describe_restaurant()\n",
    "restaurant.open_restaurant()"
   ]
  },
  {
   "cell_type": "markdown",
   "id": "c773261a",
   "metadata": {},
   "source": [
    "### 练习9.2 三家餐馆"
   ]
  },
  {
   "cell_type": "code",
   "execution_count": 34,
   "id": "1f4c2f48",
   "metadata": {
    "ExecuteTime": {
     "end_time": "2024-05-08T11:07:33.745282Z",
     "start_time": "2024-05-08T11:07:33.739631Z"
    }
   },
   "outputs": [
    {
     "name": "stdout",
     "output_type": "stream",
     "text": [
      "The restaurant's name is Le Bonivant.\n",
      "The restaurant provides French food\n",
      "The restaurant's name is Sushi buffet.\n",
      "The restaurant provides Japanese food\n",
      "The restaurant's name is The Great Burger.\n",
      "The restaurant provides hamburger\n"
     ]
    }
   ],
   "source": [
    "restaurant_1=Restaurant('Le Bonivant','French food')\n",
    "restaurant_2=Restaurant('Sushi buffet','Japanese food')\n",
    "restaurant_3=Restaurant('The Great Burger','hamburger')\n",
    "\n",
    "restaurant_1.describe_restaurant()\n",
    "restaurant_2.describe_restaurant()\n",
    "restaurant_3.describe_restaurant()"
   ]
  },
  {
   "cell_type": "markdown",
   "id": "8fe8a958",
   "metadata": {},
   "source": [
    "### 练习9.3 用户"
   ]
  },
  {
   "cell_type": "code",
   "execution_count": 44,
   "id": "6d15c851",
   "metadata": {
    "ExecuteTime": {
     "end_time": "2024-05-08T11:47:20.677303Z",
     "start_time": "2024-05-08T11:47:20.669134Z"
    }
   },
   "outputs": [
    {
     "name": "stdout",
     "output_type": "stream",
     "text": [
      "\n",
      "User's name is Jade Chen\n",
      "User is 20 years old.\n",
      "User lives in nanjing\n",
      "Hello! jade chen\n",
      "\n",
      "User's name is Kate John\n",
      "User is 35 years old.\n",
      "User lives in new york\n",
      "Hello! kate john\n",
      "\n",
      "User's name is Ruby Grande\n",
      "User is 18 years old.\n",
      "User lives in tokyo\n",
      "Hello! ruby grande\n"
     ]
    }
   ],
   "source": [
    "class User:\n",
    "    def __init__(self, first_name, last_name, age, location):\n",
    "        self.f_name=first_name\n",
    "        self.l_name=last_name\n",
    "        self.age=age\n",
    "        self.location=location\n",
    "        \n",
    "    def describe_user(self):\n",
    "        full_name=f\"{self.f_name} {self.l_name}\"\n",
    "        print(f\"\\nUser's name is {full_name.title()}\")\n",
    "        print(f\"User is {self.age} years old.\")\n",
    "        print(f\"User lives in {self.location}\")\n",
    "    \n",
    "    def greet_user(self):\n",
    "        print(f\"Hello! {self.f_name} {self.l_name}\")\n",
    "        \n",
    "user_0=User('jade', 'chen', 20, 'nanjing')\n",
    "user_1=User('kate', 'john', 35, 'new york')\n",
    "user_2=User('ruby', 'grande',18, 'tokyo' )\n",
    "\n",
    "user_0.describe_user()\n",
    "user_0.greet_user()\n",
    "user_1.describe_user()\n",
    "user_1.greet_user()\n",
    "user_2.describe_user()\n",
    "user_2.greet_user()"
   ]
  },
  {
   "cell_type": "markdown",
   "id": "e1c2b8c8",
   "metadata": {},
   "source": [
    "## 9.2 使用类和实例"
   ]
  },
  {
   "cell_type": "markdown",
   "id": "08c438ce",
   "metadata": {},
   "source": [
    "## 9.2.1 Car类"
   ]
  },
  {
   "cell_type": "code",
   "execution_count": 45,
   "id": "c1027e29",
   "metadata": {
    "ExecuteTime": {
     "end_time": "2024-05-08T11:48:53.951500Z",
     "start_time": "2024-05-08T11:48:53.946717Z"
    }
   },
   "outputs": [
    {
     "name": "stdout",
     "output_type": "stream",
     "text": [
      "2024 Audi A4\n"
     ]
    }
   ],
   "source": [
    "class Car:\n",
    "    \"\"\"一次模拟汽车的简单尝试\"\"\"\n",
    "    \n",
    "    def __init__(self, make, model, year):\n",
    "        \"\"\"初始化描述汽车的属性\"\"\"\n",
    "        self.make=make\n",
    "        self.model=model\n",
    "        self.year=year\n",
    "        \n",
    "    def get_descriptive_name(self):\n",
    "        \"\"\"返回格式规范的描述性信息\"\"\"\n",
    "        long_name=f\"{self.year} {self.make} {self.model}\"\n",
    "        return long_name.title()\n",
    "    \n",
    "my_new_car=Car('audi', 'a4', 2024)\n",
    "print(my_new_car.get_descriptive_name())"
   ]
  },
  {
   "cell_type": "markdown",
   "id": "5b229e65",
   "metadata": {},
   "source": [
    "## 9.2.2 给属性指定默认值"
   ]
  },
  {
   "cell_type": "code",
   "execution_count": 46,
   "id": "ab227234",
   "metadata": {
    "ExecuteTime": {
     "end_time": "2024-05-08T12:21:36.835941Z",
     "start_time": "2024-05-08T12:21:36.828564Z"
    }
   },
   "outputs": [
    {
     "name": "stdout",
     "output_type": "stream",
     "text": [
      "2024 Audi A4\n",
      "This car has 0 miles on it.\n"
     ]
    }
   ],
   "source": [
    "class Car:\n",
    "    \"\"\"一次模拟汽车的简单尝试\"\"\"\n",
    "    \n",
    "    def __init__(self, make, model, year):\n",
    "        \"\"\"初始化描述汽车的属性\"\"\"\n",
    "        self.make=make\n",
    "        self.model=model\n",
    "        self.year=year\n",
    "        self.odometer_reading=0\n",
    "        \n",
    "    def get_descriptive_name(self):\n",
    "        \"\"\"返回格式规范的描述性信息\"\"\"\n",
    "        long_name=f\"{self.year} {self.make} {self.model}\"\n",
    "        return long_name.title()\n",
    "    \n",
    "    def read_odometer(self):\n",
    "        \"\"\"打印一条指出汽车行驶里程的消息\"\"\"\n",
    "        print(f\"This car has {self.odometer_reading} miles on it.\")\n",
    "        \n",
    "my_new_car=Car('audi', 'a4', 2024)\n",
    "print(my_new_car.get_descriptive_name())\n",
    "my_new_car.read_odometer()"
   ]
  },
  {
   "cell_type": "markdown",
   "id": "53efbed3",
   "metadata": {},
   "source": [
    "## 9.2.3 修改属性的值"
   ]
  },
  {
   "cell_type": "markdown",
   "id": "a789b403",
   "metadata": {},
   "source": [
    "### 直接修改属性的值"
   ]
  },
  {
   "cell_type": "code",
   "execution_count": 47,
   "id": "4f5f39e3",
   "metadata": {
    "ExecuteTime": {
     "end_time": "2024-05-08T12:43:57.572901Z",
     "start_time": "2024-05-08T12:43:57.565921Z"
    }
   },
   "outputs": [
    {
     "name": "stdout",
     "output_type": "stream",
     "text": [
      "2024 Audi A4\n",
      "This car has 23 miles on it.\n"
     ]
    }
   ],
   "source": [
    "#要修改属性的值，最简单的方式是通过实例直接访问它\n",
    "my_new_car=Car('audi','a4',2024)\n",
    "print(my_new_car.get_descriptive_name())\n",
    "\n",
    "my_new_car.odometer_reading=23\n",
    "my_new_car.read_odometer()"
   ]
  },
  {
   "cell_type": "markdown",
   "id": "a7ab4a9a",
   "metadata": {},
   "source": [
    "### 通过方法修改属性的值"
   ]
  },
  {
   "cell_type": "code",
   "execution_count": 49,
   "id": "15ef02dd",
   "metadata": {
    "ExecuteTime": {
     "end_time": "2024-05-08T12:48:44.447605Z",
     "start_time": "2024-05-08T12:48:44.432213Z"
    }
   },
   "outputs": [
    {
     "name": "stdout",
     "output_type": "stream",
     "text": [
      "2024 Audi A4\n",
      "This car has 23 miles on it.\n"
     ]
    }
   ],
   "source": [
    "#无须直接访问属性，而是可将值传递给方法，由它在内部进行更新\n",
    "class Car:\n",
    "    \"\"\"一次模拟汽车的简单尝试\"\"\"\n",
    "    \n",
    "    def __init__(self, make, model, year):\n",
    "        \"\"\"初始化描述汽车的属性\"\"\"\n",
    "        self.make=make\n",
    "        self.model=model\n",
    "        self.year=year\n",
    "        self.odometer_reading=0\n",
    "        \n",
    "    def get_descriptive_name(self):\n",
    "        \"\"\"返回格式规范的描述性信息\"\"\"\n",
    "        long_name=f\"{self.year} {self.make} {self.model}\"\n",
    "        return long_name.title()\n",
    "    \n",
    "    def read_odometer(self):\n",
    "        \"\"\"打印一条指出汽车行驶里程的消息\"\"\"\n",
    "        print(f\"This car has {self.odometer_reading} miles on it.\")\n",
    "        \n",
    "    def update_odometer(self, mileage):\n",
    "        \"\"\"将里程表读数设置为指定的值\"\"\"\n",
    "        self.odometer_reading=mileage\n",
    "        \n",
    "my_new_car=Car('audi','a4',2024)\n",
    "print(my_new_car.get_descriptive_name())\n",
    "\n",
    "#提供实参\n",
    "my_new_car.update_odometer(23)\n",
    "my_new_car.read_odometer()"
   ]
  },
  {
   "cell_type": "code",
   "execution_count": 50,
   "id": "4a1af822",
   "metadata": {
    "ExecuteTime": {
     "end_time": "2024-05-08T12:51:10.146490Z",
     "start_time": "2024-05-08T12:51:10.135474Z"
    }
   },
   "outputs": [
    {
     "name": "stdout",
     "output_type": "stream",
     "text": [
      "2024 Audi A4\n",
      "This car has 23 miles on it.\n"
     ]
    }
   ],
   "source": [
    "#添加逻辑，禁止将里程表读数往回调\n",
    "class Car:\n",
    "    \"\"\"一次模拟汽车的简单尝试\"\"\"\n",
    "    \n",
    "    def __init__(self, make, model, year):\n",
    "        \"\"\"初始化描述汽车的属性\"\"\"\n",
    "        self.make=make\n",
    "        self.model=model\n",
    "        self.year=year\n",
    "        self.odometer_reading=0\n",
    "        \n",
    "    def get_descriptive_name(self):\n",
    "        \"\"\"返回格式规范的描述性信息\"\"\"\n",
    "        long_name=f\"{self.year} {self.make} {self.model}\"\n",
    "        return long_name.title()\n",
    "    \n",
    "    def read_odometer(self):\n",
    "        \"\"\"打印一条指出汽车行驶里程的消息\"\"\"\n",
    "        print(f\"This car has {self.odometer_reading} miles on it.\")\n",
    "        \n",
    "    def update_odometer(self, mileage):\n",
    "        \"\"\"\n",
    "        将里程表读数设置为指定的值\n",
    "        禁止将里程表读数往回调\n",
    "        \"\"\"\n",
    "        if mileage>=self.odometer_reading:\n",
    "            self.odometer_reading=mileage\n",
    "        else:\n",
    "            print(\"You can't roll back an odometer!\")\n",
    "        \n",
    "my_new_car=Car('audi','a4',2024)\n",
    "print(my_new_car.get_descriptive_name())\n",
    "\n",
    "my_new_car.update_odometer(23)\n",
    "my_new_car.read_odometer()"
   ]
  },
  {
   "cell_type": "markdown",
   "id": "be53d8e9",
   "metadata": {},
   "source": [
    "### 通过方法让属性的值递增"
   ]
  },
  {
   "cell_type": "code",
   "execution_count": 51,
   "id": "a085a9d4",
   "metadata": {
    "ExecuteTime": {
     "end_time": "2024-05-08T12:54:37.378872Z",
     "start_time": "2024-05-08T12:54:37.369746Z"
    }
   },
   "outputs": [
    {
     "name": "stdout",
     "output_type": "stream",
     "text": [
      "2019 Subaru Outback\n",
      "This car has 23500 miles on it.\n",
      "This car has 23600 miles on it.\n"
     ]
    }
   ],
   "source": [
    "class Car:\n",
    "    \"\"\"一次模拟汽车的简单尝试\"\"\"\n",
    "    \n",
    "    def __init__(self, make, model, year):\n",
    "        \"\"\"初始化描述汽车的属性\"\"\"\n",
    "        self.make=make\n",
    "        self.model=model\n",
    "        self.year=year\n",
    "        self.odometer_reading=0\n",
    "        \n",
    "    def get_descriptive_name(self):\n",
    "        \"\"\"返回格式规范的描述性信息\"\"\"\n",
    "        long_name=f\"{self.year} {self.make} {self.model}\"\n",
    "        return long_name.title()\n",
    "    \n",
    "    def read_odometer(self):\n",
    "        \"\"\"打印一条指出汽车行驶里程的消息\"\"\"\n",
    "        print(f\"This car has {self.odometer_reading} miles on it.\")\n",
    "        \n",
    "    def update_odometer(self, mileage):\n",
    "        \"\"\"\n",
    "        将里程表读数设置为指定的值\n",
    "        禁止将里程表读数往回调\n",
    "        \"\"\"\n",
    "        if mileage>=self.odometer_reading:\n",
    "            self.odometer_reading=mileage\n",
    "        else:\n",
    "            print(\"You can't roll back an odometer!\")\n",
    "            \n",
    "    def increment_odometer(self,miles):\n",
    "        \"\"\"让里程表读数增加指定的量\"\"\"\n",
    "        self.odometer_reading+=miles\n",
    "        \n",
    "my_used_car=Car('subaru','outback',2019)\n",
    "print(my_used_car.get_descriptive_name())\n",
    "\n",
    "my_used_car.update_odometer(23_500)\n",
    "my_used_car.read_odometer()\n",
    "\n",
    "my_used_car.increment_odometer(100)\n",
    "my_used_car.read_odometer()"
   ]
  },
  {
   "cell_type": "code",
   "execution_count": 60,
   "id": "2914f67f",
   "metadata": {
    "ExecuteTime": {
     "end_time": "2024-05-08T13:01:12.548323Z",
     "start_time": "2024-05-08T13:01:12.539090Z"
    }
   },
   "outputs": [
    {
     "name": "stdout",
     "output_type": "stream",
     "text": [
      "2019 Subaru Outback\n",
      "This car has 23500 miles on it.\n",
      "This car has 23600 miles on it.\n"
     ]
    }
   ],
   "source": [
    "#禁止增量为负值\n",
    "class Car:\n",
    "    \"\"\"一次模拟汽车的简单尝试\"\"\"\n",
    "    \n",
    "    def __init__(self, make, model, year):\n",
    "        \"\"\"初始化描述汽车的属性\"\"\"\n",
    "        self.make=make\n",
    "        self.model=model\n",
    "        self.year=year\n",
    "        self.odometer_reading=0\n",
    "        \n",
    "    def get_descriptive_name(self):\n",
    "        \"\"\"返回格式规范的描述性信息\"\"\"\n",
    "        long_name=f\"{self.year} {self.make} {self.model}\"\n",
    "        return long_name.title()\n",
    "    \n",
    "    def read_odometer(self):\n",
    "        \"\"\"打印一条指出汽车行驶里程的消息\"\"\"\n",
    "        print(f\"This car has {self.odometer_reading} miles on it.\")\n",
    "        \n",
    "    def update_odometer(self, mileage):\n",
    "        \"\"\"\n",
    "        将里程表读数设置为指定的值\n",
    "        禁止将里程表读数往回调\n",
    "        \"\"\"\n",
    "        if mileage>=self.odometer_reading:\n",
    "            self.odometer_reading=mileage\n",
    "        else:\n",
    "            print(\"You can't roll back an odometer!\")\n",
    "            \n",
    "    def increment_odometer(self,miles):\n",
    "        \"\"\"让里程表读数增加指定的量\"\"\"\n",
    "        if miles>=0:\n",
    "            self.odometer_reading+=miles\n",
    "        else:\n",
    "            print(\"You can't roll back an odometer!\")\n",
    "        \n",
    "my_used_car=Car('subaru','outback',2019)\n",
    "print(my_used_car.get_descriptive_name())\n",
    "\n",
    "my_used_car.update_odometer(23_500)\n",
    "my_used_car.read_odometer()\n",
    "\n",
    "my_used_car.increment_odometer(100)\n",
    "my_used_car.read_odometer()"
   ]
  },
  {
   "cell_type": "markdown",
   "id": "270c91ba",
   "metadata": {},
   "source": [
    "### 练习9.4 就餐人数"
   ]
  },
  {
   "cell_type": "code",
   "execution_count": 6,
   "id": "e36d0972",
   "metadata": {
    "ExecuteTime": {
     "end_time": "2024-05-09T06:50:36.128104Z",
     "start_time": "2024-05-09T06:50:36.119184Z"
    }
   },
   "outputs": [
    {
     "name": "stdout",
     "output_type": "stream",
     "text": [
      "The restaurant's name is Healthy Restaurant.\n",
      "The restaurant provides Chinese food\n",
      "The restaurant is open.\n",
      "46 people have been in this resaurant.\n",
      "90 people have been in this resaurant.\n"
     ]
    }
   ],
   "source": [
    "class Restaurant:\n",
    "    \"\"\"一次模拟餐馆的简单尝试\"\"\"\n",
    "    \n",
    "    def __init__(self,restaurant_name, cuisine_type):\n",
    "        \"\"\"初始化属性\"\"\"\n",
    "        self.restaurant_name=restaurant_name\n",
    "        self.cuisine_type=cuisine_type\n",
    "        self.number_served=0\n",
    "        \n",
    "    def describe_restaurant(self):\n",
    "        \"\"\"打印餐馆基本信息\"\"\"\n",
    "        print(f\"The restaurant's name is {self.restaurant_name}.\")\n",
    "        print(f\"The restaurant provides {self.cuisine_type}\")\n",
    "        \n",
    "    def open_restaurant(self):\n",
    "        \"\"\"模拟餐馆正在营业\"\"\"\n",
    "        print(\"The restaurant is open.\")\n",
    "        \n",
    "    def read_number(self):\n",
    "        \"\"\"打印多少人在这家餐馆就餐\"\"\"\n",
    "        print(f\"{self.number_served} people have been in this resaurant.\")\n",
    "        \n",
    "restaurant=Restaurant('Healthy Restaurant', 'Chinese food')\n",
    "\n",
    "restaurant.describe_restaurant()\n",
    "restaurant.open_restaurant()\n",
    "\n",
    "restaurant.number_served=46\n",
    "restaurant.read_number()\n",
    "restaurant.number_served=90\n",
    "restaurant.read_number()"
   ]
  },
  {
   "cell_type": "code",
   "execution_count": 63,
   "id": "7805a7d5",
   "metadata": {
    "ExecuteTime": {
     "end_time": "2024-05-08T13:13:06.024056Z",
     "start_time": "2024-05-08T13:13:06.010220Z"
    }
   },
   "outputs": [
    {
     "name": "stdout",
     "output_type": "stream",
     "text": [
      "The restaurant's name is Healthy Restaurant.\n",
      "The restaurant provides Chinese food\n",
      "The restaurant is open.\n",
      "46 people have been in this resaurant.\n"
     ]
    }
   ],
   "source": [
    "class Restaurant:\n",
    "    \"\"\"一次模拟餐馆的简单尝试\"\"\"\n",
    "    \n",
    "    def __init__(self,restaurant_name, cuisine_type):\n",
    "        \"\"\"初始化属性\"\"\"\n",
    "        self.restaurant_name=restaurant_name\n",
    "        self.cuisine_type=cuisine_type\n",
    "        self.number_served=0\n",
    "        \n",
    "    def describe_restaurant(self):\n",
    "        \"\"\"打印餐馆基本信息\"\"\"\n",
    "        print(f\"The restaurant's name is {self.restaurant_name}.\")\n",
    "        print(f\"The restaurant provides {self.cuisine_type}\")\n",
    "        \n",
    "    def open_restaurant(self):\n",
    "        \"\"\"模拟餐馆正在营业\"\"\"\n",
    "        print(\"The restaurant is open.\")\n",
    "        \n",
    "    def read_number(self):\n",
    "        \"\"\"打印多少人在这家餐馆就餐\"\"\"\n",
    "        print(f\"{self.number_served} people have been in this resaurant.\")\n",
    "       \n",
    "    def set_number_served(self,number):\n",
    "        \"\"\"设置就餐人数\"\"\"\n",
    "        self.number_served=number\n",
    "    \n",
    "restaurant=Restaurant('Healthy Restaurant', 'Chinese food')\n",
    "\n",
    "restaurant.describe_restaurant()\n",
    "restaurant.open_restaurant()\n",
    "\n",
    "restaurant.set_number_served(46)\n",
    "restaurant.read_number()"
   ]
  },
  {
   "cell_type": "code",
   "execution_count": 64,
   "id": "871f63aa",
   "metadata": {
    "ExecuteTime": {
     "end_time": "2024-05-08T13:18:06.243810Z",
     "start_time": "2024-05-08T13:18:06.228174Z"
    }
   },
   "outputs": [
    {
     "name": "stdout",
     "output_type": "stream",
     "text": [
      "The restaurant's name is Healthy Restaurant.\n",
      "The restaurant provides Chinese food\n",
      "The restaurant is open.\n",
      "46 people have been in this resaurant.\n",
      "66 people have been in this resaurant.\n"
     ]
    }
   ],
   "source": [
    "class Restaurant:\n",
    "    \"\"\"一次模拟餐馆的简单尝试\"\"\"\n",
    "    \n",
    "    def __init__(self,restaurant_name, cuisine_type):\n",
    "        \"\"\"初始化属性\"\"\"\n",
    "        self.restaurant_name=restaurant_name\n",
    "        self.cuisine_type=cuisine_type\n",
    "        self.number_served=0\n",
    "        \n",
    "    def describe_restaurant(self):\n",
    "        \"\"\"打印餐馆基本信息\"\"\"\n",
    "        print(f\"The restaurant's name is {self.restaurant_name}.\")\n",
    "        print(f\"The restaurant provides {self.cuisine_type}\")\n",
    "        \n",
    "    def open_restaurant(self):\n",
    "        \"\"\"模拟餐馆正在营业\"\"\"\n",
    "        print(\"The restaurant is open.\")\n",
    "        \n",
    "    def read_number(self):\n",
    "        \"\"\"打印多少人在这家餐馆就餐\"\"\"\n",
    "        print(f\"{self.number_served} people have been in this resaurant.\")\n",
    "       \n",
    "    def set_number_served(self,number):\n",
    "        \"\"\"设置就餐人数\"\"\"\n",
    "        self.number_served=number\n",
    "        \n",
    "    def increment_number_served(self,people):\n",
    "        \"\"\"就餐人数递增\"\"\"\n",
    "        if people>=0:\n",
    "            self.number_served+=people\n",
    "        else:\n",
    "            print(\"You can't roll back the number!\")\n",
    "    \n",
    "restaurant=Restaurant('Healthy Restaurant', 'Chinese food')\n",
    "\n",
    "restaurant.describe_restaurant()\n",
    "restaurant.open_restaurant()\n",
    "\n",
    "restaurant.set_number_served(46)\n",
    "restaurant.read_number()\n",
    "restaurant.increment_number_served(20)\n",
    "restaurant.read_number()"
   ]
  },
  {
   "cell_type": "markdown",
   "id": "69586b1c",
   "metadata": {},
   "source": [
    "### 练习9.5 尝试登录次数"
   ]
  },
  {
   "cell_type": "code",
   "execution_count": 12,
   "id": "0823ab07",
   "metadata": {
    "ExecuteTime": {
     "end_time": "2024-05-09T07:17:54.146991Z",
     "start_time": "2024-05-09T07:17:54.138631Z"
    }
   },
   "outputs": [
    {
     "name": "stdout",
     "output_type": "stream",
     "text": [
      "\n",
      "User's name is Jade Chen\n",
      "User is 20 years old.\n",
      "User lives in nanjing\n",
      "Hello! jade chen\n",
      "4\n",
      "0\n"
     ]
    }
   ],
   "source": [
    "class User:\n",
    "    def __init__(self, first_name, last_name, age, location):\n",
    "        self.f_name=first_name\n",
    "        self.l_name=last_name\n",
    "        self.age=age\n",
    "        self.location=location\n",
    "        self.login_attempts=0\n",
    "        \n",
    "    def describe_user(self):\n",
    "        full_name=f\"{self.f_name} {self.l_name}\"\n",
    "        print(f\"\\nUser's name is {full_name.title()}\")\n",
    "        print(f\"User is {self.age} years old.\")\n",
    "        print(f\"User lives in {self.location}\")\n",
    "    \n",
    "    def greet_user(self):\n",
    "        print(f\"Hello! {self.f_name} {self.l_name}\")\n",
    "        \n",
    "    def increment_login_attempts(self):\n",
    "        self.login_attempts+=1\n",
    "        \n",
    "    def reset_login_attempts(self):\n",
    "        self.login_attempts=0\n",
    "        \n",
    "user=User('jade', 'chen', 20, 'nanjing')\n",
    "\n",
    "user.describe_user()\n",
    "user.greet_user()\n",
    "\n",
    "user.increment_login_attempts()\n",
    "user.increment_login_attempts()\n",
    "user.increment_login_attempts()\n",
    "user.increment_login_attempts()\n",
    "print(user.login_attempts)\n",
    "\n",
    "user.reset_login_attempts()\n",
    "print(user.login_attempts)"
   ]
  },
  {
   "cell_type": "markdown",
   "id": "3be4ef9c",
   "metadata": {},
   "source": [
    "# 9.3 继承"
   ]
  },
  {
   "cell_type": "markdown",
   "id": "75b9ae39",
   "metadata": {},
   "source": [
    "## 9.3.1 子类的__init__()方法"
   ]
  },
  {
   "cell_type": "code",
   "execution_count": 2,
   "id": "93895ef6",
   "metadata": {
    "ExecuteTime": {
     "end_time": "2024-05-09T06:14:35.843561Z",
     "start_time": "2024-05-09T06:14:35.835228Z"
    }
   },
   "outputs": [
    {
     "name": "stdout",
     "output_type": "stream",
     "text": [
      "2024 Nissan Leaf\n"
     ]
    }
   ],
   "source": [
    "#在既有的类的基础上编写新类，通常要调用父类的 __init__()方法\n",
    "class Car:\n",
    "    \"\"\"一次模拟汽车的简单尝试\"\"\"\n",
    "    \n",
    "    def __init__(self, make, model, year):\n",
    "        \"\"\"初始化描述汽车的属性\"\"\"\n",
    "        self.make=make\n",
    "        self.model=model\n",
    "        self.year=year\n",
    "        self.odometer_reading=0\n",
    "        \n",
    "    def get_descriptive_name(self):\n",
    "        \"\"\"返回格式规范的描述性信息\"\"\"\n",
    "        long_name=f\"{self.year} {self.make} {self.model}\"\n",
    "        return long_name.title()\n",
    "    \n",
    "    def read_odometer(self):\n",
    "        \"\"\"打印一条指出汽车行驶里程的消息\"\"\"\n",
    "        print(f\"This car has {self.odometer_reading} miles on it.\")\n",
    "        \n",
    "    def update_odometer(self, mileage):\n",
    "        \"\"\"\n",
    "        将里程表读数设置为指定的值\n",
    "        禁止将里程表读数往回调\n",
    "        \"\"\"\n",
    "        if mileage>=self.odometer_reading:\n",
    "            self.odometer_reading=mileage\n",
    "        else:\n",
    "            print(\"You can't roll back an odometer!\")\n",
    "            \n",
    "    def increment_odometer(self,miles):\n",
    "        \"\"\"让里程表读数增加指定的量\"\"\"\n",
    "        self.odometer_reading+=miles\n",
    "    \n",
    "#创建 ElectricCar 类的一个简单版本，它具备 Car 类的所有功能\n",
    "#创建子类时，父类必须包含在当前文件中，且位于子类前面\n",
    "#super()是一个特殊的函数，让你能够调用父类的方法\n",
    "\n",
    "class ElectricCar(Car):\n",
    "    \"\"\"电动汽车的独特之处\"\"\"\n",
    "    \n",
    "    def __init__(self,make,model,year):\n",
    "        \"\"\"初始化父类的属性\"\"\"\n",
    "        super().__init__(make,model,year)\n",
    "        \n",
    "my_leaf=ElectricCar('nissan','leaf',2024)\n",
    "print(my_leaf.get_descriptive_name())"
   ]
  },
  {
   "cell_type": "markdown",
   "id": "42ca61e8",
   "metadata": {},
   "source": [
    "## 9.3.2 给子类定义属性和方法"
   ]
  },
  {
   "cell_type": "code",
   "execution_count": 6,
   "id": "7cfc6249",
   "metadata": {
    "ExecuteTime": {
     "end_time": "2024-05-08T17:17:14.108055Z",
     "start_time": "2024-05-08T17:17:14.103298Z"
    }
   },
   "outputs": [
    {
     "name": "stdout",
     "output_type": "stream",
     "text": [
      "2024 Nissan Leaf\n",
      "This car has a 40-kWh battery.\n"
     ]
    }
   ],
   "source": [
    "#添加区分子类和父类所需的新属性和新方法\n",
    "#添加一个电动汽车特有的属性（电池），以及一个描述该属性的方法\n",
    "class ElectricCar(Car):\n",
    "    \"\"\"电动汽车的独特之处\"\"\"\n",
    "    \n",
    "    def __init__(self,make,model,year):\n",
    "        \"\"\"先初始化父类的属性，再初始化电动汽车特有的属性\"\"\"\n",
    "        super().__init__(make,model,year)\n",
    "        self.battery_size=40\n",
    "        \n",
    "    def describe_battery(self):\n",
    "        \"\"\"打印一条描述电池容量的消息\"\"\"\n",
    "        print(f\"This car has a {self.battery_size}-kWh battery.\")\n",
    "        \n",
    "my_leaf=ElectricCar('nissan','leaf',2024)\n",
    "print(my_leaf.get_descriptive_name())\n",
    "my_leaf.describe_battery()"
   ]
  },
  {
   "cell_type": "markdown",
   "id": "7d89e0df",
   "metadata": {},
   "source": [
    "## 9.3.3 重写父类中的方法"
   ]
  },
  {
   "cell_type": "code",
   "execution_count": 3,
   "id": "20b52d49",
   "metadata": {
    "ExecuteTime": {
     "end_time": "2024-05-09T06:14:38.927320Z",
     "start_time": "2024-05-09T06:14:38.921712Z"
    }
   },
   "outputs": [],
   "source": [
    "#假设 Car 类有一个fill_gas_tank() 的方法，对电动汽车来说无意义，想重写它\n",
    "\n",
    "class ElectricCar(Car):\n",
    "    \"\"\"电动汽车的独特之处\"\"\"\n",
    "    \n",
    "    def __init__(self,make,model,year):\n",
    "        \"\"\"先初始化父类的属性，再初始化电动汽车特有的属性\"\"\"\n",
    "        super().__init__(make,model,year)\n",
    "        self.battery_size=40\n",
    "        \n",
    "    def describe_battery(self):\n",
    "        \"\"\"打印一条描述电池容量的消息\"\"\"\n",
    "        print(f\"This car has a {self.battery_size}-kWh battery.\")\n",
    "        \n",
    "    def fill_gas_tank(self):\n",
    "        \"\"\"电动汽车没有油箱\"\"\"\n",
    "        print(\"This car doesn't have a gas tank!\")\n",
    "        \n",
    "#如果对电动汽车调用fill_gas_tank()，将忽略Car的fill_gas_tank()，转而运行上述代码\n"
   ]
  },
  {
   "cell_type": "markdown",
   "id": "955e300c",
   "metadata": {},
   "source": [
    "## 9.3.4 将实例用作属性"
   ]
  },
  {
   "cell_type": "code",
   "execution_count": 4,
   "id": "1fb13ca5",
   "metadata": {
    "ExecuteTime": {
     "end_time": "2024-05-09T06:39:00.691939Z",
     "start_time": "2024-05-09T06:39:00.684805Z"
    }
   },
   "outputs": [
    {
     "name": "stdout",
     "output_type": "stream",
     "text": [
      "2024 Nissan Leaf\n",
      "This car has a 40-kWh battery.\n"
     ]
    }
   ],
   "source": [
    "#将大型类拆分成多个协同工作的小类，这种方法称为组合\n",
    "class Battery:\n",
    "    \"\"\"一次模拟电动汽车电池的简单尝试\"\"\"\n",
    "    \n",
    "    def __init__(self,battery_size=40):\n",
    "        \"\"\"初始化电池的属性\"\"\"\n",
    "        self.battery_size=battery_size\n",
    "        \n",
    "    def describe_battery(self):\n",
    "        \"\"\"打印一条描述电池容量的消息\"\"\"\n",
    "        print(f\"This car has a {self.battery_size}-kWh battery.\")\n",
    "        \n",
    "class ElectricCar(Car):\n",
    "    \"\"\"电动汽车的独特之处\"\"\"\n",
    "    \n",
    "    def __init__(self,make,model,year):\n",
    "        \"\"\"先初始化父类的属性，再初始化电动汽车特有的属性\"\"\"\n",
    "        super().__init__(make,model,year)\n",
    "        #创建一个新的 Battery 实例（默认值 40），并将该实例赋给属性self.battery\n",
    "        self.battery=Battery()\n",
    "        \n",
    "my_leaf=ElectricCar('nissan','leaf',2024)\n",
    "print(my_leaf.get_descriptive_name())\n",
    "my_leaf.battery.describe_battery()"
   ]
  },
  {
   "cell_type": "code",
   "execution_count": 5,
   "id": "71f36db8",
   "metadata": {
    "ExecuteTime": {
     "end_time": "2024-05-09T06:45:05.146568Z",
     "start_time": "2024-05-09T06:45:05.136796Z"
    }
   },
   "outputs": [
    {
     "name": "stdout",
     "output_type": "stream",
     "text": [
      "2024 Nissan Leaf\n",
      "This car has a 40-kWh battery.\n",
      "This car can go about 150 miles on a full charge.\n"
     ]
    }
   ],
   "source": [
    "class Battery:\n",
    "    \"\"\"一次模拟电动汽车电池的简单尝试\"\"\"\n",
    "    \n",
    "    def __init__(self,battery_size=40):\n",
    "        \"\"\"初始化电池的属性\"\"\"\n",
    "        self.battery_size=battery_size\n",
    "        \n",
    "    def describe_battery(self):\n",
    "        \"\"\"打印一条描述电池容量的消息\"\"\"\n",
    "        print(f\"This car has a {self.battery_size}-kWh battery.\")\n",
    "        \n",
    "    def get_range(self):\n",
    "        \"\"\"打印一条消息，指出电池的续航里程\"\"\"\n",
    "        if self.battery_size==40:\n",
    "            range=150\n",
    "        elif self.battery_size==60:\n",
    "            range=225\n",
    "            \n",
    "        print(f\"This car can go about {range} miles on a full charge.\")\n",
    "        \n",
    "        \n",
    "class ElectricCar(Car):\n",
    "    \"\"\"电动汽车的独特之处\"\"\"\n",
    "    \n",
    "    def __init__(self,make,model,year):\n",
    "        \"\"\"先初始化父类的属性，再初始化电动汽车特有的属性\"\"\"\n",
    "        super().__init__(make,model,year)\n",
    "        self.battery=Battery()\n",
    "        \n",
    "my_leaf=ElectricCar('nissan','leaf',2024)\n",
    "print(my_leaf.get_descriptive_name())\n",
    "my_leaf.battery.describe_battery()\n",
    "my_leaf.battery.get_range()"
   ]
  },
  {
   "cell_type": "markdown",
   "id": "28bba551",
   "metadata": {},
   "source": [
    "## 9.3.5 模拟实物"
   ]
  },
  {
   "cell_type": "markdown",
   "id": "01fed1d5",
   "metadata": {},
   "source": [
    "### 练习9.6 冰淇淋小店"
   ]
  },
  {
   "cell_type": "code",
   "execution_count": 11,
   "id": "046b2daf",
   "metadata": {
    "ExecuteTime": {
     "end_time": "2024-05-09T07:16:08.114432Z",
     "start_time": "2024-05-09T07:16:08.108304Z"
    }
   },
   "outputs": [
    {
     "name": "stdout",
     "output_type": "stream",
     "text": [
      "The flavors at this ice cream stand are as follows: ['strawberry', 'chocolate', 'mint']\n"
     ]
    }
   ],
   "source": [
    "class IceCreamStand(Restaurant):\n",
    "    def __init__(self,restaurant_name, cuisine_type):\n",
    "        super().__init__(restaurant_name, cuisine_type)\n",
    "        self.flavors=['strawberry','chocolate','mint']\n",
    "    \n",
    "    def describe_flavors(self):\n",
    "        print(f\"The flavors at this ice cream stand are as follows: {self.flavors}\")\n",
    "        \n",
    "my_stand=IceCreamStand('sweethome','Chinese')\n",
    "my_stand.describe_flavors()"
   ]
  },
  {
   "cell_type": "markdown",
   "id": "468c27cf",
   "metadata": {},
   "source": [
    "### 练习9.7 管理员"
   ]
  },
  {
   "cell_type": "code",
   "execution_count": 13,
   "id": "9ad8cc8e",
   "metadata": {
    "ExecuteTime": {
     "end_time": "2024-05-09T07:22:44.002246Z",
     "start_time": "2024-05-09T07:22:43.995737Z"
    }
   },
   "outputs": [
    {
     "name": "stdout",
     "output_type": "stream",
     "text": [
      "Administer has privileges: ['can add post', 'can delete post', 'can ban user']\n"
     ]
    }
   ],
   "source": [
    "class Admin(User):\n",
    "    def __init__(self, first_name, last_name, age, location):\n",
    "        super().__init__(first_name, last_name, age, location)\n",
    "        self.privileges=['can add post','can delete post','can ban user']\n",
    "        \n",
    "    def show_privileges(self):\n",
    "        print(f\"Administer has privileges: {self.privileges}\")\n",
    "        \n",
    "a_admin=Admin('peter','xu',38,'china')\n",
    "a_admin.show_privileges()"
   ]
  },
  {
   "cell_type": "markdown",
   "id": "2c628e57",
   "metadata": {},
   "source": [
    "### 练习9.8 权限"
   ]
  },
  {
   "cell_type": "code",
   "execution_count": 16,
   "id": "feb3cae8",
   "metadata": {
    "ExecuteTime": {
     "end_time": "2024-05-09T07:29:20.774683Z",
     "start_time": "2024-05-09T07:29:20.767870Z"
    }
   },
   "outputs": [
    {
     "name": "stdout",
     "output_type": "stream",
     "text": [
      "Administer has privileges: ['can add post', 'can delete post', 'can ban user']\n"
     ]
    }
   ],
   "source": [
    "class Privileges:\n",
    "    def __init__(self,privileges=['can add post','can delete post','can ban user']):\n",
    "        self.privileges=privileges\n",
    "        \n",
    "    def show_privileges(self):\n",
    "        print(f\"Administer has privileges: {self.privileges}\")\n",
    "        \n",
    "class Admin(User):\n",
    "    def __init__(self, first_name, last_name, age, location):\n",
    "        super().__init__(first_name, last_name, age, location)\n",
    "        self.privileges=Privileges()\n",
    "        \n",
    "a_admin=Admin('peter','xu',38,'china')\n",
    "a_admin.privileges.show_privileges()"
   ]
  },
  {
   "cell_type": "markdown",
   "id": "ef38da83",
   "metadata": {},
   "source": [
    "### 练习9.9 电池升级"
   ]
  },
  {
   "cell_type": "code",
   "execution_count": 20,
   "id": "03d81e58",
   "metadata": {
    "ExecuteTime": {
     "end_time": "2024-05-09T07:41:02.639563Z",
     "start_time": "2024-05-09T07:41:02.630286Z"
    }
   },
   "outputs": [
    {
     "name": "stdout",
     "output_type": "stream",
     "text": [
      "2024 Nissan Leaf\n",
      "This car has a 40-kWh battery.\n",
      "This car can go about 150 miles on a full charge.\n",
      "This car can go about 225 miles on a full charge.\n"
     ]
    }
   ],
   "source": [
    "class Battery:\n",
    "    \"\"\"一次模拟电动汽车电池的简单尝试\"\"\"\n",
    "    \n",
    "    def __init__(self,battery_size=40):\n",
    "        \"\"\"初始化电池的属性\"\"\"\n",
    "        self.battery_size=battery_size\n",
    "        \n",
    "    def describe_battery(self):\n",
    "        \"\"\"打印一条描述电池容量的消息\"\"\"\n",
    "        print(f\"This car has a {self.battery_size}-kWh battery.\")\n",
    "        \n",
    "    def get_range(self):\n",
    "        \"\"\"打印一条消息，指出电池的续航里程\"\"\"\n",
    "        if self.battery_size==40:\n",
    "            range=150\n",
    "        elif self.battery_size==65:\n",
    "            range=225\n",
    "            \n",
    "        print(f\"This car can go about {range} miles on a full charge.\")\n",
    "        \n",
    "    def upgrade_battery(self):\n",
    "        \"\"\"检查电池容量并升级\"\"\"\n",
    "        if self.battery_size!=65:\n",
    "            self.battery_size=65   \n",
    "        \n",
    "class ElectricCar(Car):\n",
    "    \"\"\"电动汽车的独特之处\"\"\"\n",
    "    \n",
    "    def __init__(self,make,model,year):\n",
    "        \"\"\"先初始化父类的属性，再初始化电动汽车特有的属性\"\"\"\n",
    "        super().__init__(make,model,year)\n",
    "        self.battery=Battery()\n",
    "        \n",
    "my_leaf=ElectricCar('nissan','leaf',2024)\n",
    "print(my_leaf.get_descriptive_name())\n",
    "my_leaf.battery.describe_battery()\n",
    "my_leaf.battery.get_range()\n",
    "my_leaf.battery.upgrade_battery()\n",
    "my_leaf.battery.get_range()"
   ]
  },
  {
   "cell_type": "markdown",
   "id": "497b456f",
   "metadata": {},
   "source": [
    "# 9.4 导入类"
   ]
  },
  {
   "cell_type": "markdown",
   "id": "c6e2de05",
   "metadata": {},
   "source": [
    "## 9.4.1 导入单个类"
   ]
  },
  {
   "cell_type": "code",
   "execution_count": 44,
   "id": "1a41772a",
   "metadata": {
    "ExecuteTime": {
     "end_time": "2024-05-09T09:25:16.932701Z",
     "start_time": "2024-05-09T09:25:16.926156Z"
    }
   },
   "outputs": [
    {
     "name": "stdout",
     "output_type": "stream",
     "text": [
      "2024 Audi A4\n",
      "This car has 23 miles on it.\n"
     ]
    }
   ],
   "source": [
    "#在car.py的模块中存储Car类\n",
    "\n",
    "from car import Car\n",
    "\n",
    "my_new_car=Car('audi','a4',2024)\n",
    "print(my_new_car.get_descriptive_name())\n",
    "\n",
    "my_new_car.odometer_reading=23\n",
    "my_new_car.read_odometer()"
   ]
  },
  {
   "cell_type": "markdown",
   "id": "3640b8db",
   "metadata": {},
   "source": [
    "## 9.4.2 在一个模块中存储多个类"
   ]
  },
  {
   "cell_type": "code",
   "execution_count": 3,
   "id": "871801c1",
   "metadata": {
    "ExecuteTime": {
     "end_time": "2024-05-09T09:39:45.259650Z",
     "start_time": "2024-05-09T09:39:45.255667Z"
    }
   },
   "outputs": [
    {
     "name": "stdout",
     "output_type": "stream",
     "text": [
      "2024 Nissan Leaf\n",
      "This car has a 40-kWh battery.\n",
      "This car can go about 150 miles on a full charge.\n"
     ]
    }
   ],
   "source": [
    "#把Battery类和ElectricCar类都加入模块car.py后\n",
    "\n",
    "from car import ElectricCar\n",
    "\n",
    "my_leaf=ElectricCar('nissan','leaf',2024)\n",
    "print(my_leaf.get_descriptive_name())\n",
    "my_leaf.battery.describe_battery()\n",
    "my_leaf.battery.get_range()"
   ]
  },
  {
   "cell_type": "markdown",
   "id": "cf07a935",
   "metadata": {},
   "source": [
    "## 9.4.3 从一个模块中导入多个类"
   ]
  },
  {
   "cell_type": "code",
   "execution_count": 2,
   "id": "85354681",
   "metadata": {
    "ExecuteTime": {
     "end_time": "2024-05-09T09:39:40.614574Z",
     "start_time": "2024-05-09T09:39:40.611021Z"
    }
   },
   "outputs": [
    {
     "name": "stdout",
     "output_type": "stream",
     "text": [
      "2024 Ford Mustang\n",
      "2024 Nissan Leaf\n"
     ]
    }
   ],
   "source": [
    "from car import Car,ElectricCar\n",
    "\n",
    "my_mustang=Car('ford','mustang',2024)\n",
    "print(my_mustang.get_descriptive_name())\n",
    "my_leaf=ElectricCar('nissan','leaf',2024)\n",
    "print(my_leaf.get_descriptive_name())"
   ]
  },
  {
   "cell_type": "markdown",
   "id": "61d51d63",
   "metadata": {},
   "source": [
    "## 9.4.4 导入整个模块"
   ]
  },
  {
   "cell_type": "code",
   "execution_count": 1,
   "id": "a977473f",
   "metadata": {
    "ExecuteTime": {
     "end_time": "2024-05-09T09:39:35.670870Z",
     "start_time": "2024-05-09T09:39:35.663823Z"
    }
   },
   "outputs": [
    {
     "name": "stdout",
     "output_type": "stream",
     "text": [
      "2024 Fold Mustang\n",
      "2024 Nissan Leaf\n"
     ]
    }
   ],
   "source": [
    "import car\n",
    "\n",
    "#使用语法module_name.classname访问需要的类\n",
    "my_mustang=car.Car('fold','mustang',2024)\n",
    "print(my_mustang.get_descriptive_name())\n",
    "\n",
    "my_leaf=car.ElectricCar('nissan','leaf',2024)\n",
    "print(my_leaf.get_descriptive_name())"
   ]
  },
  {
   "cell_type": "markdown",
   "id": "c9c71115",
   "metadata": {},
   "source": [
    "## 9.4.5 导入模块中的所有类"
   ]
  },
  {
   "cell_type": "code",
   "execution_count": 4,
   "id": "9ba13f7b",
   "metadata": {
    "ExecuteTime": {
     "end_time": "2024-05-09T09:40:57.060332Z",
     "start_time": "2024-05-09T09:40:57.057727Z"
    }
   },
   "outputs": [],
   "source": [
    "#from module_name import *\n",
    "#但是不推荐使用"
   ]
  },
  {
   "cell_type": "markdown",
   "id": "ab8de525",
   "metadata": {},
   "source": [
    "## 9.4.6 在一个模块中导入另一个模块"
   ]
  },
  {
   "cell_type": "code",
   "execution_count": 5,
   "id": "a099f3cc",
   "metadata": {
    "ExecuteTime": {
     "end_time": "2024-05-09T10:12:12.895158Z",
     "start_time": "2024-05-09T10:12:12.888507Z"
    }
   },
   "outputs": [
    {
     "name": "stdout",
     "output_type": "stream",
     "text": [
      "2024 Ford Mustang\n",
      "2024 Nissan Leaf\n"
     ]
    }
   ],
   "source": [
    "#将类分散到多个模块中\n",
    "\n",
    "from onlycar import Car\n",
    "from electric_car import ElectricCar\n",
    "\n",
    "my_mustang=Car('ford', 'mustang', 2024)\n",
    "print(my_mustang.get_descriptive_name())\n",
    "\n",
    "my_leaf = ElectricCar('nissan', 'leaf', 2024)\n",
    "print(my_leaf.get_descriptive_name())"
   ]
  },
  {
   "cell_type": "markdown",
   "id": "5b50812c",
   "metadata": {},
   "source": [
    "## 9.4.7 使用别名"
   ]
  },
  {
   "cell_type": "code",
   "execution_count": 7,
   "id": "021d52c9",
   "metadata": {
    "ExecuteTime": {
     "end_time": "2024-05-09T10:14:22.140255Z",
     "start_time": "2024-05-09T10:14:22.136845Z"
    }
   },
   "outputs": [
    {
     "name": "stdout",
     "output_type": "stream",
     "text": [
      "2024 Nissan Leaf\n"
     ]
    }
   ],
   "source": [
    "from electric_car import ElectricCar as EC\n",
    "\n",
    "my_leaf=EC('nissan','leaf',2024)\n",
    "print(my_leaf.get_descriptive_name())"
   ]
  },
  {
   "cell_type": "code",
   "execution_count": 8,
   "id": "a87ebcb2",
   "metadata": {
    "ExecuteTime": {
     "end_time": "2024-05-09T10:15:16.993301Z",
     "start_time": "2024-05-09T10:15:16.987496Z"
    }
   },
   "outputs": [
    {
     "name": "stdout",
     "output_type": "stream",
     "text": [
      "2024 Nissan Leaf\n"
     ]
    }
   ],
   "source": [
    "import electric_car as ec\n",
    "\n",
    "my_leaf=ec.ElectricCar('nissan','leaf',2024)\n",
    "print(my_leaf.get_descriptive_name())"
   ]
  },
  {
   "cell_type": "markdown",
   "id": "cd2810ed",
   "metadata": {},
   "source": [
    "## 9.4.8 找到合适的工作流程"
   ]
  },
  {
   "cell_type": "markdown",
   "id": "c7e8cbe0",
   "metadata": {},
   "source": [
    "### 练习9.10 导入restaurant类"
   ]
  },
  {
   "cell_type": "code",
   "execution_count": 13,
   "id": "effc4e6a",
   "metadata": {
    "ExecuteTime": {
     "end_time": "2024-05-09T10:22:17.183282Z",
     "start_time": "2024-05-09T10:22:17.177568Z"
    }
   },
   "outputs": [
    {
     "name": "stdout",
     "output_type": "stream",
     "text": [
      "The restaurant's name is Healthy Restaurant.\n",
      "The restaurant provides Chinese food\n",
      "The restaurant is open.\n",
      "46 people have been in this resaurant.\n"
     ]
    }
   ],
   "source": [
    "from restaurant import Restaurant\n",
    "\n",
    "restaurant=Restaurant('Healthy Restaurant', 'Chinese food')\n",
    "\n",
    "restaurant.describe_restaurant()\n",
    "restaurant.open_restaurant()\n",
    "restaurant.set_number_served(46)\n",
    "restaurant.read_number()"
   ]
  },
  {
   "cell_type": "markdown",
   "id": "f9011aae",
   "metadata": {},
   "source": [
    "### 练习9.11 导入Admin类"
   ]
  },
  {
   "cell_type": "code",
   "execution_count": 14,
   "id": "a8087773",
   "metadata": {
    "ExecuteTime": {
     "end_time": "2024-05-09T10:28:41.187165Z",
     "start_time": "2024-05-09T10:28:41.181604Z"
    }
   },
   "outputs": [
    {
     "name": "stdout",
     "output_type": "stream",
     "text": [
      "Administer has privileges: ['can add post', 'can delete post', 'can ban user']\n"
     ]
    }
   ],
   "source": [
    "from user import Admin,Privileges\n",
    "\n",
    "a_admin=Admin('peter','xu',38,'china')\n",
    "a_admin.privileges.show_privileges()"
   ]
  },
  {
   "cell_type": "markdown",
   "id": "d11a8ddf",
   "metadata": {},
   "source": [
    "### 练习9.12 多个模块"
   ]
  },
  {
   "cell_type": "code",
   "execution_count": 15,
   "id": "7193a740",
   "metadata": {
    "ExecuteTime": {
     "end_time": "2024-05-09T10:32:05.382028Z",
     "start_time": "2024-05-09T10:32:05.376583Z"
    }
   },
   "outputs": [
    {
     "name": "stdout",
     "output_type": "stream",
     "text": [
      "Administer has privileges: ['can add post', 'can delete post', 'can ban user']\n"
     ]
    }
   ],
   "source": [
    "from onlyuser import User\n",
    "from admin import Admin\n",
    "\n",
    "a_admin=Admin('peter','xu',38,'china')\n",
    "a_admin.privileges.show_privileges()"
   ]
  },
  {
   "cell_type": "markdown",
   "id": "a82c0d06",
   "metadata": {},
   "source": [
    "# 9.5 Python标准库"
   ]
  },
  {
   "cell_type": "code",
   "execution_count": 17,
   "id": "8600f2ab",
   "metadata": {
    "ExecuteTime": {
     "end_time": "2024-05-09T11:56:19.563203Z",
     "start_time": "2024-05-09T11:56:19.559728Z"
    }
   },
   "outputs": [
    {
     "data": {
      "text/plain": [
       "5"
      ]
     },
     "execution_count": 17,
     "metadata": {},
     "output_type": "execute_result"
    }
   ],
   "source": [
    "#安装Python时已经包含在内\n",
    "#randint():将两个整数作为参数，并随机返回一个位于这两个整数之间（含）的整数\n",
    "\n",
    "from random import randint\n",
    "randint(1,6)"
   ]
  },
  {
   "cell_type": "code",
   "execution_count": 18,
   "id": "5a29c892",
   "metadata": {
    "ExecuteTime": {
     "end_time": "2024-05-09T11:57:44.090714Z",
     "start_time": "2024-05-09T11:57:44.085654Z"
    }
   },
   "outputs": [
    {
     "data": {
      "text/plain": [
       "'michael'"
      ]
     },
     "execution_count": 18,
     "metadata": {},
     "output_type": "execute_result"
    }
   ],
   "source": [
    "#choice():将一个列表或元组作为参数，并随机返回其中的一个元素\n",
    "\n",
    "from random import choice\n",
    "players=['charles','martina','michael','florence','eli']\n",
    "first_up=choice(players)\n",
    "first_up"
   ]
  },
  {
   "cell_type": "markdown",
   "id": "4ac1d308",
   "metadata": {},
   "source": [
    "### 练习9.13 骰子"
   ]
  },
  {
   "cell_type": "code",
   "execution_count": 27,
   "id": "311ff606",
   "metadata": {
    "ExecuteTime": {
     "end_time": "2024-05-09T12:09:06.271698Z",
     "start_time": "2024-05-09T12:09:06.266734Z"
    }
   },
   "outputs": [
    {
     "name": "stdout",
     "output_type": "stream",
     "text": [
      "2\n",
      "5\n",
      "12\n"
     ]
    }
   ],
   "source": [
    "from random import randint\n",
    "\n",
    "class Die:\n",
    "    def __init__(self,sides=6):\n",
    "        self.sides=sides\n",
    "        \n",
    "    def roll_die(self):\n",
    "        number=randint(1,self.sides)\n",
    "        print(number)\n",
    "        \n",
    "a_die=Die()\n",
    "a_die.roll_die()\n",
    "\n",
    "die_10=Die(10)\n",
    "die_10.roll_die()\n",
    "\n",
    "die_10=Die(20)\n",
    "die_10.roll_die()"
   ]
  },
  {
   "cell_type": "markdown",
   "id": "05b1ba3a",
   "metadata": {},
   "source": [
    "### 练习9.14 彩票"
   ]
  },
  {
   "cell_type": "code",
   "execution_count": 39,
   "id": "6008ce8b",
   "metadata": {
    "ExecuteTime": {
     "end_time": "2024-05-09T12:41:56.286805Z",
     "start_time": "2024-05-09T12:41:56.282416Z"
    }
   },
   "outputs": [
    {
     "name": "stdout",
     "output_type": "stream",
     "text": [
      "If you get: [3, 9, 's', 2], you win the prize!\n"
     ]
    }
   ],
   "source": [
    "list=[1,2,3,4,5,6,7,8,9,10,'a','s','d','f','g']\n",
    "\n",
    "from random import sample\n",
    "win=sample(list,k=4)\n",
    "print(f\"If you get: {win}, you win the prize!\")"
   ]
  },
  {
   "cell_type": "markdown",
   "id": "bf60e013",
   "metadata": {},
   "source": [
    "### 练习9.15 彩票分析"
   ]
  },
  {
   "cell_type": "code",
   "execution_count": 41,
   "id": "fd7310b3",
   "metadata": {
    "ExecuteTime": {
     "end_time": "2024-05-09T12:54:21.447768Z",
     "start_time": "2024-05-09T12:54:21.420263Z"
    }
   },
   "outputs": [
    {
     "name": "stdout",
     "output_type": "stream",
     "text": [
      "Your ticket is: [6, 'd', 2, 9]. You missed!\n",
      "Your ticket is: [1, 9, 'g', 10]. You missed!\n",
      "Your ticket is: [5, 1, 10, 7]. You missed!\n",
      "Your ticket is: ['d', 8, 10, 'a']. You missed!\n",
      "Your ticket is: ['f', 2, 'g', 'd']. You missed!\n",
      "Your ticket is: [8, 's', 'f', 2]. You missed!\n",
      "Your ticket is: ['s', 3, 'd', 9]. You missed!\n",
      "Your ticket is: [1, 'f', 9, 's']. You missed!\n",
      "Your ticket is: [9, 8, 'g', 'f']. You missed!\n",
      "Your ticket is: [4, 8, 1, 10]. You missed!\n",
      "Your ticket is: ['d', 5, 'a', 2]. You missed!\n",
      "Your ticket is: [5, 10, 'f', 6]. You missed!\n",
      "Your ticket is: [7, 9, 's', 'a']. You missed!\n",
      "Your ticket is: [4, 1, 's', 3]. You missed!\n",
      "Your ticket is: ['g', 4, 3, 8]. You missed!\n",
      "Your ticket is: [7, 4, 'f', 2]. You missed!\n",
      "Your ticket is: ['f', 10, 5, 4]. You missed!\n",
      "Your ticket is: ['f', 1, 9, 3]. You missed!\n",
      "Your ticket is: ['g', 2, 'a', 9]. You missed!\n",
      "Your ticket is: [1, 8, 7, 'g']. You missed!\n",
      "Your ticket is: [5, 2, 6, 10]. You missed!\n",
      "Your ticket is: ['d', 7, 'g', 9]. You missed!\n",
      "Your ticket is: [8, 'a', 5, 's']. You missed!\n",
      "Your ticket is: ['f', 's', 2, 10]. You missed!\n",
      "Your ticket is: [3, 5, 9, 'd']. You missed!\n",
      "Your ticket is: ['g', 3, 's', 1]. You missed!\n",
      "Your ticket is: [3, 9, 8, 4]. You missed!\n",
      "Your ticket is: [6, 9, 1, 'a']. You missed!\n",
      "Your ticket is: ['s', 'a', 'f', 10]. You missed!\n",
      "Your ticket is: ['g', 10, 3, 'f']. You missed!\n",
      "Your ticket is: [3, 's', 7, 'g']. You missed!\n",
      "Your ticket is: ['g', 'f', 2, 10]. You missed!\n",
      "Your ticket is: [3, 4, 'a', 7]. You missed!\n",
      "Your ticket is: [7, 's', 1, 5]. You missed!\n",
      "Your ticket is: [9, 7, 4, 3]. You missed!\n",
      "Your ticket is: [4, 3, 's', 'f']. You missed!\n",
      "Your ticket is: [2, 4, 'a', 10]. You missed!\n",
      "Your ticket is: [2, 7, 10, 4]. You missed!\n",
      "Your ticket is: [8, 'd', 'a', 9]. You missed!\n",
      "Your ticket is: ['g', 's', 8, 7]. You missed!\n",
      "Your ticket is: [5, 3, 's', 'a']. You missed!\n",
      "Your ticket is: [3, 's', 5, 8]. You missed!\n",
      "Your ticket is: [9, 10, 4, 6]. You missed!\n",
      "Your ticket is: [4, 3, 7, 9]. You missed!\n",
      "Your ticket is: ['f', 'a', 'g', 5]. You missed!\n",
      "Your ticket is: [4, 3, 9, 7]. You missed!\n",
      "Your ticket is: ['g', 9, 10, 1]. You missed!\n",
      "Your ticket is: [4, 's', 'a', 8]. You missed!\n",
      "Your ticket is: ['d', 6, 7, 'a']. You missed!\n",
      "Your ticket is: [3, 10, 'g', 7]. You missed!\n",
      "Your ticket is: [8, 4, 3, 2]. You missed!\n",
      "Your ticket is: ['g', 's', 6, 9]. You missed!\n",
      "Your ticket is: ['f', 10, 'd', 'a']. You missed!\n",
      "Your ticket is: ['g', 2, 'd', 1]. You missed!\n",
      "Your ticket is: ['s', 2, 1, 5]. You missed!\n",
      "Your ticket is: ['g', 'a', 10, 'f']. You missed!\n",
      "Your ticket is: ['d', 2, 10, 9]. You missed!\n",
      "Your ticket is: [10, 'f', 'd', 'a']. You missed!\n",
      "Your ticket is: [5, 2, 'g', 'd']. You missed!\n",
      "Your ticket is: [10, 'd', 'a', 2]. You missed!\n",
      "Your ticket is: [8, 9, 3, 5]. You missed!\n",
      "Your ticket is: ['d', 6, 10, 'a']. You missed!\n",
      "Your ticket is: ['d', 9, 10, 3]. You missed!\n",
      "Your ticket is: ['a', 9, 'g', 'f']. You missed!\n",
      "Your ticket is: [3, 's', 6, 10]. You missed!\n",
      "Your ticket is: [6, 'a', 'g', 1]. You missed!\n",
      "Your ticket is: ['s', 9, 7, 'f']. You missed!\n",
      "Your ticket is: ['a', 'f', 9, 4]. You missed!\n",
      "Your ticket is: [5, 'g', 4, 2]. You missed!\n",
      "Your ticket is: [4, 'a', 8, 3]. You missed!\n",
      "Your ticket is: [5, 1, 'a', 'g']. You missed!\n",
      "Your ticket is: [10, 'f', 1, 8]. You missed!\n",
      "Your ticket is: [5, 6, 9, 4]. You missed!\n",
      "Your ticket is: [6, 8, 'g', 1]. You missed!\n",
      "Your ticket is: [3, 'd', 'a', 10]. You missed!\n",
      "Your ticket is: [7, 1, 10, 'd']. You missed!\n",
      "Your ticket is: ['f', 2, 7, 3]. You missed!\n",
      "Your ticket is: ['s', 8, 5, 4]. You missed!\n",
      "Your ticket is: ['s', 8, 'd', 'a']. You missed!\n",
      "Your ticket is: [6, 'a', 'g', 7]. You missed!\n",
      "Your ticket is: ['f', 'g', 4, 8]. You missed!\n",
      "Your ticket is: [8, 7, 10, 9]. You missed!\n",
      "Your ticket is: [8, 1, 'g', 9]. You missed!\n",
      "Your ticket is: ['s', 'd', 4, 'a']. You missed!\n",
      "Your ticket is: ['s', 4, 'g', 8]. You missed!\n",
      "Your ticket is: [1, 's', 'd', 'a']. You missed!\n",
      "Your ticket is: [5, 9, 's', 7]. You missed!\n",
      "Your ticket is: ['s', 'd', 5, 'f']. You missed!\n",
      "Your ticket is: ['g', 3, 's', 8]. You missed!\n",
      "Your ticket is: [2, 'a', 'g', 5]. You missed!\n",
      "Your ticket is: [7, 9, 'a', 's']. You missed!\n",
      "Your ticket is: [1, 6, 'f', 's']. You missed!\n",
      "Your ticket is: ['d', 9, 10, 3]. You missed!\n",
      "Your ticket is: ['f', 6, 7, 5]. You missed!\n",
      "Your ticket is: [4, 'd', 6, 1]. You missed!\n",
      "Your ticket is: [10, 'd', 'a', 's']. You missed!\n",
      "Your ticket is: [5, 7, 2, 'a']. You missed!\n",
      "Your ticket is: [1, 'a', 2, 6]. You missed!\n",
      "Your ticket is: [9, 'd', 'g', 2]. You missed!\n",
      "Your ticket is: ['d', 9, 's', 'a']. You missed!\n",
      "Your ticket is: ['s', 'a', 3, 4]. You missed!\n",
      "Your ticket is: [10, 4, 1, 2]. You missed!\n",
      "Your ticket is: [1, 'd', 'g', 7]. You missed!\n",
      "Your ticket is: ['a', 1, 'f', 'g']. You missed!\n",
      "Your ticket is: [2, 9, 'd', 'g']. You missed!\n",
      "Your ticket is: [10, 'a', 'f', 8]. You missed!\n",
      "Your ticket is: [9, 10, 3, 8]. You missed!\n",
      "Your ticket is: [9, 3, 'g', 'f']. You missed!\n",
      "Your ticket is: [6, 5, 7, 1]. You missed!\n",
      "Your ticket is: ['a', 'd', 6, 1]. You missed!\n",
      "Your ticket is: [10, 4, 9, 5]. You missed!\n",
      "Your ticket is: ['f', 7, 10, 'g']. You missed!\n",
      "Your ticket is: ['f', 4, 'a', 5]. You missed!\n",
      "Your ticket is: [7, 6, 'd', 'a']. You missed!\n",
      "Your ticket is: [3, 'g', 4, 'f']. You missed!\n",
      "Your ticket is: [9, 2, 'd', 'f']. You missed!\n",
      "Your ticket is: ['a', 10, 4, 6]. You missed!\n",
      "Your ticket is: ['a', 6, 'f', 's']. You missed!\n",
      "Your ticket is: ['s', 2, 8, 'f']. You missed!\n",
      "Your ticket is: ['g', 1, 'f', 'd']. You missed!\n",
      "Your ticket is: ['f', 4, 3, 'd']. You missed!\n",
      "Your ticket is: [10, 8, 5, 9]. You missed!\n",
      "Your ticket is: [8, 6, 'a', 'f']. You missed!\n",
      "Your ticket is: ['d', 'a', 2, 4]. You missed!\n",
      "Your ticket is: [4, 7, 2, 8]. You missed!\n",
      "Your ticket is: [3, 9, 6, 10]. You missed!\n",
      "Your ticket is: ['d', 3, 9, 10]. You missed!\n",
      "Your ticket is: [6, 'a', 5, 4]. You missed!\n",
      "Your ticket is: [9, 1, 'd', 2]. You missed!\n",
      "Your ticket is: [5, 'd', 7, 10]. You missed!\n",
      "Your ticket is: [5, 's', 6, 'a']. You missed!\n",
      "Your ticket is: ['f', 'g', 10, 9]. You missed!\n",
      "Your ticket is: [6, 2, 9, 5]. You missed!\n",
      "Your ticket is: [3, 'd', 2, 5]. You missed!\n",
      "Your ticket is: [9, 4, 8, 'f']. You missed!\n",
      "Your ticket is: ['s', 'd', 'a', 10]. You missed!\n",
      "Your ticket is: [3, 7, 'g', 6]. You missed!\n",
      "Your ticket is: [6, 'a', 3, 10]. You missed!\n",
      "Your ticket is: ['s', 4, 7, 9]. You missed!\n",
      "Your ticket is: [3, 8, 10, 9]. You missed!\n",
      "Your ticket is: [10, 'd', 5, 9]. You missed!\n",
      "Your ticket is: ['d', 's', 'a', 10]. You missed!\n",
      "Your ticket is: ['g', 2, 'd', 's']. You missed!\n",
      "Your ticket is: [9, 4, 'd', 3]. You missed!\n",
      "Your ticket is: ['g', 1, 8, 6]. You missed!\n",
      "Your ticket is: [8, 'a', 's', 3]. You missed!\n",
      "Your ticket is: ['s', 'd', 4, 7]. You missed!\n",
      "Your ticket is: [8, 7, 9, 10]. You missed!\n",
      "Your ticket is: [7, 'g', 'd', 2]. You missed!\n",
      "Your ticket is: ['s', 'a', 7, 2]. You missed!\n",
      "Your ticket is: ['s', 6, 5, 'a']. You missed!\n",
      "Your ticket is: [5, 2, 3, 's']. You missed!\n",
      "Your ticket is: [6, 7, 1, 'g']. You missed!\n",
      "Your ticket is: [3, 1, 'g', 8]. You missed!\n",
      "Your ticket is: ['a', 8, 's', 5]. You missed!\n",
      "Your ticket is: ['f', 2, 1, 4]. You missed!\n",
      "Your ticket is: [10, 8, 1, 7]. You missed!\n",
      "Your ticket is: [5, 'g', 4, 'a']. You missed!\n",
      "Your ticket is: ['f', 7, 5, 8]. You missed!\n",
      "Your ticket is: [1, 8, 4, 10]. You missed!\n",
      "Your ticket is: [8, 6, 5, 's']. You missed!\n",
      "Your ticket is: [1, 'g', 10, 2]. You missed!\n",
      "Your ticket is: [9, 2, 5, 10]. You missed!\n",
      "Your ticket is: ['s', 8, 'a', 10]. You missed!\n",
      "Your ticket is: [4, 'a', 1, 10]. You missed!\n",
      "Your ticket is: [10, 6, 8, 5]. You missed!\n",
      "Your ticket is: [3, 'd', 's', 'g']. You missed!\n",
      "Your ticket is: [1, 6, 'g', 9]. You missed!\n",
      "Your ticket is: ['a', 7, 6, 'g']. You missed!\n",
      "Your ticket is: [10, 'g', 7, 5]. You missed!\n",
      "Your ticket is: [8, 'g', 9, 4]. You missed!\n",
      "Your ticket is: [6, 'g', 8, 'd']. You missed!\n",
      "Your ticket is: ['g', 6, 's', 'f']. You missed!\n",
      "Your ticket is: ['d', 2, 8, 'a']. You missed!\n",
      "Your ticket is: [3, 9, 4, 'f']. You missed!\n",
      "Your ticket is: ['g', 9, 1, 'a']. You missed!\n",
      "Your ticket is: ['a', 4, 'f', 'd']. You missed!\n",
      "Your ticket is: [7, 10, 5, 's']. You missed!\n",
      "Your ticket is: [1, 10, 7, 5]. You missed!\n",
      "Your ticket is: [6, 'a', 'd', 's']. You missed!\n",
      "Your ticket is: ['f', 'g', 9, 7]. You missed!\n",
      "Your ticket is: [4, 'a', 5, 1]. You missed!\n",
      "Your ticket is: ['a', 7, 2, 6]. You missed!\n",
      "Your ticket is: [7, 'a', 'd', 'f']. You missed!\n",
      "Your ticket is: [8, 's', 3, 'g']. You missed!\n",
      "Your ticket is: [1, 'f', 'g', 10]. You missed!\n",
      "Your ticket is: [8, 9, 5, 7]. You missed!\n",
      "Your ticket is: ['s', 'd', 3, 7]. You missed!\n",
      "Your ticket is: ['f', 'a', 1, 'd']. You missed!\n",
      "Your ticket is: ['a', 2, 9, 'g']. You missed!\n",
      "Your ticket is: [7, 1, 4, 's']. You missed!\n",
      "Your ticket is: ['g', 'd', 's', 2]. You missed!\n",
      "Your ticket is: [7, 5, 10, 'a']. You missed!\n",
      "Your ticket is: ['a', 6, 'g', 'f']. You missed!\n",
      "Your ticket is: [10, 9, 'a', 'g']. You missed!\n",
      "Your ticket is: ['s', 3, 5, 9]. You missed!\n",
      "Your ticket is: ['f', 6, 3, 10]. You missed!\n",
      "Your ticket is: [2, 'd', 4, 6]. You missed!\n",
      "Your ticket is: [8, 'a', 'g', 2]. You missed!\n",
      "Your ticket is: ['d', 9, 'f', 6]. You missed!\n",
      "Your ticket is: ['f', 1, 'a', 7]. You missed!\n",
      "Your ticket is: [7, 'a', 5, 10]. You missed!\n",
      "Your ticket is: [3, 1, 'g', 9]. You missed!\n",
      "Your ticket is: [6, 'g', 10, 'f']. You missed!\n",
      "Your ticket is: [2, 3, 4, 1]. You missed!\n",
      "Your ticket is: [3, 8, 4, 'g']. You missed!\n",
      "Your ticket is: [9, 'd', 10, 4]. You missed!\n",
      "Your ticket is: [3, 10, 9, 'f']. You missed!\n",
      "Your ticket is: [2, 8, 9, 10]. You missed!\n",
      "Your ticket is: [7, 9, 'd', 'a']. You missed!\n",
      "Your ticket is: [6, 2, 'g', 8]. You missed!\n",
      "Your ticket is: ['d', 1, 8, 9]. You missed!\n",
      "Your ticket is: ['a', 4, 'd', 9]. You missed!\n",
      "Your ticket is: [6, 'd', 2, 8]. You missed!\n",
      "Your ticket is: ['s', 2, 8, 6]. You missed!\n",
      "Your ticket is: ['a', 9, 'f', 7]. You missed!\n",
      "Your ticket is: [2, 4, 'g', 9]. You missed!\n",
      "Your ticket is: [1, 'a', 'g', 4]. You missed!\n",
      "Your ticket is: [5, 4, 1, 3]. You missed!\n",
      "Your ticket is: ['f', 2, 3, 6]. You missed!\n",
      "Your ticket is: [5, 10, 's', 2]. You missed!\n",
      "Your ticket is: [10, 'g', 4, 'd']. You missed!\n",
      "Your ticket is: [6, 3, 4, 'f']. You missed!\n",
      "Your ticket is: [2, 's', 7, 8]. You missed!\n",
      "Your ticket is: ['g', 8, 's', 2]. You missed!\n",
      "Your ticket is: ['f', 'd', 3, 2]. You missed!\n",
      "Your ticket is: ['a', 2, 10, 4]. You missed!\n",
      "Your ticket is: [1, 2, 8, 's']. You missed!\n",
      "Your ticket is: [1, 4, 10, 8]. You missed!\n",
      "Your ticket is: ['s', 'f', 10, 8]. You missed!\n",
      "Your ticket is: [3, 'd', 5, 'g']. You missed!\n",
      "Your ticket is: [7, 4, 9, 5]. You missed!\n",
      "Your ticket is: ['s', 10, 4, 5]. You missed!\n",
      "Your ticket is: [2, 'f', 7, 'g']. You missed!\n",
      "Your ticket is: [4, 10, 'f', 's']. You missed!\n",
      "Your ticket is: [9, 'd', 6, 2]. You missed!\n",
      "Your ticket is: [1, 'f', 9, 8]. You missed!\n",
      "Your ticket is: [6, 'f', 3, 5]. You missed!\n",
      "Your ticket is: [1, 's', 4, 5]. You missed!\n",
      "Your ticket is: [10, 7, 5, 1]. You missed!\n",
      "Your ticket is: [10, 9, 'd', 2]. You missed!\n",
      "Your ticket is: [5, 3, 'f', 9]. You missed!\n",
      "Your ticket is: [2, 3, 9, 1]. You missed!\n",
      "Your ticket is: [4, 6, 'd', 'g']. You missed!\n",
      "Your ticket is: ['f', 3, 2, 'g']. You missed!\n",
      "Your ticket is: ['g', 7, 'f', 'a']. You missed!\n",
      "Your ticket is: ['f', 1, 4, 7]. You missed!\n",
      "Your ticket is: ['d', 'f', 9, 8]. You missed!\n",
      "Your ticket is: [6, 'g', 9, 'f']. You missed!\n",
      "Your ticket is: [6, 'f', 4, 'g']. You missed!\n",
      "Your ticket is: ['d', 'a', 9, 7]. You missed!\n",
      "Your ticket is: [7, 10, 'g', 'a']. You missed!\n",
      "Your ticket is: [3, 'a', 9, 'g']. You missed!\n",
      "Your ticket is: [8, 1, 4, 6]. You missed!\n",
      "Your ticket is: [3, 'g', 'd', 2]. You missed!\n",
      "Your ticket is: ['a', 'g', 'd', 3]. You missed!\n",
      "Your ticket is: ['g', 6, 'f', 5]. You missed!\n",
      "Your ticket is: [6, 10, 's', 2]. You missed!\n",
      "Your ticket is: ['g', 2, 3, 's']. You missed!\n",
      "Your ticket is: [6, 'g', 9, 'd']. You missed!\n",
      "Your ticket is: ['d', 8, 7, 9]. You missed!\n",
      "Your ticket is: [3, 'd', 4, 2]. You missed!\n",
      "Your ticket is: [7, 'd', 6, 4]. You missed!\n",
      "Your ticket is: [8, 'f', 4, 5]. You missed!\n",
      "Your ticket is: ['a', 4, 6, 7]. You missed!\n",
      "Your ticket is: ['g', 'd', 6, 4]. You missed!\n",
      "Your ticket is: ['s', 'd', 10, 'f']. You missed!\n",
      "Your ticket is: [10, 8, 9, 'g']. You missed!\n",
      "Your ticket is: [2, 'd', 'g', 'f']. You missed!\n",
      "Your ticket is: ['s', 9, 5, 1]. You missed!\n",
      "Your ticket is: [5, 'g', 'd', 7]. You missed!\n",
      "Your ticket is: ['f', 's', 9, 4]. You missed!\n",
      "Your ticket is: [10, 5, 'f', 9]. You missed!\n",
      "Your ticket is: [3, 's', 6, 'd']. You missed!\n",
      "Your ticket is: [8, 9, 'f', 1]. You missed!\n",
      "Your ticket is: [7, 8, 3, 10]. You missed!\n",
      "Your ticket is: ['s', 8, 7, 1]. You missed!\n",
      "Your ticket is: [10, 'g', 8, 3]. You missed!\n",
      "Your ticket is: ['a', 7, 3, 'f']. You missed!\n",
      "Your ticket is: ['g', 1, 'd', 6]. You missed!\n",
      "Your ticket is: [2, 's', 8, 7]. You missed!\n",
      "Your ticket is: [10, 'g', 3, 'd']. You missed!\n",
      "Your ticket is: ['s', 'a', 8, 6]. You missed!\n",
      "Your ticket is: ['s', 'd', 3, 7]. You missed!\n",
      "Your ticket is: [4, 'a', 9, 6]. You missed!\n",
      "Your ticket is: ['f', 's', 2, 'd']. You missed!\n",
      "Your ticket is: [7, 'd', 6, 's']. You missed!\n",
      "Your ticket is: [5, 1, 4, 10]. You missed!\n",
      "Your ticket is: [4, 10, 9, 3]. You missed!\n",
      "Your ticket is: ['g', 6, 9, 8]. You missed!\n",
      "Your ticket is: [6, 'a', 8, 5]. You missed!\n",
      "Your ticket is: [2, 'f', 5, 4]. You missed!\n",
      "Your ticket is: [10, 3, 1, 'd']. You missed!\n",
      "Your ticket is: [6, 3, 'f', 10]. You missed!\n",
      "Your ticket is: [4, 1, 'f', 6]. You missed!\n",
      "Your ticket is: [3, 2, 10, 5]. You missed!\n",
      "Your ticket is: [1, 'f', 5, 10]. You missed!\n",
      "Your ticket is: ['f', 7, 's', 9]. You missed!\n",
      "Your ticket is: [7, 'f', 'a', 8]. You missed!\n",
      "Your ticket is: [10, 9, 2, 6]. You missed!\n",
      "Your ticket is: [6, 5, 9, 2]. You missed!\n",
      "Your ticket is: [3, 6, 'f', 'a']. You missed!\n",
      "Your ticket is: [10, 'f', 'd', 'g']. You missed!\n",
      "Your ticket is: [7, 'a', 4, 9]. You missed!\n",
      "Your ticket is: [3, 'g', 8, 2]. You missed!\n",
      "Your ticket is: ['g', 7, 9, 's']. You missed!\n",
      "Your ticket is: [6, 'f', 's', 5]. You missed!\n",
      "Your ticket is: ['a', 9, 7, 'd']. You missed!\n",
      "Your ticket is: [3, 6, 8, 10]. You missed!\n",
      "Your ticket is: ['g', 8, 'd', 10]. You missed!\n",
      "Your ticket is: ['f', 2, 's', 9]. You missed!\n",
      "Your ticket is: [7, 'd', 'a', 's']. You missed!\n",
      "Your ticket is: ['d', 's', 'g', 1]. You missed!\n",
      "Your ticket is: [6, 'a', 4, 'd']. You missed!\n",
      "Your ticket is: [5, 4, 'a', 6]. You missed!\n",
      "Your ticket is: [1, 3, 9, 'd']. You missed!\n",
      "Your ticket is: [10, 's', 2, 'a']. You missed!\n",
      "Your ticket is: [10, 'd', 6, 1]. You missed!\n",
      "Your ticket is: ['a', 's', 2, 10]. You missed!\n",
      "Your ticket is: [5, 'd', 'a', 10]. You missed!\n",
      "Your ticket is: [3, 'a', 'g', 6]. You missed!\n",
      "Your ticket is: [7, 5, 4, 'a']. You missed!\n",
      "Your ticket is: [6, 'a', 4, 'd']. You missed!\n",
      "Your ticket is: [8, 's', 9, 7]. You missed!\n",
      "Your ticket is: [7, 2, 3, 'g']. You missed!\n",
      "Your ticket is: ['g', 's', 5, 'a']. You missed!\n",
      "Your ticket is: [2, 10, 5, 7]. You missed!\n",
      "Your ticket is: ['s', 4, 'd', 'g']. You missed!\n",
      "Your ticket is: ['g', 5, 6, 8]. You missed!\n",
      "Your ticket is: [9, 'a', 7, 10]. You missed!\n",
      "Your ticket is: ['s', 6, 'g', 'a']. You missed!\n",
      "Your ticket is: [8, 6, 7, 3]. You missed!\n",
      "Your ticket is: [3, 7, 'd', 'a']. You missed!\n",
      "Your ticket is: [5, 7, 3, 2]. You missed!\n",
      "Your ticket is: ['s', 'f', 3, 'd']. You missed!\n",
      "Your ticket is: [7, 10, 'f', 8]. You missed!\n",
      "Your ticket is: ['s', 2, 'f', 'g']. You missed!\n",
      "Your ticket is: ['d', 10, 5, 4]. You missed!\n",
      "Your ticket is: [9, 6, 5, 'g']. You missed!\n",
      "Your ticket is: [6, 'g', 'f', 's']. You missed!\n",
      "Your ticket is: [6, 3, 2, 's']. You missed!\n",
      "Your ticket is: ['f', 5, 8, 's']. You missed!\n",
      "Your ticket is: [9, 's', 'a', 4]. You missed!\n",
      "Your ticket is: ['s', 5, 'a', 3]. You missed!\n",
      "Your ticket is: [8, 2, 's', 3]. You missed!\n",
      "Your ticket is: [6, 's', 9, 'd']. You missed!\n",
      "Your ticket is: ['s', 9, 'a', 5]. You missed!\n",
      "Your ticket is: ['f', 'd', 's', 1]. You missed!\n",
      "Your ticket is: [1, 3, 7, 6]. You missed!\n",
      "Your ticket is: ['d', 9, 4, 3]. You missed!\n",
      "Your ticket is: ['g', 5, 'a', 3]. You missed!\n",
      "Your ticket is: [5, 8, 4, 3]. You missed!\n",
      "Your ticket is: [7, 3, 4, 6]. You missed!\n",
      "Your ticket is: ['s', 8, 4, 9]. You missed!\n",
      "Your ticket is: ['d', 3, 'f', 's']. You missed!\n",
      "Your ticket is: [5, 8, 4, 2]. You missed!\n",
      "Your ticket is: [1, 9, 'g', 6]. You missed!\n",
      "Your ticket is: [9, 'd', 8, 7]. You missed!\n",
      "Your ticket is: ['a', 2, 5, 's']. You missed!\n",
      "Your ticket is: [9, 7, 10, 'f']. You missed!\n",
      "Your ticket is: [2, 'g', 4, 's']. You missed!\n",
      "Your ticket is: ['a', 10, 'f', 6]. You missed!\n",
      "Your ticket is: [8, 6, 2, 9]. You missed!\n",
      "Your ticket is: ['g', 'a', 6, 9]. You missed!\n",
      "Your ticket is: ['g', 1, 10, 4]. You missed!\n",
      "Your ticket is: ['g', 9, 7, 'd']. You missed!\n",
      "Your ticket is: [4, 's', 'g', 'a']. You missed!\n",
      "Your ticket is: ['s', 'f', 9, 2]. You missed!\n",
      "Your ticket is: ['g', 8, 5, 9]. You missed!\n",
      "Your ticket is: [5, 3, 9, 1]. You missed!\n",
      "Your ticket is: ['a', 's', 5, 1]. You missed!\n",
      "Your ticket is: [10, 'f', 9, 8]. You missed!\n",
      "Your ticket is: [4, 'd', 7, 5]. You missed!\n",
      "Your ticket is: [3, 2, 8, 9]. You missed!\n",
      "Your ticket is: [5, 'f', 8, 2]. You missed!\n",
      "Your ticket is: [9, 10, 'a', 5]. You missed!\n",
      "Your ticket is: [1, 'd', 9, 2]. You missed!\n",
      "Your ticket is: [10, 6, 'f', 3]. You missed!\n",
      "Your ticket is: ['f', 's', 8, 'g']. You missed!\n",
      "Your ticket is: [2, 10, 8, 3]. You missed!\n",
      "Your ticket is: [1, 5, 3, 'g']. You missed!\n",
      "Your ticket is: ['g', 'f', 8, 'a']. You missed!\n",
      "Your ticket is: [3, 'g', 'a', 2]. You missed!\n",
      "Your ticket is: ['s', 'f', 10, 9]. You missed!\n",
      "Your ticket is: [6, 'd', 8, 1]. You missed!\n",
      "Your ticket is: [9, 10, 5, 3]. You missed!\n",
      "Your ticket is: [3, 'd', 1, 8]. You missed!\n",
      "Your ticket is: ['s', 7, 9, 'd']. You missed!\n",
      "Your ticket is: [1, 7, 'd', 3]. You missed!\n",
      "Your ticket is: [6, 'd', 4, 2]. You missed!\n",
      "Your ticket is: [6, 9, 3, 2]. You missed!\n",
      "Your ticket is: [8, 'g', 4, 10]. You missed!\n",
      "Your ticket is: [2, 1, 5, 7]. You missed!\n",
      "Your ticket is: ['f', 'a', 8, 9]. You missed!\n",
      "Your ticket is: [5, 6, 'g', 's']. You missed!\n",
      "Your ticket is: [9, 8, 2, 1]. You missed!\n",
      "Your ticket is: [9, 'a', 1, 6]. You missed!\n",
      "Your ticket is: ['f', 4, 'd', 10]. You missed!\n",
      "Your ticket is: [10, 's', 2, 6]. You missed!\n",
      "Your ticket is: [10, 4, 'g', 5]. You missed!\n",
      "Your ticket is: ['a', 's', 9, 'f']. You missed!\n",
      "Your ticket is: [7, 6, 8, 'f']. You missed!\n",
      "Your ticket is: ['a', 5, 6, 7]. You missed!\n",
      "Your ticket is: [6, 'g', 'f', 'd']. You missed!\n",
      "Your ticket is: [3, 'd', 'g', 's']. You missed!\n",
      "Your ticket is: ['d', 7, 10, 1]. You missed!\n",
      "Your ticket is: ['f', 'g', 'd', 2]. You missed!\n",
      "Your ticket is: ['g', 10, 'f', 6]. You missed!\n",
      "Your ticket is: [8, 5, 'a', 'd']. You missed!\n",
      "Your ticket is: [7, 1, 's', 'a']. You missed!\n",
      "Your ticket is: [2, 1, 10, 'a']. You missed!\n",
      "Your ticket is: ['s', 7, 'g', 3]. You missed!\n",
      "Your ticket is: ['d', 5, 'g', 'f']. You missed!\n",
      "Your ticket is: [5, 4, 7, 2]. You missed!\n",
      "Your ticket is: [1, 3, 6, 9]. You missed!\n",
      "Your ticket is: [6, 5, 2, 8]. You missed!\n",
      "Your ticket is: ['a', 9, 6, 10]. You missed!\n",
      "Your ticket is: ['g', 1, 10, 2]. You missed!\n",
      "Your ticket is: [1, 6, 2, 8]. You missed!\n",
      "Your ticket is: ['a', 5, 'f', 1]. You missed!\n",
      "Your ticket is: [2, 'a', 5, 4]. You missed!\n",
      "Your ticket is: [6, 'g', 's', 'd']. You missed!\n",
      "Your ticket is: [6, 's', 2, 8]. You missed!\n",
      "Your ticket is: [6, 'd', 7, 1]. You missed!\n",
      "Your ticket is: [7, 9, 4, 'd']. You missed!\n",
      "Your ticket is: [9, 'd', 5, 6]. You missed!\n",
      "Your ticket is: [8, 'a', 2, 10]. You missed!\n",
      "Your ticket is: ['a', 'f', 2, 'd']. You missed!\n",
      "Your ticket is: ['a', 4, 'g', 'f']. You missed!\n",
      "Your ticket is: ['d', 1, 2, 'a']. You missed!\n",
      "Your ticket is: [10, 5, 8, 4]. You missed!\n",
      "Your ticket is: ['a', 10, 'f', 7]. You missed!\n",
      "Your ticket is: [3, 'f', 's', 'd']. You missed!\n",
      "Your ticket is: [1, 5, 's', 8]. You missed!\n",
      "Your ticket is: [4, 10, 8, 'd']. You missed!\n",
      "Your ticket is: [5, 's', 7, 1]. You missed!\n",
      "Your ticket is: [8, 9, 'd', 3]. You missed!\n",
      "Your ticket is: ['d', 4, 'a', 8]. You missed!\n",
      "Your ticket is: [6, 2, 'g', 9]. You missed!\n",
      "Your ticket is: ['a', 6, 4, 10]. You missed!\n",
      "Your ticket is: [2, 'g', 10, 5]. You missed!\n",
      "Your ticket is: [1, 's', 5, 6]. You missed!\n",
      "Your ticket is: [4, 'g', 'f', 3]. You missed!\n",
      "Your ticket is: ['s', 8, 5, 4]. You missed!\n",
      "Your ticket is: ['f', 'a', 3, 'd']. You missed!\n",
      "Your ticket is: [9, 7, 'a', 'd']. You missed!\n",
      "Your ticket is: ['f', 2, 6, 'd']. You missed!\n",
      "Your ticket is: [2, 8, 'f', 1]. You missed!\n",
      "Your ticket is: ['a', 4, 3, 1]. You missed!\n",
      "Your ticket is: [9, 'd', 6, 's']. You missed!\n",
      "Your ticket is: [8, 3, 'd', 2]. You missed!\n",
      "Your ticket is: [6, 's', 5, 9]. You missed!\n",
      "Your ticket is: [10, 8, 9, 'g']. You missed!\n",
      "Your ticket is: ['g', 7, 'a', 4]. You missed!\n",
      "Your ticket is: [6, 2, 's', 10]. You missed!\n",
      "Your ticket is: [4, 7, 5, 8]. You missed!\n",
      "Your ticket is: [10, 1, 8, 5]. You missed!\n",
      "Your ticket is: ['g', 7, 'f', 2]. You missed!\n",
      "Your ticket is: ['a', 'd', 'g', 1]. You missed!\n",
      "Your ticket is: [7, 'd', 2, 's']. You missed!\n",
      "Your ticket is: ['a', 3, 2, 1]. You missed!\n",
      "Your ticket is: [7, 9, 6, 'g']. You missed!\n",
      "Your ticket is: [7, 's', 1, 'a']. You missed!\n",
      "Your ticket is: ['s', 9, 6, 10]. You missed!\n",
      "Your ticket is: [8, 'a', 5, 'd']. You missed!\n",
      "Your ticket is: [10, 'g', 1, 'f']. You missed!\n",
      "Your ticket is: ['s', 'a', 7, 'g']. You missed!\n",
      "Your ticket is: [7, 10, 1, 6]. You missed!\n",
      "Your ticket is: ['d', 's', 3, 6]. You missed!\n",
      "Your ticket is: ['s', 6, 2, 5]. You missed!\n",
      "Your ticket is: ['s', 'd', 3, 7]. You missed!\n",
      "Your ticket is: [7, 10, 2, 4]. You missed!\n",
      "Your ticket is: [1, 7, 10, 'a']. You missed!\n",
      "Your ticket is: ['a', 2, 7, 3]. You missed!\n",
      "Your ticket is: ['d', 3, 'a', 1]. You missed!\n",
      "Your ticket is: [10, 9, 8, 6]. You missed!\n",
      "Your ticket is: ['s', 9, 'f', 'a']. You missed!\n",
      "Your ticket is: [3, 'a', 9, 's']. You missed!\n",
      "Your ticket is: [4, 'd', 7, 'a']. You missed!\n",
      "Your ticket is: [2, 's', 7, 3]. You missed!\n",
      "Your ticket is: ['a', 10, 5, 9]. You missed!\n",
      "Your ticket is: [4, 10, 5, 'd']. You missed!\n",
      "Your ticket is: [3, 1, 'a', 5]. You missed!\n",
      "Your ticket is: ['f', 8, 's', 4]. You missed!\n",
      "Your ticket is: [3, 10, 1, 5]. You missed!\n",
      "Your ticket is: [1, 6, 2, 'd']. You missed!\n",
      "Your ticket is: [10, 's', 5, 'f']. You missed!\n",
      "Your ticket is: [4, 1, 10, 2]. You missed!\n",
      "Your ticket is: [10, 7, 'g', 2]. You missed!\n",
      "Your ticket is: [2, 'd', 'f', 8]. You missed!\n",
      "Your ticket is: [4, 5, 7, 10]. You missed!\n",
      "Your ticket is: [3, 'g', 9, 'd']. You missed!\n",
      "Your ticket is: [10, 7, 'f', 's']. You missed!\n",
      "Your ticket is: [6, 9, 'a', 10]. You missed!\n",
      "Your ticket is: ['f', 'g', 6, 1]. You missed!\n",
      "Your ticket is: [2, 1, 5, 9]. You missed!\n",
      "Your ticket is: ['s', 5, 9, 4]. You missed!\n",
      "Your ticket is: ['d', 'f', 3, 5]. You missed!\n",
      "Your ticket is: ['s', 9, 7, 'f']. You missed!\n",
      "Your ticket is: [10, 3, 1, 'g']. You missed!\n",
      "Your ticket is: [1, 8, 'g', 3]. You missed!\n",
      "Your ticket is: [8, 10, 9, 'd']. You missed!\n",
      "Your ticket is: [1, 's', 'g', 'f']. You missed!\n",
      "Your ticket is: ['s', 8, 3, 'f']. You missed!\n",
      "Your ticket is: [9, 6, 'a', 's']. You missed!\n",
      "Your ticket is: [10, 8, 'f', 9]. You missed!\n",
      "Your ticket is: ['s', 'f', 8, 'a']. You missed!\n",
      "Your ticket is: ['s', 5, 'd', 'a']. You missed!\n",
      "Your ticket is: ['a', 'f', 2, 'g']. You missed!\n",
      "Your ticket is: [1, 6, 's', 9]. You missed!\n",
      "Your ticket is: ['a', 5, 2, 's']. You missed!\n",
      "Your ticket is: [5, 10, 9, 2]. You missed!\n",
      "Your ticket is: ['f', 10, 6, 'a']. You missed!\n",
      "Your ticket is: [10, 1, 9, 'd']. You missed!\n",
      "Your ticket is: ['a', 4, 3, 8]. You missed!\n",
      "Your ticket is: ['d', 'f', 3, 5]. You missed!\n",
      "Your ticket is: [8, 10, 9, 'a']. You missed!\n",
      "Your ticket is: ['d', 9, 3, 10]. You missed!\n",
      "Your ticket is: [1, 'd', 6, 7]. You missed!\n",
      "Your ticket is: [6, 'a', 10, 's']. You missed!\n",
      "Your ticket is: [8, 1, 10, 's']. You missed!\n",
      "Your ticket is: [5, 4, 10, 8]. You missed!\n",
      "Your ticket is: [4, 6, 5, 's']. You missed!\n",
      "Your ticket is: ['s', 'f', 6, 1]. You missed!\n",
      "Your ticket is: [7, 4, 'f', 'a']. You missed!\n",
      "Your ticket is: [10, 's', 1, 'd']. You missed!\n",
      "Your ticket is: [4, 'a', 8, 'f']. You missed!\n",
      "Your ticket is: [7, 5, 1, 'f']. You missed!\n",
      "Your ticket is: [1, 4, 9, 2]. You missed!\n",
      "Your ticket is: ['f', 7, 8, 'g']. You missed!\n",
      "Your ticket is: ['a', 2, 'd', 's']. You missed!\n",
      "Your ticket is: ['s', 4, 1, 8]. You missed!\n",
      "Your ticket is: ['a', 'g', 4, 8]. You missed!\n",
      "Your ticket is: ['d', 4, 8, 1]. You missed!\n",
      "Your ticket is: [5, 6, 'a', 1]. You missed!\n",
      "Your ticket is: [6, 10, 7, 2]. You missed!\n",
      "Your ticket is: ['d', 4, 3, 2]. You missed!\n",
      "Your ticket is: [7, 8, 9, 'a']. You missed!\n",
      "Your ticket is: [8, 's', 10, 'f']. You missed!\n",
      "Your ticket is: ['a', 'f', 7, 'd']. You missed!\n",
      "Your ticket is: ['s', 5, 10, 'f']. You missed!\n",
      "Your ticket is: ['s', 7, 6, 'd']. You missed!\n",
      "Your ticket is: [2, 7, 'f', 1]. You missed!\n",
      "Your ticket is: ['s', 8, 1, 'f']. You missed!\n",
      "Your ticket is: [1, 3, 7, 'd']. You missed!\n",
      "Your ticket is: [9, 1, 'g', 3]. You missed!\n",
      "Your ticket is: ['s', 6, 9, 7]. You missed!\n",
      "Your ticket is: ['g', 'a', 1, 7]. You missed!\n",
      "Your ticket is: [1, 'g', 6, 8]. You missed!\n",
      "Your ticket is: ['d', 's', 1, 4]. You missed!\n",
      "Your ticket is: ['f', 'd', 3, 2]. You missed!\n",
      "Your ticket is: [9, 7, 6, 'a']. You missed!\n",
      "Your ticket is: [5, 3, 9, 1]. You missed!\n",
      "Your ticket is: ['f', 9, 'a', 10]. You missed!\n",
      "Your ticket is: [8, 6, 'g', 3]. You missed!\n",
      "Your ticket is: [4, 's', 'd', 5]. You missed!\n",
      "Your ticket is: [9, 2, 8, 4]. You missed!\n",
      "Your ticket is: [4, 9, 2, 'd']. You missed!\n",
      "Your ticket is: [2, 7, 1, 8]. You missed!\n",
      "Your ticket is: [8, 1, 6, 10]. You missed!\n",
      "Your ticket is: ['g', 1, 5, 's']. You missed!\n",
      "Your ticket is: [9, 7, 8, 'g']. You missed!\n",
      "Your ticket is: [9, 6, 8, 5]. You missed!\n",
      "Your ticket is: [7, 'f', 2, 9]. You missed!\n",
      "Your ticket is: ['f', 9, 2, 10]. You missed!\n",
      "Your ticket is: [3, 1, 'd', 8]. You missed!\n",
      "Your ticket is: ['s', 8, 9, 3]. You missed!\n",
      "Your ticket is: [3, 'a', 'f', 's']. You missed!\n",
      "Your ticket is: [9, 'd', 's', 'g']. You missed!\n",
      "Your ticket is: [4, 2, 'g', 8]. You missed!\n",
      "Your ticket is: [10, 7, 'f', 9]. You missed!\n",
      "Your ticket is: [9, 3, 6, 's']. You missed!\n",
      "Your ticket is: [9, 7, 5, 4]. You missed!\n",
      "Your ticket is: [9, 'a', 'f', 7]. You missed!\n",
      "Your ticket is: [1, 'a', 4, 3]. You missed!\n",
      "Your ticket is: [1, 'f', 7, 9]. You missed!\n",
      "Your ticket is: ['d', 10, 1, 'a']. You missed!\n",
      "Your ticket is: ['d', 'g', 'a', 2]. You missed!\n",
      "Your ticket is: [10, 2, 'a', 4]. You missed!\n",
      "Your ticket is: [3, 'a', 'd', 'f']. You missed!\n",
      "Your ticket is: [5, 9, 8, 'd']. You missed!\n",
      "Your ticket is: [9, 4, 's', 'g']. You missed!\n",
      "Your ticket is: ['g', 9, 10, 4]. You missed!\n",
      "Your ticket is: ['a', 5, 'd', 8]. You missed!\n",
      "Your ticket is: [10, 8, 9, 'g']. You missed!\n",
      "Your ticket is: [4, 6, 9, 7]. You missed!\n",
      "Your ticket is: [8, 'a', 10, 6]. You missed!\n",
      "Your ticket is: ['s', 'a', 'g', 9]. You missed!\n",
      "Your ticket is: ['s', 5, 1, 'a']. You missed!\n",
      "Your ticket is: ['a', 5, 6, 'g']. You missed!\n",
      "Your ticket is: [5, 4, 3, 'g']. You missed!\n",
      "Your ticket is: ['a', 'd', 8, 6]. You missed!\n",
      "Your ticket is: [8, 1, 7, 5]. You missed!\n",
      "Your ticket is: [9, 6, 7, 'd']. You missed!\n",
      "Your ticket is: ['g', 3, 'a', 1]. You missed!\n",
      "Your ticket is: [2, 'f', 's', 1]. You missed!\n",
      "Your ticket is: [8, 4, 5, 'f']. You missed!\n",
      "Your ticket is: [3, 2, 10, 'g']. You missed!\n",
      "Your ticket is: [9, 's', 'a', 10]. You missed!\n",
      "Your ticket is: [10, 7, 4, 9]. You missed!\n",
      "Your ticket is: [9, 's', 7, 'a']. You missed!\n",
      "Your ticket is: [2, 10, 's', 'f']. You missed!\n",
      "Your ticket is: [1, 'a', 'g', 3]. You missed!\n",
      "Your ticket is: [7, 3, 9, 2]. You missed!\n",
      "Your ticket is: [4, 'a', 7, 'd']. You missed!\n",
      "Your ticket is: [2, 4, 'f', 3]. You missed!\n",
      "Your ticket is: ['s', 1, 8, 6]. You missed!\n",
      "Your ticket is: ['g', 5, 'd', 3]. You missed!\n",
      "Your ticket is: [3, 5, 's', 6]. You missed!\n",
      "Your ticket is: [4, 2, 3, 8]. You missed!\n",
      "Your ticket is: [6, 'g', 4, 3]. You missed!\n",
      "Your ticket is: [7, 'd', 1, 'g']. You missed!\n",
      "Your ticket is: [7, 'g', 'a', 10]. You missed!\n",
      "Your ticket is: ['a', 5, 7, 'd']. You missed!\n",
      "Your ticket is: [10, 'd', 'f', 's']. You missed!\n",
      "Your ticket is: [7, 5, 'd', 'a']. You missed!\n",
      "Your ticket is: [4, 5, 3, 1]. You missed!\n",
      "Your ticket is: ['s', 4, 8, 'a']. You missed!\n",
      "Your ticket is: [10, 'd', 'f', 4]. You missed!\n",
      "Your ticket is: [9, 7, 'g', 's']. You missed!\n",
      "Your ticket is: ['d', 1, 7, 5]. You missed!\n",
      "Your ticket is: [7, 6, 'd', 4]. You missed!\n",
      "Your ticket is: [2, 7, 'd', 3]. You missed!\n",
      "Your ticket is: ['a', 10, 1, 's']. You missed!\n",
      "Your ticket is: ['a', 5, 4, 8]. You missed!\n",
      "Your ticket is: ['g', 'd', 9, 4]. You missed!\n",
      "Your ticket is: ['d', 's', 6, 1]. You missed!\n",
      "Your ticket is: [8, 'd', 's', 'g']. You missed!\n",
      "Your ticket is: ['f', 10, 6, 'g']. You missed!\n",
      "Your ticket is: [10, 'f', 7, 'g']. You missed!\n",
      "Your ticket is: ['a', 'f', 2, 9]. You missed!\n",
      "Your ticket is: ['g', 's', 2, 6]. You missed!\n",
      "Your ticket is: [8, 5, 'g', 1]. You missed!\n",
      "Your ticket is: ['s', 5, 'f', 3]. You missed!\n",
      "Your ticket is: [1, 4, 6, 7]. You missed!\n",
      "Your ticket is: [8, 4, 'd', 2]. You missed!\n",
      "Your ticket is: ['g', 7, 'a', 4]. You missed!\n",
      "Your ticket is: [10, 'g', 'a', 3]. You missed!\n",
      "Your ticket is: [7, 'f', 1, 8]. You missed!\n",
      "Your ticket is: [9, 'g', 6, 'd']. You missed!\n",
      "Your ticket is: ['a', 5, 6, 10]. You missed!\n",
      "Your ticket is: [4, 3, 10, 5]. You missed!\n",
      "Your ticket is: ['d', 3, 2, 4]. You missed!\n",
      "Your ticket is: [10, 3, 'a', 5]. You missed!\n",
      "Your ticket is: ['s', 8, 6, 'f']. You missed!\n",
      "Your ticket is: [2, 'a', 1, 4]. You missed!\n",
      "Your ticket is: [6, 's', 4, 9]. You missed!\n",
      "Your ticket is: [2, 3, 'g', 'f']. You missed!\n",
      "Your ticket is: ['d', 10, 2, 6]. You missed!\n",
      "Your ticket is: ['f', 5, 9, 4]. You missed!\n",
      "Your ticket is: [6, 7, 2, 'a']. You missed!\n",
      "Your ticket is: ['f', 7, 10, 'a']. You missed!\n",
      "Your ticket is: ['d', 's', 6, 4]. You missed!\n",
      "Your ticket is: [5, 1, 8, 7]. You missed!\n",
      "Your ticket is: [7, 3, 10, 8]. You missed!\n",
      "Your ticket is: ['d', 4, 'f', 9]. You missed!\n",
      "Your ticket is: [2, 'd', 3, 7]. You missed!\n",
      "Your ticket is: ['d', 'f', 10, 1]. You missed!\n",
      "Your ticket is: ['a', 4, 8, 1]. You missed!\n",
      "Your ticket is: [8, 1, 3, 'f']. You missed!\n",
      "Your ticket is: ['g', 'a', 9, 'f']. You missed!\n",
      "Your ticket is: [10, 6, 2, 1]. You missed!\n",
      "Your ticket is: ['d', 'a', 'f', 3]. You missed!\n",
      "Your ticket is: [7, 9, 10, 's']. You missed!\n",
      "Your ticket is: [7, 1, 6, 'a']. You missed!\n",
      "Your ticket is: ['d', 'a', 4, 9]. You missed!\n",
      "Your ticket is: [2, 5, 's', 4]. You missed!\n",
      "Your ticket is: ['d', 's', 5, 3]. You missed!\n",
      "Your ticket is: ['f', 8, 9, 'a']. You missed!\n",
      "Your ticket is: ['f', 2, 10, 3]. You missed!\n",
      "Your ticket is: ['f', 3, 8, 10]. You missed!\n",
      "Your ticket is: ['a', 'f', 8, 7]. You missed!\n",
      "Your ticket is: [2, 6, 9, 'd']. You missed!\n",
      "Your ticket is: [8, 9, 2, 10]. You missed!\n",
      "Your ticket is: [2, 9, 'd', 4]. You missed!\n",
      "Your ticket is: ['f', 5, 'a', 10]. You missed!\n",
      "Your ticket is: [4, 6, 'd', 's']. You missed!\n",
      "Your ticket is: ['g', 'd', 5, 1]. You missed!\n",
      "Your ticket is: ['d', 8, 'f', 10]. You missed!\n",
      "Your ticket is: [6, 'd', 7, 3]. You missed!\n",
      "Your ticket is: [9, 7, 4, 8]. You missed!\n",
      "Your ticket is: [7, 4, 8, 6]. You missed!\n",
      "Your ticket is: ['a', 8, 1, 6]. You missed!\n",
      "Your ticket is: [5, 4, 1, 8]. You missed!\n",
      "Your ticket is: [4, 'f', 5, 2]. You missed!\n",
      "Your ticket is: [7, 1, 2, 3]. You missed!\n",
      "Your ticket is: [9, 3, 's', 1]. You missed!\n",
      "Your ticket is: [1, 9, 4, 's']. You missed!\n",
      "Your ticket is: ['d', 8, 'f', 3]. You missed!\n",
      "Your ticket is: [2, 1, 10, 'g']. You missed!\n",
      "Your ticket is: [5, 9, 'f', 8]. You missed!\n",
      "Your ticket is: [9, 1, 'f', 7]. You missed!\n",
      "Your ticket is: [7, 's', 'f', 'a']. You missed!\n",
      "Your ticket is: ['g', 'd', 7, 6]. You missed!\n",
      "Your ticket is: [7, 'd', 10, 1]. You missed!\n",
      "Your ticket is: [8, 'd', 6, 7]. You missed!\n",
      "Your ticket is: [6, 4, 8, 9]. You missed!\n",
      "Your ticket is: ['g', 6, 2, 'f']. You missed!\n",
      "Your ticket is: [2, 1, 9, 6]. You missed!\n",
      "Your ticket is: [6, 1, 9, 5]. You missed!\n",
      "Your ticket is: [1, 7, 10, 9]. You missed!\n",
      "Your ticket is: [4, 3, 'a', 1]. You missed!\n",
      "Your ticket is: [9, 'd', 6, 5]. You missed!\n",
      "Your ticket is: ['a', 9, 7, 5]. You missed!\n",
      "Your ticket is: [1, 'a', 9, 's']. You missed!\n",
      "Your ticket is: [2, 'g', 'd', 6]. You missed!\n",
      "Your ticket is: ['s', 'a', 6, 10]. You missed!\n",
      "Your ticket is: [7, 9, 8, 2]. You missed!\n",
      "Your ticket is: [10, 1, 'a', 'd']. You missed!\n",
      "Your ticket is: ['a', 7, 2, 'f']. You missed!\n",
      "Your ticket is: [6, 7, 'g', 8]. You missed!\n",
      "Your ticket is: [7, 'f', 6, 4]. You missed!\n",
      "Your ticket is: [7, 'f', 6, 'd']. You missed!\n",
      "Your ticket is: [4, 1, 'f', 3]. You missed!\n",
      "Your ticket is: [6, 9, 10, 5]. You missed!\n",
      "Your ticket is: ['s', 7, 6, 5]. You missed!\n",
      "Your ticket is: ['s', 6, 7, 4]. You missed!\n",
      "Your ticket is: [1, 's', 'd', 2]. You missed!\n",
      "Your ticket is: [6, 5, 1, 's']. You missed!\n",
      "Your ticket is: [7, 8, 2, 'g']. You missed!\n",
      "Your ticket is: ['g', 6, 'd', 2]. You missed!\n",
      "Your ticket is: ['a', 4, 'd', 2]. You missed!\n",
      "Your ticket is: ['g', 's', 'f', 10]. You missed!\n",
      "Your ticket is: [5, 3, 6, 7]. You missed!\n",
      "Your ticket is: [10, 7, 4, 's']. You missed!\n",
      "Your ticket is: [4, 2, 9, 's']. You missed!\n",
      "Your ticket is: [1, 9, 7, 6]. You missed!\n",
      "Your ticket is: [1, 'f', 6, 8]. You missed!\n",
      "Your ticket is: [2, 'd', 's', 7]. You missed!\n",
      "Your ticket is: [5, 4, 1, 'f']. You missed!\n",
      "Your ticket is: [9, 4, 'g', 'a']. You missed!\n",
      "Your ticket is: ['f', 6, 'a', 5]. You missed!\n",
      "Your ticket is: [8, 3, 1, 'f']. You missed!\n",
      "Your ticket is: [1, 'g', 6, 'd']. You missed!\n",
      "Your ticket is: [5, 6, 3, 'd']. You missed!\n",
      "Your ticket is: [2, 'a', 6, 'f']. You missed!\n",
      "Your ticket is: ['s', 'd', 'f', 3]. You missed!\n",
      "Your ticket is: [7, 5, 'f', 4]. You missed!\n",
      "Your ticket is: [7, 'f', 's', 3]. You missed!\n",
      "Your ticket is: [2, 9, 8, 'a']. You missed!\n",
      "Your ticket is: [2, 4, 7, 1]. You missed!\n",
      "Your ticket is: [3, 'a', 2, 's']. You missed!\n",
      "Your ticket is: ['d', 'f', 4, 'g']. You missed!\n",
      "Your ticket is: [7, 5, 1, 'g']. You missed!\n",
      "Your ticket is: [7, 3, 4, 8]. You missed!\n",
      "Your ticket is: [5, 's', 'g', 1]. You missed!\n",
      "Your ticket is: [5, 6, 1, 4]. You missed!\n",
      "Your ticket is: ['a', 2, 3, 6]. You missed!\n",
      "Your ticket is: [4, 2, 'd', 5]. You missed!\n",
      "Your ticket is: [5, 'f', 8, 1]. You missed!\n",
      "Your ticket is: [9, 2, 10, 4]. You missed!\n",
      "Your ticket is: ['s', 'a', 'g', 1]. You missed!\n",
      "Your ticket is: [5, 'g', 8, 7]. You missed!\n",
      "Your ticket is: ['d', 10, 9, 'g']. You missed!\n",
      "Your ticket is: ['g', 'a', 4, 9]. You missed!\n",
      "Your ticket is: [9, 4, 1, 3]. You missed!\n",
      "Your ticket is: ['a', 10, 6, 'd']. You missed!\n",
      "Your ticket is: [2, 'a', 9, 3]. You missed!\n",
      "Your ticket is: ['f', 8, 5, 2]. You missed!\n",
      "Your ticket is: ['a', 7, 'g', 4]. You missed!\n",
      "Your ticket is: [10, 'd', 'f', 's']. You missed!\n",
      "Your ticket is: [10, 'a', 4, 9]. You missed!\n",
      "Your ticket is: ['s', 3, 5, 4]. You missed!\n",
      "Your ticket is: [1, 'd', 4, 6]. You missed!\n",
      "Your ticket is: [8, 1, 7, 5]. You missed!\n",
      "Your ticket is: [4, 3, 'f', 8]. You missed!\n",
      "Your ticket is: [9, 3, 2, 10]. You missed!\n",
      "Your ticket is: ['f', 3, 'a', 10]. You missed!\n",
      "Your ticket is: ['a', 's', 1, 7]. You missed!\n",
      "Your ticket is: [10, 1, 'g', 3]. You missed!\n",
      "Your ticket is: [1, 3, 'f', 's']. You missed!\n",
      "Your ticket is: [8, 2, 7, 's']. You missed!\n",
      "Your ticket is: [6, 'a', 1, 3]. You missed!\n",
      "Your ticket is: ['s', 'g', 'd', 4]. You missed!\n",
      "Your ticket is: ['d', 1, 3, 6]. You missed!\n",
      "Your ticket is: ['a', 8, 5, 's']. You missed!\n",
      "Your ticket is: [4, 'a', 9, 3]. You missed!\n",
      "Your ticket is: ['s', 'a', 3, 1]. You missed!\n",
      "Your ticket is: [6, 'g', 2, 7]. You missed!\n",
      "Your ticket is: ['f', 's', 2, 'g']. You missed!\n",
      "Your ticket is: [6, 8, 'a', 7]. You missed!\n",
      "Your ticket is: [4, 's', 'a', 8]. You missed!\n",
      "Your ticket is: [2, 'g', 1, 8]. You missed!\n",
      "Your ticket is: [7, 3, 'd', 'a']. You missed!\n",
      "Your ticket is: [6, 'a', 4, 'd']. You missed!\n",
      "Your ticket is: ['f', 's', 'a', 'g']. You missed!\n",
      "Your ticket is: ['f', 2, 'g', 10]. You missed!\n",
      "Your ticket is: ['s', 1, 7, 2]. You missed!\n",
      "Your ticket is: ['a', 10, 9, 8]. You missed!\n",
      "Your ticket is: [8, 'd', 'g', 2]. You missed!\n",
      "Your ticket is: [10, 5, 1, 2]. You missed!\n",
      "Your ticket is: [7, 'a', 'f', 5]. You missed!\n",
      "Your ticket is: ['g', 8, 3, 'a']. You missed!\n",
      "Your ticket is: ['g', 9, 1, 6]. You missed!\n",
      "Your ticket is: [6, 1, 'a', 'd']. You missed!\n",
      "Your ticket is: [4, 'a', 3, 'd']. You missed!\n",
      "Your ticket is: [6, 5, 9, 2]. You missed!\n",
      "Your ticket is: [10, 's', 'a', 9]. You missed!\n",
      "Your ticket is: [6, 'd', 1, 9]. You missed!\n",
      "Your ticket is: ['g', 6, 's', 'a']. You missed!\n",
      "Your ticket is: [8, 6, 9, 'a']. You missed!\n",
      "Your ticket is: ['g', 10, 6, 5]. You missed!\n",
      "Your ticket is: [7, 's', 10, 2]. You missed!\n",
      "Your ticket is: ['d', 'g', 4, 2]. You missed!\n",
      "Your ticket is: [9, 'd', 5, 's']. You missed!\n",
      "Your ticket is: [8, 2, 4, 9]. You missed!\n",
      "Your ticket is: [1, 'f', 6, 8]. You missed!\n",
      "Your ticket is: [2, 'f', 10, 5]. You missed!\n",
      "Your ticket is: [7, 'g', 'd', 1]. You missed!\n",
      "Your ticket is: [3, 1, 'a', 10]. You missed!\n",
      "Your ticket is: [6, 9, 'g', 1]. You missed!\n",
      "Your ticket is: ['f', 'a', 'd', 'g']. You missed!\n",
      "Your ticket is: ['d', 1, 'f', 'g']. You missed!\n",
      "Your ticket is: [9, 's', 8, 1]. You missed!\n",
      "Your ticket is: [9, 1, 7, 'd']. You missed!\n",
      "Your ticket is: [5, 7, 1, 'd']. You missed!\n",
      "Your ticket is: [4, 7, 5, 9]. You missed!\n",
      "Your ticket is: [8, 'd', 6, 'a']. You missed!\n",
      "Your ticket is: [1, 7, 9, 6]. You missed!\n",
      "Your ticket is: ['s', 10, 'g', 2]. You missed!\n",
      "Your ticket is: ['d', 5, 6, 3]. You missed!\n",
      "Your ticket is: [2, 's', 1, 'g']. You missed!\n",
      "Your ticket is: [5, 7, 'f', 'g']. You missed!\n",
      "Your ticket is: [6, 'd', 7, 'a']. You missed!\n",
      "Your ticket is: [8, 'a', 5, 4]. You missed!\n",
      "Your ticket is: [8, 'g', 7, 2]. You missed!\n",
      "Your ticket is: [7, 'a', 'd', 's']. You missed!\n",
      "Your ticket is: [7, 2, 6, 'g']. You missed!\n",
      "Your ticket is: [6, 3, 'f', 7]. You missed!\n",
      "Your ticket is: [8, 'g', 7, 2]. You missed!\n",
      "Your ticket is: ['a', 's', 8, 1]. You missed!\n",
      "Your ticket is: [2, 's', 'd', 8]. You missed!\n",
      "Your ticket is: [5, 2, 6, 'g']. You missed!\n",
      "Your ticket is: [3, 'd', 9, 6]. You missed!\n",
      "Your ticket is: [3, 4, 1, 6]. You missed!\n",
      "Your ticket is: ['a', 5, 2, 3]. You missed!\n",
      "Your ticket is: [5, 2, 9, 7]. You missed!\n",
      "Your ticket is: [7, 6, 'g', 4]. You missed!\n",
      "Your ticket is: ['g', 9, 'f', 4]. You missed!\n",
      "Your ticket is: [2, 1, 4, 3]. You missed!\n",
      "Your ticket is: [2, 'a', 3, 5]. You missed!\n",
      "Your ticket is: [9, 8, 'f', 2]. You missed!\n",
      "Your ticket is: ['s', 2, 6, 1]. You missed!\n",
      "Your ticket is: [3, 'f', 8, 's']. You missed!\n",
      "Your ticket is: [1, 'a', 4, 3]. You missed!\n",
      "Your ticket is: ['f', 1, 'd', 's']. You missed!\n",
      "Your ticket is: [5, 4, 6, 'd']. You missed!\n",
      "Your ticket is: [10, 'f', 'a', 8]. You missed!\n",
      "Your ticket is: ['d', 8, 'f', 'a']. You missed!\n",
      "Your ticket is: ['g', 8, 'd', 7]. You missed!\n",
      "Your ticket is: [7, 's', 6, 10]. You missed!\n",
      "Your ticket is: [2, 5, 9, 'f']. You missed!\n",
      "Your ticket is: [5, 1, 8, 4]. You missed!\n",
      "Your ticket is: ['s', 10, 3, 'f']. You missed!\n",
      "Your ticket is: [9, 8, 4, 3]. You missed!\n",
      "Your ticket is: [4, 5, 'd', 3]. You missed!\n",
      "Your ticket is: [6, 1, 10, 'f']. You missed!\n",
      "Your ticket is: ['g', 3, 7, 'f']. You missed!\n",
      "Your ticket is: ['s', 8, 6, 4]. You missed!\n",
      "Your ticket is: [7, 1, 8, 10]. You missed!\n",
      "Your ticket is: [3, 'd', 's', 5]. You missed!\n",
      "Your ticket is: [3, 2, 9, 'a']. You missed!\n",
      "Your ticket is: [6, 2, 'g', 9]. You missed!\n",
      "Your ticket is: ['f', 2, 4, 'g']. You missed!\n",
      "Your ticket is: [5, 4, 9, 6]. You missed!\n",
      "Your ticket is: ['g', 8, 'd', 3]. You missed!\n",
      "Your ticket is: ['a', 1, 6, 8]. You missed!\n",
      "Your ticket is: [4, 1, 's', 'g']. You missed!\n",
      "Your ticket is: [8, 6, 's', 10]. You missed!\n",
      "Your ticket is: [10, 'a', 7, 6]. You missed!\n",
      "Your ticket is: ['d', 's', 7, 4]. You missed!\n",
      "Your ticket is: [5, 8, 6, 'g']. You missed!\n",
      "Your ticket is: [1, 7, 10, 3]. You missed!\n",
      "Your ticket is: [7, 's', 3, 9]. You missed!\n",
      "Your ticket is: [4, 3, 'd', 6]. You missed!\n",
      "Your ticket is: [7, 9, 8, 's']. You missed!\n",
      "Your ticket is: [1, 4, 9, 'f']. You missed!\n",
      "Your ticket is: ['s', 'd', 8, 4]. You missed!\n",
      "Your ticket is: [4, 'd', 5, 'a']. You missed!\n",
      "Your ticket is: [10, 6, 7, 's']. You missed!\n",
      "Your ticket is: [2, 'g', 10, 'd']. You missed!\n",
      "Your ticket is: [6, 10, 3, 'g']. You missed!\n",
      "Your ticket is: ['a', 8, 9, 10]. You missed!\n",
      "Your ticket is: [9, 5, 8, 1]. You missed!\n",
      "Your ticket is: [2, 'a', 6, 7]. You missed!\n",
      "Your ticket is: [8, 6, 'f', 'g']. You missed!\n",
      "Your ticket is: [8, 3, 1, 'f']. You missed!\n",
      "Your ticket is: ['d', 6, 8, 10]. You missed!\n",
      "Your ticket is: [9, 1, 6, 10]. You missed!\n",
      "Your ticket is: [10, 'g', 2, 9]. You missed!\n",
      "Your ticket is: ['g', 6, 's', 10]. You missed!\n",
      "Your ticket is: [4, 'f', 5, 7]. You missed!\n",
      "Your ticket is: [2, 's', 3, 10]. You missed!\n",
      "Your ticket is: [3, 7, 4, 2]. You missed!\n",
      "Your ticket is: ['s', 6, 5, 4]. You missed!\n",
      "Your ticket is: [7, 5, 10, 1]. You missed!\n",
      "Your ticket is: [8, 10, 9, 'g']. You missed!\n",
      "Your ticket is: [6, 1, 'g', 'd']. You missed!\n",
      "Your ticket is: [9, 'a', 1, 4]. You missed!\n",
      "Your ticket is: ['d', 5, 8, 'a']. You missed!\n",
      "Your ticket is: [10, 2, 8, 's']. You missed!\n",
      "Your ticket is: [2, 3, 'f', 1]. You missed!\n",
      "Your ticket is: ['a', 3, 10, 5]. You missed!\n",
      "Your ticket is: ['d', 9, 7, 2]. You missed!\n",
      "Your ticket is: ['g', 3, 'f', 7]. You missed!\n",
      "Your ticket is: [3, 6, 8, 'd']. You missed!\n",
      "Your ticket is: [10, 1, 'f', 'd']. You missed!\n",
      "Your ticket is: [10, 'f', 4, 'g']. You missed!\n",
      "Your ticket is: [8, 4, 's', 10]. You missed!\n",
      "Your ticket is: [2, 9, 1, 10]. You missed!\n",
      "Your ticket is: [4, 7, 10, 9]. You missed!\n",
      "Your ticket is: [5, 1, 'd', 'a']. You missed!\n",
      "Your ticket is: [1, 7, 9, 5]. You missed!\n",
      "Your ticket is: [10, 'g', 7, 'f']. You missed!\n",
      "Your ticket is: [7, 1, 2, 'd']. You missed!\n",
      "Your ticket is: [2, 3, 5, 9]. You missed!\n",
      "Your ticket is: ['f', 4, 'd', 7]. You missed!\n",
      "Your ticket is: [5, 's', 3, 10]. You missed!\n",
      "Your ticket is: [1, 6, 8, 7]. You missed!\n",
      "Your ticket is: ['f', 10, 2, 'a']. You missed!\n",
      "Your ticket is: [5, 'd', 'f', 's']. You missed!\n",
      "Your ticket is: [9, 'f', 7, 'a']. You missed!\n",
      "Your ticket is: ['f', 's', 'g', 9]. You missed!\n",
      "Your ticket is: [7, 1, 9, 'g']. You missed!\n",
      "Your ticket is: [5, 8, 9, 'a']. You missed!\n",
      "Your ticket is: [6, 'f', 2, 3]. You missed!\n",
      "Your ticket is: ['d', 8, 2, 4]. You missed!\n",
      "Your ticket is: [4, 'a', 's', 2]. You missed!\n",
      "Your ticket is: ['a', 1, 9, 7]. You missed!\n",
      "Your ticket is: [10, 'd', 8, 's']. You missed!\n",
      "Your ticket is: ['a', 5, 4, 2]. You missed!\n",
      "Your ticket is: ['a', 4, 5, 2]. You missed!\n",
      "Your ticket is: [7, 'd', 1, 6]. You missed!\n",
      "Your ticket is: [5, 'f', 4, 'a']. You missed!\n",
      "Your ticket is: ['a', 10, 2, 'f']. You missed!\n",
      "Your ticket is: ['a', 4, 'g', 2]. You missed!\n",
      "Your ticket is: ['s', 10, 9, 2]. You missed!\n",
      "Your ticket is: [10, 'g', 6, 's']. You missed!\n",
      "Your ticket is: [6, 'g', 's', 5]. You missed!\n",
      "Your ticket is: [7, 2, 1, 3]. You missed!\n",
      "Your ticket is: [9, 10, 6, 'f']. You missed!\n",
      "Your ticket is: [1, 9, 5, 3]. You missed!\n",
      "Your ticket is: [9, 2, 10, 8]. You missed!\n",
      "Your ticket is: [2, 3, 8, 7]. You missed!\n",
      "Your ticket is: ['s', 5, 10, 3]. You missed!\n",
      "Your ticket is: [10, 6, 's', 'g']. You missed!\n",
      "Your ticket is: [8, 9, 1, 5]. You missed!\n",
      "Your ticket is: [10, 6, 4, 1]. You missed!\n",
      "Your ticket is: [2, 8, 's', 'd']. You missed!\n",
      "Your ticket is: [9, 4, 's', 'f']. You missed!\n",
      "Your ticket is: [4, 5, 's', 'g']. You missed!\n",
      "Your ticket is: ['d', 6, 'a', 2]. You missed!\n",
      "Your ticket is: ['f', 8, 7, 'd']. You missed!\n",
      "Your ticket is: [5, 2, 'a', 4]. You missed!\n",
      "Your ticket is: [1, 'a', 6, 4]. You missed!\n",
      "Your ticket is: [2, 'f', 'a', 4]. You missed!\n",
      "Your ticket is: ['s', 10, 'f', 1]. You missed!\n",
      "Your ticket is: [2, 6, 'f', 9]. You missed!\n",
      "Your ticket is: [4, 5, 8, 9]. You missed!\n",
      "Your ticket is: ['f', 'g', 5, 'a']. You missed!\n",
      "Your ticket is: [4, 's', 1, 'a']. You missed!\n",
      "Your ticket is: [6, 9, 4, 7]. You missed!\n",
      "Your ticket is: [3, 'a', 'd', 'f']. You missed!\n",
      "Your ticket is: [3, 7, 'f', 8]. You missed!\n",
      "Your ticket is: ['g', 'f', 3, 10]. You missed!\n",
      "Your ticket is: [8, 'a', 'd', 10]. You missed!\n",
      "Your ticket is: ['g', 'a', 4, 'f']. You missed!\n",
      "Your ticket is: ['g', 1, 10, 6]. You missed!\n",
      "Your ticket is: [4, 1, 7, 5]. You missed!\n",
      "Your ticket is: ['d', 's', 'g', 'a']. You missed!\n",
      "Your ticket is: [8, 'd', 3, 'a']. You missed!\n",
      "Your ticket is: [7, 'a', 8, 1]. You missed!\n",
      "Your ticket is: [8, 'd', 2, 5]. You missed!\n",
      "Your ticket is: ['d', 2, 7, 'g']. You missed!\n",
      "Your ticket is: [7, 'a', 2, 4]. You missed!\n",
      "Your ticket is: ['g', 7, 9, 10]. You missed!\n",
      "Your ticket is: [8, 1, 3, 'a']. You missed!\n",
      "Your ticket is: [8, 3, 10, 1]. You missed!\n",
      "Your ticket is: [8, 'f', 6, 3]. You missed!\n",
      "Your ticket is: [1, 2, 'f', 8]. You missed!\n",
      "Your ticket is: [6, 4, 2, 'g']. You missed!\n",
      "Your ticket is: [8, 7, 10, 'd']. You missed!\n",
      "Your ticket is: [10, 4, 'd', 5]. You missed!\n",
      "Your ticket is: [3, 10, 6, 1]. You missed!\n",
      "Your ticket is: [4, 5, 'd', 3]. You missed!\n",
      "Your ticket is: [3, 7, 's', 'd']. You missed!\n",
      "Your ticket is: [5, 6, 'a', 1]. You missed!\n",
      "Your ticket is: [4, 's', 3, 8]. You missed!\n",
      "Your ticket is: ['s', 1, 'a', 6]. You missed!\n",
      "Your ticket is: ['s', 'g', 5, 7]. You missed!\n",
      "Your ticket is: ['g', 3, 'a', 8]. You missed!\n",
      "Your ticket is: [4, 'd', 7, 5]. You missed!\n",
      "Your ticket is: ['f', 5, 7, 'a']. You missed!\n",
      "Your ticket is: [5, 4, 'd', 'f']. You missed!\n",
      "Your ticket is: [1, 's', 6, 9]. You missed!\n",
      "Your ticket is: ['d', 6, 5, 4]. You missed!\n",
      "Your ticket is: [2, 10, 'f', 4]. You missed!\n",
      "Your ticket is: ['g', 1, 8, 'd']. You missed!\n",
      "Your ticket is: ['s', 1, 'a', 10]. You missed!\n",
      "Your ticket is: [5, 7, 3, 'a']. You missed!\n",
      "Your ticket is: ['a', 10, 's', 2]. You missed!\n",
      "Your ticket is: ['f', 5, 9, 4]. You missed!\n",
      "Your ticket is: ['f', 5, 'd', 4]. You missed!\n",
      "Your ticket is: [9, 10, 8, 'd']. You missed!\n",
      "Your ticket is: ['f', 'g', 5, 9]. You missed!\n",
      "Your ticket is: [2, 'd', 8, 4]. You missed!\n",
      "Your ticket is: [1, 3, 'g', 5]. You missed!\n",
      "Your ticket is: [2, 3, 'f', 9]. You missed!\n",
      "Your ticket is: [1, 8, 'a', 6]. You missed!\n",
      "Your ticket is: ['f', 3, 6, 10]. You missed!\n",
      "Your ticket is: [5, 9, 's', 'a']. You missed!\n",
      "Your ticket is: [10, 8, 7, 3]. You missed!\n",
      "Your ticket is: [6, 's', 3, 7]. You missed!\n",
      "Your ticket is: [5, 'a', 'f', 9]. You missed!\n",
      "Your ticket is: [6, 3, 9, 4]. You missed!\n",
      "Your ticket is: [2, 'g', 'd', 5]. You missed!\n",
      "Your ticket is: ['f', 3, 1, 10]. You missed!\n",
      "Your ticket is: [7, 3, 'd', 6]. You missed!\n",
      "Your ticket is: [9, 8, 6, 10]. You missed!\n",
      "Your ticket is: ['d', 7, 's', 3]. You missed!\n",
      "Your ticket is: ['g', 1, 4, 2]. You missed!\n",
      "Your ticket is: ['g', 'd', 's', 10]. You missed!\n",
      "Your ticket is: [8, 6, 3, 10]. You missed!\n",
      "Your ticket is: [1, 8, 3, 6]. You missed!\n",
      "Your ticket is: ['g', 's', 2, 'd']. You missed!\n",
      "Your ticket is: [2, 8, 'd', 1]. You missed!\n",
      "Your ticket is: [9, 'a', 10, 6]. You missed!\n",
      "Your ticket is: ['g', 's', 1, 4]. You missed!\n",
      "Your ticket is: [2, 10, 'f', 'a']. You missed!\n",
      "Your ticket is: [7, 'f', 6, 's']. You missed!\n",
      "Your ticket is: ['a', 1, 4, 5]. You missed!\n",
      "Your ticket is: ['s', 'g', 10, 8]. You missed!\n",
      "Your ticket is: [6, 'd', 7, 1]. You missed!\n",
      "Your ticket is: [9, 7, 'd', 6]. You missed!\n",
      "Your ticket is: [5, 6, 10, 8]. You missed!\n",
      "Your ticket is: [6, 's', 5, 9]. You missed!\n",
      "Your ticket is: ['f', 'd', 1, 3]. You missed!\n",
      "Your ticket is: [10, 'f', 'a', 9]. You missed!\n",
      "Your ticket is: ['s', 1, 5, 8]. You missed!\n",
      "Your ticket is: [1, 2, 7, 10]. You missed!\n",
      "Your ticket is: [10, 3, 5, 6]. You missed!\n",
      "Your ticket is: [8, 5, 'd', 'a']. You missed!\n",
      "Your ticket is: ['d', 5, 's', 6]. You missed!\n",
      "Your ticket is: [8, 'g', 6, 9]. You missed!\n",
      "Your ticket is: ['s', 3, 8, 'f']. You missed!\n",
      "Your ticket is: [8, 4, 'g', 5]. You missed!\n",
      "Your ticket is: [2, 8, 1, 'a']. You missed!\n",
      "Your ticket is: [6, 3, 8, 7]. You missed!\n",
      "Your ticket is: ['s', 3, 1, 4]. You missed!\n",
      "Your ticket is: [9, 8, 3, 6]. You missed!\n",
      "Your ticket is: [6, 1, 5, 'g']. You missed!\n",
      "Your ticket is: [7, 9, 'f', 1]. You missed!\n",
      "Your ticket is: ['f', 7, 6, 10]. You missed!\n",
      "Your ticket is: ['f', 8, 3, 's']. You missed!\n",
      "Your ticket is: [1, 8, 's', 10]. You missed!\n",
      "Your ticket is: [9, 3, 10, 2]. You missed!\n",
      "Your ticket is: [2, 'a', 's', 7]. You missed!\n",
      "Your ticket is: ['f', 8, 'd', 7]. You missed!\n",
      "Your ticket is: [6, 3, 2, 8]. You missed!\n",
      "Your ticket is: [6, 'g', 'd', 7]. You missed!\n",
      "Your ticket is: [2, 7, 'g', 10]. You missed!\n",
      "Your ticket is: [6, 1, 10, 'g']. You missed!\n",
      "Your ticket is: [5, 2, 10, 7]. You missed!\n",
      "Your ticket is: [10, 'f', 4, 9]. You missed!\n",
      "Your ticket is: [4, 'd', 2, 'f']. You missed!\n",
      "Your ticket is: [10, 'a', 8, 'g']. You missed!\n",
      "Your ticket is: [1, 4, 2, 'f']. You missed!\n",
      "Your ticket is: [5, 7, 3, 'g']. You missed!\n",
      "Your ticket is: ['f', 2, 1, 's']. You missed!\n",
      "Your ticket is: [1, 3, 10, 's']. You missed!\n",
      "Your ticket is: [6, 10, 3, 7]. You missed!\n",
      "Your ticket is: [2, 10, 's', 'f']. You missed!\n",
      "Your ticket is: ['f', 3, 'a', 8]. You missed!\n",
      "Your ticket is: [7, 6, 's', 8]. You missed!\n",
      "Your ticket is: ['a', 2, 'd', 's']. You missed!\n",
      "Your ticket is: [10, 3, 9, 2]. You missed!\n",
      "Your ticket is: ['d', 's', 5, 2]. You missed!\n",
      "Your ticket is: [7, 4, 10, 5]. You missed!\n",
      "Your ticket is: ['s', 1, 6, 5]. You missed!\n",
      "Your ticket is: [9, 7, 4, 6]. You missed!\n",
      "Your ticket is: [1, 'd', 3, 5]. You missed!\n",
      "Your ticket is: ['g', 'f', 7, 10]. You missed!\n",
      "Your ticket is: [3, 2, 'f', 5]. You missed!\n",
      "Your ticket is: [1, 6, 5, 3]. You missed!\n",
      "Your ticket is: [7, 2, 1, 5]. You missed!\n",
      "Your ticket is: ['a', 'f', 5, 4]. You missed!\n",
      "Your ticket is: ['s', 'a', 3, 'f']. You missed!\n",
      "Your ticket is: [6, 1, 3, 's']. You missed!\n",
      "Your ticket is: ['s', 6, 'f', 7]. You missed!\n",
      "Your ticket is: [4, 'g', 6, 8]. You missed!\n",
      "Your ticket is: [9, 4, 6, 'g']. You missed!\n",
      "Your ticket is: ['g', 6, 2, 4]. You missed!\n",
      "Your ticket is: ['s', 1, 7, 3]. You missed!\n",
      "Your ticket is: [9, 'a', 's', 2]. You missed!\n",
      "Your ticket is: [7, 5, 3, 'g']. You missed!\n",
      "Your ticket is: [2, 5, 6, 's']. You missed!\n",
      "Your ticket is: [6, 4, 2, 'f']. You missed!\n",
      "Your ticket is: ['a', 5, 6, 'g']. You missed!\n",
      "Your ticket is: ['f', 5, 'g', 7]. You missed!\n",
      "Your ticket is: ['s', 9, 'd', 'g']. You missed!\n",
      "Your ticket is: [1, 8, 3, 2]. You missed!\n",
      "Your ticket is: [9, 10, 's', 8]. You missed!\n",
      "Your ticket is: [2, 7, 'd', 8]. You missed!\n",
      "Your ticket is: [6, 1, 'f', 'a']. You missed!\n",
      "Your ticket is: [2, 3, 10, 6]. You missed!\n",
      "Your ticket is: ['f', 5, 'd', 6]. You missed!\n",
      "Your ticket is: [10, 'd', 8, 5]. You missed!\n",
      "Your ticket is: [6, 'd', 10, 9]. You missed!\n",
      "Your ticket is: ['a', 's', 'd', 3]. You missed!\n",
      "Your ticket is: [8, 2, 'a', 5]. You missed!\n",
      "Your ticket is: ['f', 'a', 4, 'g']. You missed!\n",
      "Your ticket is: [5, 1, 8, 3]. You missed!\n",
      "Your ticket is: [5, 4, 2, 'd']. You missed!\n",
      "Your ticket is: ['a', 8, 1, 2]. You missed!\n",
      "Your ticket is: ['f', 'g', 's', 8]. You missed!\n",
      "Your ticket is: [4, 'g', 5, 'a']. You missed!\n",
      "Your ticket is: [6, 's', 9, 4]. You missed!\n",
      "Your ticket is: ['g', 'a', 3, 'd']. You missed!\n",
      "Your ticket is: [3, 8, 2, 4]. You missed!\n",
      "Your ticket is: [9, 2, 6, 4]. You missed!\n",
      "Your ticket is: ['d', 6, 4, 8]. You missed!\n",
      "Your ticket is: [8, 2, 1, 5]. You missed!\n",
      "Your ticket is: ['f', 4, 'g', 6]. You missed!\n",
      "Your ticket is: [2, 3, 's', 7]. You missed!\n",
      "Your ticket is: [4, 8, 7, 5]. You missed!\n",
      "Your ticket is: [10, 1, 4, 8]. You missed!\n",
      "Your ticket is: [4, 9, 2, 3]. You missed!\n",
      "Your ticket is: ['f', 9, 1, 2]. You missed!\n",
      "Your ticket is: ['a', 6, 5, 2]. You missed!\n",
      "Your ticket is: ['a', 7, 1, 9]. You missed!\n",
      "Your ticket is: [6, 'f', 9, 'g']. You missed!\n",
      "Your ticket is: [5, 10, 4, 7]. You missed!\n",
      "Your ticket is: [4, 'g', 'f', 9]. You missed!\n",
      "Your ticket is: ['s', 3, 5, 9]. You missed!\n",
      "Your ticket is: [10, 7, 2, 's']. You missed!\n",
      "Your ticket is: ['s', 'd', 9, 6]. You missed!\n",
      "Your ticket is: [6, 3, 2, 'd']. You missed!\n",
      "Your ticket is: [1, 6, 5, 7]. You missed!\n",
      "Your ticket is: [1, 9, 6, 10]. You missed!\n",
      "Your ticket is: ['d', 7, 9, 'f']. You missed!\n",
      "Your ticket is: [2, 10, 'f', 8]. You missed!\n",
      "Your ticket is: ['g', 'f', 10, 4]. You missed!\n",
      "Your ticket is: ['s', 2, 'd', 8]. You missed!\n",
      "Your ticket is: [1, 9, 'd', 6]. You missed!\n",
      "Your ticket is: ['f', 2, 9, 7]. You missed!\n",
      "Your ticket is: ['s', 'd', 1, 'a']. You missed!\n",
      "Your ticket is: [7, 1, 2, 10]. You missed!\n",
      "Your ticket is: [5, 's', 'a', 3]. You missed!\n",
      "Your ticket is: [5, 'a', 10, 'f']. You missed!\n",
      "Your ticket is: ['f', 7, 8, 'd']. You missed!\n",
      "Your ticket is: ['s', 5, 1, 'f']. You missed!\n",
      "Your ticket is: ['a', 6, 5, 3]. You missed!\n",
      "Your ticket is: [7, 10, 4, 1]. You missed!\n",
      "Your ticket is: ['s', 'a', 'f', 5]. You missed!\n",
      "Your ticket is: [7, 8, 10, 4]. You missed!\n",
      "Your ticket is: ['f', 8, 2, 6]. You missed!\n",
      "Your ticket is: [3, 10, 'f', 4]. You missed!\n",
      "Your ticket is: ['s', 'f', 'd', 7]. You missed!\n",
      "Your ticket is: [6, 10, 's', 1]. You missed!\n",
      "Your ticket is: [6, 5, 1, 'a']. You missed!\n",
      "Your ticket is: ['g', 'f', 2, 's']. You missed!\n",
      "Your ticket is: [6, 2, 's', 7]. You missed!\n",
      "Your ticket is: ['f', 1, 9, 3]. You missed!\n",
      "Your ticket is: [3, 1, 'd', 2]. You missed!\n",
      "Your ticket is: ['g', 'f', 8, 6]. You missed!\n",
      "Your ticket is: [2, 5, 1, 10]. You missed!\n",
      "Your ticket is: [3, 'g', 7, 9]. You missed!\n",
      "Your ticket is: [10, 3, 7, 8]. You missed!\n",
      "Your ticket is: [10, 4, 5, 's']. You missed!\n",
      "Your ticket is: [7, 10, 8, 6]. You missed!\n",
      "Your ticket is: [10, 7, 1, 'a']. You missed!\n",
      "Your ticket is: [9, 8, 'g', 7]. You missed!\n",
      "Your ticket is: [9, 8, 10, 3]. You missed!\n",
      "Your ticket is: ['s', 9, 2, 10]. You missed!\n",
      "Your ticket is: [4, 'a', 's', 1]. You missed!\n",
      "Your ticket is: ['a', 'd', 4, 'f']. You missed!\n",
      "Your ticket is: ['f', 7, 'a', 2]. You missed!\n",
      "Your ticket is: [7, 'a', 'f', 8]. You missed!\n",
      "Your ticket is: [9, 2, 'd', 'g']. You missed!\n",
      "Your ticket is: ['g', 'f', 's', 1]. You missed!\n",
      "Your ticket is: [9, 6, 'f', 7]. You missed!\n",
      "Your ticket is: ['f', 8, 1, 5]. You missed!\n",
      "Your ticket is: [8, 2, 7, 9]. You missed!\n",
      "Your ticket is: [8, 'g', 7, 10]. You missed!\n",
      "Your ticket is: [5, 4, 8, 7]. You missed!\n",
      "Your ticket is: [5, 'f', 6, 4]. You missed!\n",
      "Your ticket is: [2, 's', 9, 'd']. You missed!\n",
      "Your ticket is: ['f', 3, 'd', 4]. You missed!\n",
      "Your ticket is: [6, 1, 2, 's']. You missed!\n",
      "Your ticket is: ['s', 3, 4, 'f']. You missed!\n",
      "Your ticket is: [2, 's', 'g', 6]. You missed!\n",
      "Your ticket is: ['s', 10, 4, 'g']. You missed!\n",
      "Your ticket is: ['d', 's', 9, 6]. You missed!\n",
      "Your ticket is: [9, 'a', 's', 2]. You missed!\n",
      "Your ticket is: [6, 'd', 7, 3]. You missed!\n",
      "Your ticket is: [7, 9, 'g', 6]. You missed!\n",
      "Your ticket is: [2, 8, 6, 9]. You missed!\n",
      "Your ticket is: ['f', 2, 4, 8]. You missed!\n",
      "Your ticket is: [8, 5, 's', 6]. You missed!\n",
      "Your ticket is: ['d', 10, 'f', 7]. You missed!\n",
      "Your ticket is: ['s', 8, 'd', 9]. You missed!\n",
      "Your ticket is: [1, 7, 8, 's']. You missed!\n",
      "Your ticket is: [5, 2, 7, 6]. You missed!\n",
      "Your ticket is: [4, 5, 6, 8]. You missed!\n",
      "Your ticket is: ['s', 5, 4, 2]. You missed!\n",
      "Your ticket is: ['g', 'f', 7, 8]. You missed!\n",
      "Your ticket is: ['a', 9, 4, 'g']. You missed!\n",
      "Your ticket is: [1, 5, 'f', 4]. You missed!\n",
      "Your ticket is: [7, 'a', 4, 'd']. You missed!\n",
      "Your ticket is: [7, 'g', 10, 'a']. You missed!\n",
      "Your ticket is: ['a', 4, 8, 'f']. You missed!\n",
      "Your ticket is: [9, 'g', 10, 6]. You missed!\n",
      "Your ticket is: [10, 2, 3, 'a']. You missed!\n",
      "Your ticket is: ['g', 5, 2, 8]. You missed!\n",
      "Your ticket is: [4, 7, 6, 'f']. You missed!\n",
      "Your ticket is: ['s', 'g', 5, 7]. You missed!\n",
      "Your ticket is: [3, 10, 9, 4]. You missed!\n",
      "Your ticket is: [8, 10, 'f', 1]. You missed!\n",
      "Your ticket is: ['a', 2, 9, 'f']. You missed!\n",
      "Your ticket is: [6, 4, 10, 3]. You missed!\n",
      "Your ticket is: [7, 4, 2, 'd']. You missed!\n",
      "Your ticket is: [1, 'a', 3, 5]. You missed!\n",
      "Your ticket is: ['f', 5, 9, 6]. You missed!\n",
      "Your ticket is: ['f', 2, 'a', 7]. You missed!\n",
      "Your ticket is: ['d', 's', 6, 'f']. You missed!\n",
      "Your ticket is: ['a', 5, 7, 4]. You missed!\n",
      "Your ticket is: ['g', 10, 8, 4]. You missed!\n",
      "Your ticket is: ['a', 'f', 'd', 8]. You missed!\n",
      "Your ticket is: ['f', 's', 'd', 10]. You missed!\n",
      "Your ticket is: [7, 'd', 'g', 'a']. You missed!\n",
      "Your ticket is: ['a', 'd', 4, 3]. You missed!\n",
      "Your ticket is: ['s', 'g', 'd', 4]. You missed!\n",
      "Your ticket is: [4, 10, 5, 'd']. You missed!\n",
      "Your ticket is: [7, 's', 'd', 5]. You missed!\n",
      "Your ticket is: [3, 6, 7, 9]. You missed!\n",
      "Your ticket is: [9, 'g', 6, 'f']. You missed!\n",
      "Your ticket is: [1, 5, 9, 4]. You missed!\n",
      "Your ticket is: [2, 8, 7, 10]. You missed!\n",
      "Your ticket is: [10, 'd', 'g', 's']. You missed!\n",
      "Your ticket is: ['a', 6, 10, 2]. You missed!\n",
      "Your ticket is: ['g', 'd', 6, 'f']. You missed!\n",
      "Your ticket is: [4, 1, 6, 's']. You missed!\n",
      "Your ticket is: ['s', 7, 5, 'f']. You missed!\n",
      "Your ticket is: [9, 'd', 'g', 7]. You missed!\n",
      "Your ticket is: [5, 's', 2, 'd']. You missed!\n",
      "Your ticket is: [10, 'a', 8, 9]. You missed!\n",
      "Your ticket is: ['s', 10, 'd', 'a']. You missed!\n",
      "Your ticket is: [3, 6, 'a', 'g']. You missed!\n",
      "Your ticket is: [9, 2, 7, 'g']. You missed!\n",
      "Your ticket is: ['d', 1, 'g', 3]. You missed!\n",
      "Your ticket is: ['a', 'g', 10, 2]. You missed!\n",
      "Your ticket is: [10, 1, 's', 5]. You missed!\n",
      "Your ticket is: ['a', 7, 2, 9]. You missed!\n",
      "Your ticket is: [7, 8, 5, 3]. You missed!\n",
      "Your ticket is: [5, 'f', 6, 's']. You missed!\n",
      "Your ticket is: ['g', 'f', 6, 1]. You missed!\n",
      "Your ticket is: [4, 2, 3, 10]. You missed!\n",
      "Your ticket is: [3, 7, 'd', 'f']. You missed!\n",
      "Your ticket is: [9, 6, 5, 10]. You missed!\n",
      "Your ticket is: [3, 'g', 6, 9]. You missed!\n",
      "Your ticket is: [7, 8, 6, 's']. You missed!\n",
      "Your ticket is: ['g', 4, 9, 'f']. You missed!\n",
      "Your ticket is: [4, 9, 's', 'g']. You missed!\n",
      "Your ticket is: [9, 6, 's', 'd']. You missed!\n",
      "Your ticket is: ['f', 'g', 4, 1]. You missed!\n",
      "Your ticket is: [2, 6, 1, 8]. You missed!\n",
      "Your ticket is: [6, 7, 9, 1]. You missed!\n",
      "Your ticket is: [1, 2, 5, 10]. You missed!\n",
      "Your ticket is: [3, 7, 'f', 'd']. You missed!\n",
      "Your ticket is: [1, 2, 'g', 'a']. You missed!\n",
      "Your ticket is: [3, 8, 7, 5]. You missed!\n",
      "Your ticket is: ['a', 6, 9, 's']. You missed!\n",
      "Your ticket is: [6, 8, 'g', 2]. You missed!\n",
      "Your ticket is: [7, 4, 'g', 'a']. You missed!\n",
      "Your ticket is: ['a', 4, 's', 'g']. You missed!\n",
      "Your ticket is: ['a', 8, 3, 7]. You missed!\n",
      "Your ticket is: [3, 6, 'f', 'g']. You missed!\n",
      "Your ticket is: [4, 10, 'a', 2]. You missed!\n",
      "Your ticket is: ['f', 's', 10, 8]. You missed!\n",
      "Your ticket is: ['g', 9, 10, 's']. You missed!\n",
      "Your ticket is: [5, 's', 'f', 6]. You missed!\n",
      "Your ticket is: [2, 4, 's', 10]. You missed!\n",
      "Your ticket is: ['d', 1, 3, 5]. You missed!\n",
      "Your ticket is: [1, 2, 4, 'a']. You missed!\n",
      "Your ticket is: [7, 6, 2, 4]. You missed!\n",
      "Your ticket is: [8, 's', 10, 5]. You missed!\n",
      "Your ticket is: [3, 'a', 10, 7]. You missed!\n",
      "Your ticket is: [2, 8, 4, 's']. You missed!\n",
      "Your ticket is: [4, 'f', 10, 8]. You missed!\n",
      "Your ticket is: [3, 6, 9, 8]. You missed!\n",
      "Your ticket is: ['g', 2, 3, 5]. You missed!\n",
      "Your ticket is: [6, 3, 'f', 10]. You missed!\n",
      "Your ticket is: [4, 1, 'f', 6]. You missed!\n",
      "Your ticket is: ['g', 2, 7, 1]. You missed!\n",
      "Your ticket is: [3, 5, 6, 'g']. You missed!\n",
      "Your ticket is: [3, 1, 5, 'd']. You missed!\n",
      "Your ticket is: ['s', 7, 8, 3]. You missed!\n",
      "Your ticket is: [4, 6, 2, 10]. You missed!\n",
      "Your ticket is: [6, 4, 8, 5]. You missed!\n",
      "Your ticket is: [10, 'd', 's', 'g']. You missed!\n",
      "Your ticket is: [2, 'f', 4, 10]. You missed!\n",
      "Your ticket is: [8, 7, 'f', 's']. You missed!\n",
      "Your ticket is: [3, 's', 'f', 'g']. You missed!\n",
      "Your ticket is: [7, 'd', 's', 8]. You missed!\n",
      "Your ticket is: [7, 'd', 'f', 5]. You missed!\n",
      "Your ticket is: [8, 4, 'd', 'f']. You missed!\n",
      "Your ticket is: [4, 1, 8, 7]. You missed!\n",
      "Your ticket is: [3, 's', 1, 'g']. You missed!\n",
      "Your ticket is: [6, 5, 7, 10]. You missed!\n",
      "Your ticket is: ['g', 7, 8, 4]. You missed!\n",
      "Your ticket is: ['d', 'g', 8, 2]. You missed!\n",
      "Your ticket is: [10, 'a', 7, 's']. You missed!\n",
      "Your ticket is: ['s', 9, 7, 5]. You missed!\n",
      "Your ticket is: [6, 'g', 3, 4]. You missed!\n",
      "Your ticket is: ['f', 10, 7, 's']. You missed!\n",
      "Your ticket is: [5, 4, 's', 'd']. You missed!\n",
      "Your ticket is: ['s', 7, 8, 3]. You missed!\n",
      "Your ticket is: ['d', 1, 'g', 's']. You missed!\n",
      "Your ticket is: ['f', 's', 6, 9]. You missed!\n",
      "Your ticket is: [5, 'f', 6, 10]. You missed!\n",
      "Your ticket is: [1, 'a', 9, 10]. You missed!\n",
      "Your ticket is: [6, 2, 's', 'g']. You missed!\n",
      "Your ticket is: [7, 3, 10, 4]. You missed!\n",
      "Your ticket is: ['d', 'f', 6, 'a']. You missed!\n",
      "Your ticket is: ['d', 8, 9, 5]. You missed!\n",
      "Your ticket is: [3, 4, 9, 10]. You missed!\n",
      "Your ticket is: [10, 's', 2, 9]. You missed!\n",
      "Your ticket is: ['f', 'a', 1, 4]. You missed!\n",
      "Your ticket is: ['f', 3, 8, 1]. You missed!\n",
      "Your ticket is: [10, 'a', 8, 2]. You missed!\n",
      "Your ticket is: [3, 6, 4, 2]. You missed!\n",
      "Your ticket is: [9, 4, 'g', 10]. You missed!\n",
      "Your ticket is: ['g', 8, 5, 's']. You missed!\n",
      "Your ticket is: ['f', 'g', 3, 1]. You missed!\n",
      "Your ticket is: [5, 'd', 10, 6]. You missed!\n",
      "Your ticket is: ['f', 4, 10, 'a']. You missed!\n",
      "Your ticket is: ['g', 'd', 2, 'f']. You missed!\n",
      "Your ticket is: [5, 6, 7, 'f']. You missed!\n",
      "Your ticket is: ['a', 10, 7, 8]. You missed!\n",
      "Your ticket is: ['g', 2, 1, 'f']. You missed!\n",
      "Your ticket is: ['s', 5, 6, 7]. You missed!\n",
      "Your ticket is: [4, 5, 'g', 8]. You missed!\n",
      "Your ticket is: [5, 'f', 9, 2]. You missed!\n",
      "Your ticket is: ['a', 'd', 's', 8]. You missed!\n",
      "Your ticket is: [1, 's', 'g', 6]. You missed!\n",
      "Your ticket is: [8, 3, 9, 's']. You missed!\n",
      "Your ticket is: [5, 'g', 2, 4]. You missed!\n",
      "Your ticket is: ['s', 6, 10, 5]. You missed!\n",
      "Your ticket is: ['d', 7, 4, 9]. You missed!\n",
      "Your ticket is: [5, 'a', 6, 9]. You missed!\n",
      "Your ticket is: [5, 4, 'a', 'd']. You missed!\n",
      "Your ticket is: ['f', 6, 1, 'a']. You missed!\n",
      "Your ticket is: ['d', 10, 6, 1]. You missed!\n",
      "Your ticket is: [1, 4, 6, 8]. You missed!\n",
      "Your ticket is: ['f', 5, 'd', 9]. You missed!\n",
      "Your ticket is: [9, 'f', 1, 'd']. You missed!\n",
      "Your ticket is: [6, 5, 4, 1]. You missed!\n",
      "Your ticket is: ['s', 5, 2, 9]. You missed!\n",
      "Your ticket is: [5, 2, 's', 6]. You missed!\n",
      "Your ticket is: ['a', 1, 6, 'g']. You missed!\n",
      "Your ticket is: ['s', 'g', 'a', 4]. You missed!\n",
      "Your ticket is: [3, 'a', 'd', 1]. You missed!\n",
      "Your ticket is: [3, 7, 'g', 'a']. You missed!\n",
      "Your ticket is: [3, 'd', 'g', 'a']. You missed!\n",
      "Your ticket is: ['d', 6, 10, 5]. You missed!\n",
      "Your ticket is: [6, 2, 1, 's']. You missed!\n",
      "Your ticket is: ['f', 2, 'g', 'd']. You missed!\n",
      "Your ticket is: ['s', 9, 'd', 'g']. You missed!\n",
      "Your ticket is: ['d', 'a', 5, 'f']. You missed!\n",
      "Your ticket is: [2, 'd', 4, 'f']. You missed!\n",
      "Your ticket is: ['f', 4, 7, 10]. You missed!\n",
      "Your ticket is: ['s', 8, 1, 4]. You missed!\n",
      "Your ticket is: [2, 'a', 's', 7]. You missed!\n",
      "Your ticket is: [1, 'd', 6, 10]. You missed!\n",
      "Your ticket is: [2, 9, 'g', 4]. You missed!\n",
      "Your ticket is: ['a', 1, 'd', 10]. You missed!\n",
      "Your ticket is: ['s', 2, 6, 9]. You missed!\n",
      "Your ticket is: [10, 's', 'd', 8]. You missed!\n",
      "Your ticket is: [8, 5, 9, 'a']. You missed!\n",
      "Your ticket is: [7, 10, 3, 'a']. You missed!\n",
      "Your ticket is: [4, 6, 'g', 10]. You missed!\n",
      "Your ticket is: [6, 2, 5, 'f']. You missed!\n",
      "Your ticket is: ['s', 'f', 4, 3]. You missed!\n",
      "Your ticket is: [8, 7, 1, 'd']. You missed!\n",
      "Your ticket is: [8, 4, 3, 1]. You missed!\n",
      "Your ticket is: [5, 8, 's', 4]. You missed!\n",
      "Your ticket is: [7, 8, 's', 1]. You missed!\n",
      "Your ticket is: [10, 'g', 7, 2]. You missed!\n",
      "Your ticket is: [8, 7, 's', 1]. You missed!\n",
      "Your ticket is: [3, 8, 5, 6]. You missed!\n",
      "Your ticket is: [9, 7, 2, 4]. You missed!\n",
      "Your ticket is: ['f', 3, 2, 'a']. You missed!\n",
      "Your ticket is: [4, 2, 10, 'a']. You missed!\n",
      "Your ticket is: [6, 4, 'd', 1]. You missed!\n",
      "Your ticket is: [6, 4, 2, 'd']. You missed!\n",
      "Your ticket is: ['g', 6, 2, 3]. You missed!\n",
      "Your ticket is: [9, 1, 7, 6]. You missed!\n",
      "Your ticket is: [10, 'a', 5, 'f']. You missed!\n",
      "Your ticket is: [10, 'g', 'a', 4]. You missed!\n",
      "Your ticket is: [8, 10, 'g', 6]. You missed!\n",
      "Your ticket is: ['a', 4, 6, 'g']. You missed!\n",
      "Your ticket is: ['s', 'g', 7, 9]. You missed!\n",
      "Your ticket is: [8, 'f', 5, 4]. You missed!\n",
      "Your ticket is: [3, 'g', 1, 4]. You missed!\n",
      "Your ticket is: [7, 2, 10, 9]. You missed!\n",
      "Your ticket is: ['s', 9, 'g', 'a']. You missed!\n",
      "Your ticket is: ['g', 6, 8, 4]. You missed!\n",
      "Your ticket is: ['s', 6, 8, 2]. You missed!\n",
      "Your ticket is: ['d', 's', 'f', 5]. You missed!\n",
      "Your ticket is: ['g', 6, 'd', 10]. You missed!\n",
      "Your ticket is: [3, 's', 'a', 1]. You missed!\n",
      "Your ticket is: [7, 'f', 'a', 3]. You missed!\n",
      "Your ticket is: [3, 6, 5, 's']. You missed!\n",
      "Your ticket is: [3, 'd', 2, 6]. You missed!\n",
      "Your ticket is: [3, 'f', 7, 's']. You missed!\n",
      "Your ticket is: [10, 2, 6, 1]. You missed!\n",
      "Your ticket is: [5, 2, 'g', 9]. You missed!\n",
      "Your ticket is: [7, 9, 2, 'd']. You missed!\n",
      "Your ticket is: [1, 'f', 2, 'a']. You missed!\n",
      "Your ticket is: ['f', 'd', 3, 10]. You missed!\n",
      "Your ticket is: ['g', 3, 'd', 5]. You missed!\n",
      "Your ticket is: [4, 'a', 5, 'g']. You missed!\n",
      "Your ticket is: ['a', 3, 7, 2]. You missed!\n",
      "Your ticket is: [9, 10, 7, 'a']. You missed!\n",
      "Your ticket is: [7, 'f', 'd', 6]. You missed!\n",
      "Your ticket is: ['d', 5, 's', 'g']. You missed!\n",
      "Your ticket is: [8, 6, 2, 7]. You missed!\n",
      "Your ticket is: [3, 1, 6, 10]. You missed!\n",
      "Your ticket is: [1, 9, 'g', 'a']. You missed!\n",
      "Your ticket is: ['s', 5, 3, 'a']. You missed!\n",
      "Your ticket is: [9, 5, 4, 7]. You missed!\n",
      "Your ticket is: ['s', 'a', 6, 'd']. You missed!\n",
      "Your ticket is: [1, 'a', 8, 9]. You missed!\n",
      "Your ticket is: [8, 5, 7, 6]. You missed!\n",
      "Your ticket is: ['g', 1, 5, 4]. You missed!\n",
      "Your ticket is: [10, 4, 'd', 'a']. You missed!\n",
      "Your ticket is: [1, 'g', 8, 2]. You missed!\n",
      "Your ticket is: [7, 10, 8, 3]. You missed!\n",
      "Your ticket is: [5, 2, 'f', 'a']. You missed!\n",
      "Your ticket is: [6, 'a', 2, 8]. You missed!\n",
      "Your ticket is: ['s', 'f', 6, 'a']. You missed!\n",
      "Your ticket is: ['f', 3, 7, 's']. You missed!\n",
      "Your ticket is: ['a', 4, 5, 7]. You missed!\n",
      "Your ticket is: [4, 7, 10, 's']. You missed!\n",
      "Your ticket is: [6, 1, 10, 4]. You missed!\n",
      "Your ticket is: [1, 's', 'd', 7]. You missed!\n",
      "Your ticket is: [10, 'g', 6, 9]. You missed!\n",
      "Your ticket is: ['g', 'a', 3, 4]. You missed!\n",
      "Your ticket is: [2, 1, 7, 'd']. You missed!\n",
      "Your ticket is: [10, 3, 9, 1]. You missed!\n",
      "Your ticket is: [4, 9, 'g', 's']. You missed!\n",
      "Your ticket is: ['s', 3, 6, 'f']. You missed!\n",
      "Your ticket is: [8, 'a', 2, 6]. You missed!\n",
      "Your ticket is: ['s', 4, 7, 'g']. You missed!\n",
      "Your ticket is: [7, 'f', 'd', 8]. You missed!\n",
      "Your ticket is: ['g', 'a', 4, 'f']. You missed!\n",
      "Your ticket is: [6, 'd', 'a', 2]. You missed!\n",
      "Your ticket is: ['g', 1, 8, 6]. You missed!\n",
      "Your ticket is: [6, 's', 8, 10]. You missed!\n",
      "Your ticket is: [7, 'a', 8, 1]. You missed!\n",
      "Your ticket is: [1, 'a', 5, 'd']. You missed!\n",
      "Your ticket is: [9, 7, 1, 'f']. You missed!\n",
      "Your ticket is: [10, 5, 'd', 'g']. You missed!\n",
      "Your ticket is: [8, 4, 'a', 's']. You missed!\n",
      "Your ticket is: [10, 2, 'd', 6]. You missed!\n",
      "Your ticket is: [7, 'd', 10, 'g']. You missed!\n",
      "Your ticket is: ['d', 'g', 6, 3]. You missed!\n",
      "Your ticket is: ['d', 9, 'g', 1]. You missed!\n",
      "Your ticket is: [2, 's', 3, 'f']. You missed!\n",
      "Your ticket is: [2, 7, 'd', 3]. You missed!\n",
      "Your ticket is: [8, 6, 'g', 9]. You missed!\n",
      "Your ticket is: [4, 10, 8, 2]. You missed!\n",
      "Your ticket is: [9, 8, 2, 'g']. You missed!\n",
      "Your ticket is: [3, 'g', 5, 2]. You missed!\n",
      "Your ticket is: ['d', 4, 10, 7]. You missed!\n",
      "Your ticket is: ['s', 10, 'd', 8]. You missed!\n",
      "Your ticket is: [4, 'a', 9, 8]. You missed!\n",
      "Your ticket is: [2, 6, 's', 7]. You missed!\n",
      "Your ticket is: ['f', 5, 1, 3]. You missed!\n",
      "Your ticket is: ['g', 9, 4, 'a']. You missed!\n",
      "Your ticket is: [1, 10, 6, 9]. You missed!\n",
      "Your ticket is: ['f', 'g', 3, 1]. You missed!\n",
      "Your ticket is: [5, 2, 'd', 7]. You missed!\n",
      "Your ticket is: [7, 8, 'g', 10]. You missed!\n",
      "Your ticket is: ['f', 7, 1, 6]. You missed!\n",
      "Your ticket is: [7, 10, 'd', 'a']. You missed!\n",
      "Your ticket is: ['g', 5, 1, 4]. You missed!\n",
      "Your ticket is: ['g', 'a', 8, 1]. You missed!\n",
      "Your ticket is: ['g', 'd', 9, 's']. You missed!\n",
      "Your ticket is: [4, 3, 2, 'd']. You missed!\n",
      "Your ticket is: [10, 2, 7, 'f']. You missed!\n",
      "Your ticket is: ['s', 4, 3, 2]. You missed!\n",
      "Your ticket is: [9, 'g', 10, 'a']. You missed!\n",
      "Your ticket is: [4, 7, 'd', 'g']. You missed!\n",
      "Your ticket is: [10, 'd', 'g', 3]. You missed!\n",
      "Your ticket is: [2, 7, 'f', 6]. You missed!\n",
      "Your ticket is: [3, 8, 's', 'd']. You missed!\n",
      "Your ticket is: ['f', 'a', 10, 'd']. You missed!\n",
      "Your ticket is: ['s', 9, 'a', 8]. You missed!\n",
      "Your ticket is: [9, 4, 's', 7]. You missed!\n",
      "Your ticket is: [2, 4, 5, 1]. You missed!\n",
      "Your ticket is: [1, 7, 4, 9]. You missed!\n",
      "Your ticket is: ['a', 'g', 's', 10]. You missed!\n",
      "Your ticket is: [9, 6, 3, 's']. You missed!\n",
      "Your ticket is: [10, 8, 9, 2]. You missed!\n",
      "Your ticket is: [1, 8, 's', 2]. You missed!\n",
      "Your ticket is: ['g', 's', 6, 'a']. You missed!\n",
      "Your ticket is: [8, 9, 'f', 'd']. You missed!\n",
      "Your ticket is: ['d', 'f', 3, 4]. You missed!\n",
      "Your ticket is: [9, 'g', 4, 'f']. You missed!\n",
      "Your ticket is: [3, 6, 'g', 7]. You missed!\n",
      "Your ticket is: [9, 5, 'd', 'g']. You missed!\n",
      "Your ticket is: [2, 'a', 'd', 8]. You missed!\n",
      "Your ticket is: [9, 's', 1, 3]. You missed!\n",
      "Your ticket is: ['d', 9, 's', 'f']. You missed!\n",
      "Your ticket is: [6, 'f', 9, 1]. You missed!\n",
      "Your ticket is: ['d', 'f', 6, 'a']. You missed!\n",
      "Your ticket is: [1, 5, 10, 'a']. You missed!\n",
      "Your ticket is: ['f', 'g', 1, 5]. You missed!\n",
      "Your ticket is: [8, 's', 9, 'g']. You missed!\n",
      "Your ticket is: [2, 8, 4, 9]. You missed!\n",
      "Your ticket is: [10, 'a', 9, 5]. You missed!\n",
      "Your ticket is: ['d', 3, 6, 'a']. You missed!\n",
      "Your ticket is: [2, 3, 7, 4]. You missed!\n",
      "Your ticket is: ['a', 'd', 7, 6]. You missed!\n",
      "Your ticket is: [10, 'g', 7, 2]. You missed!\n",
      "Your ticket is: [10, 5, 'a', 2]. You missed!\n",
      "Your ticket is: ['d', 1, 5, 2]. You missed!\n",
      "Your ticket is: ['g', 9, 'd', 2]. You missed!\n",
      "Your ticket is: [10, 4, 2, 'f']. You missed!\n",
      "Your ticket is: ['a', 7, 1, 10]. You missed!\n",
      "Your ticket is: [9, 'g', 8, 'd']. You missed!\n",
      "Your ticket is: [5, 8, 'd', 9]. You missed!\n",
      "Your ticket is: [7, 1, 8, 'f']. You missed!\n",
      "Your ticket is: [8, 5, 'g', 10]. You missed!\n",
      "Your ticket is: [9, 'g', 8, 'd']. You missed!\n",
      "Your ticket is: [3, 5, 4, 8]. You missed!\n",
      "Your ticket is: [6, 'f', 9, 'd']. You missed!\n",
      "Your ticket is: ['a', 5, 4, 7]. You missed!\n",
      "Your ticket is: ['a', 3, 7, 'g']. You missed!\n",
      "Your ticket is: [7, 5, 's', 'd']. You missed!\n",
      "Your ticket is: [9, 'd', 8, 's']. You missed!\n",
      "Your ticket is: ['g', 'f', 3, 10]. You missed!\n",
      "Your ticket is: ['d', 10, 5, 'a']. You missed!\n",
      "Your ticket is: [2, 4, 5, 1]. You missed!\n",
      "Your ticket is: ['d', 8, 10, 6]. You missed!\n",
      "Your ticket is: ['f', 9, 6, 'a']. You missed!\n",
      "Your ticket is: ['d', 5, 8, 4]. You missed!\n",
      "Your ticket is: [8, 1, 3, 'a']. You missed!\n",
      "Your ticket is: [7, 5, 'g', 4]. You missed!\n",
      "Your ticket is: [10, 1, 's', 9]. You missed!\n",
      "Your ticket is: [3, 9, 's', 10]. You missed!\n",
      "Your ticket is: [2, 'a', 7, 6]. You missed!\n",
      "Your ticket is: ['f', 'a', 2, 'd']. You missed!\n",
      "Your ticket is: ['s', 2, 'a', 9]. You missed!\n",
      "Your ticket is: [3, 'f', 'd', 1]. You missed!\n",
      "Your ticket is: [4, 5, 7, 10]. You missed!\n",
      "Your ticket is: [3, 'f', 'g', 4]. You missed!\n",
      "Your ticket is: ['f', 4, 6, 10]. You missed!\n",
      "Your ticket is: ['a', 8, 'f', 6]. You missed!\n",
      "Your ticket is: [3, 's', 6, 5]. You missed!\n",
      "Your ticket is: [7, 8, 10, 2]. You missed!\n",
      "Your ticket is: ['g', 1, 7, 6]. You missed!\n",
      "Your ticket is: ['a', 'f', 's', 10]. You missed!\n",
      "Your ticket is: [2, 6, 'd', 4]. You missed!\n",
      "Your ticket is: [8, 2, 6, 10]. You missed!\n",
      "Your ticket is: [6, 'f', 10, 7]. You missed!\n",
      "Your ticket is: ['s', 9, 1, 7]. You missed!\n",
      "Your ticket is: [8, 'd', 1, 'a']. You missed!\n",
      "Your ticket is: ['d', 8, 5, 7]. You missed!\n",
      "Your ticket is: ['d', 1, 6, 9]. You missed!\n",
      "Your ticket is: [10, 2, 's', 4]. You missed!\n",
      "Your ticket is: ['g', 3, 7, 4]. You missed!\n",
      "Your ticket is: [3, 2, 'd', 4]. You missed!\n",
      "Your ticket is: ['f', 3, 8, 5]. You missed!\n",
      "Your ticket is: [6, 'a', 'd', 5]. You missed!\n",
      "Your ticket is: [9, 8, 2, 's']. You missed!\n",
      "Your ticket is: [10, 2, 5, 1]. You missed!\n",
      "Your ticket is: [4, 3, 'f', 1]. You missed!\n",
      "Your ticket is: [4, 5, 'd', 'g']. You missed!\n",
      "Your ticket is: [5, 7, 9, 4]. You missed!\n",
      "Your ticket is: ['f', 's', 5, 9]. You missed!\n",
      "Your ticket is: [8, 1, 7, 'g']. You missed!\n",
      "Your ticket is: [5, 4, 'f', 1]. You missed!\n",
      "Your ticket is: [1, 8, 'f', 10]. You missed!\n",
      "Your ticket is: [6, 1, 'g', 10]. You missed!\n",
      "Your ticket is: ['f', 6, 5, 3]. You missed!\n",
      "Your ticket is: [7, 10, 9, 'f']. You missed!\n",
      "Your ticket is: [4, 2, 10, 1]. You missed!\n",
      "Your ticket is: ['a', 10, 4, 5]. You missed!\n",
      "Your ticket is: [8, 4, 6, 'g']. You missed!\n",
      "Your ticket is: [1, 8, 2, 5]. You missed!\n",
      "Your ticket is: [9, 6, 5, 2]. You missed!\n",
      "Your ticket is: [1, 3, 'd', 8]. You missed!\n",
      "Your ticket is: [3, 7, 8, 4]. You missed!\n",
      "Your ticket is: [10, 5, 6, 'd']. You missed!\n",
      "Your ticket is: [7, 'd', 9, 2]. You missed!\n",
      "Your ticket is: [7, 3, 2, 10]. You missed!\n",
      "Your ticket is: [5, 4, 7, 9]. You missed!\n",
      "Your ticket is: [10, 2, 's', 'a']. You missed!\n",
      "Your ticket is: ['g', 10, 'f', 1]. You missed!\n",
      "Your ticket is: [8, 5, 10, 7]. You missed!\n",
      "Your ticket is: ['f', 2, 'd', 1]. You missed!\n",
      "Your ticket is: [1, 'd', 4, 10]. You missed!\n",
      "Your ticket is: [7, 'a', 's', 6]. You missed!\n",
      "Your ticket is: [2, 1, 6, 'g']. You missed!\n",
      "Your ticket is: [6, 2, 10, 'd']. You missed!\n",
      "Your ticket is: [2, 'a', 1, 3]. You missed!\n",
      "Your ticket is: [1, 10, 's', 9]. You missed!\n",
      "Your ticket is: [6, 3, 10, 's']. You missed!\n",
      "Your ticket is: [1, 's', 'f', 4]. You missed!\n",
      "Your ticket is: [10, 'g', 'd', 4]. You missed!\n",
      "Your ticket is: [6, 1, 5, 8]. You missed!\n",
      "Your ticket is: ['g', 3, 5, 9]. You missed!\n",
      "Your ticket is: [4, 6, 8, 10]. You missed!\n",
      "Your ticket is: [5, 'f', 2, 8]. You missed!\n",
      "Your ticket is: [6, 4, 7, 's']. You missed!\n",
      "Your ticket is: [5, 2, 6, 10]. You missed!\n",
      "Your ticket is: ['f', 4, 2, 5]. You missed!\n",
      "Your ticket is: [10, 7, 'a', 1]. You missed!\n",
      "Your ticket is: ['g', 1, 'd', 'f']. You missed!\n",
      "Your ticket is: [8, 3, 10, 7]. You missed!\n",
      "Your ticket is: [8, 'g', 10, 9]. You missed!\n",
      "Your ticket is: ['f', 10, 'a', 's']. You missed!\n",
      "Your ticket is: ['f', 1, 'd', 'a']. You missed!\n",
      "Your ticket is: ['f', 's', 8, 5]. You missed!\n",
      "Your ticket is: ['d', 1, 7, 3]. You missed!\n",
      "Your ticket is: [8, 'a', 4, 'g']. You missed!\n",
      "Your ticket is: [7, 3, 'f', 6]. You missed!\n",
      "Your ticket is: [5, 'a', 'f', 4]. You missed!\n",
      "Your ticket is: [1, 's', 'a', 3]. You missed!\n",
      "Your ticket is: [9, 'a', 8, 4]. You missed!\n",
      "Your ticket is: [6, 4, 8, 'a']. You missed!\n",
      "Your ticket is: ['f', 2, 1, 'a']. You missed!\n",
      "Your ticket is: [2, 'f', 9, 5]. You missed!\n",
      "Your ticket is: ['f', 8, 'd', 's']. You missed!\n",
      "Your ticket is: [3, 'g', 6, 7]. You missed!\n",
      "Your ticket is: ['g', 2, 9, 8]. You missed!\n",
      "Your ticket is: [9, 'g', 1, 's']. You missed!\n",
      "Your ticket is: [2, 's', 5, 'g']. You missed!\n",
      "Your ticket is: [4, 9, 8, 2]. You missed!\n",
      "Your ticket is: [3, 'd', 2, 7]. You missed!\n",
      "Your ticket is: ['d', 'a', 5, 2]. You missed!\n",
      "Your ticket is: ['d', 2, 3, 'g']. You missed!\n",
      "Your ticket is: [5, 'g', 'f', 2]. You missed!\n",
      "Your ticket is: [2, 5, 'a', 9]. You missed!\n",
      "Your ticket is: [7, 4, 2, 's']. You missed!\n",
      "Your ticket is: ['d', 4, 'a', 10]. You missed!\n",
      "Your ticket is: [8, 'a', 'g', 10]. You missed!\n",
      "Your ticket is: ['g', 10, 'd', 'a']. You missed!\n",
      "Your ticket is: [4, 5, 'd', 'g']. You missed!\n",
      "Your ticket is: [10, 's', 4, 1]. You missed!\n",
      "Your ticket is: ['g', 'd', 'f', 8]. You missed!\n",
      "Your ticket is: ['g', 6, 3, 7]. You missed!\n",
      "Your ticket is: [10, 's', 'a', 4]. You missed!\n",
      "Your ticket is: [2, 'a', 'g', 6]. You missed!\n",
      "Your ticket is: [8, 'a', 'f', 5]. You missed!\n",
      "Your ticket is: [1, 10, 8, 3]. You missed!\n",
      "Your ticket is: [10, 'd', 'g', 8]. You missed!\n",
      "Your ticket is: [4, 5, 3, 's']. You missed!\n",
      "Your ticket is: [4, 5, 3, 8]. You missed!\n",
      "Your ticket is: [6, 4, 3, 1]. You missed!\n",
      "Your ticket is: ['s', 'f', 4, 9]. You missed!\n",
      "Your ticket is: [1, 2, 10, 7]. You missed!\n",
      "Your ticket is: ['s', 3, 9, 2]. You won!\n",
      "\n",
      "You've tried 1665 times to get the prize!\n"
     ]
    }
   ],
   "source": [
    "list=[1,2,3,4,5,6,7,8,9,10,'a','s','d','f','g']\n",
    "my_ticket=[]\n",
    "\n",
    "from random import sample\n",
    "i=0\n",
    "while True:\n",
    "    i+=1\n",
    "    my_ticket=sample(list,k=4)\n",
    "    win=set([3,9,'s',2])\n",
    "    my=set(my_ticket)\n",
    "    if win!=my:\n",
    "        print(f\"Your ticket is: {my_ticket}. You missed!\")\n",
    "    else:\n",
    "        print(f\"Your ticket is: {my_ticket}. You won!\")\n",
    "        break\n",
    "        \n",
    "print(f\"\\nYou've tried {i} times to get the prize!\")"
   ]
  },
  {
   "cell_type": "markdown",
   "id": "40586b4e",
   "metadata": {},
   "source": [
    "# 9.6 类的编程风格"
   ]
  },
  {
   "cell_type": "code",
   "execution_count": 31,
   "id": "e52f61b5",
   "metadata": {
    "ExecuteTime": {
     "end_time": "2024-05-09T12:26:15.876064Z",
     "start_time": "2024-05-09T12:26:15.872122Z"
    }
   },
   "outputs": [],
   "source": [
    "#类名应采用驼峰命名法\n",
    "#即将类名中的每个单词的首字母都大写，并且不使用下划线\n",
    "#实例名和模块名都采用全小写格式，并在单词之间加上下划线。"
   ]
  },
  {
   "cell_type": "code",
   "execution_count": null,
   "id": "7dd280ba",
   "metadata": {},
   "outputs": [],
   "source": []
  }
 ],
 "metadata": {
  "kernelspec": {
   "display_name": "Python 3 (ipykernel)",
   "language": "python",
   "name": "python3"
  },
  "language_info": {
   "codemirror_mode": {
    "name": "ipython",
    "version": 3
   },
   "file_extension": ".py",
   "mimetype": "text/x-python",
   "name": "python",
   "nbconvert_exporter": "python",
   "pygments_lexer": "ipython3",
   "version": "3.11.5"
  },
  "toc": {
   "base_numbering": 1,
   "nav_menu": {},
   "number_sections": false,
   "sideBar": true,
   "skip_h1_title": false,
   "title_cell": "Table of Contents",
   "title_sidebar": "Contents",
   "toc_cell": false,
   "toc_position": {
    "height": "calc(100% - 180px)",
    "left": "10px",
    "top": "150px",
    "width": "256px"
   },
   "toc_section_display": true,
   "toc_window_display": false
  }
 },
 "nbformat": 4,
 "nbformat_minor": 5
}
