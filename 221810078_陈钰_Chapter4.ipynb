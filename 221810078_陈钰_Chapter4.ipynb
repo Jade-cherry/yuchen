{
 "cells": [
  {
   "cell_type": "markdown",
   "id": "d19ee9ea",
   "metadata": {},
   "source": [
    "# 4.1 遍历整个列表"
   ]
  },
  {
   "cell_type": "code",
   "execution_count": 1,
   "id": "ec15c380",
   "metadata": {},
   "outputs": [
    {
     "name": "stdout",
     "output_type": "stream",
     "text": [
      "alice\n",
      "david\n",
      "carolina\n"
     ]
    }
   ],
   "source": [
    "# for循环\n",
    "magicians=['alice','david','carolina']\n",
    "for magician in magicians:\n",
    "    print(magician)"
   ]
  },
  {
   "cell_type": "code",
   "execution_count": 5,
   "id": "7f6c1a7b",
   "metadata": {},
   "outputs": [
    {
     "name": "stdout",
     "output_type": "stream",
     "text": [
      "alice\n",
      "david\n",
      "carolina\n"
     ]
    }
   ],
   "source": [
    "#用tab缩进\n",
    "magicians=['alice','david','carolina']\n",
    "for magician in magicians:\n",
    "    print(magician)"
   ]
  },
  {
   "cell_type": "markdown",
   "id": "23baa3fa",
   "metadata": {},
   "source": [
    "## 4.1.1 深入研究循环"
   ]
  },
  {
   "cell_type": "code",
   "execution_count": 3,
   "id": "a7f16bba",
   "metadata": {},
   "outputs": [],
   "source": [
    "#for cat in cats:\n",
    "#for dog in dogs:\n",
    "#for item in list_of_items:"
   ]
  },
  {
   "cell_type": "markdown",
   "id": "65e55006",
   "metadata": {},
   "source": [
    "## 4.1.2 在 for 循环中执行更多的操作"
   ]
  },
  {
   "cell_type": "code",
   "execution_count": 6,
   "id": "d1b34f3f",
   "metadata": {},
   "outputs": [
    {
     "name": "stdout",
     "output_type": "stream",
     "text": [
      "Alice, that was a great trick!\n",
      "David, that was a great trick!\n",
      "Carolina, that was a great trick!\n"
     ]
    }
   ],
   "source": [
    "magicians = ['alice', 'david', 'carolina']\n",
    "for magician in magicians:\n",
    "    print(f\"{magician.title()}, that was a great trick!\")"
   ]
  },
  {
   "cell_type": "code",
   "execution_count": 12,
   "id": "29e9332b",
   "metadata": {
    "scrolled": true
   },
   "outputs": [
    {
     "name": "stdout",
     "output_type": "stream",
     "text": [
      "Alice, that was a great trick!\n",
      "I can't wait to see your next trick, Alice.\n",
      "\n",
      "David, that was a great trick!\n",
      "I can't wait to see your next trick, David.\n",
      "\n",
      "Carolina, that was a great trick!\n",
      "I can't wait to see your next trick, Carolina.\n",
      "\n"
     ]
    }
   ],
   "source": [
    "#每行缩进的代码都是循环的一部分\n",
    "magicians = ['alice', 'david', 'carolina']\n",
    "for magician in magicians:\n",
    "    print(f\"{magician.title()}, that was a great trick!\")\n",
    "    print(f\"I can't wait to see your next trick, {magician.title()}.\\n\")"
   ]
  },
  {
   "cell_type": "markdown",
   "id": "4db80777",
   "metadata": {},
   "source": [
    "## 4.1.3 在 for 循环结束后执行一些操作"
   ]
  },
  {
   "cell_type": "code",
   "execution_count": 7,
   "id": "3fb8e376",
   "metadata": {},
   "outputs": [
    {
     "name": "stdout",
     "output_type": "stream",
     "text": [
      "alice\n",
      "Alice, that was a great trick!\n",
      "I can't wait to see more, Alice.\n",
      "\n",
      "david\n",
      "David, that was a great trick!\n",
      "I can't wait to see more, David.\n",
      "\n",
      "carolina\n",
      "Carolina, that was a great trick!\n",
      "I can't wait to see more, Carolina.\n",
      "\n",
      "Thank you, everyone. That was a great magic show!\n"
     ]
    }
   ],
   "source": [
    "magicians=['alice','david','carolina']\n",
    "for magician in magicians:\n",
    "    print(magician)\n",
    "    print(f\"{magician.title()}, that was a great trick!\")\n",
    "    print(f\"I can't wait to see more, {magician.title()}.\\n\")\n",
    "#这里循环结束\n",
    "print(\"Thank you, everyone. That was a great magic show!\")"
   ]
  },
  {
   "cell_type": "markdown",
   "id": "ac3b7e52",
   "metadata": {},
   "source": [
    "# 4.2 避免缩进错误"
   ]
  },
  {
   "cell_type": "markdown",
   "id": "62a1c8e1",
   "metadata": {},
   "source": [
    "## 4.2.1 忘记缩进"
   ]
  },
  {
   "cell_type": "code",
   "execution_count": 9,
   "id": "05edeb1a",
   "metadata": {},
   "outputs": [
    {
     "ename": "IndentationError",
     "evalue": "expected an indented block after 'for' statement on line 3 (965750280.py, line 4)",
     "output_type": "error",
     "traceback": [
      "\u001b[1;36m  Cell \u001b[1;32mIn[9], line 4\u001b[1;36m\u001b[0m\n\u001b[1;33m    print(magician)\u001b[0m\n\u001b[1;37m    ^\u001b[0m\n\u001b[1;31mIndentationError\u001b[0m\u001b[1;31m:\u001b[0m expected an indented block after 'for' statement on line 3\n"
     ]
    }
   ],
   "source": [
    "#indentationerror\n",
    "magicians=['alice','david','carolina']\n",
    "for magician in magicians:\n",
    "print(magician)"
   ]
  },
  {
   "cell_type": "markdown",
   "id": "e68a3560",
   "metadata": {},
   "source": [
    "## 4.2.2 忘记缩进额外的代码行"
   ]
  },
  {
   "cell_type": "code",
   "execution_count": 17,
   "id": "92948d20",
   "metadata": {},
   "outputs": [
    {
     "name": "stdout",
     "output_type": "stream",
     "text": [
      "alice\n",
      "david\n",
      "carolina\n",
      "Carolina, that was a great trick!\n",
      "I can't wait to see more, Carolina.\n",
      "\n",
      "Thank you, everyone. That was a great magic show!\n"
     ]
    }
   ],
   "source": [
    "#如果后两个不缩进，停留在刚刚循环的最后一次，不再更新magician内容\n",
    "magicians=['alice','david','carolina']\n",
    "for magician in magicians:\n",
    "    print(magician)\n",
    "print(f\"{magician.title()}, that was a great trick!\")\n",
    "print(f\"I can't wait to see more, {magician.title()}.\\n\")\n",
    "print(\"Thank you, everyone. That was a great magic show!\")"
   ]
  },
  {
   "cell_type": "markdown",
   "id": "32d313ee",
   "metadata": {},
   "source": [
    "## 4.2.3 不必要的缩进"
   ]
  },
  {
   "cell_type": "code",
   "execution_count": 10,
   "id": "a3a6eb97",
   "metadata": {},
   "outputs": [
    {
     "ename": "IndentationError",
     "evalue": "unexpected indent (51850451.py, line 2)",
     "output_type": "error",
     "traceback": [
      "\u001b[1;36m  Cell \u001b[1;32mIn[10], line 2\u001b[1;36m\u001b[0m\n\u001b[1;33m    print(message)\u001b[0m\n\u001b[1;37m    ^\u001b[0m\n\u001b[1;31mIndentationError\u001b[0m\u001b[1;31m:\u001b[0m unexpected indent\n"
     ]
    }
   ],
   "source": [
    "message='Hello Python world!'\n",
    "    print(message)"
   ]
  },
  {
   "cell_type": "markdown",
   "id": "46677e4f",
   "metadata": {},
   "source": [
    "## 4.2.4 循环后不必要的缩进"
   ]
  },
  {
   "cell_type": "markdown",
   "id": "53774356",
   "metadata": {},
   "source": [
    "## 4.2.5 遗漏冒号"
   ]
  },
  {
   "cell_type": "code",
   "execution_count": 15,
   "id": "60fcea4b",
   "metadata": {},
   "outputs": [
    {
     "name": "stdout",
     "output_type": "stream",
     "text": [
      "cheese pizza\n",
      "I like cheese pizza.\n",
      "BBQ chicken pizza\n",
      "I like BBQ chicken pizza.\n",
      "veggie pizza\n",
      "I like veggie pizza.\n",
      "I really love pizza!\n"
     ]
    }
   ],
   "source": [
    "#练习4.1\n",
    "pizzas=['cheese pizza','BBQ chicken pizza','veggie pizza']\n",
    "for pizza in pizzas:\n",
    "    print(pizza)\n",
    "    print(f\"I like {pizza}.\")\n",
    "print(\"I really love pizza!\")"
   ]
  },
  {
   "cell_type": "code",
   "execution_count": 17,
   "id": "e1ea7808",
   "metadata": {},
   "outputs": [
    {
     "name": "stdout",
     "output_type": "stream",
     "text": [
      "mosquito\n",
      "A mosquito would make annoying noise.\n",
      "snake\n",
      "A snake would make annoying noise.\n",
      "fly\n",
      "A fly would make annoying noise.\n",
      "Any of these animals would make annoying noise!\n"
     ]
    }
   ],
   "source": [
    "#练习4.2\n",
    "animals=[\"mosquito\",\"snake\",\"fly\"]\n",
    "for animal in animals:\n",
    "    print(animal)\n",
    "    print(f\"A {animal} would make annoying noise.\")\n",
    "print(\"Any of these animals would make annoying noise!\")"
   ]
  },
  {
   "cell_type": "markdown",
   "id": "f3e1fb9a",
   "metadata": {},
   "source": [
    "# 4.3 创建数值列表"
   ]
  },
  {
   "cell_type": "markdown",
   "id": "6fdc7a4a",
   "metadata": {},
   "source": [
    "## 4.3.1 使用 range() 函数"
   ]
  },
  {
   "cell_type": "code",
   "execution_count": 18,
   "id": "c15054fa",
   "metadata": {},
   "outputs": [
    {
     "name": "stdout",
     "output_type": "stream",
     "text": [
      "1\n",
      "2\n",
      "3\n",
      "4\n"
     ]
    }
   ],
   "source": [
    "#打印1到4\n",
    "for value in range(1,5):\n",
    "    print(value)"
   ]
  },
  {
   "cell_type": "code",
   "execution_count": 14,
   "id": "5330e82f",
   "metadata": {},
   "outputs": [
    {
     "name": "stdout",
     "output_type": "stream",
     "text": [
      "1\n",
      "2\n",
      "3\n",
      "4\n"
     ]
    }
   ],
   "source": [
    "start=1\n",
    "end=5\n",
    "for value in range(start,end):\n",
    "    print(value)"
   ]
  },
  {
   "cell_type": "code",
   "execution_count": 16,
   "id": "1c6f77b2",
   "metadata": {},
   "outputs": [
    {
     "name": "stdout",
     "output_type": "stream",
     "text": [
      "0\n",
      "1\n",
      "2\n",
      "3\n",
      "4\n"
     ]
    }
   ],
   "source": [
    "#默认从0开始\n",
    "start=1\n",
    "end=5\n",
    "for value in range(end):\n",
    "    print(value)"
   ]
  },
  {
   "cell_type": "markdown",
   "id": "cb573ccf",
   "metadata": {},
   "source": [
    "## 4.3.2 使用range()创建数值列表"
   ]
  },
  {
   "cell_type": "code",
   "execution_count": 19,
   "id": "0064237d",
   "metadata": {},
   "outputs": [
    {
     "name": "stdout",
     "output_type": "stream",
     "text": [
      "[1, 2, 3, 4, 5]\n"
     ]
    }
   ],
   "source": [
    "numbers=list(range(1,6))\n",
    "print(numbers)"
   ]
  },
  {
   "cell_type": "code",
   "execution_count": 21,
   "id": "e93465de",
   "metadata": {},
   "outputs": [
    {
     "name": "stdout",
     "output_type": "stream",
     "text": [
      "[2, 4, 6, 8, 10]\n"
     ]
    }
   ],
   "source": [
    "#指定步长\n",
    "even_numbers=list(range(2,11,2))\n",
    "print(even_numbers)"
   ]
  },
  {
   "cell_type": "code",
   "execution_count": 22,
   "id": "d00603cc",
   "metadata": {},
   "outputs": [
    {
     "name": "stdout",
     "output_type": "stream",
     "text": [
      "[1, 4, 9, 16, 25, 36, 49, 64, 81, 100]\n"
     ]
    }
   ],
   "source": [
    "#创建空列表，遍历值，追加值的平方到列表末尾\n",
    "squares=[]\n",
    "for value in range(1,11):\n",
    "    squares.append(value**2)\n",
    "print(squares)"
   ]
  },
  {
   "cell_type": "code",
   "execution_count": 23,
   "id": "ccf1b687",
   "metadata": {},
   "outputs": [
    {
     "name": "stdout",
     "output_type": "stream",
     "text": [
      "[1]\n",
      "[1, 4]\n",
      "[1, 4, 9]\n",
      "[1, 4, 9, 16]\n",
      "[1, 4, 9, 16, 25]\n",
      "[1, 4, 9, 16, 25, 36]\n",
      "[1, 4, 9, 16, 25, 36, 49]\n",
      "[1, 4, 9, 16, 25, 36, 49, 64]\n",
      "[1, 4, 9, 16, 25, 36, 49, 64, 81]\n",
      "[1, 4, 9, 16, 25, 36, 49, 64, 81, 100]\n"
     ]
    }
   ],
   "source": [
    "#上一个的过程\n",
    "squares=[]\n",
    "for value in range(1,11):\n",
    "    squares.append(value**2)\n",
    "    print(squares)"
   ]
  },
  {
   "cell_type": "code",
   "execution_count": 24,
   "id": "a6538e58",
   "metadata": {},
   "outputs": [
    {
     "name": "stdout",
     "output_type": "stream",
     "text": [
      "[1, 4, 9, 16, 25, 36, 49, 64, 81, 100]\n",
      "[1, 2, 3, 4, 5, 6, 7, 8, 9, 10]\n"
     ]
    }
   ],
   "source": [
    "#另一种写法\n",
    "squares=[value**2 for value in range(1,11)]\n",
    "print(squares)\n",
    "squares=[value for value in range(1,11)]\n",
    "print(squares)"
   ]
  },
  {
   "cell_type": "markdown",
   "id": "d94fcd21",
   "metadata": {},
   "source": [
    "## 4.3.3 对数值列表执行简单的统计计算"
   ]
  },
  {
   "cell_type": "code",
   "execution_count": 26,
   "id": "ba1fc955",
   "metadata": {},
   "outputs": [
    {
     "data": {
      "text/plain": [
       "0"
      ]
     },
     "execution_count": 26,
     "metadata": {},
     "output_type": "execute_result"
    }
   ],
   "source": [
    "digits=[1,2,3,4,5,6,7,8,9,0]\n",
    "min(digits)"
   ]
  },
  {
   "cell_type": "code",
   "execution_count": 27,
   "id": "1773178e",
   "metadata": {},
   "outputs": [
    {
     "data": {
      "text/plain": [
       "9"
      ]
     },
     "execution_count": 27,
     "metadata": {},
     "output_type": "execute_result"
    }
   ],
   "source": [
    "digits=[1,2,3,4,5,6,7,8,9,0]\n",
    "max(digits)"
   ]
  },
  {
   "cell_type": "code",
   "execution_count": 28,
   "id": "6a792e90",
   "metadata": {},
   "outputs": [
    {
     "data": {
      "text/plain": [
       "45"
      ]
     },
     "execution_count": 28,
     "metadata": {},
     "output_type": "execute_result"
    }
   ],
   "source": [
    "digits=[1,2,3,4,5,6,7,8,9,0]\n",
    "sum(digits)"
   ]
  },
  {
   "cell_type": "markdown",
   "id": "23718898",
   "metadata": {},
   "source": [
    "## 4.3.4 列表推导式"
   ]
  },
  {
   "cell_type": "code",
   "execution_count": 29,
   "id": "dcf70179",
   "metadata": {},
   "outputs": [
    {
     "name": "stdout",
     "output_type": "stream",
     "text": [
      "[1, 4, 9, 16, 25, 36, 49, 64, 81, 100]\n",
      "[1, 2, 3, 4, 5, 6, 7, 8, 9, 10]\n"
     ]
    }
   ],
   "source": [
    "#将for循环和创建新元素的代码合并成一行\n",
    "squares=[value**2 for value in range(1,11)]\n",
    "print(squares)\n",
    "squares=[value for value in range(1,11)]\n",
    "print(squares)"
   ]
  },
  {
   "cell_type": "code",
   "execution_count": 32,
   "id": "b5ebbae2",
   "metadata": {},
   "outputs": [
    {
     "name": "stdout",
     "output_type": "stream",
     "text": [
      "1\n",
      "2\n",
      "3\n",
      "4\n",
      "5\n",
      "6\n",
      "7\n",
      "8\n",
      "9\n",
      "10\n",
      "11\n",
      "12\n",
      "13\n",
      "14\n",
      "15\n",
      "16\n",
      "17\n",
      "18\n",
      "19\n",
      "20\n"
     ]
    }
   ],
   "source": [
    "#练习4.3\n",
    "for number in range(1,21):\n",
    "    print(number)"
   ]
  },
  {
   "cell_type": "code",
   "execution_count": 33,
   "id": "e45c7e3c",
   "metadata": {},
   "outputs": [
    {
     "name": "stdout",
     "output_type": "stream",
     "text": [
      "1\n",
      "2\n",
      "3\n",
      "4\n",
      "5\n",
      "6\n",
      "7\n",
      "8\n",
      "9\n",
      "10\n",
      "11\n",
      "12\n",
      "13\n",
      "14\n",
      "15\n",
      "16\n",
      "17\n",
      "18\n",
      "19\n",
      "20\n",
      "21\n",
      "22\n",
      "23\n",
      "24\n",
      "25\n",
      "26\n",
      "27\n",
      "28\n",
      "29\n",
      "30\n",
      "31\n",
      "32\n",
      "33\n",
      "34\n",
      "35\n",
      "36\n",
      "37\n",
      "38\n",
      "39\n",
      "40\n",
      "41\n",
      "42\n",
      "43\n",
      "44\n",
      "45\n",
      "46\n",
      "47\n",
      "48\n",
      "49\n",
      "50\n",
      "51\n",
      "52\n",
      "53\n",
      "54\n",
      "55\n",
      "56\n",
      "57\n",
      "58\n",
      "59\n",
      "60\n",
      "61\n",
      "62\n",
      "63\n",
      "64\n",
      "65\n",
      "66\n",
      "67\n",
      "68\n",
      "69\n",
      "70\n",
      "71\n",
      "72\n",
      "73\n",
      "74\n",
      "75\n",
      "76\n",
      "77\n",
      "78\n",
      "79\n",
      "80\n",
      "81\n",
      "82\n",
      "83\n",
      "84\n",
      "85\n",
      "86\n",
      "87\n",
      "88\n",
      "89\n",
      "90\n",
      "91\n",
      "92\n",
      "93\n",
      "94\n",
      "95\n",
      "96\n",
      "97\n",
      "98\n",
      "99\n",
      "100\n"
     ]
    }
   ],
   "source": [
    "#练习4.4\n",
    "numbers=list(range(1,101))\n",
    "for number in numbers:\n",
    "    print(number)"
   ]
  },
  {
   "cell_type": "code",
   "execution_count": 37,
   "id": "47c5764e",
   "metadata": {},
   "outputs": [
    {
     "data": {
      "text/plain": [
       "1"
      ]
     },
     "execution_count": 37,
     "metadata": {},
     "output_type": "execute_result"
    }
   ],
   "source": [
    "#练习4.5\n",
    "numbers=list(range(1,1000001))\n",
    "min(numbers)"
   ]
  },
  {
   "cell_type": "code",
   "execution_count": 38,
   "id": "4880b364",
   "metadata": {},
   "outputs": [
    {
     "data": {
      "text/plain": [
       "1000000"
      ]
     },
     "execution_count": 38,
     "metadata": {},
     "output_type": "execute_result"
    }
   ],
   "source": [
    "numbers=list(range(1,1000001))\n",
    "max(numbers)"
   ]
  },
  {
   "cell_type": "code",
   "execution_count": 39,
   "id": "f847240a",
   "metadata": {},
   "outputs": [
    {
     "data": {
      "text/plain": [
       "500000500000"
      ]
     },
     "execution_count": 39,
     "metadata": {},
     "output_type": "execute_result"
    }
   ],
   "source": [
    "numbers=list(range(1,1000001))\n",
    "sum(numbers)"
   ]
  },
  {
   "cell_type": "code",
   "execution_count": 40,
   "id": "1b1a1a26",
   "metadata": {},
   "outputs": [
    {
     "name": "stdout",
     "output_type": "stream",
     "text": [
      "[1, 3, 5, 7, 9, 11, 13, 15, 17, 19]\n"
     ]
    }
   ],
   "source": [
    "#练习4.6\n",
    "odd_number=list(range(1,21,2))\n",
    "print(odd_number)"
   ]
  },
  {
   "cell_type": "code",
   "execution_count": 41,
   "id": "55b640d9",
   "metadata": {},
   "outputs": [
    {
     "name": "stdout",
     "output_type": "stream",
     "text": [
      "3\n",
      "6\n",
      "9\n",
      "12\n",
      "15\n",
      "18\n",
      "21\n",
      "24\n",
      "27\n",
      "30\n"
     ]
    }
   ],
   "source": [
    "#练习4.7\n",
    "third_numbers=list(range(3,31,3))\n",
    "for third_number in third_numbers:\n",
    "    print(third_number)"
   ]
  },
  {
   "cell_type": "code",
   "execution_count": 49,
   "id": "68ea90e7",
   "metadata": {},
   "outputs": [
    {
     "name": "stdout",
     "output_type": "stream",
     "text": [
      "[1, 8, 27, 64, 125, 216, 343, 512, 729, 1000]\n"
     ]
    }
   ],
   "source": [
    "#练习4.8\n",
    "cubes=[]\n",
    "for value in range(1,11):\n",
    "    cubes.append(value**3)\n",
    "print(cubes)"
   ]
  },
  {
   "cell_type": "code",
   "execution_count": 48,
   "id": "b8844ec8",
   "metadata": {},
   "outputs": [
    {
     "name": "stdout",
     "output_type": "stream",
     "text": [
      "1\n",
      "8\n",
      "27\n",
      "64\n",
      "125\n",
      "216\n",
      "343\n",
      "512\n",
      "729\n",
      "1000\n"
     ]
    }
   ],
   "source": [
    "#练习4.9\n",
    "cubes=[value**3 for value in range(1,11)]\n",
    "for cube in cubes:\n",
    "    print(cube)"
   ]
  },
  {
   "cell_type": "markdown",
   "id": "8338ee75",
   "metadata": {},
   "source": [
    "# 4.4 使用列表的一部分"
   ]
  },
  {
   "cell_type": "markdown",
   "id": "3b3cc708",
   "metadata": {},
   "source": [
    "## 4.4.1 切片"
   ]
  },
  {
   "cell_type": "code",
   "execution_count": 50,
   "id": "b3e3780a",
   "metadata": {},
   "outputs": [
    {
     "name": "stdout",
     "output_type": "stream",
     "text": [
      "['charles', 'martina', 'michael']\n"
     ]
    }
   ],
   "source": [
    "players=['charles','martina','michael','florence','eli']\n",
    "print(players[0:3])"
   ]
  },
  {
   "cell_type": "code",
   "execution_count": 51,
   "id": "95a1ba33",
   "metadata": {},
   "outputs": [
    {
     "name": "stdout",
     "output_type": "stream",
     "text": [
      "['martina', 'michael', 'florence']\n"
     ]
    }
   ],
   "source": [
    "players=['charles','martina','michael','florence','eli']\n",
    "print(players[1:4])"
   ]
  },
  {
   "cell_type": "code",
   "execution_count": 52,
   "id": "b5d7ba80",
   "metadata": {},
   "outputs": [
    {
     "name": "stdout",
     "output_type": "stream",
     "text": [
      "['charles', 'martina', 'michael']\n"
     ]
    }
   ],
   "source": [
    "players=['charles','martina','michael','florence','eli']\n",
    "print(players[:3])"
   ]
  },
  {
   "cell_type": "code",
   "execution_count": 53,
   "id": "91652f62",
   "metadata": {},
   "outputs": [
    {
     "name": "stdout",
     "output_type": "stream",
     "text": [
      "['michael', 'florence', 'eli']\n"
     ]
    }
   ],
   "source": [
    "players=['charles','martina','michael','florence','eli']\n",
    "print(players[2:])"
   ]
  },
  {
   "cell_type": "code",
   "execution_count": 54,
   "id": "11726ed9",
   "metadata": {},
   "outputs": [
    {
     "name": "stdout",
     "output_type": "stream",
     "text": [
      "['florence', 'eli']\n"
     ]
    }
   ],
   "source": [
    "players=['charles','martina','michael','florence','eli']\n",
    "print(players[-2:])"
   ]
  },
  {
   "cell_type": "code",
   "execution_count": 55,
   "id": "30c487a9",
   "metadata": {},
   "outputs": [
    {
     "name": "stdout",
     "output_type": "stream",
     "text": [
      "['charles', 'michael']\n"
     ]
    }
   ],
   "source": [
    "players=['charles','martina','michael','florence','eli']\n",
    "print(players[0:3:2])"
   ]
  },
  {
   "cell_type": "code",
   "execution_count": 57,
   "id": "21fdb044",
   "metadata": {},
   "outputs": [
    {
     "name": "stdout",
     "output_type": "stream",
     "text": [
      "['charles', 'michael', 'eli']\n"
     ]
    }
   ],
   "source": [
    "players=['charles','martina','michael','florence','eli']\n",
    "print(players[0:5:2])"
   ]
  },
  {
   "cell_type": "markdown",
   "id": "35c7160b",
   "metadata": {},
   "source": [
    "## 4.4.2 遍历切片"
   ]
  },
  {
   "cell_type": "code",
   "execution_count": 58,
   "id": "0627cacb",
   "metadata": {},
   "outputs": [
    {
     "name": "stdout",
     "output_type": "stream",
     "text": [
      "Here are the firsr three players on my team:\n",
      "Charles\n",
      "Martina\n",
      "Michael\n"
     ]
    }
   ],
   "source": [
    "#遍历列表的部分元素，在for循环中使用切片\n",
    "players=['charles','martina','michael','florence','eli']\n",
    "print(\"Here are the firsr three players on my team:\")\n",
    "for player in players[0:3]:\n",
    "    print(player.title())"
   ]
  },
  {
   "cell_type": "markdown",
   "id": "91f5a513",
   "metadata": {},
   "source": [
    "## 4.4.3 复制列表"
   ]
  },
  {
   "cell_type": "code",
   "execution_count": 60,
   "id": "8f631299",
   "metadata": {},
   "outputs": [
    {
     "name": "stdout",
     "output_type": "stream",
     "text": [
      "My favourite foods are:\n",
      "['pizza', 'falafel', 'carrot cake']\n",
      "\n",
      "My friend's favourite foods are:\n",
      "['pizza', 'falafel', 'carrot cake']\n"
     ]
    }
   ],
   "source": [
    "#深拷贝\n",
    "my_foods=['pizza','falafel','carrot cake']\n",
    "friend_foods=my_foods[:]\n",
    "print('My favourite foods are:')\n",
    "print(my_foods)\n",
    "print(\"\\nMy friend's favourite foods are:\")\n",
    "print(friend_foods)"
   ]
  },
  {
   "cell_type": "code",
   "execution_count": 61,
   "id": "f4829898",
   "metadata": {},
   "outputs": [
    {
     "name": "stdout",
     "output_type": "stream",
     "text": [
      "My favourite foods are:\n",
      "['pizza', 'falafel', 'carrot cake', 'cannoli']\n",
      "\n",
      "My friend's favourite foods are:\n",
      "['pizza', 'falafel', 'carrot cake', 'ice cream']\n"
     ]
    }
   ],
   "source": [
    "#核实有两个列表\n",
    "my_foods=['pizza','falafel','carrot cake']\n",
    "friend_foods=my_foods[:]\n",
    "my_foods.append('cannoli')\n",
    "friend_foods.append('ice cream')\n",
    "print('My favourite foods are:')\n",
    "print(my_foods)\n",
    "print(\"\\nMy friend's favourite foods are:\")\n",
    "print(friend_foods)"
   ]
  },
  {
   "cell_type": "code",
   "execution_count": 62,
   "id": "a894705d",
   "metadata": {},
   "outputs": [
    {
     "name": "stdout",
     "output_type": "stream",
     "text": [
      "My favourite foods are:\n",
      "['pizza', 'falafel', 'carrot cake']\n",
      "\n",
      "My friend's favourite foods are:\n",
      "['pizza', 'falafel', 'carrot cake']\n"
     ]
    }
   ],
   "source": [
    "my_foods=['pizza','falafel','carrot cake']\n",
    "#浅拷贝\n",
    "friend_foods=my_foods\n",
    "print('My favourite foods are:')\n",
    "print(my_foods)\n",
    "print(\"\\nMy friend's favourite foods are:\")\n",
    "print(friend_foods)"
   ]
  },
  {
   "cell_type": "code",
   "execution_count": 66,
   "id": "61caa58b",
   "metadata": {},
   "outputs": [
    {
     "name": "stdout",
     "output_type": "stream",
     "text": [
      "mosquito\n",
      "A mosquito would make annoying noise.\n",
      "snake\n",
      "A snake would make annoying noise.\n",
      "fly\n",
      "A fly would make annoying noise.\n",
      "bee\n",
      "A bee would make annoying noise.\n",
      "Any of these animals would make annoying noise!\n",
      "The first three animals in the list are:\n",
      "['mosquito', 'snake', 'fly']\n",
      "Two animals from the middle of the list are:\n",
      "['snake', 'fly']\n",
      "The last three animals in the list are:\n",
      "['snake', 'fly', 'bee']\n"
     ]
    }
   ],
   "source": [
    "#练习4.10\n",
    "animals=[\"mosquito\",\"snake\",\"fly\",\"bee\"]\n",
    "for animal in animals:\n",
    "    print(animal)\n",
    "    print(f\"A {animal} would make annoying noise.\")\n",
    "print(\"Any of these animals would make annoying noise!\")\n",
    "print(\"The first three animals in the list are:\")\n",
    "print(animals[0:3])\n",
    "print(\"Two animals from the middle of the list are:\")\n",
    "print(animals[1:3])\n",
    "print(\"The last three animals in the list are:\")\n",
    "print(animals[1:5])"
   ]
  },
  {
   "cell_type": "code",
   "execution_count": 67,
   "id": "6acc7ca4",
   "metadata": {},
   "outputs": [
    {
     "name": "stdout",
     "output_type": "stream",
     "text": [
      "My favourite pizzas are:\n",
      "cheese pizza\n",
      "BBQ chicken pizza\n",
      "veggie pizza\n",
      "Hawaiian pizza\n",
      "My friend's favourite pizzas are:\n",
      "cheese pizza\n",
      "BBQ chicken pizza\n",
      "veggie pizza\n",
      "pepperoni pizza\n"
     ]
    }
   ],
   "source": [
    "#练习4.11\n",
    "pizzas=['cheese pizza','BBQ chicken pizza','veggie pizza']\n",
    "friend_pizzas=pizzas[:]\n",
    "pizzas.append(\"Hawaiian pizza\")\n",
    "friend_pizzas.append(\"pepperoni pizza\")\n",
    "print(\"My favourite pizzas are:\")\n",
    "for pizza in pizzas:\n",
    "    print(pizza)\n",
    "print(\"My friend's favourite pizzas are:\")\n",
    "for friend_pizza in friend_pizzas:\n",
    "    print(friend_pizza)"
   ]
  },
  {
   "cell_type": "code",
   "execution_count": 68,
   "id": "bb55df7e",
   "metadata": {},
   "outputs": [
    {
     "name": "stdout",
     "output_type": "stream",
     "text": [
      "pizza\n",
      "falafel\n",
      "carrot cake\n",
      "pizza\n",
      "falafel\n",
      "carrot cake\n"
     ]
    }
   ],
   "source": [
    "#练习4.12\n",
    "my_foods = ['pizza', 'falafel', 'carrot cake']\n",
    "friend_foods = my_foods[:]\n",
    "for my_food in my_foods:\n",
    "    print(my_food)\n",
    "for friend_food in friend_foods:\n",
    "    print(friend_food)"
   ]
  },
  {
   "cell_type": "markdown",
   "id": "3500fad2",
   "metadata": {},
   "source": [
    "# 4.5 元组"
   ]
  },
  {
   "cell_type": "markdown",
   "id": "752cc3d1",
   "metadata": {},
   "source": [
    "## 4.5.1 定义元组"
   ]
  },
  {
   "cell_type": "code",
   "execution_count": 70,
   "id": "86cfaba0",
   "metadata": {},
   "outputs": [
    {
     "name": "stdout",
     "output_type": "stream",
     "text": [
      "200\n",
      "50\n"
     ]
    }
   ],
   "source": [
    "#圆括号\n",
    "dimensions=(200,50)\n",
    "print(dimensions[0])\n",
    "print(dimensions[1])"
   ]
  },
  {
   "cell_type": "code",
   "execution_count": 71,
   "id": "24bf64f6",
   "metadata": {},
   "outputs": [
    {
     "ename": "TypeError",
     "evalue": "'tuple' object does not support item assignment",
     "output_type": "error",
     "traceback": [
      "\u001b[1;31m---------------------------------------------------------------------------\u001b[0m",
      "\u001b[1;31mTypeError\u001b[0m                                 Traceback (most recent call last)",
      "Cell \u001b[1;32mIn[71], line 3\u001b[0m\n\u001b[0;32m      1\u001b[0m \u001b[38;5;66;03m#元组不可修改\u001b[39;00m\n\u001b[0;32m      2\u001b[0m dimensions\u001b[38;5;241m=\u001b[39m(\u001b[38;5;241m200\u001b[39m,\u001b[38;5;241m50\u001b[39m)\n\u001b[1;32m----> 3\u001b[0m dimensions[\u001b[38;5;241m0\u001b[39m]\u001b[38;5;241m=\u001b[39m\u001b[38;5;241m250\u001b[39m\n",
      "\u001b[1;31mTypeError\u001b[0m: 'tuple' object does not support item assignment"
     ]
    }
   ],
   "source": [
    "#元组不可修改\n",
    "dimensions=(200,50)\n",
    "dimensions[0]=250"
   ]
  },
  {
   "cell_type": "code",
   "execution_count": 73,
   "id": "21e0b872",
   "metadata": {},
   "outputs": [],
   "source": [
    "#如果定义只包含一个元素，必须在元素后面加上逗号\n",
    "my=(3,)"
   ]
  },
  {
   "cell_type": "markdown",
   "id": "3262fef7",
   "metadata": {},
   "source": [
    "## 4.5.2 遍历元组中的所有值"
   ]
  },
  {
   "cell_type": "code",
   "execution_count": 74,
   "id": "beaed45d",
   "metadata": {},
   "outputs": [
    {
     "name": "stdout",
     "output_type": "stream",
     "text": [
      "200\n",
      "50\n"
     ]
    }
   ],
   "source": [
    "dimensions=(200,50)\n",
    "for dimension in dimensions:\n",
    "    print(dimension)"
   ]
  },
  {
   "cell_type": "markdown",
   "id": "7d4d8ad9",
   "metadata": {},
   "source": [
    "## 4.5.3 修改元组变量"
   ]
  },
  {
   "cell_type": "code",
   "execution_count": 76,
   "id": "4ac19397",
   "metadata": {},
   "outputs": [
    {
     "name": "stdout",
     "output_type": "stream",
     "text": [
      "Original dimensions:\n",
      "200\n",
      "50\n",
      "\n",
      "Modified dimensions:\n",
      "400\n",
      "100\n"
     ]
    }
   ],
   "source": [
    "dimensions=(200,50)\n",
    "print(\"Original dimensions:\")\n",
    "for dimension in dimensions:\n",
    "    print(dimension)\n",
    "dimensions=(400,100)\n",
    "print(\"\\nModified dimensions:\")\n",
    "for dimension in dimensions:\n",
    "    print(dimension)"
   ]
  },
  {
   "cell_type": "code",
   "execution_count": 80,
   "id": "fb0609f6",
   "metadata": {},
   "outputs": [
    {
     "name": "stdout",
     "output_type": "stream",
     "text": [
      "cake\n",
      "noodle\n",
      "egg\n",
      "tomato\n",
      "banana\n",
      "cake\n",
      "rice\n",
      "egg\n",
      "potato\n",
      "banana\n"
     ]
    }
   ],
   "source": [
    "#练习4.13\n",
    "foods=(\"cake\",\"noodle\",\"egg\",\"tomato\",\"banana\")\n",
    "for food in foods:\n",
    "    print(food)\n",
    "foods=(\"cake\",\"rice\",\"egg\",\"potato\",\"banana\")\n",
    "for food in foods:\n",
    "    print(food)"
   ]
  },
  {
   "cell_type": "markdown",
   "id": "4b8b1fc7",
   "metadata": {},
   "source": [
    "# 4.6 设置代码格式"
   ]
  },
  {
   "cell_type": "markdown",
   "id": "a52d11ce",
   "metadata": {},
   "source": []
  }
 ],
 "metadata": {
  "kernelspec": {
   "display_name": "Python 3 (ipykernel)",
   "language": "python",
   "name": "python3"
  },
  "language_info": {
   "codemirror_mode": {
    "name": "ipython",
    "version": 3
   },
   "file_extension": ".py",
   "mimetype": "text/x-python",
   "name": "python",
   "nbconvert_exporter": "python",
   "pygments_lexer": "ipython3",
   "version": "3.11.5"
  },
  "toc": {
   "base_numbering": "",
   "nav_menu": {},
   "number_sections": false,
   "sideBar": true,
   "skip_h1_title": false,
   "title_cell": "Table of Contents",
   "title_sidebar": "Contents",
   "toc_cell": false,
   "toc_position": {
    "height": "calc(100% - 180px)",
    "left": "10px",
    "top": "150px",
    "width": "228px"
   },
   "toc_section_display": true,
   "toc_window_display": false
  }
 },
 "nbformat": 4,
 "nbformat_minor": 5
}
