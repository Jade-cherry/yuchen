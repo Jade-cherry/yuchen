{
 "cells": [
  {
   "cell_type": "markdown",
   "id": "e6f57e4a",
   "metadata": {},
   "source": [
    "# 3.1 列表是什么"
   ]
  },
  {
   "cell_type": "code",
   "execution_count": 1,
   "id": "0d3bd10d",
   "metadata": {},
   "outputs": [
    {
     "name": "stdout",
     "output_type": "stream",
     "text": [
      "['trek', 'cannondale', 'redline', 'specialized']\n"
     ]
    }
   ],
   "source": [
    "bicycles=['trek','cannondale','redline','specialized']\n",
    "print(bicycles)"
   ]
  },
  {
   "cell_type": "markdown",
   "id": "3dd70edd",
   "metadata": {},
   "source": [
    "## 3.1.1 访问列表元素"
   ]
  },
  {
   "cell_type": "code",
   "execution_count": 2,
   "id": "f1005cd4",
   "metadata": {},
   "outputs": [
    {
     "name": "stdout",
     "output_type": "stream",
     "text": [
      "trek\n"
     ]
    }
   ],
   "source": [
    "bicycles=['trek','cannondale','redline','specialized']\n",
    "print(bicycles[0])"
   ]
  },
  {
   "cell_type": "code",
   "execution_count": 3,
   "id": "084d3241",
   "metadata": {},
   "outputs": [
    {
     "name": "stdout",
     "output_type": "stream",
     "text": [
      "Trek\n"
     ]
    }
   ],
   "source": [
    "bicycles=['trek','cannondale','redline','specialized']\n",
    "print(bicycles[0].title())"
   ]
  },
  {
   "cell_type": "markdown",
   "id": "83b1a574",
   "metadata": {},
   "source": [
    "## 3.1.2 索引从0而不是1开始"
   ]
  },
  {
   "cell_type": "code",
   "execution_count": 4,
   "id": "7fa16c9e",
   "metadata": {},
   "outputs": [
    {
     "name": "stdout",
     "output_type": "stream",
     "text": [
      "cannondale\n",
      "specialized\n"
     ]
    }
   ],
   "source": [
    "bicycles=['trek','cannondale','redline','specialized']\n",
    "print(bicycles[1])\n",
    "print(bicycles[3])"
   ]
  },
  {
   "cell_type": "code",
   "execution_count": 5,
   "id": "463fbed2",
   "metadata": {
    "scrolled": true
   },
   "outputs": [
    {
     "name": "stdout",
     "output_type": "stream",
     "text": [
      "specialized\n"
     ]
    }
   ],
   "source": [
    "bicycles=['trek','cannondale','redline','specialized']\n",
    "print(bicycles[-1])"
   ]
  },
  {
   "cell_type": "markdown",
   "id": "4f81200c",
   "metadata": {},
   "source": [
    "## 3.1.3 使用列表中的各个值"
   ]
  },
  {
   "cell_type": "code",
   "execution_count": 6,
   "id": "257f7eaf",
   "metadata": {},
   "outputs": [
    {
     "name": "stdout",
     "output_type": "stream",
     "text": [
      "My first bicycle was a Trek.\n"
     ]
    }
   ],
   "source": [
    "bicycles=['trek','cannondale','redline','specialized']\n",
    "message=f\"My first bicycle was a {bicycles[0].title()}.\"\n",
    "print(message)"
   ]
  },
  {
   "cell_type": "code",
   "execution_count": 25,
   "id": "966177e9",
   "metadata": {},
   "outputs": [
    {
     "name": "stdout",
     "output_type": "stream",
     "text": [
      "bao\n",
      "zhi\n",
      "fen\n",
      "kang\n"
     ]
    }
   ],
   "source": [
    "#练习3.1\n",
    "names=['bao','zhi','fen','kang']\n",
    "print(names[0])\n",
    "print(names[1])\n",
    "print(names[2])\n",
    "print(names[3])"
   ]
  },
  {
   "cell_type": "code",
   "execution_count": 24,
   "id": "25bc63c9",
   "metadata": {},
   "outputs": [
    {
     "name": "stdout",
     "output_type": "stream",
     "text": [
      "Hello~Bao!\n",
      "Hello~Zhi!\n",
      "Hello~Fen!\n",
      "Hello~Kang!\n"
     ]
    }
   ],
   "source": [
    "#练习3.2\n",
    "names=['bao','zhi','fen','kang']\n",
    "greeting=f\"Hello~{names[0].title()}!\"\n",
    "print(greeting)\n",
    "greeting=f\"Hello~{names[1].title()}!\"\n",
    "print(greeting)\n",
    "greeting=f\"Hello~{names[2].title()}!\"\n",
    "print(greeting)\n",
    "greeting=f\"Hello~{names[3].title()}!\"\n",
    "print(greeting)"
   ]
  },
  {
   "cell_type": "code",
   "execution_count": 23,
   "id": "99c1fd5a",
   "metadata": {},
   "outputs": [
    {
     "name": "stdout",
     "output_type": "stream",
     "text": [
      "I prefer to go out by Bus.\n"
     ]
    }
   ],
   "source": [
    "#练习3.3\n",
    "transport=['bus','train','metro','airplane']\n",
    "message=f\"I prefer to go out by {transport[0].title()}.\"\n",
    "print(message)"
   ]
  },
  {
   "cell_type": "markdown",
   "id": "b87958b8",
   "metadata": {},
   "source": [
    "# 3.2 修改、添加和删除元素"
   ]
  },
  {
   "cell_type": "markdown",
   "id": "2ec67c16",
   "metadata": {},
   "source": [
    "## 3.2.1 修改列表元素"
   ]
  },
  {
   "cell_type": "code",
   "execution_count": 10,
   "id": "950465b5",
   "metadata": {},
   "outputs": [
    {
     "name": "stdout",
     "output_type": "stream",
     "text": [
      "['honda', 'yamaha', 'suzuki']\n",
      "['ducati', 'yamaha', 'suzuki']\n"
     ]
    }
   ],
   "source": [
    "motorcycles=['honda','yamaha','suzuki']\n",
    "print(motorcycles)\n",
    "motorcycles[0]='ducati'\n",
    "print(motorcycles)"
   ]
  },
  {
   "cell_type": "markdown",
   "id": "a012a305",
   "metadata": {},
   "source": [
    "## 3.2.2 在列表中添加元素"
   ]
  },
  {
   "cell_type": "markdown",
   "id": "6ca5388f",
   "metadata": {},
   "source": [
    "### 在列表末尾添加元素"
   ]
  },
  {
   "cell_type": "code",
   "execution_count": 11,
   "id": "ea0c9886",
   "metadata": {},
   "outputs": [
    {
     "name": "stdout",
     "output_type": "stream",
     "text": [
      "['honda', 'yamaha', 'suzuki']\n",
      "['honda', 'yamaha', 'suzuki', 'ducati']\n"
     ]
    }
   ],
   "source": [
    "motorcycles=['honda','yamaha','suzuki']\n",
    "print(motorcycles)\n",
    "motorcycles.append('ducati')\n",
    "print(motorcycles)"
   ]
  },
  {
   "cell_type": "code",
   "execution_count": 12,
   "id": "a2797696",
   "metadata": {},
   "outputs": [
    {
     "name": "stdout",
     "output_type": "stream",
     "text": [
      "['honda', 'yamaha', 'suzuki']\n"
     ]
    }
   ],
   "source": [
    "motorcycles=[]\n",
    "motorcycles.append('honda')\n",
    "motorcycles.append('yamaha')\n",
    "motorcycles.append('suzuki')\n",
    "print(motorcycles)"
   ]
  },
  {
   "cell_type": "markdown",
   "id": "a60682d6",
   "metadata": {},
   "source": [
    "### 在列表中插入元素"
   ]
  },
  {
   "cell_type": "code",
   "execution_count": 13,
   "id": "5a7e3034",
   "metadata": {},
   "outputs": [
    {
     "name": "stdout",
     "output_type": "stream",
     "text": [
      "['ducati', 'honda', 'yamaha', 'suzuki']\n"
     ]
    }
   ],
   "source": [
    "motorcycles=['honda','yamaha','suzuki']\n",
    "motorcycles.insert(0,'ducati')\n",
    "print(motorcycles)"
   ]
  },
  {
   "cell_type": "markdown",
   "id": "ace89fda",
   "metadata": {},
   "source": [
    "## 3.2.3 从列表中删除元素"
   ]
  },
  {
   "cell_type": "markdown",
   "id": "f5170342",
   "metadata": {},
   "source": [
    "### 使用del语句删除元素"
   ]
  },
  {
   "cell_type": "code",
   "execution_count": 14,
   "id": "883044f2",
   "metadata": {},
   "outputs": [
    {
     "name": "stdout",
     "output_type": "stream",
     "text": [
      "['honda', 'yamaha', 'suzuki']\n",
      "['yamaha', 'suzuki']\n"
     ]
    }
   ],
   "source": [
    "motorcycles=['honda','yamaha','suzuki']\n",
    "print(motorcycles)\n",
    "del motorcycles[0]\n",
    "print(motorcycles)"
   ]
  },
  {
   "cell_type": "markdown",
   "id": "f9d5fce0",
   "metadata": {},
   "source": [
    "### 使用pop()方法删除元素"
   ]
  },
  {
   "cell_type": "code",
   "execution_count": 15,
   "id": "c8018846",
   "metadata": {},
   "outputs": [
    {
     "name": "stdout",
     "output_type": "stream",
     "text": [
      "['honda', 'yamaha', 'suzuki']\n",
      "['honda', 'yamaha']\n",
      "suzuki\n"
     ]
    }
   ],
   "source": [
    "motorcycles=['honda','yamaha','suzuki']\n",
    "print(motorcycles)\n",
    "popped_motorcycle=motorcycles.pop()\n",
    "print(motorcycles)\n",
    "print(popped_motorcycle)"
   ]
  },
  {
   "cell_type": "code",
   "execution_count": 16,
   "id": "ff6d0c80",
   "metadata": {},
   "outputs": [
    {
     "name": "stdout",
     "output_type": "stream",
     "text": [
      "The last motorcycle I owned was a Suzuki.\n"
     ]
    }
   ],
   "source": [
    "motorcycles=['honda','yamaha','suzuki']\n",
    "last_owned=motorcycles.pop()\n",
    "print(f\"The last motorcycle I owned was a {last_owned.title()}.\")"
   ]
  },
  {
   "cell_type": "markdown",
   "id": "b268d4ec",
   "metadata": {},
   "source": [
    "### 删除列表中任意位置的元素"
   ]
  },
  {
   "cell_type": "code",
   "execution_count": 17,
   "id": "41081d39",
   "metadata": {},
   "outputs": [
    {
     "name": "stdout",
     "output_type": "stream",
     "text": [
      "The first motorcycle I owned was a Honda.\n"
     ]
    }
   ],
   "source": [
    "motorcycles=['honda','yamaha','suzuki']\n",
    "first_owned=motorcycles.pop(0)\n",
    "print(f\"The first motorcycle I owned was a {first_owned.title()}.\")"
   ]
  },
  {
   "cell_type": "markdown",
   "id": "529d12a7",
   "metadata": {},
   "source": [
    "### 根据值删除元素"
   ]
  },
  {
   "cell_type": "code",
   "execution_count": 21,
   "id": "93715ad4",
   "metadata": {},
   "outputs": [
    {
     "name": "stdout",
     "output_type": "stream",
     "text": [
      "['honda', 'yamaha', 'suzuki', 'ducati']\n",
      "['honda', 'yamaha', 'suzuki']\n"
     ]
    }
   ],
   "source": [
    "motorcycles=['honda','yamaha','suzuki','ducati']\n",
    "print(motorcycles)\n",
    "motorcycles.remove('ducati')\n",
    "print(motorcycles)"
   ]
  },
  {
   "cell_type": "code",
   "execution_count": 22,
   "id": "0e09eff8",
   "metadata": {},
   "outputs": [
    {
     "name": "stdout",
     "output_type": "stream",
     "text": [
      "['honda', 'yamaha', 'suzuki', 'ducati']\n",
      "['honda', 'yamaha', 'suzuki']\n",
      "\n",
      "A Ducati is too expensive for me.\n"
     ]
    }
   ],
   "source": [
    "motorcycles=['honda','yamaha','suzuki','ducati']\n",
    "print(motorcycles)\n",
    "too_expensive='ducati'\n",
    "motorcycles.remove(too_expensive)\n",
    "print(motorcycles)\n",
    "print(f\"\\nA {too_expensive.title()} is too expensive for me.\")"
   ]
  },
  {
   "cell_type": "code",
   "execution_count": 26,
   "id": "0a0ddac8",
   "metadata": {},
   "outputs": [
    {
     "name": "stdout",
     "output_type": "stream",
     "text": [
      "['sg', 'jm', 'jin']\n"
     ]
    }
   ],
   "source": [
    "#练习3.4\n",
    "guests=['sg','jm','jin']\n",
    "print(guests)"
   ]
  },
  {
   "cell_type": "code",
   "execution_count": 34,
   "id": "e9a357e8",
   "metadata": {},
   "outputs": [
    {
     "name": "stdout",
     "output_type": "stream",
     "text": [
      "Sg is not invited.\n",
      "Welcome to my party, jm, jin!\n"
     ]
    }
   ],
   "source": [
    "#练习3.5\n",
    "guests=['sg','jm','jin']\n",
    "popped_guests=guests.pop(0)\n",
    "print(f\"{popped_guests.title()} is not invited.\")\n",
    "print(f\"Welcome to my party, {guests[0]}, {guests[1]}!\")"
   ]
  },
  {
   "cell_type": "code",
   "execution_count": 35,
   "id": "5f1ded3f",
   "metadata": {},
   "outputs": [
    {
     "name": "stdout",
     "output_type": "stream",
     "text": [
      "I find a larger table.\n",
      "Welcome to my party, v, gg, jm, jin, xrh!\n"
     ]
    }
   ],
   "source": [
    "#练习3.6\n",
    "guests=['sg','jm','jin']\n",
    "popped_guests=guests.pop(0)\n",
    "print(f\"I find a larger table.\")\n",
    "guests.insert(0,'v')\n",
    "guests.insert(1,'gg')\n",
    "guests.append('xrh')\n",
    "print(f\"Welcome to my party, {guests[0]}, {guests[1]}, {guests[2]}, {guests[3]}, {guests[4]}!\")"
   ]
  },
  {
   "cell_type": "code",
   "execution_count": 45,
   "id": "2556f1ed",
   "metadata": {},
   "outputs": [
    {
     "name": "stdout",
     "output_type": "stream",
     "text": [
      "I find a larger table.\n",
      "Welcome to my party, v, gg, jm, jin, xrh!\n",
      "I can only have two guests.\n",
      "I'm sorry, V!\n",
      "I'm sorry, Jm!\n",
      "I'm sorry, Jin!\n",
      "Welcome to my party, gg!\n",
      "Welcome to my party, xrh!\n",
      "[]\n"
     ]
    }
   ],
   "source": [
    "#练习3.7\n",
    "guests=['sg','jm','jin']\n",
    "guests=['sg','jm','jin']\n",
    "popped_guests=guests.pop(0)\n",
    "print(\"I find a larger table.\")\n",
    "guests.insert(0,'v')\n",
    "guests.insert(1,'gg')\n",
    "guests.append('xrh')\n",
    "print(f\"Welcome to my party, {guests[0]}, {guests[1]}, {guests[2]}, {guests[3]}, {guests[4]}!\")\n",
    "print(\"I can only have two guests.\")\n",
    "popped_first=guests.pop(0)\n",
    "print(f\"I'm sorry, {popped_first.title()}!\")\n",
    "popped_second=guests.pop(1)\n",
    "print(f\"I'm sorry, {popped_second.title()}!\")\n",
    "popped_third=guests.pop(1)\n",
    "print(f\"I'm sorry, {popped_third.title()}!\")\n",
    "print(f\"Welcome to my party, {guests[0]}!\")\n",
    "print(f\"Welcome to my party, {guests[1]}!\")\n",
    "del guests[0]\n",
    "del guests[0]\n",
    "print(guests)"
   ]
  },
  {
   "cell_type": "markdown",
   "id": "18559aa8",
   "metadata": {},
   "source": [
    "# 3.3 管理列表"
   ]
  },
  {
   "cell_type": "markdown",
   "id": "da9ea143",
   "metadata": {},
   "source": [
    "## 3.3.1 使用sort()方法对列表进行永久排序"
   ]
  },
  {
   "cell_type": "code",
   "execution_count": 42,
   "id": "ecadc43d",
   "metadata": {},
   "outputs": [
    {
     "name": "stdout",
     "output_type": "stream",
     "text": [
      "['audi', 'bmw', 'subaru', 'toyota']\n"
     ]
    }
   ],
   "source": [
    "cars=['bmw','audi','toyota','subaru']\n",
    "cars.sort()\n",
    "print(cars)"
   ]
  },
  {
   "cell_type": "code",
   "execution_count": 44,
   "id": "fd33f073",
   "metadata": {},
   "outputs": [
    {
     "name": "stdout",
     "output_type": "stream",
     "text": [
      "['toyota', 'subaru', 'bmw', 'audi']\n"
     ]
    }
   ],
   "source": [
    "cars=['bmw','audi','toyota','subaru']\n",
    "cars.sort(reverse=True)\n",
    "print(cars)"
   ]
  },
  {
   "cell_type": "markdown",
   "id": "2138e643",
   "metadata": {},
   "source": [
    "## 3.3.2 使用 sorted() 函数对列表进行临时排序"
   ]
  },
  {
   "cell_type": "code",
   "execution_count": 46,
   "id": "7a97057d",
   "metadata": {},
   "outputs": [
    {
     "name": "stdout",
     "output_type": "stream",
     "text": [
      "Here is the original list:\n",
      "['bmw', 'audi', 'toyota', 'subaru']\n",
      "\n",
      "Here is the sorted list:\n",
      "['audi', 'bmw', 'subaru', 'toyota']\n",
      "\n",
      "Here is the original list again:\n",
      "['bmw', 'audi', 'toyota', 'subaru']\n"
     ]
    }
   ],
   "source": [
    "cars=['bmw','audi','toyota','subaru']\n",
    "print('Here is the original list:')\n",
    "print(cars)\n",
    "print(\"\\nHere is the sorted list:\")\n",
    "print(sorted(cars))\n",
    "print(\"\\nHere is the original list again:\")\n",
    "print(cars)"
   ]
  },
  {
   "cell_type": "markdown",
   "id": "bc17e590",
   "metadata": {},
   "source": [
    "## 3.3.3 反向打印列表"
   ]
  },
  {
   "cell_type": "code",
   "execution_count": 47,
   "id": "9432b391",
   "metadata": {},
   "outputs": [
    {
     "name": "stdout",
     "output_type": "stream",
     "text": [
      "['bmw', 'audi', 'toyota', 'subaru']\n",
      "['subaru', 'toyota', 'audi', 'bmw']\n"
     ]
    }
   ],
   "source": [
    "cars=['bmw','audi','toyota','subaru']\n",
    "print(cars)\n",
    "\n",
    "cars.reverse()\n",
    "print(cars)"
   ]
  },
  {
   "cell_type": "markdown",
   "id": "72ecffa4",
   "metadata": {},
   "source": [
    "## 3.3.4 确定列表的长度"
   ]
  },
  {
   "cell_type": "code",
   "execution_count": 48,
   "id": "79fae73a",
   "metadata": {},
   "outputs": [
    {
     "data": {
      "text/plain": [
       "4"
      ]
     },
     "execution_count": 48,
     "metadata": {},
     "output_type": "execute_result"
    }
   ],
   "source": [
    "cars=['bmw','audi','toyota','subaru']\n",
    "len(cars)"
   ]
  },
  {
   "cell_type": "code",
   "execution_count": 51,
   "id": "1f3a0db4",
   "metadata": {},
   "outputs": [
    {
     "name": "stdout",
     "output_type": "stream",
     "text": [
      "['Tokyo', 'Hong Kong', 'Sydney', 'Jeju', 'Singapore']\n",
      "['Hong Kong', 'Jeju', 'Singapore', 'Sydney', 'Tokyo']\n",
      "['Tokyo', 'Hong Kong', 'Sydney', 'Jeju', 'Singapore']\n",
      "['Singapore', 'Jeju', 'Sydney', 'Hong Kong', 'Tokyo']\n",
      "['Tokyo', 'Hong Kong', 'Sydney', 'Jeju', 'Singapore']\n",
      "['Hong Kong', 'Jeju', 'Singapore', 'Sydney', 'Tokyo']\n",
      "['Tokyo', 'Sydney', 'Singapore', 'Jeju', 'Hong Kong']\n"
     ]
    }
   ],
   "source": [
    "# 练习3.8\n",
    "travel=['Tokyo','Hong Kong','Sydney','Jeju','Singapore']\n",
    "print(travel)\n",
    "print(sorted(travel))\n",
    "print(travel)\n",
    "travel.reverse()\n",
    "print(travel)\n",
    "travel.reverse()\n",
    "print(travel)\n",
    "travel.sort()\n",
    "print(travel)\n",
    "travel.sort(reverse=True)\n",
    "print(travel)"
   ]
  },
  {
   "cell_type": "code",
   "execution_count": 52,
   "id": "0d813c2f",
   "metadata": {},
   "outputs": [
    {
     "name": "stdout",
     "output_type": "stream",
     "text": [
      "I find a larger table.\n"
     ]
    },
    {
     "data": {
      "text/plain": [
       "5"
      ]
     },
     "execution_count": 52,
     "metadata": {},
     "output_type": "execute_result"
    }
   ],
   "source": [
    "# 练习3.9\n",
    "guests=['sg','jm','jin']\n",
    "popped_guests=guests.pop(0)\n",
    "print(f\"I find a larger table.\")\n",
    "guests.insert(0,'v')\n",
    "guests.insert(1,'gg')\n",
    "guests.append('xrh')\n",
    "len(guests)"
   ]
  },
  {
   "cell_type": "markdown",
   "id": "fbebe6d4",
   "metadata": {},
   "source": [
    "# 3.4 使用列表时避免索引错误"
   ]
  },
  {
   "cell_type": "code",
   "execution_count": 54,
   "id": "9221220d",
   "metadata": {},
   "outputs": [
    {
     "ename": "IndexError",
     "evalue": "list index out of range",
     "output_type": "error",
     "traceback": [
      "\u001b[1;31m---------------------------------------------------------------------------\u001b[0m",
      "\u001b[1;31mIndexError\u001b[0m                                Traceback (most recent call last)",
      "Cell \u001b[1;32mIn[54], line 3\u001b[0m\n\u001b[0;32m      1\u001b[0m \u001b[38;5;66;03m# 索引错误\u001b[39;00m\n\u001b[0;32m      2\u001b[0m motorcycles \u001b[38;5;241m=\u001b[39m [\u001b[38;5;124m'\u001b[39m\u001b[38;5;124mhonda\u001b[39m\u001b[38;5;124m'\u001b[39m, \u001b[38;5;124m'\u001b[39m\u001b[38;5;124myamaha\u001b[39m\u001b[38;5;124m'\u001b[39m, \u001b[38;5;124m'\u001b[39m\u001b[38;5;124msuzuki\u001b[39m\u001b[38;5;124m'\u001b[39m]\n\u001b[1;32m----> 3\u001b[0m \u001b[38;5;28mprint\u001b[39m(motorcycles[\u001b[38;5;241m3\u001b[39m])\n",
      "\u001b[1;31mIndexError\u001b[0m: list index out of range"
     ]
    }
   ],
   "source": [
    "# 索引错误\n",
    "motorcycles = ['honda', 'yamaha', 'suzuki']\n",
    "print(motorcycles[3])"
   ]
  },
  {
   "cell_type": "code",
   "execution_count": 55,
   "id": "767ce473",
   "metadata": {},
   "outputs": [
    {
     "name": "stdout",
     "output_type": "stream",
     "text": [
      "suzuki\n"
     ]
    }
   ],
   "source": [
    "motorcycles = ['honda', 'yamaha', 'suzuki']\n",
    "print(motorcycles[-1])"
   ]
  },
  {
   "cell_type": "code",
   "execution_count": 57,
   "id": "5c85db71",
   "metadata": {},
   "outputs": [
    {
     "ename": "IndexError",
     "evalue": "list index out of range",
     "output_type": "error",
     "traceback": [
      "\u001b[1;31m---------------------------------------------------------------------------\u001b[0m",
      "\u001b[1;31mIndexError\u001b[0m                                Traceback (most recent call last)",
      "Cell \u001b[1;32mIn[57], line 3\u001b[0m\n\u001b[0;32m      1\u001b[0m \u001b[38;5;66;03m#列表为空时，访问最后一个元素错误\u001b[39;00m\n\u001b[0;32m      2\u001b[0m motorcycles \u001b[38;5;241m=\u001b[39m []\n\u001b[1;32m----> 3\u001b[0m \u001b[38;5;28mprint\u001b[39m(motorcycles[\u001b[38;5;241m-\u001b[39m\u001b[38;5;241m1\u001b[39m])\n",
      "\u001b[1;31mIndexError\u001b[0m: list index out of range"
     ]
    }
   ],
   "source": [
    "#列表为空时，访问最后一个元素错误\n",
    "motorcycles = []\n",
    "print(motorcycles[-1])"
   ]
  },
  {
   "cell_type": "code",
   "execution_count": null,
   "id": "29abc1e0",
   "metadata": {},
   "outputs": [],
   "source": []
  }
 ],
 "metadata": {
  "kernelspec": {
   "display_name": "Python 3 (ipykernel)",
   "language": "python",
   "name": "python3"
  },
  "language_info": {
   "codemirror_mode": {
    "name": "ipython",
    "version": 3
   },
   "file_extension": ".py",
   "mimetype": "text/x-python",
   "name": "python",
   "nbconvert_exporter": "python",
   "pygments_lexer": "ipython3",
   "version": "3.11.5"
  }
 },
 "nbformat": 4,
 "nbformat_minor": 5
}
