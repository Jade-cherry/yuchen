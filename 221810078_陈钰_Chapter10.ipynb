{
 "cells": [
  {
   "cell_type": "markdown",
   "id": "bac35599",
   "metadata": {},
   "source": [
    "# 10.1 读取文件"
   ]
  },
  {
   "cell_type": "markdown",
   "id": "70229897",
   "metadata": {},
   "source": [
    "## 10.1.1 读取文件的全部内容"
   ]
  },
  {
   "cell_type": "code",
   "execution_count": 2,
   "id": "68aa6274",
   "metadata": {
    "ExecuteTime": {
     "end_time": "2024-05-23T18:12:09.993746Z",
     "start_time": "2024-05-23T18:12:09.987623Z"
    }
   },
   "outputs": [
    {
     "name": "stdout",
     "output_type": "stream",
     "text": [
      "3.1415926535\n",
      "  8979323846\n",
      "  2643383279\n"
     ]
    }
   ],
   "source": [
    "#python提供的pathlib模块\n",
    "#提供特定功能的模块通常称为库library。是这个模块被命名为 pathlib 的原因。\n",
    "from pathlib import Path\n",
    "\n",
    "#路径path指的是文件或文件夹在系统中的准确位置\n",
    "#因为处于同一目录，只需知道文件名就能访问\n",
    "#这里创建了一个表示pi_digits.txt的Path对象，并赋给变量path\n",
    "path=Path('pi_digits.txt')\n",
    "#read_text()读取文件全部内容，将该文件的全部内容作为一个字符串返回\n",
    "contents=path.read_text()\n",
    "print(contents)"
   ]
  },
  {
   "cell_type": "code",
   "execution_count": 8,
   "id": "ea6b4a7e",
   "metadata": {
    "ExecuteTime": {
     "end_time": "2024-05-11T03:37:42.219384Z",
     "start_time": "2024-05-11T03:37:42.212726Z"
    },
    "scrolled": true
   },
   "outputs": [
    {
     "name": "stdout",
     "output_type": "stream",
     "text": [
      "3.1415926535\n",
      "  8979323846\n",
      "  2643383279\n"
     ]
    }
   ],
   "source": [
    "#上面的末尾会多一个空行，因为read_text()到达文件末尾时会返回一个空字符串\n",
    "#现在删除这个空行\n",
    "\n",
    "from pathlib import Path\n",
    "\n",
    "path=Path('pi_digits.txt')\n",
    "contents=path.read_text()\n",
    "contents=contents.rstrip()\n",
    "print(contents)"
   ]
  },
  {
   "cell_type": "code",
   "execution_count": 10,
   "id": "00d2c59f",
   "metadata": {
    "ExecuteTime": {
     "end_time": "2024-05-11T04:00:16.708686Z",
     "start_time": "2024-05-11T04:00:16.704234Z"
    }
   },
   "outputs": [
    {
     "name": "stdout",
     "output_type": "stream",
     "text": [
      "3.1415926535\n",
      "  8979323846\n",
      "  2643383279\n"
     ]
    }
   ],
   "source": [
    "from pathlib import Path\n",
    "\n",
    "pathpath=Path('pi_digits.txt')\n",
    "#可在调用read_text()后直接调用方法rstrip()；方法链式调用\n",
    "contents=path.read_text().rstrip()\n",
    "print(contents)"
   ]
  },
  {
   "cell_type": "markdown",
   "id": "7575a4f9",
   "metadata": {},
   "source": [
    "## 10.1.2 相对文件路径和绝对文件路径"
   ]
  },
  {
   "cell_type": "code",
   "execution_count": null,
   "id": "0876f22a",
   "metadata": {},
   "outputs": [],
   "source": [
    "#要让Python 打开不与程序文件位于同一个目录中的文件\n",
    "\n",
    "#相对文件路径\n",
    "#到相对于当前运行程序所在目录的指定位置去查找\n",
    "#（文件夹text_files在python_cywork中）\n",
    "path=Path('text_files/pi_digits_0.txt')\n",
    "\n",
    "#绝对文件路径\n",
    "#将文件在计算机中的准确位置告诉Python，以系统的根文件夹为起点\n",
    "path=Path('/home/eric/data_files/text_files/pi_digits_0.txt')\n",
    "\n",
    "#在显示文件路径时，Windows 系统使用反斜杠（\\）而不是斜杠（/）,但是在代码中应该使用斜杠"
   ]
  },
  {
   "cell_type": "code",
   "execution_count": 21,
   "id": "ca04863b",
   "metadata": {
    "ExecuteTime": {
     "end_time": "2024-05-24T03:15:25.443708Z",
     "start_time": "2024-05-24T03:15:25.438023Z"
    }
   },
   "outputs": [
    {
     "name": "stdout",
     "output_type": "stream",
     "text": [
      "['3.1415926535\\n', '  8979323846\\n', '  2643383279']\n"
     ]
    }
   ],
   "source": [
    "#或者用\n",
    "with open(\"text_files/pi_digits_0.txt\") as file:\n",
    "    data=file.readlines()\n",
    "    \n",
    "print(data)"
   ]
  },
  {
   "cell_type": "code",
   "execution_count": null,
   "id": "d1244ee9",
   "metadata": {},
   "outputs": [],
   "source": [
    "file=open(\"\",\"\")"
   ]
  },
  {
   "cell_type": "code",
   "execution_count": null,
   "id": "6b710c66",
   "metadata": {},
   "outputs": [],
   "source": [
    "file.write(contents)"
   ]
  },
  {
   "cell_type": "code",
   "execution_count": null,
   "id": "17f41b7e",
   "metadata": {},
   "outputs": [],
   "source": []
  },
  {
   "cell_type": "markdown",
   "id": "dbf90c39",
   "metadata": {},
   "source": [
    "## 10.1.3 访问文件中的各行"
   ]
  },
  {
   "cell_type": "code",
   "execution_count": 3,
   "id": "44bd8144",
   "metadata": {
    "ExecuteTime": {
     "end_time": "2024-05-24T01:20:03.800796Z",
     "start_time": "2024-05-24T01:20:03.796424Z"
    }
   },
   "outputs": [
    {
     "name": "stdout",
     "output_type": "stream",
     "text": [
      "3.1415926535\n",
      "  8979323846\n",
      "  2643383279\n"
     ]
    }
   ],
   "source": [
    "from pathlib import Path\n",
    "\n",
    "path=Path('pi_digits.txt')\n",
    "contents=path.read_text()\n",
    "\n",
    "#使用splitlines()方法将冗长的字符串转换为一系列行\n",
    "lines=contents.splitlines()\n",
    "\n",
    "#用for循环以每次一行的方式检查文件中的各行\n",
    "for line in lines:\n",
    "    print(line)"
   ]
  },
  {
   "cell_type": "markdown",
   "id": "258ce578",
   "metadata": {},
   "source": [
    "## 10.1.4 使用文件的内容"
   ]
  },
  {
   "cell_type": "code",
   "execution_count": 4,
   "id": "cff2765e",
   "metadata": {
    "ExecuteTime": {
     "end_time": "2024-05-24T01:22:06.847538Z",
     "start_time": "2024-05-24T01:22:06.843288Z"
    }
   },
   "outputs": [
    {
     "name": "stdout",
     "output_type": "stream",
     "text": [
      "3.1415926535  8979323846  2643383279\n",
      "36\n"
     ]
    }
   ],
   "source": [
    "from pathlib import Path\n",
    "\n",
    "path=Path('pi_digits.txt')\n",
    "contents=path.read_text()\n",
    "\n",
    "#将所有行都存储在一个列表中\n",
    "lines=contents.splitlines()\n",
    "#将各行加入pi_string\n",
    "pi_string=''\n",
    "for line in lines:\n",
    "    pi_string+=line\n",
    "    \n",
    "print(pi_string)\n",
    "print(len(pi_string))"
   ]
  },
  {
   "cell_type": "code",
   "execution_count": 6,
   "id": "c9aab6ac",
   "metadata": {
    "ExecuteTime": {
     "end_time": "2024-05-24T01:26:37.931562Z",
     "start_time": "2024-05-24T01:26:37.927056Z"
    },
    "scrolled": true
   },
   "outputs": [
    {
     "name": "stdout",
     "output_type": "stream",
     "text": [
      "3.141592653589793238462643383279\n",
      "32\n"
     ]
    }
   ],
   "source": [
    "#删除空格\n",
    "from pathlib import Path\n",
    "\n",
    "path=Path('pi_digits.txt')\n",
    "contents=path.read_text()\n",
    "\n",
    "lines=contents.splitlines()\n",
    "\n",
    "pi_string=''\n",
    "for line in lines:\n",
    "    pi_string+=line.lstrip()\n",
    "    \n",
    "print(pi_string)\n",
    "print(len(pi_string))\n",
    "\n",
    "#读取结果都解释为字符串，要用数值需要int()或float()转换"
   ]
  },
  {
   "cell_type": "markdown",
   "id": "cea66d24",
   "metadata": {},
   "source": [
    "## 10.1.5 包含 100 万位的大型文件"
   ]
  },
  {
   "cell_type": "code",
   "execution_count": 7,
   "id": "f69c92cc",
   "metadata": {
    "ExecuteTime": {
     "end_time": "2024-05-24T01:37:37.079743Z",
     "start_time": "2024-05-24T01:37:37.073839Z"
    },
    "scrolled": true
   },
   "outputs": [
    {
     "name": "stdout",
     "output_type": "stream",
     "text": [
      "3.14159265358979323846264338327950288419716939937510...\n",
      "100002\n"
     ]
    }
   ],
   "source": [
    "from pathlib import Path\n",
    "\n",
    "path=Path('pi_million_digits.txt')\n",
    "contents=path.read_text()\n",
    "\n",
    "lines=contents.splitlines()\n",
    "pi_string = ''\n",
    "for line in lines:\n",
    "    pi_string += line.lstrip()\n",
    "\n",
    "#只打印到小数点后50位\n",
    "print(f\"{pi_string[:52]}...\")\n",
    "print(len(pi_string))"
   ]
  },
  {
   "cell_type": "markdown",
   "id": "4a5c293e",
   "metadata": {},
   "source": [
    "## 10.1.6 圆周率中包含你的生日吗"
   ]
  },
  {
   "cell_type": "code",
   "execution_count": 8,
   "id": "75124685",
   "metadata": {
    "ExecuteTime": {
     "end_time": "2024-05-24T01:40:09.901566Z",
     "start_time": "2024-05-24T01:39:47.723953Z"
    },
    "scrolled": true
   },
   "outputs": [
    {
     "name": "stdout",
     "output_type": "stream",
     "text": [
      "Enter your birthday, in the form mmddyy: 110503\n",
      "Your birthday does not appear in the first million digits of pi.\n"
     ]
    }
   ],
   "source": [
    "from pathlib import Path\n",
    "\n",
    "path=Path('pi_million_digits.txt')\n",
    "contents=path.read_text()\n",
    "\n",
    "lines=contents.splitlines()\n",
    "pi_string = ''\n",
    "for line in lines:\n",
    "    pi_string += line.strip()\n",
    "\n",
    "birthday=input(\"Enter your birthday, in the form mmddyy: \")\n",
    "if birthday in pi_string:\n",
    "    print(\"Your birthday appears in the first million digits of pi!\")\n",
    "else:\n",
    "    print(\"Your birthday does not appear in the first million digits of pi.\")"
   ]
  },
  {
   "cell_type": "markdown",
   "id": "6c8f032b",
   "metadata": {},
   "source": [
    "# 10.2 写入文件"
   ]
  },
  {
   "cell_type": "markdown",
   "id": "fcab558d",
   "metadata": {},
   "source": [
    "## 10.2.1 写入一行"
   ]
  },
  {
   "cell_type": "code",
   "execution_count": 9,
   "id": "f9fb84e9",
   "metadata": {
    "ExecuteTime": {
     "end_time": "2024-05-24T02:09:47.763967Z",
     "start_time": "2024-05-24T02:09:47.749603Z"
    }
   },
   "outputs": [
    {
     "data": {
      "text/plain": [
       "19"
      ]
     },
     "execution_count": 9,
     "metadata": {},
     "output_type": "execute_result"
    }
   ],
   "source": [
    "#用write_text()将数据写入该文件\n",
    "from pathlib import Path\n",
    "\n",
    "path=Path('programming.txt')\n",
    "path.write_text(\"I love programming.\")"
   ]
  },
  {
   "cell_type": "code",
   "execution_count": 10,
   "id": "e5b2cd14",
   "metadata": {
    "ExecuteTime": {
     "end_time": "2024-05-24T02:10:46.986027Z",
     "start_time": "2024-05-24T02:10:46.983245Z"
    }
   },
   "outputs": [],
   "source": [
    "#Python只能将字符串写入文本文件\n",
    "#如果要将数值数据存储到文本文件中，必须先使用函数str()将其转换为字符串格式"
   ]
  },
  {
   "cell_type": "markdown",
   "id": "aa3e8622",
   "metadata": {},
   "source": [
    "## 10.2.2 写入多行"
   ]
  },
  {
   "cell_type": "code",
   "execution_count": 13,
   "id": "202ffb0d",
   "metadata": {
    "ExecuteTime": {
     "end_time": "2024-05-24T02:21:14.041562Z",
     "start_time": "2024-05-24T02:21:14.036126Z"
    }
   },
   "outputs": [
    {
     "data": {
      "text/plain": [
       "78"
      ]
     },
     "execution_count": 13,
     "metadata": {},
     "output_type": "execute_result"
    }
   ],
   "source": [
    "from pathlib import Path\n",
    "\n",
    "#追加字符串 在每行末尾都添加了换行符，让每个句子都占一行\n",
    "contents = \"I love programming.\\n\"\n",
    "contents += \"I love creating new games.\\n\"\n",
    "contents += \"I also love working with data.\\n\"\n",
    "\n",
    "path = Path('programming.txt')\n",
    "path.write_text(contents)\n",
    "\n",
    "#如果指定的文件已存在，write_text()将删除其内容，并将新的指定的内容写入其中"
   ]
  },
  {
   "cell_type": "markdown",
   "id": "857513d6",
   "metadata": {},
   "source": [
    "### 练习10.4 访客"
   ]
  },
  {
   "cell_type": "code",
   "execution_count": 18,
   "id": "afa0a809",
   "metadata": {
    "ExecuteTime": {
     "end_time": "2024-05-24T03:01:03.005767Z",
     "start_time": "2024-05-24T03:01:01.228217Z"
    }
   },
   "outputs": [
    {
     "name": "stdout",
     "output_type": "stream",
     "text": [
      "Enter your name: jade\n"
     ]
    }
   ],
   "source": [
    "from pathlib import Path\n",
    "\n",
    "name=input(\"Enter your name: \")\n",
    "\n",
    "path=Path('guest.txt')\n",
    "contents=path.write_text(name)"
   ]
  },
  {
   "cell_type": "markdown",
   "id": "3b972ae0",
   "metadata": {},
   "source": [
    "### 练习10.5 访客簿"
   ]
  },
  {
   "cell_type": "code",
   "execution_count": 17,
   "id": "226c31aa",
   "metadata": {
    "ExecuteTime": {
     "end_time": "2024-05-24T03:00:10.443496Z",
     "start_time": "2024-05-24T03:00:02.882676Z"
    },
    "scrolled": true
   },
   "outputs": [
    {
     "name": "stdout",
     "output_type": "stream",
     "text": [
      "Enter your name: jade\n",
      "Enter 'q' if you want to quit.\n",
      "Enter your name: sam\n",
      "Enter 'q' if you want to quit.\n",
      "Enter your name: peter\n",
      "Enter 'q' if you want to quit.\n",
      "Enter your name: q\n"
     ]
    }
   ],
   "source": [
    "from pathlib import Path\n",
    "\n",
    "names=''\n",
    "while True:\n",
    "    name=input(\"Enter your name: \")\n",
    "    if name != 'q':\n",
    "        names+=f\"{name}\\n\"\n",
    "    else:\n",
    "        break\n",
    "    print(\"Enter 'q' if you want to quit.\")\n",
    "\n",
    "path=Path('guest_book.txt')\n",
    "contents=path.write_text(names)"
   ]
  },
  {
   "cell_type": "markdown",
   "id": "c04f8e04",
   "metadata": {},
   "source": [
    "# 10.3 异常"
   ]
  },
  {
   "cell_type": "markdown",
   "id": "9e375750",
   "metadata": {},
   "source": [
    "## 10.3.1 处理 ZeroDivisionError 异常"
   ]
  },
  {
   "cell_type": "code",
   "execution_count": 19,
   "id": "386d9d06",
   "metadata": {
    "ExecuteTime": {
     "end_time": "2024-05-24T03:10:35.857100Z",
     "start_time": "2024-05-24T03:10:35.195072Z"
    }
   },
   "outputs": [
    {
     "ename": "ZeroDivisionError",
     "evalue": "division by zero",
     "output_type": "error",
     "traceback": [
      "\u001b[1;31m---------------------------------------------------------------------------\u001b[0m",
      "\u001b[1;31mZeroDivisionError\u001b[0m                         Traceback (most recent call last)",
      "Cell \u001b[1;32mIn[19], line 1\u001b[0m\n\u001b[1;32m----> 1\u001b[0m \u001b[38;5;28mprint\u001b[39m(\u001b[38;5;241m5\u001b[39m\u001b[38;5;241m/\u001b[39m\u001b[38;5;241m0\u001b[39m)\n",
      "\u001b[1;31mZeroDivisionError\u001b[0m: division by zero"
     ]
    }
   ],
   "source": [
    "print(5/0)"
   ]
  },
  {
   "cell_type": "markdown",
   "id": "4a105c80",
   "metadata": {},
   "source": [
    "## 10.3.2 使用 try-except 代码块"
   ]
  },
  {
   "cell_type": "code",
   "execution_count": 22,
   "id": "5597cc53",
   "metadata": {
    "ExecuteTime": {
     "end_time": "2024-05-24T03:18:52.705869Z",
     "start_time": "2024-05-24T03:18:52.700362Z"
    }
   },
   "outputs": [
    {
     "name": "stdout",
     "output_type": "stream",
     "text": [
      "You can't divide by zero!\n"
     ]
    }
   ],
   "source": [
    "#预见可能发生的错误，可编写一个try-except代码块来处理可能引发的异常\n",
    "try:\n",
    "    print(5/0)\n",
    "except ZeroDivisionError:\n",
    "    print(\"You can't divide by zero!\")"
   ]
  },
  {
   "cell_type": "markdown",
   "id": "6487b29b",
   "metadata": {},
   "source": [
    "## 10.3.3 使用异常避免崩溃"
   ]
  },
  {
   "cell_type": "code",
   "execution_count": 24,
   "id": "a293bdaf",
   "metadata": {
    "ExecuteTime": {
     "end_time": "2024-05-24T03:53:47.791234Z",
     "start_time": "2024-05-24T03:53:42.017818Z"
    }
   },
   "outputs": [
    {
     "name": "stdout",
     "output_type": "stream",
     "text": [
      "Give me two numbers, and I'll divide them.\n",
      "Enter 'q' to quit.\n",
      "\n",
      "First number: 10\n",
      "Second number: 0\n"
     ]
    },
    {
     "ename": "ZeroDivisionError",
     "evalue": "division by zero",
     "output_type": "error",
     "traceback": [
      "\u001b[1;31m---------------------------------------------------------------------------\u001b[0m",
      "\u001b[1;31mZeroDivisionError\u001b[0m                         Traceback (most recent call last)",
      "Cell \u001b[1;32mIn[24], line 12\u001b[0m\n\u001b[0;32m     10\u001b[0m \u001b[38;5;28;01mif\u001b[39;00m second_number \u001b[38;5;241m==\u001b[39m \u001b[38;5;124m'\u001b[39m\u001b[38;5;124mq\u001b[39m\u001b[38;5;124m'\u001b[39m:\n\u001b[0;32m     11\u001b[0m     \u001b[38;5;28;01mbreak\u001b[39;00m\n\u001b[1;32m---> 12\u001b[0m answer \u001b[38;5;241m=\u001b[39m \u001b[38;5;28mint\u001b[39m(first_number) \u001b[38;5;241m/\u001b[39m \u001b[38;5;28mint\u001b[39m(second_number)\n\u001b[0;32m     13\u001b[0m \u001b[38;5;28mprint\u001b[39m(answer)\n",
      "\u001b[1;31mZeroDivisionError\u001b[0m: division by zero"
     ]
    }
   ],
   "source": [
    "#一个只执行除法计算的简单计算器\n",
    "print(\"Give me two numbers, and I'll divide them.\")\n",
    "print(\"Enter 'q' to quit.\")\n",
    "\n",
    "while True:\n",
    "    first_number = input(\"\\nFirst number: \")\n",
    "    if first_number == 'q':\n",
    "        break\n",
    "    second_number = input(\"Second number: \")\n",
    "    if second_number == 'q':\n",
    "        break\n",
    "    answer = int(first_number) / int(second_number)\n",
    "    print(answer)"
   ]
  },
  {
   "cell_type": "markdown",
   "id": "49fae090",
   "metadata": {},
   "source": [
    "## 10.3.4 else代码块"
   ]
  },
  {
   "cell_type": "code",
   "execution_count": 25,
   "id": "310410cb",
   "metadata": {
    "ExecuteTime": {
     "end_time": "2024-05-24T03:59:24.497768Z",
     "start_time": "2024-05-24T03:59:14.266194Z"
    }
   },
   "outputs": [
    {
     "name": "stdout",
     "output_type": "stream",
     "text": [
      "Give me two numbers, and I'll divide them.\n",
      "Enter 'q' to quit.\n",
      "\n",
      "First number: 3\n",
      "Second number: 5\n",
      "0.6\n",
      "\n",
      "First number: 6\n",
      "Second number: 0\n",
      "You can't divide by 0!\n",
      "\n",
      "First number: q\n"
     ]
    }
   ],
   "source": [
    "#处理除数为0的错误情况\n",
    "print(\"Give me two numbers, and I'll divide them.\")\n",
    "print(\"Enter 'q' to quit.\")\n",
    "\n",
    "#将可能引发错误的代码放在 try-except 代码块中\n",
    "while True:\n",
    "    first_number = input(\"\\nFirst number: \")\n",
    "    if first_number == 'q':\n",
    "        break\n",
    "    second_number = input(\"Second number: \")\n",
    "    if second_number == 'q':\n",
    "        break\n",
    "    #依赖 try代码块成功执行的代码都被放在 else 代码块中\n",
    "    try:\n",
    "        answer = int(first_number) / int(second_number)\n",
    "    except ZeroDivisionError:\n",
    "        print(\"You can't divide by 0!\")\n",
    "    else:\n",
    "        print(answer)"
   ]
  },
  {
   "cell_type": "markdown",
   "id": "aafcda97",
   "metadata": {},
   "source": [
    "## 10.3.5 处理 FileNotFoundError 异常"
   ]
  },
  {
   "cell_type": "code",
   "execution_count": 27,
   "id": "da500f79",
   "metadata": {
    "ExecuteTime": {
     "end_time": "2024-05-24T05:20:03.765846Z",
     "start_time": "2024-05-24T05:20:03.740357Z"
    }
   },
   "outputs": [
    {
     "ename": "FileNotFoundError",
     "evalue": "[Errno 2] No such file or directory: 'alice.txt'",
     "output_type": "error",
     "traceback": [
      "\u001b[1;31m---------------------------------------------------------------------------\u001b[0m",
      "\u001b[1;31mFileNotFoundError\u001b[0m                         Traceback (most recent call last)",
      "Cell \u001b[1;32mIn[27], line 5\u001b[0m\n\u001b[0;32m      2\u001b[0m \u001b[38;5;28;01mfrom\u001b[39;00m \u001b[38;5;21;01mpathlib\u001b[39;00m \u001b[38;5;28;01mimport\u001b[39;00m Path\n\u001b[0;32m      4\u001b[0m path\u001b[38;5;241m=\u001b[39mPath(\u001b[38;5;124m'\u001b[39m\u001b[38;5;124malice.txt\u001b[39m\u001b[38;5;124m'\u001b[39m)\n\u001b[1;32m----> 5\u001b[0m contents\u001b[38;5;241m=\u001b[39mpath\u001b[38;5;241m.\u001b[39mread_text(encoding\u001b[38;5;241m=\u001b[39m\u001b[38;5;124m'\u001b[39m\u001b[38;5;124mutf-8\u001b[39m\u001b[38;5;124m'\u001b[39m)\n",
      "File \u001b[1;32m~\\anaconda3\\Lib\\pathlib.py:1058\u001b[0m, in \u001b[0;36mPath.read_text\u001b[1;34m(self, encoding, errors)\u001b[0m\n\u001b[0;32m   1054\u001b[0m \u001b[38;5;250m\u001b[39m\u001b[38;5;124;03m\"\"\"\u001b[39;00m\n\u001b[0;32m   1055\u001b[0m \u001b[38;5;124;03mOpen the file in text mode, read it, and close the file.\u001b[39;00m\n\u001b[0;32m   1056\u001b[0m \u001b[38;5;124;03m\"\"\"\u001b[39;00m\n\u001b[0;32m   1057\u001b[0m encoding \u001b[38;5;241m=\u001b[39m io\u001b[38;5;241m.\u001b[39mtext_encoding(encoding)\n\u001b[1;32m-> 1058\u001b[0m \u001b[38;5;28;01mwith\u001b[39;00m \u001b[38;5;28mself\u001b[39m\u001b[38;5;241m.\u001b[39mopen(mode\u001b[38;5;241m=\u001b[39m\u001b[38;5;124m'\u001b[39m\u001b[38;5;124mr\u001b[39m\u001b[38;5;124m'\u001b[39m, encoding\u001b[38;5;241m=\u001b[39mencoding, errors\u001b[38;5;241m=\u001b[39merrors) \u001b[38;5;28;01mas\u001b[39;00m f:\n\u001b[0;32m   1059\u001b[0m     \u001b[38;5;28;01mreturn\u001b[39;00m f\u001b[38;5;241m.\u001b[39mread()\n",
      "File \u001b[1;32m~\\anaconda3\\Lib\\pathlib.py:1044\u001b[0m, in \u001b[0;36mPath.open\u001b[1;34m(self, mode, buffering, encoding, errors, newline)\u001b[0m\n\u001b[0;32m   1042\u001b[0m \u001b[38;5;28;01mif\u001b[39;00m \u001b[38;5;124m\"\u001b[39m\u001b[38;5;124mb\u001b[39m\u001b[38;5;124m\"\u001b[39m \u001b[38;5;129;01mnot\u001b[39;00m \u001b[38;5;129;01min\u001b[39;00m mode:\n\u001b[0;32m   1043\u001b[0m     encoding \u001b[38;5;241m=\u001b[39m io\u001b[38;5;241m.\u001b[39mtext_encoding(encoding)\n\u001b[1;32m-> 1044\u001b[0m \u001b[38;5;28;01mreturn\u001b[39;00m io\u001b[38;5;241m.\u001b[39mopen(\u001b[38;5;28mself\u001b[39m, mode, buffering, encoding, errors, newline)\n",
      "\u001b[1;31mFileNotFoundError\u001b[0m: [Errno 2] No such file or directory: 'alice.txt'"
     ]
    }
   ],
   "source": [
    "#要查找的文件可能在其他地方；文件名可能不正确；或者这个文件根本就不存在\n",
    "from pathlib import Path\n",
    "\n",
    "path=Path('alice.txt')\n",
    "contents=path.read_text(encoding='utf-8')\n",
    "#如果系统的默认编码与要读取的文件的编码不一致，参数encoding必不可少"
   ]
  },
  {
   "cell_type": "code",
   "execution_count": 28,
   "id": "09ceca32",
   "metadata": {
    "ExecuteTime": {
     "end_time": "2024-05-24T05:22:26.256830Z",
     "start_time": "2024-05-24T05:22:26.253462Z"
    }
   },
   "outputs": [
    {
     "name": "stdout",
     "output_type": "stream",
     "text": [
      "Sorry, the file alice.txt does not exist.\n"
     ]
    }
   ],
   "source": [
    "#将traceback指出的存在问题的代码行放到 try 代码块中\n",
    "from pathlib import Path\n",
    "\n",
    "path=Path('alice.txt')\n",
    "try:\n",
    "    contents=path.read_text(encoding='utf-8')\n",
    "except FileNotFoundError:\n",
    "    print(f\"Sorry, the file {path} does not exist.\")"
   ]
  },
  {
   "cell_type": "markdown",
   "id": "192a656a",
   "metadata": {},
   "source": [
    "## 10.3.6 分析文本"
   ]
  },
  {
   "cell_type": "code",
   "execution_count": 31,
   "id": "cc316ee3",
   "metadata": {
    "ExecuteTime": {
     "end_time": "2024-05-24T05:28:52.180297Z",
     "start_time": "2024-05-24T05:28:52.173804Z"
    }
   },
   "outputs": [
    {
     "name": "stdout",
     "output_type": "stream",
     "text": [
      "The file alice.txt has about 17868 words.\n"
     ]
    }
   ],
   "source": [
    "from pathlib import Path\n",
    "\n",
    "path = Path('alice.txt')\n",
    "try:\n",
    "    contents = path.read_text(encoding='utf-8')\n",
    "except FileNotFoundError:\n",
    "    print(f\"Sorry, the file {path} does not exist.\")\n",
    "    \n",
    "#这些代码都放在else代码块中，因为仅当try代码块成功执行时才会执行它们\n",
    "else:\n",
    "    #计算文件大致包含多少个单词\n",
    "    words = contents.split()#生成一个列表，包含所有童话中的单词\n",
    "    num_words = len(words)\n",
    "    print(f\"The file {path} has about {num_words} words.\")"
   ]
  },
  {
   "cell_type": "markdown",
   "id": "7b70e234",
   "metadata": {},
   "source": [
    "## 10.3.7 使用多个文件"
   ]
  },
  {
   "cell_type": "code",
   "execution_count": 32,
   "id": "40751f0c",
   "metadata": {
    "ExecuteTime": {
     "end_time": "2024-05-24T05:31:34.676677Z",
     "start_time": "2024-05-24T05:31:34.670496Z"
    }
   },
   "outputs": [
    {
     "name": "stdout",
     "output_type": "stream",
     "text": [
      "The file alice.txt has about 17868 words.\n"
     ]
    }
   ],
   "source": [
    "from pathlib import Path\n",
    "\n",
    "#先将大部分代码移到count_words()函数中\n",
    "def count_words(path):\n",
    "    \"\"\"计算一个文件大致包含多少个单词\"\"\"\n",
    "    try:\n",
    "        contents = path.read_text(encoding='utf-8')\n",
    "    except FileNotFoundError:\n",
    "        print(f\"Sorry, the file {path} does not exist.\")\n",
    "    else:\n",
    "        #计算文件大致包含多少个单词\n",
    "        words = contents.split()\n",
    "        num_words = len(words)\n",
    "        print(f\"The file {path} has about {num_words} words.\")\n",
    "\n",
    "path=Path('alice.txt')\n",
    "count_words(path)"
   ]
  },
  {
   "cell_type": "code",
   "execution_count": 33,
   "id": "9a751d85",
   "metadata": {
    "ExecuteTime": {
     "end_time": "2024-05-24T05:36:21.573228Z",
     "start_time": "2024-05-24T05:36:21.545159Z"
    }
   },
   "outputs": [
    {
     "name": "stdout",
     "output_type": "stream",
     "text": [
      "The file alice.txt has about 17868 words.\n",
      "The file siddhartha.txt has about 42186 words.\n",
      "Sorry, the file moby_dick.txt does not exist.\n",
      "The file little women.txt has about 161392 words.\n"
     ]
    }
   ],
   "source": [
    "filenames=['alice.txt', 'siddhartha.txt', 'moby_dick.txt', 'little women.txt']\n",
    "for filename in filenames:\n",
    "    path=Path(filename)\n",
    "    count_words(path)"
   ]
  },
  {
   "cell_type": "markdown",
   "id": "c2d8f57e",
   "metadata": {},
   "source": [
    "## 10.3.8 静默失败"
   ]
  },
  {
   "cell_type": "code",
   "execution_count": 35,
   "id": "fe20fe4a",
   "metadata": {
    "ExecuteTime": {
     "end_time": "2024-05-24T05:38:15.413911Z",
     "start_time": "2024-05-24T05:38:15.384244Z"
    }
   },
   "outputs": [
    {
     "name": "stdout",
     "output_type": "stream",
     "text": [
      "The file alice.txt has about 17868 words.\n",
      "The file siddhartha.txt has about 42186 words.\n",
      "The file little women.txt has about 161392 words.\n"
     ]
    }
   ],
   "source": [
    "#希望程序在发生异常时保持静默，就像什么都没有发生一样继续运行\n",
    "#pass语句\n",
    "from pathlib import Path\n",
    "\n",
    "def count_words(path):\n",
    "    \"\"\"计算一个文件大致包含多少个单词\"\"\"\n",
    "    try:\n",
    "        contents = path.read_text(encoding='utf-8')\n",
    "    except FileNotFoundError:\n",
    "        pass\n",
    "    else:\n",
    "        #计算文件大致包含多少个单词\n",
    "        words = contents.split()\n",
    "        num_words = len(words)\n",
    "        print(f\"The file {path} has about {num_words} words.\")\n",
    "\n",
    "filenames=['alice.txt', 'siddhartha.txt', 'moby_dick.txt', 'little women.txt']\n",
    "for filename in filenames:\n",
    "    path=Path(filename)\n",
    "    count_words(path)"
   ]
  },
  {
   "cell_type": "markdown",
   "id": "f76cdc27",
   "metadata": {},
   "source": [
    "## 10.3.9 决定报告哪些错误"
   ]
  },
  {
   "cell_type": "code",
   "execution_count": 36,
   "id": "e414cd4e",
   "metadata": {
    "ExecuteTime": {
     "end_time": "2024-05-24T05:39:05.870706Z",
     "start_time": "2024-05-24T05:39:05.867088Z"
    }
   },
   "outputs": [],
   "source": [
    "#控制与用户共享错误信息的程度，要共享多少信息由你决定"
   ]
  },
  {
   "cell_type": "markdown",
   "id": "ec9b492e",
   "metadata": {},
   "source": [
    "### 练习10.6 加法运算"
   ]
  },
  {
   "cell_type": "code",
   "execution_count": 42,
   "id": "623396cd",
   "metadata": {
    "ExecuteTime": {
     "end_time": "2024-05-24T06:18:29.901254Z",
     "start_time": "2024-05-24T06:18:25.970612Z"
    }
   },
   "outputs": [
    {
     "name": "stdout",
     "output_type": "stream",
     "text": [
      "Give me two numbers, and I'll add them.\n",
      "\n",
      "First number: t\n",
      "Second number: r\n",
      "Sorry, please enter numbers.\n"
     ]
    }
   ],
   "source": [
    "print(\"Give me two numbers, and I'll add them.\")\n",
    "\n",
    "first_number = input(\"\\nFirst number: \")\n",
    "second_number = input(\"Second number: \")\n",
    "try:\n",
    "    answer = int(first_number) + int(second_number)\n",
    "except ValueError:\n",
    "    print(\"Sorry, please enter numbers.\")\n",
    "else:\n",
    "    print(answer)"
   ]
  },
  {
   "cell_type": "markdown",
   "id": "73ec825f",
   "metadata": {},
   "source": [
    "### 练习10.7 加法计算器"
   ]
  },
  {
   "cell_type": "code",
   "execution_count": 44,
   "id": "ea9c0c9d",
   "metadata": {
    "ExecuteTime": {
     "end_time": "2024-05-24T06:18:54.500053Z",
     "start_time": "2024-05-24T06:18:46.853176Z"
    },
    "scrolled": true
   },
   "outputs": [
    {
     "name": "stdout",
     "output_type": "stream",
     "text": [
      "Give me two numbers, and I'll add them.\n",
      "Enter 'q' to quit.\n",
      "\n",
      "First number: 2\n",
      "Second number: 4\n",
      "6\n",
      "\n",
      "First number: w\n",
      "Second number: h\n",
      "Sorry, please enter numbers.\n",
      "\n",
      "First number: q\n"
     ]
    }
   ],
   "source": [
    "print(\"Give me two numbers, and I'll add them.\")\n",
    "print(\"Enter 'q' to quit.\")\n",
    "\n",
    "while True:\n",
    "    first_number = input(\"\\nFirst number: \")\n",
    "    if first_number == 'q':\n",
    "        break\n",
    "    second_number = input(\"Second number: \")\n",
    "    if second_number == 'q':\n",
    "        break\n",
    "    try:\n",
    "        answer = int(first_number) + int(second_number)\n",
    "    except ValueError:\n",
    "        print(\"Sorry, please enter numbers.\")\n",
    "    else:\n",
    "        print(answer)"
   ]
  },
  {
   "cell_type": "markdown",
   "id": "e804d3e7",
   "metadata": {},
   "source": [
    "### 练习10.8 猫和狗"
   ]
  },
  {
   "cell_type": "code",
   "execution_count": 47,
   "id": "8063f1b3",
   "metadata": {
    "ExecuteTime": {
     "end_time": "2024-05-24T07:18:08.913446Z",
     "start_time": "2024-05-24T07:18:08.908919Z"
    }
   },
   "outputs": [
    {
     "name": "stdout",
     "output_type": "stream",
     "text": [
      "min\n",
      "meow\n",
      "miao\n",
      "\n"
     ]
    }
   ],
   "source": [
    "from pathlib import Path\n",
    "\n",
    "def show_names(path):\n",
    "    \"\"\"显示文件里包含的名字\"\"\"\n",
    "    try:\n",
    "        names = path.read_text(encoding='utf-8')\n",
    "    except FileNotFoundError:\n",
    "        print(f\"Sorry, the file {path} does not exist.\")\n",
    "    else:\n",
    "        print(f\"{names}\\n\")\n",
    "\n",
    "path=Path('cats.txt')\n",
    "show_names(path)"
   ]
  },
  {
   "cell_type": "code",
   "execution_count": 48,
   "id": "e9093e0d",
   "metadata": {
    "ExecuteTime": {
     "end_time": "2024-05-24T07:18:34.034337Z",
     "start_time": "2024-05-24T07:18:34.028212Z"
    }
   },
   "outputs": [
    {
     "name": "stdout",
     "output_type": "stream",
     "text": [
      "Sorry, the file dogs.txt does not exist.\n"
     ]
    }
   ],
   "source": [
    "from pathlib import Path\n",
    "\n",
    "def show_names(path):\n",
    "    \"\"\"显示文件里包含的名字\"\"\"\n",
    "    try:\n",
    "        names = path.read_text(encoding='utf-8')\n",
    "    except FileNotFoundError:\n",
    "        print(f\"Sorry, the file {path} does not exist.\")\n",
    "    else:\n",
    "        print(f\"{names}\\n\")\n",
    "\n",
    "path=Path('dogs.txt')\n",
    "show_names(path)"
   ]
  },
  {
   "cell_type": "markdown",
   "id": "1c36f9df",
   "metadata": {},
   "source": [
    "### 练习10.9 静默的猫和狗 "
   ]
  },
  {
   "cell_type": "code",
   "execution_count": 49,
   "id": "4a47f849",
   "metadata": {
    "ExecuteTime": {
     "end_time": "2024-05-24T07:19:36.266414Z",
     "start_time": "2024-05-24T07:19:36.262388Z"
    }
   },
   "outputs": [],
   "source": [
    "from pathlib import Path\n",
    "\n",
    "def show_names(path):\n",
    "    \"\"\"显示文件里包含的名字\"\"\"\n",
    "    try:\n",
    "        names = path.read_text(encoding='utf-8')\n",
    "    except FileNotFoundError:\n",
    "        pass\n",
    "    else:\n",
    "        print(f\"{names}\\n\")\n",
    "\n",
    "path=Path('dogs.txt')\n",
    "show_names(path)"
   ]
  },
  {
   "cell_type": "markdown",
   "id": "a1781fef",
   "metadata": {},
   "source": [
    "### 练习10.10 常见单词"
   ]
  },
  {
   "cell_type": "code",
   "execution_count": 57,
   "id": "18f799ca",
   "metadata": {
    "ExecuteTime": {
     "end_time": "2024-05-24T17:29:16.549233Z",
     "start_time": "2024-05-24T17:29:16.530616Z"
    }
   },
   "outputs": [
    {
     "name": "stdout",
     "output_type": "stream",
     "text": [
      "The file alice.txt has about 1235 'the'.\n",
      "The file siddhartha.txt has about 3123 'the'.\n",
      "The file little women.txt has about 9994 'the'.\n"
     ]
    }
   ],
   "source": [
    "from pathlib import Path\n",
    "\n",
    "def count_words(path):\n",
    "    \"\"\"计算一个单词或短语出现了多少次\"\"\"\n",
    "    try:\n",
    "        contents = path.read_text(encoding='utf-8')\n",
    "    except FileNotFoundError:\n",
    "        pass\n",
    "    else:\n",
    "        #使用方法count()来确定特定的单词或短语在字符串中出现了多少次\n",
    "        num=contents.lower().count('the')\n",
    "        print(f\"The file {path} has about {num} 'the'.\")\n",
    "\n",
    "filenames=['alice.txt', 'siddhartha.txt', 'moby_dick.txt', 'little women.txt']\n",
    "for filename in filenames:\n",
    "    path=Path(filename)\n",
    "    count_words(path)"
   ]
  },
  {
   "cell_type": "code",
   "execution_count": 58,
   "id": "065541b4",
   "metadata": {
    "ExecuteTime": {
     "end_time": "2024-05-24T17:30:01.246707Z",
     "start_time": "2024-05-24T17:30:01.227529Z"
    }
   },
   "outputs": [
    {
     "name": "stdout",
     "output_type": "stream",
     "text": [
      "The file alice.txt has about 834 'the '.\n",
      "The file siddhartha.txt has about 2045 'the '.\n",
      "The file little women.txt has about 5931 'the '.\n"
     ]
    }
   ],
   "source": [
    "#'the'换成'the '\n",
    "from pathlib import Path\n",
    "\n",
    "def count_words(path):\n",
    "    \"\"\"计算一个单词或短语出现了多少次\"\"\"\n",
    "    try:\n",
    "        contents = path.read_text(encoding='utf-8')\n",
    "    except FileNotFoundError:\n",
    "        pass\n",
    "    else:\n",
    "        #使用方法count()来确定特定的单词或短语在字符串中出现了多少次\n",
    "        num=contents.lower().count('the ')\n",
    "        print(f\"The file {path} has about {num} 'the '.\")\n",
    "\n",
    "filenames=['alice.txt', 'siddhartha.txt', 'moby_dick.txt', 'little women.txt']\n",
    "for filename in filenames:\n",
    "    path=Path(filename)\n",
    "    count_words(path)"
   ]
  },
  {
   "cell_type": "markdown",
   "id": "7a273259",
   "metadata": {},
   "source": [
    "# 10.4 存储数据"
   ]
  },
  {
   "cell_type": "code",
   "execution_count": 59,
   "id": "da06614f",
   "metadata": {
    "ExecuteTime": {
     "end_time": "2024-05-24T17:32:46.716264Z",
     "start_time": "2024-05-24T17:32:46.710169Z"
    }
   },
   "outputs": [],
   "source": [
    "#当用户关闭程序时，要保存他们提供的信息。一种简单的方式是使用模块json来存储数据\n",
    "#json让你能够将简单的Python数据结构转换为 JSON 格式的字符串，并在程序再次运行时从文件中加载数据"
   ]
  },
  {
   "cell_type": "markdown",
   "id": "56608989",
   "metadata": {},
   "source": [
    "## 10.4.1 使用json.dumps()和json.loads()"
   ]
  },
  {
   "cell_type": "code",
   "execution_count": 60,
   "id": "90597925",
   "metadata": {
    "ExecuteTime": {
     "end_time": "2024-05-24T17:37:49.195709Z",
     "start_time": "2024-05-24T17:37:49.181034Z"
    }
   },
   "outputs": [
    {
     "data": {
      "text/plain": [
       "20"
      ]
     },
     "execution_count": 60,
     "metadata": {},
     "output_type": "execute_result"
    }
   ],
   "source": [
    "#先编写一个存储一组数的简短程序，再编写一个将这些数读取到内存中的程序\n",
    "from pathlib import Path\n",
    "import json\n",
    "\n",
    "numbers=[2, 3, 5, 7, 11, 13]\n",
    "\n",
    "#选择一个文件名，指定要将该数值列表存储到哪个文件中\n",
    "#通常使用文件扩展名.json\n",
    "path=Path('numbers.json')\n",
    "#使用json.dumps()函数生成一个字符串\n",
    "contents=json.dumps(numbers)\n",
    "path.write_text(contents)"
   ]
  },
  {
   "cell_type": "code",
   "execution_count": 63,
   "id": "e06cbc6b",
   "metadata": {
    "ExecuteTime": {
     "end_time": "2024-05-24T17:49:55.226918Z",
     "start_time": "2024-05-24T17:49:55.221205Z"
    }
   },
   "outputs": [
    {
     "name": "stdout",
     "output_type": "stream",
     "text": [
      "[2, 3, 5, 7, 11, 13]\n"
     ]
    }
   ],
   "source": [
    "#再编写一个程序，使用 json.loads() 将这个列表读取到内存中\n",
    "from pathlib import Path\n",
    "import json\n",
    "\n",
    "path=Path('numbers.json')\n",
    "#这个数据文件是使用特殊格式的文本文件，因此可使用read_text() 方法来读取它\n",
    "contents=path.read_text()\n",
    "numbers=json.loads(contents)\n",
    "\n",
    "print(numbers)"
   ]
  },
  {
   "cell_type": "markdown",
   "id": "be6945dc",
   "metadata": {},
   "source": [
    "## 10.4.2 保存和读取用户生成的数据"
   ]
  },
  {
   "cell_type": "code",
   "execution_count": 62,
   "id": "c124400e",
   "metadata": {
    "ExecuteTime": {
     "end_time": "2024-05-24T17:46:55.114371Z",
     "start_time": "2024-05-24T17:46:51.634331Z"
    }
   },
   "outputs": [
    {
     "name": "stdout",
     "output_type": "stream",
     "text": [
      "What is your name? jade\n",
      "We'll remember you when you come back, jade!\n"
     ]
    }
   ],
   "source": [
    "#提示用户在首次运行程序时输入自己的名字，并且在他再次运行程序时仍然记得他\n",
    "from pathlib import Path\n",
    "import json\n",
    "\n",
    "username=input(\"What is your name? \")\n",
    "\n",
    "path=Path('username.json')\n",
    "contents=json.dumps(username)\n",
    "path.write_text(contents)\n",
    "\n",
    "print(f\"We'll remember you when you come back, {username}!\")"
   ]
  },
  {
   "cell_type": "code",
   "execution_count": 64,
   "id": "20b6ee42",
   "metadata": {
    "ExecuteTime": {
     "end_time": "2024-05-24T17:51:26.134036Z",
     "start_time": "2024-05-24T17:51:26.127915Z"
    }
   },
   "outputs": [
    {
     "name": "stdout",
     "output_type": "stream",
     "text": [
      "Welcome back, jade!\n"
     ]
    }
   ],
   "source": [
    "from pathlib import Path\n",
    "import json\n",
    "\n",
    "path=Path('username.json')\n",
    "contents=path.read_text()\n",
    "username=json.loads(contents)\n",
    "\n",
    "print(f\"Welcome back, {username}!\")"
   ]
  },
  {
   "cell_type": "code",
   "execution_count": 66,
   "id": "127b02cb",
   "metadata": {
    "ExecuteTime": {
     "end_time": "2024-05-24T17:54:35.948379Z",
     "start_time": "2024-05-24T17:54:35.940288Z"
    }
   },
   "outputs": [
    {
     "name": "stdout",
     "output_type": "stream",
     "text": [
      "Welcome back, jade!\n"
     ]
    }
   ],
   "source": [
    "#将以上两个程序合并到一个中\n",
    "from pathlib import Path\n",
    "import json\n",
    "\n",
    "path = Path('username.json')\n",
    "#这里可以不用tryexcept，而用exists()方法返回True/False\n",
    "if path.exists():\n",
    "    contents = path.read_text()\n",
    "    username = json.loads(contents)\n",
    "    print(f\"Welcome back, {username}!\")\n",
    "else:\n",
    "    username = input(\"What is your name? \")\n",
    "    contents = json.dumps(username)\n",
    "    path.write_text(contents)\n",
    "    print(f\"We'll remember you when you come back, {username}!\")"
   ]
  },
  {
   "cell_type": "markdown",
   "id": "027ec23a",
   "metadata": {},
   "source": [
    "## 10.4.3 重构"
   ]
  },
  {
   "cell_type": "code",
   "execution_count": 67,
   "id": "19451f32",
   "metadata": {
    "ExecuteTime": {
     "end_time": "2024-05-24T18:00:28.783954Z",
     "start_time": "2024-05-24T18:00:28.777062Z"
    }
   },
   "outputs": [
    {
     "name": "stdout",
     "output_type": "stream",
     "text": [
      "Welcome back, jade!\n"
     ]
    }
   ],
   "source": [
    "#虽然代码能正确运行，但还可将其划分为一系列完成具体工作的函数来改进。这样的过程称为重构。\n",
    "\n",
    "#将其所有代码都放到一个名为greet_user()的函数中\n",
    "from pathlib import Path\n",
    "import json\n",
    "\n",
    "def greet_user():\n",
    "    \"\"\"问候用户，并指出其名字\"\"\"\n",
    "    path = Path('username.json')\n",
    "    if path.exists():\n",
    "        contents = path.read_text()\n",
    "        username = json.loads(contents)\n",
    "        print(f\"Welcome back, {username}!\")\n",
    "    else:  \n",
    "        username = input(\"What is your name? \")\n",
    "        contents = json.dumps(username)\n",
    "        path.write_text(contents)\n",
    "        print(f\"We'll remember you when you come back, {username}!\")\n",
    "\n",
    "greet_user()"
   ]
  },
  {
   "cell_type": "code",
   "execution_count": 68,
   "id": "def12fb7",
   "metadata": {
    "ExecuteTime": {
     "end_time": "2024-05-24T18:02:43.227479Z",
     "start_time": "2024-05-24T18:02:43.219995Z"
    }
   },
   "outputs": [
    {
     "name": "stdout",
     "output_type": "stream",
     "text": [
      "Welcome back, jade!\n"
     ]
    }
   ],
   "source": [
    "#下面重构greet_user()，不让它执行这么多任务\n",
    "from pathlib import Path\n",
    "import json\n",
    "\n",
    "def get_stored_username(path):\n",
    "    \"\"\"如果存储了用户名，就获取它\"\"\"\n",
    "    if path.exists():\n",
    "        contents = path.read_text()\n",
    "        username = json.loads(contents)\n",
    "        return username\n",
    "    else:\n",
    "        return None\n",
    "\n",
    "def greet_user():\n",
    "    \"\"\"问候用户，并指出其名字\"\"\"\n",
    "    path = Path('username.json')\n",
    "    username = get_stored_username(path)\n",
    "    if username:\n",
    "        print(f\"Welcome back, {username}!\")\n",
    "    else:\n",
    "        username = input(\"What is your name? \")\n",
    "        contents = json.dumps(username)\n",
    "        path.write_text(contents)\n",
    "        print(f\"We'll remember you when you come back, {username}!\")\n",
    "\n",
    "greet_user()"
   ]
  },
  {
   "cell_type": "code",
   "execution_count": 70,
   "id": "feaf8139",
   "metadata": {
    "ExecuteTime": {
     "end_time": "2024-05-24T18:05:42.799530Z",
     "start_time": "2024-05-24T18:05:42.789588Z"
    }
   },
   "outputs": [
    {
     "name": "stdout",
     "output_type": "stream",
     "text": [
      "Welcome back, jade!\n"
     ]
    }
   ],
   "source": [
    "#再将在没有存储用户名时提示用户输入的代码放在一个独立的函数中\n",
    "from pathlib import Path\n",
    "import json\n",
    "\n",
    "def get_stored_username(path):\n",
    "    \"\"\"如果存储了用户名，就获取它\"\"\"\n",
    "    if path.exists():\n",
    "        contents = path.read_text()\n",
    "        username = json.loads(contents)\n",
    "        return username\n",
    "    else:\n",
    "        return None\n",
    "\n",
    "def get_new_username(path):\n",
    "    \"\"\"提示用户输入用户名\"\"\"\n",
    "    username = input(\"What is your name? \")\n",
    "    contents = json.dumps(username)\n",
    "    path.write_text(contents)\n",
    "    return username\n",
    "\n",
    "def greet_user():\n",
    "    \"\"\"问候用户，并指出其名字\"\"\"\n",
    "    path = Path('username.json')\n",
    "    username = get_stored_username(path)\n",
    "    if username:\n",
    "        print(f\"Welcome back, {username}!\")\n",
    "    else:\n",
    "        username = get_new_username(path)\n",
    "        print(f\"We'll remember you when you come back, {username}!\")\n",
    "\n",
    "greet_user()"
   ]
  },
  {
   "cell_type": "markdown",
   "id": "6c85d0da",
   "metadata": {},
   "source": [
    "### 练习 10.11 喜欢的数"
   ]
  },
  {
   "cell_type": "code",
   "execution_count": 72,
   "id": "c3f20249",
   "metadata": {
    "ExecuteTime": {
     "end_time": "2024-05-24T18:11:26.098000Z",
     "start_time": "2024-05-24T18:11:24.002074Z"
    }
   },
   "outputs": [
    {
     "name": "stdout",
     "output_type": "stream",
     "text": [
      "What is your favourite number? 39\n",
      "I know your favorite number! It's 39!\n"
     ]
    }
   ],
   "source": [
    "from pathlib import Path\n",
    "import json\n",
    "\n",
    "favourite_number=input(\"What is your favourite number? \")\n",
    "\n",
    "path=Path('fav_number.json')\n",
    "contents=json.dumps(favourite_number)\n",
    "path.write_text(contents)\n",
    "\n",
    "contents=path.read_text()\n",
    "favourite_number=json.loads(contents)\n",
    "\n",
    "print(f\"I know your favorite number! It's {favourite_number}!\")"
   ]
  },
  {
   "cell_type": "markdown",
   "id": "8fec3fcd",
   "metadata": {},
   "source": [
    "### 练习10.12 记住喜欢的数"
   ]
  },
  {
   "cell_type": "code",
   "execution_count": 73,
   "id": "794a9957",
   "metadata": {
    "ExecuteTime": {
     "end_time": "2024-05-24T18:13:22.131049Z",
     "start_time": "2024-05-24T18:13:22.126554Z"
    }
   },
   "outputs": [
    {
     "name": "stdout",
     "output_type": "stream",
     "text": [
      "I know your favorite number! It's 39!\n"
     ]
    }
   ],
   "source": [
    "from pathlib import Path\n",
    "import json\n",
    "\n",
    "path = Path('fav_number.json')\n",
    "if path.exists():\n",
    "    contents = path.read_text()\n",
    "    favourite_number = json.loads(contents)\n",
    "    print(f\"I know your favorite number! It's {favourite_number}!\")\n",
    "else:\n",
    "    favourite_number=input(\"What is your favourite number? \")\n",
    "    contents = json.dumps(favourite_number)\n",
    "    path.write_text(contents)"
   ]
  },
  {
   "cell_type": "markdown",
   "id": "7b55bc05",
   "metadata": {},
   "source": [
    "### 练习10.13 用户字典"
   ]
  },
  {
   "cell_type": "code",
   "execution_count": 77,
   "id": "69029398",
   "metadata": {
    "ExecuteTime": {
     "end_time": "2024-05-24T18:29:12.341886Z",
     "start_time": "2024-05-24T18:29:12.334996Z"
    }
   },
   "outputs": [
    {
     "name": "stdout",
     "output_type": "stream",
     "text": [
      "Welcome back, your information is: {'name': 'jade', 'age': '20', 'location': 'nanjing'}!\n"
     ]
    }
   ],
   "source": [
    "from pathlib import Path\n",
    "import json\n",
    "\n",
    "def get_stored_userinfo(path):\n",
    "    \"\"\"如果存储了用户信息，就获取它\"\"\"\n",
    "    if path.exists():\n",
    "        contents = path.read_text()\n",
    "        userinfo = json.loads(contents)\n",
    "        return userinfo\n",
    "    else:\n",
    "        return None\n",
    "\n",
    "def get_new_userinfo(path):\n",
    "    \"\"\"提示用户输入用户信息\"\"\"\n",
    "    username = input(\"What is your name? \")\n",
    "    userage = input(\"What is your age? \")\n",
    "    userlocation = input(\"What is your location? \")\n",
    "    userinfo={'name': username, 'age': userage, 'location': userlocation}\n",
    "    contents = json.dumps(userinfo)\n",
    "    path.write_text(contents)\n",
    "    return userinfo\n",
    "\n",
    "\n",
    "def greet_user():\n",
    "    \"\"\"问候用户，并指出其信息\"\"\"\n",
    "    path = Path('userinfo.json')\n",
    "    userinfo = get_stored_userinfo(path)\n",
    "    if userinfo:\n",
    "        print(f\"Welcome back, your information is: {userinfo}!\")\n",
    "    else:\n",
    "        userinfo = get_new_userinfo(path)\n",
    "        print(f\"We'll remember you when you come back, {username}!\")\n",
    "\n",
    "greet_user()"
   ]
  },
  {
   "cell_type": "markdown",
   "id": "ee0195ae",
   "metadata": {},
   "source": [
    "### 练习10.14 验证用户"
   ]
  },
  {
   "cell_type": "code",
   "execution_count": 82,
   "id": "0ba26cd9",
   "metadata": {
    "ExecuteTime": {
     "end_time": "2024-05-24T18:35:59.868802Z",
     "start_time": "2024-05-24T18:35:50.877562Z"
    }
   },
   "outputs": [
    {
     "name": "stdout",
     "output_type": "stream",
     "text": [
      "What's your name?jadee\n",
      "You should enter correct name.\n",
      "What is your name? jade\n",
      "What is your age? 20\n",
      "What is your location? nanjing\n",
      "We'll remember you when you come back, jade!\n"
     ]
    }
   ],
   "source": [
    "#修改这个程序，以防当前用户并非上次运行该程序的用户\n",
    "from pathlib import Path\n",
    "import json\n",
    "\n",
    "def get_stored_userinfo(path):\n",
    "    \"\"\"如果存储了用户信息，就获取它\"\"\"\n",
    "    if path.exists():\n",
    "        contents = path.read_text()\n",
    "        userinfo = json.loads(contents)\n",
    "        return userinfo\n",
    "    else:\n",
    "        return None\n",
    "\n",
    "def get_new_userinfo(path):\n",
    "    \"\"\"提示用户输入用户信息\"\"\"\n",
    "    username = input(\"What is your name? \")\n",
    "    userage = input(\"What is your age? \")\n",
    "    userlocation = input(\"What is your location? \")\n",
    "    userinfo={'name': username, 'age': userage, 'location': userlocation}\n",
    "    contents = json.dumps(userinfo)\n",
    "    path.write_text(contents)\n",
    "    return userinfo\n",
    "\n",
    "\n",
    "def greet_user():\n",
    "    \"\"\"问候用户，并指出其信息\"\"\"\n",
    "    path = Path('userinfo.json')\n",
    "    userinfo = get_stored_userinfo(path)\n",
    "    if userinfo:\n",
    "        new_username=input(\"What's your name?\")\n",
    "        if new_username==username:\n",
    "            print(f\"Welcome back, your information is: {userinfo}!\")\n",
    "        else:\n",
    "            print(\"You should enter correct name.\")\n",
    "            userinfo = get_new_userinfo(path)\n",
    "            print(f\"We'll remember you when you come back, {username}!\")\n",
    "    else:\n",
    "        userinfo = get_new_userinfo(path)\n",
    "        print(f\"We'll remember you when you come back, {username}!\")\n",
    "\n",
    "greet_user()"
   ]
  },
  {
   "cell_type": "code",
   "execution_count": null,
   "id": "ea638135",
   "metadata": {},
   "outputs": [],
   "source": []
  }
 ],
 "metadata": {
  "kernelspec": {
   "display_name": "Python 3 (ipykernel)",
   "language": "python",
   "name": "python3"
  },
  "language_info": {
   "codemirror_mode": {
    "name": "ipython",
    "version": 3
   },
   "file_extension": ".py",
   "mimetype": "text/x-python",
   "name": "python",
   "nbconvert_exporter": "python",
   "pygments_lexer": "ipython3",
   "version": "3.11.5"
  },
  "toc": {
   "base_numbering": 1,
   "nav_menu": {},
   "number_sections": false,
   "sideBar": true,
   "skip_h1_title": false,
   "title_cell": "Table of Contents",
   "title_sidebar": "Contents",
   "toc_cell": false,
   "toc_position": {
    "height": "calc(100% - 180px)",
    "left": "10px",
    "top": "150px",
    "width": "256px"
   },
   "toc_section_display": true,
   "toc_window_display": false
  }
 },
 "nbformat": 4,
 "nbformat_minor": 5
}
