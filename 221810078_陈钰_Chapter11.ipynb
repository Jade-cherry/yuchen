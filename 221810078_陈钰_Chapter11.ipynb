{
 "cells": [
  {
   "cell_type": "markdown",
   "id": "99e98838",
   "metadata": {},
   "source": [
    "# 11.1 使用 pip 安装 pytest"
   ]
  },
  {
   "cell_type": "code",
   "execution_count": null,
   "id": "65158cf1",
   "metadata": {},
   "outputs": [],
   "source": [
    "#第三方包（third-party package）指的是独立于Python 核心的库"
   ]
  },
  {
   "cell_type": "markdown",
   "id": "5dd76fa5",
   "metadata": {},
   "source": [
    "## 11.1.1 更新pip"
   ]
  },
  {
   "cell_type": "code",
   "execution_count": 1,
   "id": "c016981e",
   "metadata": {
    "ExecuteTime": {
     "end_time": "2024-05-29T10:56:01.508288Z",
     "start_time": "2024-05-29T10:56:01.489828Z"
    }
   },
   "outputs": [],
   "source": [
    "#终端运行\n",
    "#  $ python -m pip install --upgrade pip\n",
    "#  Requirement already satisfied: pip in /.../python3.11/site-packages (22.0.4)\n",
    "#  --snip--\n",
    "#  Successfully installed pip-22.1.2\n",
    "\n",
    "#python -m pip 让python运行pip模块\n",
    "#install --upgrade 让pip更新一个已安装的包\n",
    "#最后的pip指定要更新哪个第三方包"
   ]
  },
  {
   "cell_type": "code",
   "execution_count": 2,
   "id": "d1558edd",
   "metadata": {
    "ExecuteTime": {
     "end_time": "2024-05-29T12:58:17.974660Z",
     "start_time": "2024-05-29T12:58:17.968903Z"
    }
   },
   "outputs": [],
   "source": [
    "#此命令可用来更新系统中安装的任何包\n",
    "#$ python -m pip install --upgrade package_name"
   ]
  },
  {
   "cell_type": "markdown",
   "id": "ed0f21f3",
   "metadata": {},
   "source": [
    "## 11.1.2 安装pytest"
   ]
  },
  {
   "cell_type": "code",
   "execution_count": 3,
   "id": "d871c275",
   "metadata": {
    "ExecuteTime": {
     "end_time": "2024-05-29T13:01:08.365969Z",
     "start_time": "2024-05-29T13:01:08.359947Z"
    }
   },
   "outputs": [],
   "source": [
    "#$ python -m pip install --user pytest\n",
    "#Collecting pytest\n",
    "#  --snip--\n",
    "#Successfully installed attrs-21.4.0 iniconfig-1.1.1 ...pytest-7.x.x"
   ]
  },
  {
   "cell_type": "code",
   "execution_count": 4,
   "id": "3ffc90d9",
   "metadata": {
    "ExecuteTime": {
     "end_time": "2024-05-29T13:01:55.451605Z",
     "start_time": "2024-05-29T13:01:55.446596Z"
    }
   },
   "outputs": [],
   "source": [
    "#此命令可用来安装众多的第三方包\n",
    "#$ python -m pip install --user package_name"
   ]
  },
  {
   "cell_type": "markdown",
   "id": "43897c57",
   "metadata": {},
   "source": [
    "# 11.2 测试函数"
   ]
  },
  {
   "cell_type": "code",
   "execution_count": 6,
   "id": "0357751d",
   "metadata": {
    "ExecuteTime": {
     "end_time": "2024-05-29T13:13:49.212038Z",
     "start_time": "2024-05-29T13:13:49.203846Z"
    }
   },
   "outputs": [],
   "source": [
    "#name_function.py的内容\n",
    "\n",
    "#def get_formatted_name(first, last):\n",
    "#    \"\"\"生成格式规范的姓名\"\"\"\n",
    "#    full_name=f\"{first} {last}\"\n",
    "#    return full_name.title()"
   ]
  },
  {
   "cell_type": "code",
   "execution_count": 8,
   "id": "742263c9",
   "metadata": {
    "ExecuteTime": {
     "end_time": "2024-05-29T13:19:53.733658Z",
     "start_time": "2024-05-29T13:19:42.849352Z"
    }
   },
   "outputs": [
    {
     "name": "stdout",
     "output_type": "stream",
     "text": [
      "Enter 'q' at any time to quit.\n",
      "\n",
      "Please give me a first name:jade\n",
      "Please give me a last name: chen\n",
      "\tNeatly formatted name: Jade Chen.\n",
      "\n",
      "Please give me a first name:q\n"
     ]
    }
   ],
   "source": [
    "#核实get_formatted_name()是否按期望工作，编写一个使用这个函数的程序\n",
    "from name_function import get_formatted_name\n",
    "\n",
    "print(\"Enter 'q' at any time to quit.\")\n",
    "while True:\n",
    "    first=input(\"\\nPlease give me a first name:\")\n",
    "    if first == 'q':\n",
    "        break\n",
    "    last=input(\"Please give me a last name: \")\n",
    "    if last == 'q':\n",
    "        break\n",
    "        \n",
    "    formatted_name=get_formatted_name(first, last)\n",
    "    print(f\"\\tNeatly formatted name: {formatted_name}.\")"
   ]
  },
  {
   "cell_type": "code",
   "execution_count": 9,
   "id": "82a2df2d",
   "metadata": {
    "ExecuteTime": {
     "end_time": "2024-05-29T14:40:55.779272Z",
     "start_time": "2024-05-29T14:40:55.765418Z"
    }
   },
   "outputs": [],
   "source": [
    "#对上述进行测试，每次修改后都测试\n",
    "#使用pytest自动测试"
   ]
  },
  {
   "cell_type": "markdown",
   "id": "6259163f",
   "metadata": {},
   "source": [
    "## 11.2.1 单元测试和测试用例"
   ]
  },
  {
   "cell_type": "code",
   "execution_count": 10,
   "id": "b3a04f3f",
   "metadata": {
    "ExecuteTime": {
     "end_time": "2024-05-29T14:46:43.988191Z",
     "start_time": "2024-05-29T14:46:43.985021Z"
    }
   },
   "outputs": [],
   "source": [
    "#单元测试：用于核实函数的某个方面没有问题\n",
    "#测试用例：一组单元测试，这些单元测试一道核实函数在各种情况下的行为都符合要求"
   ]
  },
  {
   "cell_type": "markdown",
   "id": "dfcc1079",
   "metadata": {},
   "source": [
    "## 11.2.2 可通过的测试"
   ]
  },
  {
   "cell_type": "code",
   "execution_count": 11,
   "id": "b03d3206",
   "metadata": {
    "ExecuteTime": {
     "end_time": "2024-05-29T15:10:26.959249Z",
     "start_time": "2024-05-29T15:10:26.955365Z"
    }
   },
   "outputs": [],
   "source": [
    "#使用pytest进行测试，编写测试函数，会调用要测试的函数，并做出有关返回值的断言\n",
    "#如果断言正确，表示测试通过；如果断言不正确，表示测试未通过"
   ]
  },
  {
   "cell_type": "code",
   "execution_count": null,
   "id": "618cee9d",
   "metadata": {},
   "outputs": [],
   "source": [
    "#在vscode里\n",
    "\n",
    "#本文件名要以test_打头\n",
    "from name_function import get_formatted_name\n",
    "\n",
    "#测试函数名要以test_打头\n",
    "def test_first_last_name():\n",
    "    \"\"\"能够正确地处理像Janis Joplin这样的姓名吗？\"\"\"\n",
    "    formatted_name=get_formatted_name('janis','joplin')\n",
    "    assert formatted_name=='Janis Joplin'\n",
    "\n",
    "#文件和函数名的，约定都要用test命名开头"
   ]
  },
  {
   "cell_type": "markdown",
   "id": "e0b84e70",
   "metadata": {},
   "source": [
    "## 11.2.3 运行测试"
   ]
  },
  {
   "cell_type": "code",
   "execution_count": 12,
   "id": "f90f82dc",
   "metadata": {
    "ExecuteTime": {
     "end_time": "2024-05-29T17:08:34.498002Z",
     "start_time": "2024-05-29T17:08:34.490317Z"
    }
   },
   "outputs": [],
   "source": [
    "#在终端执行，得到：\n",
    "\n",
    "#PS C:\\Users\\chen\\desktop\\python_cywork> pytest\n",
    "#================================= test session starts ==================================\n",
    "#platform win32 -- Python 3.11.5, pytest-7.4.0, pluggy-1.0.0\n",
    "#rootdir: C:\\Users\\chen\\desktop\\python_cywork\n",
    "#plugins: anyio-3.5.0\n",
    "#collected 1 item\n",
    "\n",
    "#test_name_function.py .                                                           [100%] \n",
    "\n",
    "#================================== 1 passed in 0.02s =================================== "
   ]
  },
  {
   "cell_type": "markdown",
   "id": "2beff4b0",
   "metadata": {},
   "source": [
    "## 11.2.4 未通过的测试"
   ]
  },
  {
   "cell_type": "code",
   "execution_count": 13,
   "id": "2619db03",
   "metadata": {
    "ExecuteTime": {
     "end_time": "2024-05-29T17:11:17.672054Z",
     "start_time": "2024-05-29T17:11:17.669511Z"
    }
   },
   "outputs": [],
   "source": [
    "#改函数为：\n",
    "def get_formatted_name(first, middle, last):\n",
    "   \"\"\"生成格式规范的姓名\"\"\"\n",
    "   full_name=f\"{first} {middle} {last}\"\n",
    "   return full_name.title()"
   ]
  },
  {
   "cell_type": "code",
   "execution_count": 14,
   "id": "09653e28",
   "metadata": {
    "ExecuteTime": {
     "end_time": "2024-05-29T17:12:26.341060Z",
     "start_time": "2024-05-29T17:12:26.334864Z"
    }
   },
   "outputs": [],
   "source": [
    "#终端输出为：\n",
    "#PS C:\\Users\\chen\\desktop\\python_cywork> pytest\n",
    "#================================= test session starts ==================================\n",
    "#platform win32 -- Python 3.11.5, pytest-7.4.0, pluggy-1.0.0\n",
    "#rootdir: C:\\Users\\chen\\desktop\\python_cywork\n",
    "#plugins: anyio-3.5.0\n",
    "#collected 1 item\n",
    "#\n",
    "#test_name_function.py F                                                           [100%]\n",
    "#\n",
    "#======================================= FAILURES ======================================= \n",
    "#_________________________________ test_first_last_name _________________________________ \n",
    "#\n",
    "#    def test_first_last_name():\n",
    "#        \"\"\"能够正确地处理像Janis Joplin这样的姓名吗？\"\"\"\n",
    "#>       formatted_name=get_formatted_name('janis','joplin')\n",
    "#E       TypeError: get_formatted_name() missing 1 required positional argument: 'last'   \n",
    "#\n",
    "#test_name_function.py:7: TypeError\n",
    "#=============================== short test summary info ================================ \n",
    "#FAILED test_name_function.py::test_first_last_name - TypeError: get_formatted_name() missing 1 required positional argument: 'last'\n",
    "#================================== 1 failed in 0.10s =================================== \n"
   ]
  },
  {
   "cell_type": "markdown",
   "id": "08ea46a2",
   "metadata": {},
   "source": [
    "## 11.2.5 在测试未通过时怎么办"
   ]
  },
  {
   "cell_type": "code",
   "execution_count": 15,
   "id": "5e68cc64",
   "metadata": {
    "ExecuteTime": {
     "end_time": "2024-05-29T17:17:26.216520Z",
     "start_time": "2024-05-29T17:17:26.213802Z"
    }
   },
   "outputs": [],
   "source": [
    "#不要修改测试，应修复导致测试不能通过的代码：\n",
    "#检查刚刚对函数所做的修改，找出这些修改是如何导致函数行为不符合预期的。"
   ]
  },
  {
   "cell_type": "code",
   "execution_count": 1,
   "id": "e6cef9ac",
   "metadata": {
    "ExecuteTime": {
     "end_time": "2024-05-30T06:22:25.433760Z",
     "start_time": "2024-05-30T06:22:25.428666Z"
    }
   },
   "outputs": [],
   "source": [
    "#修改 get_formatted_name()，将中间名设置为可选的\n",
    "\n",
    "def get_formatted_name(first, last, middle=''):\n",
    "   \"\"\"生成格式规范的姓名\"\"\"\n",
    "   if middle:\n",
    "       full_name=f\"{first} {middle} {last}\"\n",
    "   else:\n",
    "       full_name=f\"{first} {last}\"\n",
    "   return full_name.title()"
   ]
  },
  {
   "cell_type": "markdown",
   "id": "89b98768",
   "metadata": {},
   "source": [
    "## 11.2.6 添加新测试"
   ]
  },
  {
   "cell_type": "code",
   "execution_count": 2,
   "id": "a2259807",
   "metadata": {
    "ExecuteTime": {
     "end_time": "2024-05-30T06:32:37.774673Z",
     "start_time": "2024-05-30T06:32:37.770385Z"
    }
   },
   "outputs": [],
   "source": [
    "#再编写一个测试有中间名的测试\n",
    "\n",
    "#本文件名要以test_打头\n",
    "from name_function import get_formatted_name\n",
    "\n",
    "#测试函数名要以test_打头\n",
    "def test_first_last_name():\n",
    "    \"\"\"能够正确地处理像Janis Joplin这样的姓名吗？\"\"\"\n",
    "    formatted_name=get_formatted_name('janis','joplin')\n",
    "    assert formatted_name=='Janis Joplin'\n",
    "\n",
    "def test_first_last_middle_name():\n",
    "    \"\"\"能够正确地处理像Wolfgang Amadeus Mozart这样的姓名吗？\"\"\"\n",
    "    formatted_name=get_formatted_name(\n",
    "        'wolfgang', 'mozart', 'amadeus'\n",
    "    )\n",
    "    assert formatted_name == 'Wolfgang Amadeus Mozart'"
   ]
  },
  {
   "cell_type": "code",
   "execution_count": 3,
   "id": "baf24613",
   "metadata": {
    "ExecuteTime": {
     "end_time": "2024-05-30T06:34:16.552230Z",
     "start_time": "2024-05-30T06:34:16.548305Z"
    }
   },
   "outputs": [],
   "source": [
    "#终端：\n",
    "\n",
    "# PS C:\\Users\\chen\\Desktop\\python_cywork> pytest\n",
    "# ========================= test session starts ==========================\n",
    "# platform win32 -- Python 3.11.5, pytest-7.4.0, pluggy-1.0.0\n",
    "# rootdir: C:\\Users\\chen\\Desktop\\python_cywork\n",
    "# plugins: anyio-3.5.0\n",
    "# collected 1 item                                                         \n",
    "\n",
    "# test_name_function.py .                                           [100%] \n",
    "\n",
    "# ========================== 1 passed in 0.02s =========================== "
   ]
  },
  {
   "cell_type": "markdown",
   "id": "d3507719",
   "metadata": {},
   "source": [
    "### 练习11.1 城市和国家"
   ]
  },
  {
   "cell_type": "code",
   "execution_count": 4,
   "id": "c03e35b6",
   "metadata": {
    "ExecuteTime": {
     "end_time": "2024-05-30T06:45:31.181295Z",
     "start_time": "2024-05-30T06:45:31.175180Z"
    }
   },
   "outputs": [],
   "source": [
    "#见vscode: city_function.py\n",
    "\n",
    "def get_city_country(city, country):\n",
    "    city_country=f\"{city}, {country}\"\n",
    "    return city_country.title()"
   ]
  },
  {
   "cell_type": "code",
   "execution_count": 6,
   "id": "55f01e70",
   "metadata": {
    "ExecuteTime": {
     "end_time": "2024-05-30T06:45:54.748856Z",
     "start_time": "2024-05-30T06:45:54.742509Z"
    }
   },
   "outputs": [],
   "source": [
    "#见vscode: city_function.py\n",
    "\n",
    "from city_function import get_city_country\n",
    "\n",
    "def test_city_country():\n",
    "    city=get_city_country('santiago', 'chile')\n",
    "    assert city == 'Santiago, Chile'"
   ]
  },
  {
   "cell_type": "code",
   "execution_count": null,
   "id": "d6d5eb35",
   "metadata": {
    "ExecuteTime": {
     "end_time": "2024-05-30T06:46:01.721638Z",
     "start_time": "2024-05-30T06:46:01.709265Z"
    }
   },
   "outputs": [],
   "source": [
    "#终端\n",
    "\n",
    "# PS C:\\Users\\chen\\Desktop\\python_cywork> pytest\n",
    "# ================================= test session starts ==================================\n",
    "# platform win32 -- Python 3.11.5, pytest-7.4.0, pluggy-1.0.0\n",
    "# rootdir: C:\\Users\\chen\\Desktop\\python_cywork\n",
    "# plugins: anyio-3.5.0\n",
    "# collected 3 items\n",
    "\n",
    "# test_name_function.py ..                                                          [ 66%]\n",
    "# city\\test_cities.py .                                                             [100%]\n",
    "\n",
    "# ================================== 3 passed in 0.02s ==================================="
   ]
  },
  {
   "cell_type": "markdown",
   "id": "1a848933",
   "metadata": {},
   "source": [
    "### 练习11.2 人口数量"
   ]
  },
  {
   "cell_type": "code",
   "execution_count": 8,
   "id": "a2e458bb",
   "metadata": {
    "ExecuteTime": {
     "end_time": "2024-05-30T07:06:10.524719Z",
     "start_time": "2024-05-30T07:06:10.519638Z"
    }
   },
   "outputs": [],
   "source": [
    "#修改函数\n",
    "\n",
    "def get_city_country(city, country, population=''):\n",
    "    city_country=f\"{city}, {country} - population {population}\"\n",
    "    return city_country.title()"
   ]
  },
  {
   "cell_type": "code",
   "execution_count": 9,
   "id": "94cd94d5",
   "metadata": {
    "ExecuteTime": {
     "end_time": "2024-05-30T07:07:42.289746Z",
     "start_time": "2024-05-30T07:07:42.285272Z"
    }
   },
   "outputs": [],
   "source": [
    "#终端：\n",
    "\n",
    "#测试未通过\n",
    "# ================================= test session starts ================================== \n",
    "# platform win32 -- Python 3.11.5, pytest-7.4.0, pluggy-1.0.0                              \n",
    "# rootdir: C:\\Users\\chen\\Desktop\\python_cywork\n",
    "# plugins: anyio-3.5.0\n",
    "# collected 3 items\n",
    "\n",
    "# test_name_function.py ..                                                          [ 66%]\n",
    "# city\\test_cities.py F                                                             [100%]\n",
    "\n",
    "# ======================================= FAILURES ======================================= \n",
    "# __________________________________ test_city_country ___________________________________ \n",
    "\n",
    "#     def test_city_country():\n",
    "#         city=get_city_country('santiago', 'chile')\n",
    "# >       assert city == 'Santiago, Chile'\n",
    "# E       AssertionError: assert 'Santiago, Ch...- Population ' == 'Santiago, Chile'       \n",
    "# E         - Santiago, Chile\n",
    "# E         + Santiago, Chile - Population\n",
    "\n",
    "# city\\test_cities.py:5: AssertionError\n",
    "# =============================== short test summary info ================================ \n",
    "# FAILED city/test_cities.py::test_city_country - AssertionError: assert 'Santiago, Ch...- Population ' == 'Santiago, Chile'\n",
    "# ============================= 1 failed, 2 passed in 0.10s ============================== "
   ]
  },
  {
   "cell_type": "code",
   "execution_count": 10,
   "id": "eea652e9",
   "metadata": {
    "ExecuteTime": {
     "end_time": "2024-05-30T07:08:50.795775Z",
     "start_time": "2024-05-30T07:08:50.787060Z"
    }
   },
   "outputs": [],
   "source": [
    "#修改函数\n",
    "\n",
    "def get_city_country(city, country, population=''):\n",
    "    if population:\n",
    "        city_country=f\"{city}, {country} - population {population}\"\n",
    "    else:\n",
    "        city_country=f\"{city}, {country}\"\n",
    "    return city_country.title()"
   ]
  },
  {
   "cell_type": "code",
   "execution_count": null,
   "id": "166c6957",
   "metadata": {},
   "outputs": [],
   "source": [
    "#终端：\n",
    "\n",
    "# PS C:\\Users\\chen\\Desktop\\python_cywork> pytest\n",
    "# ================================= test session starts ==================================\n",
    "# platform win32 -- Python 3.11.5, pytest-7.4.0, pluggy-1.0.0\n",
    "# rootdir: C:\\Users\\chen\\Desktop\\python_cywork\n",
    "# plugins: anyio-3.5.0\n",
    "# collected 3 items                                                                        \n",
    "\n",
    "# test_name_function.py ..                                                          [ 66%]\n",
    "# city\\test_cities.py .                                                             [100%] \n",
    "\n",
    "# ================================== 3 passed in 0.02s =================================== "
   ]
  },
  {
   "cell_type": "code",
   "execution_count": null,
   "id": "dcd781b9",
   "metadata": {},
   "outputs": [],
   "source": [
    "#增加测试\n",
    "\n",
    "from city_function import get_city_country\n",
    "\n",
    "def test_city_country():\n",
    "    city=get_city_country('santiago', 'chile')\n",
    "    assert city == 'Santiago, Chile'\n",
    "\n",
    "def test_city_country_population():\n",
    "    city=get_city_country('santiago', 'chile', 5000000)\n",
    "    assert city == 'Santiago, Chile - population 5000000'"
   ]
  },
  {
   "cell_type": "code",
   "execution_count": 11,
   "id": "e6a8ad21",
   "metadata": {
    "ExecuteTime": {
     "end_time": "2024-05-30T07:12:38.322243Z",
     "start_time": "2024-05-30T07:12:38.317797Z"
    }
   },
   "outputs": [],
   "source": [
    "#终端\n",
    "\n",
    "# PS C:\\Users\\chen\\Desktop\\python_cywork> pytest\n",
    "# ================================= test session starts ==================================\n",
    "# platform win32 -- Python 3.11.5, pytest-7.4.0, pluggy-1.0.0\n",
    "# rootdir: C:\\Users\\chen\\Desktop\\python_cywork\n",
    "# plugins: anyio-3.5.0\n",
    "# collected 3 items                                                                        \n",
    "\n",
    "# test_name_function.py ..                                                          [ 66%]\n",
    "# city\\test_cities.py .                                                             [100%] \n",
    "\n",
    "# ================================== 3 passed in 0.03s =================================== "
   ]
  },
  {
   "cell_type": "markdown",
   "id": "54c8a6b6",
   "metadata": {},
   "source": [
    "# 11.3 测试类"
   ]
  },
  {
   "cell_type": "markdown",
   "id": "556b5bca",
   "metadata": {},
   "source": [
    "## 11.3.1 各种断言"
   ]
  },
  {
   "cell_type": "code",
   "execution_count": 12,
   "id": "ce17cf94",
   "metadata": {
    "ExecuteTime": {
     "end_time": "2024-05-30T07:17:31.566750Z",
     "start_time": "2024-05-30T07:17:31.562686Z"
    }
   },
   "outputs": [],
   "source": [
    "#测试能包含任意可用条件语句表示的断言"
   ]
  },
  {
   "cell_type": "markdown",
   "id": "4e30a2c2",
   "metadata": {},
   "source": [
    "## 11.3.2 一个要测试的类"
   ]
  },
  {
   "cell_type": "code",
   "execution_count": 13,
   "id": "8ce7f0f9",
   "metadata": {
    "ExecuteTime": {
     "end_time": "2024-05-30T07:26:39.536278Z",
     "start_time": "2024-05-30T07:26:39.530738Z"
    }
   },
   "outputs": [],
   "source": [
    "class AnonymousSurvey:\n",
    "    \"\"\"收集匿名调查问卷的答案\"\"\"\n",
    "\n",
    "    def __init__(self, question):\n",
    "        \"\"\"存储一个问题，并为存储答案做准备\"\"\"\n",
    "        self.question=question\n",
    "        self.responses=[]\n",
    "\n",
    "    def show_question(self):\n",
    "        \"\"\"显示调查问卷\"\"\"\n",
    "        print(self.question)\n",
    "\n",
    "    def store_response(self, new_response):\n",
    "        \"\"\"存储单份调查问卷\"\"\"\n",
    "        self.responses.append(new_response)\n",
    "\n",
    "    def show_results(self):\n",
    "        \"\"\"显示收集到的所有答卷\"\"\"\n",
    "        print(\"Survey results: \")\n",
    "        for response in self.responses:\n",
    "            print(f\"- {response}\")"
   ]
  },
  {
   "cell_type": "code",
   "execution_count": 15,
   "id": "71a27479",
   "metadata": {
    "ExecuteTime": {
     "end_time": "2024-05-30T07:34:54.315907Z",
     "start_time": "2024-05-30T07:34:54.313475Z"
    }
   },
   "outputs": [],
   "source": [
    "#编写一个使用类的程序\n",
    "\n",
    "from survey import AnonymousSurvey\n",
    "\n",
    "# 定义一个问题，并创建一个表示调查的 AnonymousSurvey 对象\n",
    "question=\"What language did you first learn to speak?\"\n",
    "language_survey= AnonymousSurvey(question)\n",
    "\n",
    "#显示问题并存储答案\n",
    "language_survey.show_question()\n",
    "print(\"Enter 'q' at any time to quit.\\n\")\n",
    "while True:\n",
    "    response = input(\"Language: \")\n",
    "    if response == 'q':\n",
    "        break\n",
    "    language_survey.store_response(response)\n",
    "\n",
    "# 显示调查结果\n",
    "print(\"\\nThank you to everyone who participated in the survey!\")\n",
    "language_survey.show_results()"
   ]
  },
  {
   "cell_type": "markdown",
   "id": "e039e907",
   "metadata": {},
   "source": [
    "## 11.3.3 测试AnonymousSurvey类"
   ]
  },
  {
   "cell_type": "code",
   "execution_count": null,
   "id": "95e1868b",
   "metadata": {},
   "outputs": [],
   "source": [
    "#见vscode: test_survey.py\n",
    "\n",
    "from survey import AnonymousSurvey\n",
    "\n",
    "def test_store_single_response():\n",
    "    \"\"\"测试单个答案会被妥善的存储\"\"\"\n",
    "    question=\"What language did you first learn to speak?\"\n",
    "    language_survey=AnonymousSurvey(question)\n",
    "    language_survey.store_response('English')\n",
    "    assert 'English' in language_survey.responses"
   ]
  },
  {
   "cell_type": "code",
   "execution_count": 16,
   "id": "6bc4d31d",
   "metadata": {
    "ExecuteTime": {
     "end_time": "2024-05-30T07:44:43.217920Z",
     "start_time": "2024-05-30T07:44:43.212629Z"
    }
   },
   "outputs": [],
   "source": [
    "#终端：\n",
    "\n",
    "# PS C:\\Users\\chen\\Desktop\\python_cywork\\survey> pytest\n",
    "# ========================= test session starts ==========================\n",
    "# platform win32 -- Python 3.11.5, pytest-7.4.0, pluggy-1.0.0\n",
    "# rootdir: C:\\Users\\chen\\Desktop\\python_cywork\\survey\n",
    "# plugins: anyio-3.5.0\n",
    "# collected 1 item                                                         \n",
    "\n",
    "# test_survey.py .                                                  [100%] \n",
    "\n",
    "# ========================== 1 passed in 0.01s =========================== "
   ]
  },
  {
   "cell_type": "code",
   "execution_count": null,
   "id": "cbbfedbd",
   "metadata": {},
   "outputs": [],
   "source": [
    "#增加测试\n",
    "\n",
    "from survey import AnonymousSurvey\n",
    "\n",
    "def test_store_single_response():\n",
    "    \"\"\"测试单个答案会被妥善的存储\"\"\"\n",
    "    question=\"What language did you first learn to speak?\"\n",
    "    language_survey=AnonymousSurvey(question)\n",
    "    language_survey.store_response('English')\n",
    "    assert 'English' in language_survey.responses\n",
    "\n",
    "def test_store_three_responses():\n",
    "    \"\"\"测试三个答案会被妥善地存储\"\"\"\n",
    "    question = \"What language did you first learn to speak?\"\n",
    "    language_survey = AnonymousSurvey(question)\n",
    "    responses = ['English', 'Spanish', 'Mandarin']\n",
    "    for response in responses:\n",
    "        language_survey.store_response(response)\n",
    "\n",
    "    for response in responses:\n",
    "        assert response in language_survey.responses"
   ]
  },
  {
   "cell_type": "code",
   "execution_count": 17,
   "id": "3be9f016",
   "metadata": {
    "ExecuteTime": {
     "end_time": "2024-05-30T07:47:43.793883Z",
     "start_time": "2024-05-30T07:47:43.790088Z"
    }
   },
   "outputs": [],
   "source": [
    "#终端：\n",
    "\n",
    "# PS C:\\Users\\chen\\Desktop\\python_cywork\\survey> pytest\n",
    "# ========================= test session starts ==========================\n",
    "# platform win32 -- Python 3.11.5, pytest-7.4.0, pluggy-1.0.0\n",
    "# rootdir: C:\\Users\\chen\\Desktop\\python_cywork\\survey\n",
    "# plugins: anyio-3.5.0\n",
    "# collected 2 items                                                        \n",
    "\n",
    "# test_survey.py ..                                                 [100%] \n",
    "\n",
    "# ========================== 2 passed in 0.01s =========================== "
   ]
  },
  {
   "cell_type": "markdown",
   "id": "f7fca0ce",
   "metadata": {},
   "source": [
    "## 11.3.4 使用夹具"
   ]
  },
  {
   "cell_type": "code",
   "execution_count": null,
   "id": "66fce56b",
   "metadata": {},
   "outputs": [],
   "source": [
    "#夹具（fixture）可搭建测试环境，意味着创建供多个测试使用的资源\n",
    "\n",
    "#用夹具创建一个 AnonymousSurvey 实例，让 test_survey.py 中的两个测试函数都可使用它\n",
    "import pytest\n",
    "from survey import AnonymousSurvey\n",
    "\n",
    "#将装饰器 @pytest.fixture应用于新函数 language_survey()\n",
    "@pytest.fixture\n",
    "def language_survey():\n",
    "    \"\"\"一个可供所有测试函数使用的AnonymousSurvey实例\"\"\"\n",
    "    question=\"What language did you first learn to speak?\"\n",
    "    language_survey=AnonymousSurvey(question)\n",
    "    return language_survey\n",
    "\n",
    "#两个测试函数都有一个language_survey的形参\n",
    "#language_survey() 函数向下面两个提供了一个实例\n",
    "#两个测试函数都删除了两行代码：定义问题的代码行，以及创建AnonymousSurvey对象的代码行\n",
    "def test_store_single_response(language_survey):\n",
    "    \"\"\"测试单个答案会被妥善的存储\"\"\"\n",
    "    language_survey.store_response('English')\n",
    "    assert 'English' in language_survey.responses\n",
    "\n",
    "def test_store_three_responses(language_survey):\n",
    "    \"\"\"测试三个答案会被妥善地存储\"\"\"\n",
    "    responses = ['English', 'Spanish', 'Mandarin']\n",
    "    for response in responses:\n",
    "        language_survey.store_response(response)\n",
    "\n",
    "    for response in responses:\n",
    "        assert response in language_survey.responses"
   ]
  },
  {
   "cell_type": "code",
   "execution_count": 18,
   "id": "798f0633",
   "metadata": {
    "ExecuteTime": {
     "end_time": "2024-05-30T08:47:07.156481Z",
     "start_time": "2024-05-30T08:47:07.152872Z"
    }
   },
   "outputs": [],
   "source": [
    "#终端\n",
    "\n",
    "# PS C:\\Users\\chen\\Desktop\\python_cywork\\survey> pytest\n",
    "# ========================= test session starts ==========================\n",
    "# platform win32 -- Python 3.11.5, pytest-7.4.0, pluggy-1.0.0\n",
    "# rootdir: C:\\Users\\chen\\Desktop\\python_cywork\\survey\n",
    "# plugins: anyio-3.5.0\n",
    "# collected 2 items                                                        \n",
    "\n",
    "# test_survey.py ..                                                 [100%]\n",
    "\n",
    "# ========================== 2 passed in 0.02s =========================== "
   ]
  },
  {
   "cell_type": "markdown",
   "id": "9ed78228",
   "metadata": {},
   "source": [
    "### 练习11.3 雇员"
   ]
  },
  {
   "cell_type": "code",
   "execution_count": 24,
   "id": "4dcefbc0",
   "metadata": {
    "ExecuteTime": {
     "end_time": "2024-05-30T09:19:56.144489Z",
     "start_time": "2024-05-30T09:19:56.135566Z"
    }
   },
   "outputs": [],
   "source": [
    "#编写类\n",
    "class Employee:\n",
    "\n",
    "    def __init__(self, first_name, last_name, annual_salary):\n",
    "        self.first=first_name\n",
    "        self.last=last_name\n",
    "        self.salary=annual_salary\n",
    "\n",
    "    def give_raise(self,raise_salary=5000):\n",
    "        self.salary+=raise_salary"
   ]
  },
  {
   "cell_type": "code",
   "execution_count": 25,
   "id": "8e022906",
   "metadata": {
    "ExecuteTime": {
     "end_time": "2024-05-30T09:19:58.592496Z",
     "start_time": "2024-05-30T09:19:58.590171Z"
    }
   },
   "outputs": [],
   "source": [
    "#无夹具的测试\n",
    "from employee import Employee\n",
    "\n",
    "def test_give_default_raise():\n",
    "    first_name='jade'\n",
    "    last_name='chen'\n",
    "    annual_salary=100000\n",
    "    employee_salary=Employee(first_name, last_name, annual_salary)\n",
    "    employee_salary.give_raise()\n",
    "    assert 105000 ==employee_salary.salary\n",
    "\n",
    "def test_give_custom_raise():\n",
    "    first_name='jade'\n",
    "    last_name='chen'\n",
    "    annual_salary=100000\n",
    "    employee_salary=Employee(first_name, last_name, annual_salary)\n",
    "    employee_salary.give_raise(10000)\n",
    "    assert 110000 ==employee_salary.salary"
   ]
  },
  {
   "cell_type": "code",
   "execution_count": 26,
   "id": "e5672b66",
   "metadata": {
    "ExecuteTime": {
     "end_time": "2024-05-30T09:30:49.321132Z",
     "start_time": "2024-05-30T09:30:49.318408Z"
    }
   },
   "outputs": [],
   "source": [
    "#终端：\n",
    "\n",
    "# PS C:\\Users\\chen\\Desktop\\python_cywork\\employee> pytest\n",
    "# ========================= test session starts ==========================\n",
    "# platform win32 -- Python 3.11.5, pytest-7.4.0, pluggy-1.0.0\n",
    "# rootdir: C:\\Users\\chen\\Desktop\\python_cywork\\employee\n",
    "# plugins: anyio-3.5.0\n",
    "# collected 2 items                                                        \n",
    "\n",
    "# test_employee.py ..                                               [100%]\n",
    "\n",
    "# ========================== 2 passed in 0.02s =========================== "
   ]
  },
  {
   "cell_type": "code",
   "execution_count": null,
   "id": "751e359d",
   "metadata": {},
   "outputs": [],
   "source": [
    "#有夹具的测试\n",
    "\n",
    "import pytest\n",
    "from employee import Employee\n",
    "\n",
    "@pytest.fixture\n",
    "def employee_salary():\n",
    "    first_name='jade'\n",
    "    last_name='chen'\n",
    "    annual_salary=100000\n",
    "    employee_salary=Employee(first_name, last_name, annual_salary)\n",
    "    return employee_salary\n",
    "\n",
    "def test_give_default_raise(employee_salary):\n",
    "    employee_salary.give_raise()\n",
    "    assert 105000 ==employee_salary.salary\n",
    "\n",
    "def test_give_custom_raise(employee_salary):\n",
    "    employee_salary.give_raise(10000)\n",
    "    assert 110000 ==employee_salary.salary"
   ]
  },
  {
   "cell_type": "code",
   "execution_count": 27,
   "id": "5c21a608",
   "metadata": {
    "ExecuteTime": {
     "end_time": "2024-05-30T09:33:19.276808Z",
     "start_time": "2024-05-30T09:33:19.274246Z"
    }
   },
   "outputs": [],
   "source": [
    "#终端：\n",
    "\n",
    "# PS C:\\Users\\chen\\Desktop\\python_cywork\\employee> pytest\n",
    "# ========================= test session starts ==========================\n",
    "# platform win32 -- Python 3.11.5, pytest-7.4.0, pluggy-1.0.0\n",
    "# rootdir: C:\\Users\\chen\\Desktop\\python_cywork\\employee\n",
    "# plugins: anyio-3.5.0\n",
    "# collected 2 items                                                        \n",
    "\n",
    "# test_employee.py ..                                               [100%] \n",
    "\n",
    "# ========================== 2 passed in 0.02s =========================== "
   ]
  }
 ],
 "metadata": {
  "kernelspec": {
   "display_name": "Python 3 (ipykernel)",
   "language": "python",
   "name": "python3"
  },
  "language_info": {
   "codemirror_mode": {
    "name": "ipython",
    "version": 3
   },
   "file_extension": ".py",
   "mimetype": "text/x-python",
   "name": "python",
   "nbconvert_exporter": "python",
   "pygments_lexer": "ipython3",
   "version": "3.11.5"
  },
  "toc": {
   "base_numbering": 1,
   "nav_menu": {},
   "number_sections": false,
   "sideBar": true,
   "skip_h1_title": false,
   "title_cell": "Table of Contents",
   "title_sidebar": "Contents",
   "toc_cell": false,
   "toc_position": {
    "height": "calc(100% - 180px)",
    "left": "10px",
    "top": "150px",
    "width": "146.398px"
   },
   "toc_section_display": true,
   "toc_window_display": false
  }
 },
 "nbformat": 4,
 "nbformat_minor": 5
}
