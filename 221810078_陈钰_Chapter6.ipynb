{
 "cells": [
  {
   "cell_type": "markdown",
   "id": "8f809dd3",
   "metadata": {},
   "source": [
    "# 6.1 一个简单的字典"
   ]
  },
  {
   "cell_type": "code",
   "execution_count": 2,
   "id": "d15ab043",
   "metadata": {},
   "outputs": [
    {
     "name": "stdout",
     "output_type": "stream",
     "text": [
      "green\n",
      "5\n"
     ]
    }
   ],
   "source": [
    "alien_0={'color':'green','points':5}\n",
    "\n",
    "#键值对\n",
    "#键key和值value\n",
    "#像菜单，一对一的关系\n",
    "print(alien_0['color'])\n",
    "print(alien_0['points'])"
   ]
  },
  {
   "cell_type": "markdown",
   "id": "84a65935",
   "metadata": {},
   "source": [
    "# 6.2 使用字典"
   ]
  },
  {
   "cell_type": "markdown",
   "id": "22189228",
   "metadata": {},
   "source": [
    "## 6.2.1 访问字典中的值"
   ]
  },
  {
   "cell_type": "code",
   "execution_count": 4,
   "id": "0ae29eb5",
   "metadata": {},
   "outputs": [
    {
     "name": "stdout",
     "output_type": "stream",
     "text": [
      "green\n"
     ]
    }
   ],
   "source": [
    "alien_0={'color':'green'}\n",
    "print(alien_0['color'])"
   ]
  },
  {
   "cell_type": "code",
   "execution_count": 5,
   "id": "f40a530f",
   "metadata": {},
   "outputs": [
    {
     "name": "stdout",
     "output_type": "stream",
     "text": [
      "You just earned 5 points!\n"
     ]
    }
   ],
   "source": [
    "alien_0={'color':'green','points':5}\n",
    "\n",
    "new_points=alien_0['points']\n",
    "print(f\"You just earned {new_points} points!\")"
   ]
  },
  {
   "cell_type": "markdown",
   "id": "70cf6e7e",
   "metadata": {},
   "source": [
    "## 6.2.2 添加键值对"
   ]
  },
  {
   "cell_type": "code",
   "execution_count": 7,
   "id": "bf283508",
   "metadata": {},
   "outputs": [
    {
     "name": "stdout",
     "output_type": "stream",
     "text": [
      "{'color': 'green', 'points': 5}\n",
      "{'color': 'green', 'points': 5, 'x_position': 0, 'y_position': 25}\n"
     ]
    }
   ],
   "source": [
    "alien_0={'color':'green','points':5}\n",
    "print(alien_0)\n",
    "\n",
    "#直接按添加的顺序增加在后面\n",
    "alien_0['x_position']=0\n",
    "alien_0['y_position']=25\n",
    "print(alien_0)"
   ]
  },
  {
   "cell_type": "markdown",
   "id": "0047d43a",
   "metadata": {},
   "source": [
    "## 6.2.3 从创建一个空字典开始"
   ]
  },
  {
   "cell_type": "code",
   "execution_count": 8,
   "id": "5a17157d",
   "metadata": {},
   "outputs": [
    {
     "name": "stdout",
     "output_type": "stream",
     "text": [
      "{'color': 'green', 'points': 5}\n"
     ]
    }
   ],
   "source": [
    "alien_0={}\n",
    "\n",
    "alien_0['color']='green'\n",
    "alien_0['points']=5\n",
    "\n",
    "print(alien_0)"
   ]
  },
  {
   "cell_type": "markdown",
   "id": "d67a2c0d",
   "metadata": {},
   "source": [
    "## 6.2.4 修改字典中的值"
   ]
  },
  {
   "cell_type": "code",
   "execution_count": 9,
   "id": "40d287a3",
   "metadata": {},
   "outputs": [
    {
     "name": "stdout",
     "output_type": "stream",
     "text": [
      "The alien is green.\n",
      "The alien is now yellow.\n"
     ]
    }
   ],
   "source": [
    "alien_0={'color':'green'}\n",
    "print(f\"The alien is {alien_0['color']}.\")\n",
    "\n",
    "alien_0['color']='yellow'\n",
    "print(f\"The alien is now {alien_0['color']}.\")"
   ]
  },
  {
   "cell_type": "code",
   "execution_count": 13,
   "id": "65faf80b",
   "metadata": {},
   "outputs": [
    {
     "name": "stdout",
     "output_type": "stream",
     "text": [
      "Original position: 0\n",
      "New position: 2\n"
     ]
    }
   ],
   "source": [
    "#例子：对一个能够以不同速度移动的外星人进行位置跟踪\n",
    "alien_0={'x_position':0,'y_position':25,'speed':'medium'}\n",
    "print(f\"Original position: {alien_0['x_position']}\")\n",
    "\n",
    "#向右移动外星人\n",
    "#根据外星人速度判断，确定移动距离\n",
    "if alien_0['speed'] == 'slow':\n",
    "    x_increment=1\n",
    "elif alien_0['speed'] == 'medium':\n",
    "    x_increment=2\n",
    "else:\n",
    "    x_increment=3\n",
    "\n",
    "#加上移动距离得到新位置\n",
    "alien_0['x_position']=alien_0['x_position']+x_increment\n",
    "\n",
    "print(f\"New position: {alien_0['x_position']}\")"
   ]
  },
  {
   "cell_type": "code",
   "execution_count": 14,
   "id": "d6f2c5d4",
   "metadata": {},
   "outputs": [
    {
     "name": "stdout",
     "output_type": "stream",
     "text": [
      "Original position: 0\n",
      "New position: 3\n"
     ]
    }
   ],
   "source": [
    "#例子：对一个能够以不同速度移动的外星人进行位置跟踪\n",
    "alien_0={'x_position':0,'y_position':25,'speed':'fast'}\n",
    "print(f\"Original position: {alien_0['x_position']}\")\n",
    "\n",
    "if alien_0['speed'] == 'slow':\n",
    "    x_increment=1\n",
    "elif alien_0['speed'] == 'medium':\n",
    "    x_increment=2\n",
    "else:\n",
    "    x_increment=3\n",
    "\n",
    "alien_0['x_position']=alien_0['x_position']+x_increment\n",
    "\n",
    "print(f\"New position: {alien_0['x_position']}\")"
   ]
  },
  {
   "cell_type": "markdown",
   "id": "4c129ccf",
   "metadata": {},
   "source": [
    "## 6.2.5 删除键值对"
   ]
  },
  {
   "cell_type": "code",
   "execution_count": 15,
   "id": "e5756640",
   "metadata": {},
   "outputs": [
    {
     "name": "stdout",
     "output_type": "stream",
     "text": [
      "{'color': 'green', 'points': 5}\n",
      "{'color': 'green'}\n"
     ]
    }
   ],
   "source": [
    "#使用del语句\n",
    "alien_0={'color':'green','points':5}\n",
    "print(alien_0)\n",
    "\n",
    "del alien_0['points']\n",
    "print(alien_0)"
   ]
  },
  {
   "cell_type": "markdown",
   "id": "7afdff1a",
   "metadata": {},
   "source": [
    "## 6.2.6 由类似的对象组成的字典"
   ]
  },
  {
   "cell_type": "code",
   "execution_count": 18,
   "id": "8e396604",
   "metadata": {},
   "outputs": [
    {
     "name": "stdout",
     "output_type": "stream",
     "text": [
      "Sarah's favorite language is C.\n"
     ]
    }
   ],
   "source": [
    "#上一个例子：一个对象的多种信息\n",
    "#也可以存储：多种对象的同一种信息\n",
    "favorite_languages={\n",
    "    'jen':'python',\n",
    "    'sarah':'c',\n",
    "    'edward':'rust',\n",
    "    'phil':'python',\n",
    "    }\n",
    "#在最后一个键值对加逗号，为以后添加键值对做准备\n",
    "\n",
    "language=favorite_languages['sarah'].title()\n",
    "print(f\"Sarah's favorite language is {language}.\")"
   ]
  },
  {
   "cell_type": "markdown",
   "id": "70f67917",
   "metadata": {},
   "source": [
    "## 6.2.7 使用get()来访问值"
   ]
  },
  {
   "cell_type": "code",
   "execution_count": 19,
   "id": "f43f69e0",
   "metadata": {},
   "outputs": [
    {
     "ename": "KeyError",
     "evalue": "'points'",
     "output_type": "error",
     "traceback": [
      "\u001b[1;31m---------------------------------------------------------------------------\u001b[0m",
      "\u001b[1;31mKeyError\u001b[0m                                  Traceback (most recent call last)",
      "Cell \u001b[1;32mIn[19], line 2\u001b[0m\n\u001b[0;32m      1\u001b[0m alien_0\u001b[38;5;241m=\u001b[39m{\u001b[38;5;124m'\u001b[39m\u001b[38;5;124mcolor\u001b[39m\u001b[38;5;124m'\u001b[39m:\u001b[38;5;124m'\u001b[39m\u001b[38;5;124mgreen\u001b[39m\u001b[38;5;124m'\u001b[39m,\u001b[38;5;124m'\u001b[39m\u001b[38;5;124mspeed\u001b[39m\u001b[38;5;124m'\u001b[39m:\u001b[38;5;124m'\u001b[39m\u001b[38;5;124mslow\u001b[39m\u001b[38;5;124m'\u001b[39m}\n\u001b[1;32m----> 2\u001b[0m \u001b[38;5;28mprint\u001b[39m(alien_0[\u001b[38;5;124m'\u001b[39m\u001b[38;5;124mpoints\u001b[39m\u001b[38;5;124m'\u001b[39m])\n",
      "\u001b[1;31mKeyError\u001b[0m: 'points'"
     ]
    }
   ],
   "source": [
    "#使用方括号获取值时，可能会因为值不存在而报错\n",
    "alien_0={'color':'green','speed':'slow'}\n",
    "print(alien_0['points'])"
   ]
  },
  {
   "cell_type": "code",
   "execution_count": 21,
   "id": "5ff87e0f",
   "metadata": {},
   "outputs": [
    {
     "name": "stdout",
     "output_type": "stream",
     "text": [
      "No point value assigned.\n"
     ]
    }
   ],
   "source": [
    "#使用get避免报错\n",
    "alien_0={'color':'green','speed':'slow'}\n",
    "\n",
    "#第一个参数用于指定键，必须有\n",
    "#第二个参数为指定键不存在时要返回的值，可选\n",
    "point_value=alien_0.get('points','No point value assigned.')\n",
    "print(point_value)"
   ]
  },
  {
   "cell_type": "code",
   "execution_count": 23,
   "id": "731748ba",
   "metadata": {},
   "outputs": [
    {
     "name": "stdout",
     "output_type": "stream",
     "text": [
      "None\n"
     ]
    }
   ],
   "source": [
    "alien_0={'color':'green','speed':'slow'}\n",
    "\n",
    "#不指定第二个参数将返回None\n",
    "point_value=alien_0.get('points')\n",
    "print(point_value)"
   ]
  },
  {
   "cell_type": "markdown",
   "id": "8ce78d5c",
   "metadata": {},
   "source": [
    "### 练习6.1"
   ]
  },
  {
   "cell_type": "code",
   "execution_count": 32,
   "id": "d1b57c2f",
   "metadata": {},
   "outputs": [
    {
     "name": "stdout",
     "output_type": "stream",
     "text": [
      "Name: Rowan Park\n",
      "Age: 23\n",
      "City: Hong Kong\n"
     ]
    }
   ],
   "source": [
    "#个人信息\n",
    "people={\n",
    "    'first_name':'rowan',\n",
    "    'last_name':'park',\n",
    "    'age':23,\n",
    "    'city':'hong kong'\n",
    "    }\n",
    "print(f\"Name: {people['first_name'].title()} {people['last_name'].title()}\")\n",
    "print(f\"Age: {people['age']}\")\n",
    "print(f\"City: {people['city'].title()}\")"
   ]
  },
  {
   "cell_type": "markdown",
   "id": "7e11f51b",
   "metadata": {},
   "source": [
    "### 练习6.2"
   ]
  },
  {
   "cell_type": "code",
   "execution_count": 34,
   "id": "823fb867",
   "metadata": {},
   "outputs": [
    {
     "name": "stdout",
     "output_type": "stream",
     "text": [
      "Rowan's favorite number is 7.\n",
      "Andy's favorite number is 1.\n",
      "Lisa's favorite number is 4.\n",
      "Ron's favorite number is 3.\n",
      "Lucy's favorite number is 8.\n"
     ]
    }
   ],
   "source": [
    "#每个人喜欢的数\n",
    "favorite_numbers={\n",
    "    'rowan':7,\n",
    "    'andy':1,\n",
    "    'lisa':4,\n",
    "    'ron':3,\n",
    "    'lucy':8\n",
    "    }\n",
    "\n",
    "print(f\"Rowan's favorite number is {favorite_numbers['rowan']}.\")\n",
    "print(f\"Andy's favorite number is {favorite_numbers['andy']}.\")\n",
    "print(f\"Lisa's favorite number is {favorite_numbers['lisa']}.\")\n",
    "print(f\"Ron's favorite number is {favorite_numbers['ron']}.\")\n",
    "print(f\"Lucy's favorite number is {favorite_numbers['lucy']}.\")"
   ]
  },
  {
   "cell_type": "markdown",
   "id": "97ab2378",
   "metadata": {},
   "source": [
    "### 练习6.3"
   ]
  },
  {
   "cell_type": "code",
   "execution_count": 37,
   "id": "9176ff98",
   "metadata": {},
   "outputs": [
    {
     "name": "stdout",
     "output_type": "stream",
     "text": [
      "list: A compact way to process all or part of the elements in a sequence and return a list with the results.\n",
      "slice: An object usually containing a portion of a sequence.\n",
      "statement: A statement is part of a suite (a “block” of code).\n",
      "type: The type of a Python object determines what kind of object it is.\n",
      "dictionary: A compact way to process all or part of the elements in an iterable and return a dictionary with the results. \n"
     ]
    }
   ],
   "source": [
    "glossary={\n",
    "    'list':'A compact way to process all or part of the elements in a sequence and return a list with the results.',\n",
    "    'slice':'An object usually containing a portion of a sequence.',\n",
    "    'statement':'A statement is part of a suite (a “block” of code).',\n",
    "    'type':'The type of a Python object determines what kind of object it is.',\n",
    "    'dictionary':'A compact way to process all or part of the elements in an iterable and return a dictionary with the results. '\n",
    "}\n",
    "\n",
    "print(f\"list: {glossary['list']}\")\n",
    "print(f\"slice: {glossary['slice']}\")\n",
    "print(f\"statement: {glossary['statement']}\")\n",
    "print(f\"type: {glossary['type']}\")\n",
    "print(f\"dictionary: {glossary['dictionary']}\")"
   ]
  },
  {
   "cell_type": "markdown",
   "id": "91106422",
   "metadata": {},
   "source": [
    "# 6.3 遍历字典"
   ]
  },
  {
   "cell_type": "markdown",
   "id": "f5460e8a",
   "metadata": {},
   "source": [
    "## 6.3.1 遍历所有的键值对"
   ]
  },
  {
   "cell_type": "code",
   "execution_count": 38,
   "id": "8a131eee",
   "metadata": {},
   "outputs": [
    {
     "name": "stdout",
     "output_type": "stream",
     "text": [
      "\n",
      "Key: usename\n",
      "Value: efermi\n",
      "\n",
      "Key: first\n",
      "Value: enrico\n",
      "\n",
      "Key: last\n",
      "Value: fermi\n"
     ]
    }
   ],
   "source": [
    "user_0={\n",
    "    'usename':'efermi',\n",
    "    'first':'enrico',\n",
    "    'last':'fermi',\n",
    "    }\n",
    "\n",
    "#for k, v in user_0.items()\n",
    "for key,value in user_0.items():\n",
    "    print(f\"\\nKey: {key}\")\n",
    "    print(f\"Value: {value}\")"
   ]
  },
  {
   "cell_type": "code",
   "execution_count": 39,
   "id": "97ca61d7",
   "metadata": {
    "scrolled": true
   },
   "outputs": [
    {
     "name": "stdout",
     "output_type": "stream",
     "text": [
      "Jen's favorite language is Python.\n",
      "Sarah's favorite language is C.\n",
      "Edward's favorite language is Rust.\n",
      "Phil's favorite language is Python.\n"
     ]
    }
   ],
   "source": [
    "favorite_languages={\n",
    "    'jen':'python',\n",
    "    'sarah':'c',\n",
    "    'edward':'rust',\n",
    "    'phil':'python',\n",
    "    }\n",
    "\n",
    "for name, language in favorite_languages.items():\n",
    "    print(f\"{name.title()}'s favorite language is {language.title()}.\")"
   ]
  },
  {
   "cell_type": "markdown",
   "id": "b9169e89",
   "metadata": {},
   "source": [
    "## 6.3.2 遍历字典中的所有键"
   ]
  },
  {
   "cell_type": "code",
   "execution_count": 41,
   "id": "158ca142",
   "metadata": {},
   "outputs": [
    {
     "name": "stdout",
     "output_type": "stream",
     "text": [
      "Jen\n",
      "Sarah\n",
      "Edward\n",
      "Phil\n"
     ]
    }
   ],
   "source": [
    "favorite_languages={\n",
    "    'jen':'python',\n",
    "    'sarah':'c',\n",
    "    'edward':'rust',\n",
    "    'phil':'python',\n",
    "    }\n",
    "\n",
    "#只需要键时，keys()很有用\n",
    "for name in favorite_languages.keys():\n",
    "    print(name.title())"
   ]
  },
  {
   "cell_type": "code",
   "execution_count": 43,
   "id": "cb0722a0",
   "metadata": {},
   "outputs": [
    {
     "name": "stdout",
     "output_type": "stream",
     "text": [
      "Jen\n",
      "Sarah\n",
      "Edward\n",
      "Phil\n"
     ]
    }
   ],
   "source": [
    "favorite_languages={\n",
    "    'jen':'python',\n",
    "    'sarah':'c',\n",
    "    'edward':'rust',\n",
    "    'phil':'python',\n",
    "    }\n",
    "\n",
    "#没有keys()也会默认遍历键\n",
    "for name in favorite_languages:\n",
    "    print(name.title())"
   ]
  },
  {
   "cell_type": "code",
   "execution_count": 46,
   "id": "940390ba",
   "metadata": {},
   "outputs": [
    {
     "name": "stdout",
     "output_type": "stream",
     "text": [
      "Hi Jen.\n",
      "Hi Sarah.\n",
      "\tSarah, I see you love C!\n",
      "Hi Edward.\n",
      "Hi Phil.\n",
      "\tPhil, I see you love Python!\n"
     ]
    }
   ],
   "source": [
    "favorite_languages={\n",
    "    'jen':'python',\n",
    "    'sarah':'c',\n",
    "    'edward':'rust',\n",
    "    'phil':'python',\n",
    "    }\n",
    "\n",
    "friends=['phil','sarah']\n",
    "#如果是朋友，再打印一条问候\n",
    "for name in favorite_languages.keys():\n",
    "    print(f\"Hi {name.title()}.\")\n",
    "    \n",
    "    if name in friends:\n",
    "        language=favorite_languages[name].title()\n",
    "        print(f\"\\t{name.title()}, I see you love {language}!\")"
   ]
  },
  {
   "cell_type": "code",
   "execution_count": 48,
   "id": "c0a85e99",
   "metadata": {},
   "outputs": [
    {
     "name": "stdout",
     "output_type": "stream",
     "text": [
      "Erin, please take our poll!\n"
     ]
    }
   ],
   "source": [
    "favorite_languages={\n",
    "    'jen':'python',\n",
    "    'sarah':'c',\n",
    "    'edward':'rust',\n",
    "    'phil':'python',\n",
    "    }\n",
    "\n",
    "#检验是否在字典里\n",
    "if 'erin' not in favorite_languages.keys():\n",
    "    print(\"Erin, please take our poll!\")"
   ]
  },
  {
   "cell_type": "markdown",
   "id": "6318929e",
   "metadata": {},
   "source": [
    "## 6.3.3 按特定的顺序遍历字典中的所有键"
   ]
  },
  {
   "cell_type": "code",
   "execution_count": 50,
   "id": "0e14b417",
   "metadata": {},
   "outputs": [
    {
     "name": "stdout",
     "output_type": "stream",
     "text": [
      "Edward, thank you for taking the poll.\n",
      "Jen, thank you for taking the poll.\n",
      "Phil, thank you for taking the poll.\n",
      "Sarah, thank you for taking the poll.\n"
     ]
    }
   ],
   "source": [
    "favorite_languages={\n",
    "    'jen':'python',\n",
    "    'sarah':'c',\n",
    "    'edward':'rust',\n",
    "    'phil':'python',\n",
    "    }\n",
    "\n",
    "#用sorted()函数来获得按特定顺序排列的键列表的副本\n",
    "for name in sorted(favorite_languages.keys()):\n",
    "    print(f\"{name.title()}, thank you for taking the poll.\")"
   ]
  },
  {
   "cell_type": "markdown",
   "id": "e9bf86b8",
   "metadata": {},
   "source": [
    "## 6.3.4 遍历字典中的所有值"
   ]
  },
  {
   "cell_type": "code",
   "execution_count": 52,
   "id": "ce7b2e66",
   "metadata": {},
   "outputs": [
    {
     "name": "stdout",
     "output_type": "stream",
     "text": [
      "The following languages have been mentioned:\n",
      "Python\n",
      "C\n",
      "Rust\n",
      "Python\n"
     ]
    }
   ],
   "source": [
    "favorite_languages={\n",
    "    'jen':'python',\n",
    "    'sarah':'c',\n",
    "    'edward':'rust',\n",
    "    'phil':'python',\n",
    "    }\n",
    "\n",
    "#用values()方法返回值\n",
    "print(\"The following languages have been mentioned:\")\n",
    "for language in favorite_languages.values():\n",
    "    print(language.title())"
   ]
  },
  {
   "cell_type": "code",
   "execution_count": 53,
   "id": "a4916fa0",
   "metadata": {},
   "outputs": [
    {
     "name": "stdout",
     "output_type": "stream",
     "text": [
      "The following languages have been mentioned:\n",
      "Rust\n",
      "Python\n",
      "C\n"
     ]
    }
   ],
   "source": [
    "#如果被调查者很多，最终的列表可能包含大量的重复项\n",
    "#为剔除重复项，可使用集合（set）\n",
    "favorite_languages={\n",
    "    'jen':'python',\n",
    "    'sarah':'c',\n",
    "    'edward':'rust',\n",
    "    'phil':'python',\n",
    "    }\n",
    "\n",
    "print(\"The following languages have been mentioned:\")\n",
    "for language in set(favorite_languages.values()):\n",
    "    print(language.title())"
   ]
  },
  {
   "cell_type": "code",
   "execution_count": 56,
   "id": "b01fe987",
   "metadata": {},
   "outputs": [
    {
     "name": "stdout",
     "output_type": "stream",
     "text": [
      "{'rust', 'python', 'c'}\n"
     ]
    }
   ],
   "source": [
    "favorite_languages={\n",
    "    'jen':'python',\n",
    "    'sarah':'c',\n",
    "    'edward':'rust',\n",
    "    'phil':'python',\n",
    "    }\n",
    "\n",
    "language=set(favorite_languages.values())\n",
    "print(language)"
   ]
  },
  {
   "cell_type": "code",
   "execution_count": 58,
   "id": "c17746d8",
   "metadata": {},
   "outputs": [],
   "source": [
    "#集合\n",
    "#languages={'python','rust','python','c'}\n",
    "#languages\n",
    "#{'rust', 'python', 'c'}\n",
    "#注意和字典的区分"
   ]
  },
  {
   "cell_type": "markdown",
   "id": "a269d7c6",
   "metadata": {},
   "source": [
    "### 练习6.4"
   ]
  },
  {
   "cell_type": "code",
   "execution_count": 60,
   "id": "ecd303a7",
   "metadata": {},
   "outputs": [
    {
     "name": "stdout",
     "output_type": "stream",
     "text": [
      "List: A compact way to process all or part of the elements in a sequence and return a list with the results.\n",
      "Slice: An object usually containing a portion of a sequence.\n",
      "Statement: A statement is part of a suite (a “block” of code).\n",
      "Type: The type of a Python object determines what kind of object it is.\n",
      "Dictionary: A compact way to process all or part of the elements in an iterable and return a dictionary with the results. \n"
     ]
    }
   ],
   "source": [
    "#处理6.3词汇表\n",
    "glossary={\n",
    "    'list':'A compact way to process all or part of the elements in a sequence and return a list with the results.',\n",
    "    'slice':'An object usually containing a portion of a sequence.',\n",
    "    'statement':'A statement is part of a suite (a “block” of code).',\n",
    "    'type':'The type of a Python object determines what kind of object it is.',\n",
    "    'dictionary':'A compact way to process all or part of the elements in an iterable and return a dictionary with the results. '\n",
    "}\n",
    "\n",
    "for name,definition in glossary.items():\n",
    "    print(f\"{name.title()}: {definition}\")"
   ]
  },
  {
   "cell_type": "markdown",
   "id": "36c13d51",
   "metadata": {},
   "source": [
    "### 练习6.5"
   ]
  },
  {
   "cell_type": "code",
   "execution_count": 62,
   "id": "327326b9",
   "metadata": {},
   "outputs": [
    {
     "name": "stdout",
     "output_type": "stream",
     "text": [
      "The Nile runs through Egypt.\n",
      "The Amazon runs through Brazil.\n",
      "The Yangtze runs through China.\n"
     ]
    }
   ],
   "source": [
    "rivers={\n",
    "    'nile':'egypt',\n",
    "    'amazon':'brazil',\n",
    "    'yangtze':'china',\n",
    "}\n",
    "\n",
    "for river,country in rivers.items():\n",
    "    print(f\"The {river.title()} runs through {country.title()}.\")"
   ]
  },
  {
   "cell_type": "markdown",
   "id": "2ac03a82",
   "metadata": {},
   "source": [
    "### 练习6.6"
   ]
  },
  {
   "cell_type": "code",
   "execution_count": 63,
   "id": "deb18130",
   "metadata": {},
   "outputs": [
    {
     "name": "stdout",
     "output_type": "stream",
     "text": [
      "Thank you, Jen!\n",
      "Sarah, would you like to take our poll?\n",
      "Thank you, Edward!\n",
      "Phil, would you like to take our poll?\n"
     ]
    }
   ],
   "source": [
    "favorite_languages={\n",
    "    'jen':'python',\n",
    "    'sarah':'c',\n",
    "    'edward':'rust',\n",
    "    'phil':'python',\n",
    "    }\n",
    "\n",
    "respondents=['jen','edward','rowan']\n",
    "for name in favorite_languages.keys():\n",
    "    if name in respondents:\n",
    "        print(f\"Thank you, {name.title()}!\")\n",
    "    else:\n",
    "        print(f\"{name.title()}, would you like to take our poll?\")    "
   ]
  },
  {
   "cell_type": "markdown",
   "id": "daa1eda7",
   "metadata": {},
   "source": [
    "# 6.4 嵌套"
   ]
  },
  {
   "cell_type": "markdown",
   "id": "e6fd3881",
   "metadata": {},
   "source": [
    "## 6.4.1 字典列表"
   ]
  },
  {
   "cell_type": "code",
   "execution_count": 64,
   "id": "e3ec167f",
   "metadata": {},
   "outputs": [
    {
     "name": "stdout",
     "output_type": "stream",
     "text": [
      "{'color': 'green', 'points': 5}\n",
      "{'color': 'yellow', 'points': 10}\n",
      "{'color': 'red', 'points': 15}\n"
     ]
    }
   ],
   "source": [
    "alien_0={'color':'green','points':5}\n",
    "alien_1={'color':'yellow','points':10}\n",
    "alien_2={'color':'red','points':15}\n",
    "\n",
    "aliens=[alien_0,alien_1,alien_2]\n",
    "\n",
    "for alien in aliens:\n",
    "      print(alien)"
   ]
  },
  {
   "cell_type": "code",
   "execution_count": 66,
   "id": "5ca9c6b3",
   "metadata": {},
   "outputs": [
    {
     "name": "stdout",
     "output_type": "stream",
     "text": [
      "{'color': 'green', 'points': 5, 'speed': 'slow'}\n",
      "{'color': 'green', 'points': 5, 'speed': 'slow'}\n",
      "{'color': 'green', 'points': 5, 'speed': 'slow'}\n",
      "{'color': 'green', 'points': 5, 'speed': 'slow'}\n",
      "{'color': 'green', 'points': 5, 'speed': 'slow'}\n",
      "Total number of aliens: 30\n"
     ]
    }
   ],
   "source": [
    "aliens=[]\n",
    "\n",
    "#创建30个绿色外星人\n",
    "for alien_number in range(30):\n",
    "    new_alien={'color':'green','points':5,'speed':'slow'}\n",
    "    aliens.append(new_alien)\n",
    "    \n",
    "#打印前5个\n",
    "for alien in aliens[:5]:\n",
    "    print(alien)\n",
    "\n",
    "#显示创建了多少个\n",
    "print(f\"Total number of aliens: {len(aliens)}\")"
   ]
  },
  {
   "cell_type": "code",
   "execution_count": 68,
   "id": "5f6ffce2",
   "metadata": {},
   "outputs": [
    {
     "name": "stdout",
     "output_type": "stream",
     "text": [
      "{'color': 'yellow', 'points': 10, 'speed': 'medium'}\n",
      "{'color': 'yellow', 'points': 10, 'speed': 'medium'}\n",
      "{'color': 'yellow', 'points': 10, 'speed': 'medium'}\n",
      "{'color': 'green', 'points': 5, 'speed': 'slow'}\n",
      "{'color': 'green', 'points': 5, 'speed': 'slow'}\n"
     ]
    }
   ],
   "source": [
    "aliens=[]\n",
    "\n",
    "#创建30个绿色外星人\n",
    "for alien_number in range(30):\n",
    "    new_alien={'color':'green','points':5,'speed':'slow'}\n",
    "    aliens.append(new_alien)\n",
    "    \n",
    "#修改前三个\n",
    "for alien in aliens[:3]:\n",
    "    if alien['color'] == 'green':\n",
    "        alien['color']='yellow'\n",
    "        alien['speed']='medium'\n",
    "        alien['points']=10\n",
    "\n",
    "#打印前5个\n",
    "for alien in aliens[:5]:\n",
    "    print(alien)"
   ]
  },
  {
   "cell_type": "code",
   "execution_count": 70,
   "id": "b4172845",
   "metadata": {},
   "outputs": [
    {
     "name": "stdout",
     "output_type": "stream",
     "text": [
      "{'color': 'red', 'points': 15, 'speed': 'fast'}\n",
      "{'color': 'red', 'points': 15, 'speed': 'fast'}\n",
      "{'color': 'red', 'points': 15, 'speed': 'fast'}\n",
      "{'color': 'yellow', 'points': 10, 'speed': 'medium'}\n",
      "{'color': 'yellow', 'points': 10, 'speed': 'medium'}\n"
     ]
    }
   ],
   "source": [
    "aliens=[]\n",
    "\n",
    "for alien_number in range(30):\n",
    "    new_alien={'color':'green','points':5,'speed':'slow'}\n",
    "    aliens.append(new_alien)\n",
    "    \n",
    "for alien in aliens[:3]:\n",
    "    if alien['color'] == 'green':\n",
    "        alien['color']='yellow'\n",
    "        alien['speed']='medium'\n",
    "        alien['points']=10\n",
    "\n",
    "for alien in aliens[0:5]:\n",
    "    if alien['color'] == 'green':\n",
    "        alien['color']='yellow'\n",
    "        alien['speed']='medium'\n",
    "        alien['points']=10\n",
    "    elif alien['color'] == 'yellow':\n",
    "        alien['color']='red'\n",
    "        alien['speed']='fast'\n",
    "        alien['points']=15\n",
    "    \n",
    "for alien in aliens[:5]:\n",
    "    print(alien)"
   ]
  },
  {
   "cell_type": "markdown",
   "id": "26c80072",
   "metadata": {},
   "source": [
    "## 6.4.2 在字典中存储列表"
   ]
  },
  {
   "cell_type": "code",
   "execution_count": 71,
   "id": "61f937ff",
   "metadata": {},
   "outputs": [
    {
     "name": "stdout",
     "output_type": "stream",
     "text": [
      "You ordered a thick-crust pizzawith the following toppings:\n",
      "\tmushrooms\n",
      "\textra cheese\n"
     ]
    }
   ],
   "source": [
    "pizza={\n",
    "      'crust':'thick',\n",
    "      'toppings':['mushrooms','extra cheese'],\n",
    "      }\n",
    "\n",
    "print(f\"You ordered a {pizza['crust']}-crust pizza\"\n",
    "      \"with the following toppings:\")\n",
    "\n",
    "for topping in pizza['toppings']:\n",
    "      print(f\"\\t{topping}\")"
   ]
  },
  {
   "cell_type": "code",
   "execution_count": 2,
   "id": "80a0f3d4",
   "metadata": {},
   "outputs": [
    {
     "name": "stdout",
     "output_type": "stream",
     "text": [
      "\n",
      "Jen's favorite languages are:\n",
      "\tPython\n",
      "\tRust\n",
      "\n",
      "Sarah's favorite languages are:\n",
      "\tC\n",
      "\n",
      "Edward's favorite languages are:\n",
      "\tRust\n",
      "\tGo\n",
      "\n",
      "Phil's favorite languages are:\n",
      "\tPython\n",
      "\tHaskell\n"
     ]
    }
   ],
   "source": [
    "favorite_languages={\n",
    "    'jen':['python','rust'],\n",
    "    'sarah':['c'],\n",
    "    'edward':['rust','go'],\n",
    "    'phil':['python','haskell'],\n",
    "    }\n",
    "\n",
    "#在循环中插入循环\n",
    "for name,languages in favorite_languages.items():\n",
    "    print(f\"\\n{name.title()}'s favorite languages are:\")\n",
    "    for language in languages:\n",
    "        print(f\"\\t{language.title()}\")"
   ]
  },
  {
   "cell_type": "markdown",
   "id": "d0190c01",
   "metadata": {},
   "source": [
    "## 6.4.3 在字典中存储字典"
   ]
  },
  {
   "cell_type": "code",
   "execution_count": 3,
   "id": "0d03a2e7",
   "metadata": {},
   "outputs": [
    {
     "name": "stdout",
     "output_type": "stream",
     "text": [
      "\n",
      "Username: aeinstein\n",
      "\tFull name: Albert Einstein\n",
      "\tLocation: Princeton\n",
      "\n",
      "Username: mcurie\n",
      "\tFull name: Marie Curie\n",
      "\tLocation: Paris\n"
     ]
    }
   ],
   "source": [
    "users={\n",
    "    'aeinstein':{\n",
    "        'first':'albert',\n",
    "        'last':'einstein',\n",
    "        'location':'princeton',\n",
    "        },\n",
    "\n",
    "    'mcurie':{\n",
    "        'first':'marie',\n",
    "        'last':'curie',\n",
    "        'location':'paris',\n",
    "        },\n",
    "    }\n",
    "\n",
    "for username,user_info in users.items():\n",
    "    print(f\"\\nUsername: {username}\")\n",
    "    full_name=f\"{user_info['first']} {user_info['last']}\"\n",
    "    location=user_info['location']\n",
    "\n",
    "    print(f\"\\tFull name: {full_name.title()}\")\n",
    "    print(f\"\\tLocation: {location.title()}\")"
   ]
  },
  {
   "cell_type": "markdown",
   "id": "11b935cf",
   "metadata": {},
   "source": [
    "### 练习6.7"
   ]
  },
  {
   "cell_type": "code",
   "execution_count": 6,
   "id": "fb15901e",
   "metadata": {},
   "outputs": [
    {
     "name": "stdout",
     "output_type": "stream",
     "text": [
      "\n",
      "Username: user_0\n",
      "\tFull name: Rowan Park\n",
      "\tAge: 23\n",
      "\tCity: Hong Kong\n",
      "\n",
      "Username: user_1\n",
      "\tFull name: Andy Smith\n",
      "\tAge: 28\n",
      "\tCity: London\n",
      "\n",
      "Username: user_2\n",
      "\tFull name: Lucy Jones\n",
      "\tAge: 46\n",
      "\tCity: Brazil\n"
     ]
    }
   ],
   "source": [
    "#人们的信息\n",
    "people={\n",
    "    'user_0':{\n",
    "        'first_name':'rowan',\n",
    "        'last_name':'park',\n",
    "        'age':23,\n",
    "        'city':'hong kong',\n",
    "        },\n",
    "    \n",
    "    'user_1':{\n",
    "        'first_name':'andy',\n",
    "        'last_name':'smith',\n",
    "        'age':28,\n",
    "        'city':'london',\n",
    "        },\n",
    "    \n",
    "     'user_2':{\n",
    "        'first_name':'lucy',\n",
    "        'last_name':'jones',\n",
    "        'age':46,\n",
    "        'city':'brazil',\n",
    "        },\n",
    "    \n",
    "    }\n",
    "\n",
    "for username,user_info in people.items():\n",
    "    print(f\"\\nUsername: {username}\")\n",
    "    full_name=f\"{user_info['first_name']} {user_info['last_name']}\"\n",
    "    age=user_info['age']\n",
    "    city=user_info['city']\n",
    "    \n",
    "    print(f\"\\tFull name: {full_name.title()}\")\n",
    "    print(f\"\\tAge: {age}\")\n",
    "    print(f\"\\tCity: {city.title()}\")"
   ]
  },
  {
   "cell_type": "markdown",
   "id": "a575ba66",
   "metadata": {},
   "source": [
    "### 练习6.8"
   ]
  },
  {
   "cell_type": "code",
   "execution_count": 7,
   "id": "ed9d4eb1",
   "metadata": {},
   "outputs": [
    {
     "name": "stdout",
     "output_type": "stream",
     "text": [
      "\n",
      "Petname: Guoguo\n",
      "\tPet type: dog\n",
      "\tOwner: baobao\n",
      "\n",
      "Petname: Guainan\n",
      "\tPet type: cat\n",
      "\tOwner: fenfen\n",
      "\n",
      "Petname: Daqueniao\n",
      "\tPet type: cat\n",
      "\tOwner: gongji\n"
     ]
    }
   ],
   "source": [
    "pets={\n",
    "    'guoguo':{\n",
    "        'pettype':'dog',\n",
    "        'owner':'baobao',\n",
    "        },\n",
    "    \n",
    "    'guainan':{\n",
    "        'pettype':'cat',\n",
    "        'owner':'fenfen',\n",
    "        },\n",
    "    \n",
    "    'daqueniao':{\n",
    "        'pettype':'cat',\n",
    "        'owner':'gongji',\n",
    "        },\n",
    "    }\n",
    "\n",
    "for pet_name,pet_info in pets.items():\n",
    "    print(f\"\\nPetname: {pet_name.title()}\")\n",
    "    pettype=pet_info['pettype']\n",
    "    owner=pet_info['owner']\n",
    "    \n",
    "    print(f\"\\tPet type: {pettype}\")\n",
    "    print(f\"\\tOwner: {owner}\")"
   ]
  },
  {
   "cell_type": "markdown",
   "id": "20a2ac31",
   "metadata": {},
   "source": [
    "### 练习6.9"
   ]
  },
  {
   "cell_type": "code",
   "execution_count": 11,
   "id": "d1772496",
   "metadata": {},
   "outputs": [
    {
     "name": "stdout",
     "output_type": "stream",
     "text": [
      "\n",
      "Jade's favorite places are: \n",
      "Sydney\n",
      "Seoul\n",
      "\n",
      "Fen's favorite places are: \n",
      "London\n",
      "Singapore\n",
      "Tokyo\n",
      "\n",
      "Karry's favorite places are: \n",
      "New York\n",
      "Paris\n"
     ]
    }
   ],
   "source": [
    "favorite_places={\n",
    "    'jade':['sydney','seoul'],\n",
    "    'fen':['london','singapore','tokyo'],\n",
    "    'karry':['new york','paris'],\n",
    "    }\n",
    "\n",
    "for name,favorite_place in favorite_places.items():\n",
    "    print(f\"\\n{name.title()}'s favorite places are: \")\n",
    "    for place in favorite_place:\n",
    "        print(place.title())"
   ]
  },
  {
   "cell_type": "markdown",
   "id": "60ea915f",
   "metadata": {},
   "source": [
    "### 练习6.10"
   ]
  },
  {
   "cell_type": "code",
   "execution_count": 12,
   "id": "a085261f",
   "metadata": {},
   "outputs": [
    {
     "name": "stdout",
     "output_type": "stream",
     "text": [
      "\n",
      "Rowan's favorite numbers are: \n",
      "7\n",
      "6\n",
      "\n",
      "Andy's favorite numbers are: \n",
      "1\n",
      "4\n",
      "5\n",
      "\n",
      "Lisa's favorite numbers are: \n",
      "4\n",
      "7\n",
      "\n",
      "Ron's favorite numbers are: \n",
      "0\n",
      "3\n",
      "6\n",
      "8\n",
      "\n",
      "Lucy's favorite numbers are: \n",
      "2\n",
      "4\n",
      "6\n",
      "8\n"
     ]
    }
   ],
   "source": [
    "#每个人喜欢的多个数\n",
    "favorite_numbers={\n",
    "    'rowan':[7,6],\n",
    "    'andy':[1,4,5],\n",
    "    'lisa':[4,7],\n",
    "    'ron':[0,3,6,8],\n",
    "    'lucy':[2,4,6,8],\n",
    "    }\n",
    "\n",
    "for name,favorite_number in favorite_numbers.items():\n",
    "    print(f\"\\n{name.title()}'s favorite numbers are: \")\n",
    "    for number in favorite_number:\n",
    "        print(number)"
   ]
  },
  {
   "cell_type": "markdown",
   "id": "9f5cee04",
   "metadata": {},
   "source": [
    "### 练习6.11"
   ]
  },
  {
   "cell_type": "code",
   "execution_count": 16,
   "id": "b7a65114",
   "metadata": {},
   "outputs": [
    {
     "name": "stdout",
     "output_type": "stream",
     "text": [
      "\n",
      "City: London\n",
      "\tCountry: England\n",
      "\tPopulation: 8800000\n",
      "\tFact: London is the capital of England and the United Kingdom.\n",
      "\n",
      "City: Chicago\n",
      "\tCountry: United States\n",
      "\tPopulation: 2700000\n",
      "\tFact: Chicago, on Lake Michigan in Illinois, is among the largest cities in the U.S.\n",
      "\n",
      "City: Tokyo\n",
      "\tCountry: Japan\n",
      "\tPopulation: 14000000\n",
      "\tFact: Tokyo, mixes the ultramodern and the traditional, from neon-lit skyscrapers to historic temples.\n"
     ]
    }
   ],
   "source": [
    "cities={\n",
    "    'london':{\n",
    "        'country':'england',\n",
    "        'population':8800000,\n",
    "        'fact':'London is the capital of England and the United Kingdom.',\n",
    "        },\n",
    "    \n",
    "    'chicago':{\n",
    "        'country':'united states',\n",
    "        'population':2700000,\n",
    "        'fact':'Chicago, on Lake Michigan in Illinois, is among the largest cities in the U.S.'\n",
    "        },\n",
    "    \n",
    "    'tokyo':{\n",
    "        'country':'japan',\n",
    "        'population':14000000,\n",
    "        'fact':'Tokyo, mixes the ultramodern and the traditional, from neon-lit skyscrapers to historic temples.'\n",
    "        },\n",
    "        \n",
    "    }\n",
    "   \n",
    "for city,city_info in cities.items():\n",
    "    print(f\"\\nCity: {city.title()}\")\n",
    "    country=city_info['country']\n",
    "    population=city_info['population']\n",
    "    fact=city_info['fact']\n",
    "    \n",
    "    print(f\"\\tCountry: {country.title()}\")\n",
    "    print(f\"\\tPopulation: {population}\")\n",
    "    print(f\"\\tFact: {fact}\")"
   ]
  },
  {
   "cell_type": "code",
   "execution_count": null,
   "id": "fc08bc5e",
   "metadata": {},
   "outputs": [],
   "source": []
  }
 ],
 "metadata": {
  "kernelspec": {
   "display_name": "Python 3 (ipykernel)",
   "language": "python",
   "name": "python3"
  },
  "language_info": {
   "codemirror_mode": {
    "name": "ipython",
    "version": 3
   },
   "file_extension": ".py",
   "mimetype": "text/x-python",
   "name": "python",
   "nbconvert_exporter": "python",
   "pygments_lexer": "ipython3",
   "version": "3.11.5"
  },
  "toc": {
   "base_numbering": "",
   "nav_menu": {},
   "number_sections": false,
   "sideBar": true,
   "skip_h1_title": false,
   "title_cell": "Table of Contents",
   "title_sidebar": "Contents",
   "toc_cell": false,
   "toc_position": {
    "height": "calc(100% - 180px)",
    "left": "10px",
    "top": "150px",
    "width": "256px"
   },
   "toc_section_display": true,
   "toc_window_display": false
  }
 },
 "nbformat": 4,
 "nbformat_minor": 5
}
